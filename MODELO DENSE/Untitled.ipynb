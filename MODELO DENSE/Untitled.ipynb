{
 "cells": [
  {
   "cell_type": "markdown",
   "metadata": {},
   "source": [
    "# CONJUNTO DE DATOS 2"
   ]
  },
  {
   "cell_type": "code",
   "execution_count": null,
   "metadata": {},
   "outputs": [],
   "source": [
    "def build_model1(neurons, output_size, activation_fun,loss_fun,optimizer_fun):\n",
    "    model = Sequential()\n",
    "    model.add(Dense(neurons, input_dim = 21, activation=activation_fun))\n",
    "    model.add(Dense(round(neurons/2), activation=activation_fun))\n",
    "    model.add(Dense(round(neurons/3), activation=activation_fun))\n",
    "    model.add(Dense(round(neurons/4), activation=activation_fun))\n",
    "    model.add(Dense(1, activation=activation_fun))\n",
    "    model.compile(loss=loss_fun, optimizer=optimizer_fun, metrics=['mae'])\n",
    "    return model"
   ]
  },
  {
   "cell_type": "code",
   "execution_count": null,
   "metadata": {},
   "outputs": [],
   "source": [
    "def build_model2(neurons, output_size, activation_fun,loss_fun,optimizer_fun):\n",
    "    model = Sequential()\n",
    "    model.add(Dense(neurons, input_dim = 21, activation=activation_fun))\n",
    "    model.add(Dense(round(neurons), activation=activation_fun))\n",
    "    model.add(Dense(round(neurons/2), activation=activation_fun))\n",
    "    model.add(Dense(round(neurons/2), activation=activation_fun))\n",
    "    model.add(Dense(1, activation=activation_fun))\n",
    "    model.compile(loss=loss_fun, optimizer=optimizer_fun, metrics=['mae'])\n",
    "    return model"
   ]
  },
  {
   "cell_type": "code",
   "execution_count": null,
   "metadata": {},
   "outputs": [],
   "source": [
    "def build_model3(neurons, output_size, activation_fun,loss_fun,optimizer_fun):\n",
    "    model = Sequential()\n",
    "    model.add(Dense(neurons, input_dim = 21, activation=activation_fun))\n",
    "    model.add(Dense(round(neurons/2), activation=activation_fun))\n",
    "    model.add(Dense(round(neurons/3), activation=activation_fun))\n",
    "    model.add(Dense(round(neurons/4), activation=activation_fun))\n",
    "    model.add(Dense(round(neurons/5), activation=activation_fun))\n",
    "    model.add(Dense(round(neurons/6), activation=activation_fun))\n",
    "    model.add(Dense(round(neurons/7), activation=activation_fun))\n",
    "    model.add(Dense(round(neurons/8), activation=activation_fun))\n",
    "    model.add(Dense(round(neurons/9), activation=activation_fun))\n",
    "    model.add(Dense(1, activation=activation_fun))\n",
    "    model.compile(loss=loss_fun, optimizer=optimizer_fun, metrics=['mae'])\n",
    "    return model"
   ]
  },
  {
   "cell_type": "markdown",
   "metadata": {},
   "source": [
    "### Dense RELU+ADAM"
   ]
  },
  {
   "cell_type": "markdown",
   "metadata": {},
   "source": [
    "#### EXPERIMENTO 1: Modelo con 5 capas, dividiendo las neuronas."
   ]
  },
  {
   "cell_type": "markdown",
   "metadata": {},
   "source": [
    "Modelo 100 neuronas:"
   ]
  },
  {
   "cell_type": "code",
   "execution_count": null,
   "metadata": {
    "scrolled": true
   },
   "outputs": [],
   "source": [
    "modeldense100 = build_model1(100,1,'relu','mae','adam')\n",
    "modeldense100.summary()"
   ]
  },
  {
   "cell_type": "code",
   "execution_count": null,
   "metadata": {},
   "outputs": [],
   "source": [
    "modeldense100.fit(trainX2, trainy2, epochs=1000)\n",
    " \n",
    "# evaluamos el modelo\n",
    "scoresdense100 = modeldense100.evaluate(testX2, testy2)"
   ]
  },
  {
   "cell_type": "code",
   "execution_count": null,
   "metadata": {},
   "outputs": [],
   "source": [
    "y_preddense100 = modeldense100.predict(testX2)"
   ]
  },
  {
   "cell_type": "code",
   "execution_count": null,
   "metadata": {},
   "outputs": [],
   "source": [
    "plt.figure(figsize = (20,6))\n",
    "plt.plot(testy2.reset_index(drop=True),label = \"Valores reales\")\n",
    "plt.plot(y_preddense100, label = \"Prediccion\")\n",
    "plt.legend()"
   ]
  },
  {
   "cell_type": "code",
   "execution_count": null,
   "metadata": {},
   "outputs": [],
   "source": [
    "test2 =subida(testy2)\n",
    "pred2 = subida(y_preddense100)\n",
    "print(\"Error Absoluto Medio:\", mean_absolute_error(testy2, y_preddense100))\n",
    "print(\"R-cuadrado:\", r2_score(testy2, y_preddense100))\n",
    "print('Tasa de acierto de subida:', acierto(test2,pred2))"
   ]
  },
  {
   "cell_type": "markdown",
   "metadata": {},
   "source": [
    "Modelo 64 neuronas"
   ]
  },
  {
   "cell_type": "code",
   "execution_count": null,
   "metadata": {},
   "outputs": [],
   "source": [
    "modeldense64 = build_model1(64,1,'relu','mae','adam')\n",
    "modeldense64.summary()"
   ]
  },
  {
   "cell_type": "code",
   "execution_count": null,
   "metadata": {},
   "outputs": [],
   "source": [
    "modeldense64.fit(trainX2, trainy2, epochs=1000)\n",
    " \n",
    "# evaluamos el modelo\n",
    "scoresdense64 = modeldense64.evaluate(testX2, testy2)\n",
    " "
   ]
  },
  {
   "cell_type": "code",
   "execution_count": null,
   "metadata": {},
   "outputs": [],
   "source": [
    "y_preddense64 = modeldense64.predict(testX2)"
   ]
  },
  {
   "cell_type": "code",
   "execution_count": null,
   "metadata": {},
   "outputs": [],
   "source": [
    "plt.figure(figsize = (20,6))\n",
    "plt.plot(testy2.reset_index(drop=True),label = \"Valores reales\")\n",
    "plt.plot(y_preddense64, label = \"Prediccion\")\n",
    "plt.legend()"
   ]
  },
  {
   "cell_type": "code",
   "execution_count": null,
   "metadata": {},
   "outputs": [],
   "source": [
    "test2 =subida(testy2)\n",
    "pred2 = subida(y_preddense64)\n",
    "print(\"Error Absoluto Medio:\", mean_absolute_error(testy2, y_preddense64))\n",
    "print(\"R-cuadrado:\", r2_score(testy2, y_preddense64))\n",
    "print('Tasa de acierto de subida:', acierto(test2,pred2))"
   ]
  },
  {
   "cell_type": "markdown",
   "metadata": {},
   "source": [
    "Modelo 32 neuronas:"
   ]
  },
  {
   "cell_type": "code",
   "execution_count": null,
   "metadata": {},
   "outputs": [],
   "source": [
    "modeldense32 = build_model1(32,1,'relu','mae','adam')\n",
    "modeldense32.summary()"
   ]
  },
  {
   "cell_type": "code",
   "execution_count": null,
   "metadata": {},
   "outputs": [],
   "source": [
    "modeldense32.fit(trainX2, trainy2, epochs=1000)\n",
    " \n",
    "# evaluamos el modelo\n",
    "scoresdense32 = modeldense32.evaluate(testX2, testy2)\n",
    " "
   ]
  },
  {
   "cell_type": "code",
   "execution_count": null,
   "metadata": {},
   "outputs": [],
   "source": [
    "y_preddense32 = modeldense32.predict(testX2)"
   ]
  },
  {
   "cell_type": "code",
   "execution_count": null,
   "metadata": {},
   "outputs": [],
   "source": [
    "plt.figure(figsize = (20,6))\n",
    "plt.plot(testy2.reset_index(drop=True),label = \"Valores reales\")\n",
    "plt.plot(y_preddense32, label = \"Prediccion\")\n",
    "plt.legend()"
   ]
  },
  {
   "cell_type": "code",
   "execution_count": null,
   "metadata": {},
   "outputs": [],
   "source": [
    "test2 =subida(testy2)\n",
    "pred2 = subida(y_preddense32)\n",
    "print(\"Error Absoluto Medio:\", mean_absolute_error(testy2, y_preddense32))\n",
    "print(\"R-cuadrado:\", r2_score(testy2, y_preddense32))\n",
    "print('Tasa de acierto de subida:', acierto(test2,pred2))"
   ]
  },
  {
   "cell_type": "markdown",
   "metadata": {},
   "source": [
    "  "
   ]
  },
  {
   "cell_type": "markdown",
   "metadata": {},
   "source": [
    "#### EXPERIMENTO 2:  Modelo con 5 capas, mismas neuronas cada 2 capas"
   ]
  },
  {
   "cell_type": "code",
   "execution_count": null,
   "metadata": {
    "scrolled": true
   },
   "outputs": [],
   "source": [
    "modeldense100 = build_model2(100,1,'relu','mae','adam')\n",
    "modeldense100.summary()"
   ]
  },
  {
   "cell_type": "code",
   "execution_count": null,
   "metadata": {},
   "outputs": [],
   "source": [
    "modeldense100.fit(trainX2, trainy2, epochs=1000)\n",
    " \n",
    "# evaluamos el modelo\n",
    "scoresdense100 = modeldense100.evaluate(testX2, testy2)"
   ]
  },
  {
   "cell_type": "code",
   "execution_count": null,
   "metadata": {},
   "outputs": [],
   "source": [
    "y_preddense100 = modeldense100.predict(testX2)"
   ]
  },
  {
   "cell_type": "code",
   "execution_count": null,
   "metadata": {},
   "outputs": [],
   "source": [
    "plt.figure(figsize = (20,6))\n",
    "plt.plot(testy2.reset_index(drop=True),label = \"Valores reales\")\n",
    "plt.plot(y_preddense100, label = \"Prediccion\")\n",
    "plt.legend()"
   ]
  },
  {
   "cell_type": "code",
   "execution_count": null,
   "metadata": {},
   "outputs": [],
   "source": [
    "test2 =subida(testy2)\n",
    "pred2 = subida(y_preddense100)\n",
    "print(\"Error Absoluto Medio:\", mean_absolute_error(testy2, y_preddense100))\n",
    "print(\"R-cuadrado:\", r2_score(testy2, y_preddense100))\n",
    "print('Tasa de acierto de subida:', acierto(test2,pred2))"
   ]
  },
  {
   "cell_type": "markdown",
   "metadata": {},
   "source": [
    "Modelo 64 neuronas"
   ]
  },
  {
   "cell_type": "code",
   "execution_count": null,
   "metadata": {},
   "outputs": [],
   "source": [
    "modeldense64 = build_model2(64,1,'relu','mae','adam')\n",
    "modeldense64.summary()"
   ]
  },
  {
   "cell_type": "code",
   "execution_count": null,
   "metadata": {},
   "outputs": [],
   "source": [
    "modeldense64.fit(trainX2, trainy2, epochs=1000)\n",
    " \n",
    "# evaluamos el modelo\n",
    "scoresdense64 = modeldense64.evaluate(testX2, testy2)\n",
    " "
   ]
  },
  {
   "cell_type": "code",
   "execution_count": null,
   "metadata": {},
   "outputs": [],
   "source": [
    "y_preddense64 = modeldense64.predict(testX2)"
   ]
  },
  {
   "cell_type": "code",
   "execution_count": null,
   "metadata": {},
   "outputs": [],
   "source": [
    "plt.figure(figsize = (20,6))\n",
    "plt.plot(testy2.reset_index(drop=True),label = \"Valores reales\")\n",
    "plt.plot(y_preddense64, label = \"Prediccion\")\n",
    "plt.legend()"
   ]
  },
  {
   "cell_type": "code",
   "execution_count": null,
   "metadata": {},
   "outputs": [],
   "source": [
    "test2 =subida(testy2)\n",
    "pred2 = subida(y_preddense64)\n",
    "print(\"Error Absoluto Medio:\", mean_absolute_error(testy2, y_preddense64))\n",
    "print(\"R-cuadrado:\", r2_score(testy2, y_preddense64))\n",
    "print('Tasa de acierto de subida:', acierto(test2,pred2))"
   ]
  },
  {
   "cell_type": "markdown",
   "metadata": {},
   "source": [
    "Modelo 32 neuronas:"
   ]
  },
  {
   "cell_type": "code",
   "execution_count": null,
   "metadata": {},
   "outputs": [],
   "source": [
    "modeldense32 = build_model2(32,1,'relu','mae','adam')\n",
    "modeldense32.summary()"
   ]
  },
  {
   "cell_type": "code",
   "execution_count": null,
   "metadata": {},
   "outputs": [],
   "source": [
    "modeldense32.fit(trainX2, trainy2, epochs=1000)\n",
    " \n",
    "# evaluamos el modelo\n",
    "scoresdense32 = modeldense32.evaluate(testX2, testy2)\n",
    " "
   ]
  },
  {
   "cell_type": "code",
   "execution_count": null,
   "metadata": {},
   "outputs": [],
   "source": [
    "y_preddense32 = modeldense32.predict(testX2)"
   ]
  },
  {
   "cell_type": "code",
   "execution_count": null,
   "metadata": {},
   "outputs": [],
   "source": [
    "plt.figure(figsize = (20,6))\n",
    "plt.plot(testy2.reset_index(drop=True),label = \"Valores reales\")\n",
    "plt.plot(y_preddense32, label = \"Prediccion\")\n",
    "plt.legend()"
   ]
  },
  {
   "cell_type": "code",
   "execution_count": null,
   "metadata": {},
   "outputs": [],
   "source": [
    "test2 =subida(testy2)\n",
    "pred2 = subida(y_preddense32)\n",
    "print(\"Error Absoluto Medio:\", mean_absolute_error(testy2, y_preddense32))\n",
    "print(\"R-cuadrado:\", r2_score(testy2, y_preddense32))\n",
    "print('Tasa de acierto de subida:', acierto(test2,pred2))"
   ]
  },
  {
   "cell_type": "markdown",
   "metadata": {},
   "source": [
    "### EXPERIMENTO 3: Modelo 10 capas"
   ]
  },
  {
   "cell_type": "markdown",
   "metadata": {},
   "source": [
    "Modelo 100 neuronas:"
   ]
  },
  {
   "cell_type": "code",
   "execution_count": null,
   "metadata": {},
   "outputs": [],
   "source": [
    "modeldense100 = build_model3(100,1,'relu','mae','adam')\n",
    "modeldense100.summary()\n",
    "\n",
    "modeldense100.fit(trainX2, trainy2, epochs=100)\n",
    " "
   ]
  },
  {
   "cell_type": "code",
   "execution_count": null,
   "metadata": {},
   "outputs": [],
   "source": [
    "y_preddense100 = modeldense100.predict(testX2)"
   ]
  },
  {
   "cell_type": "code",
   "execution_count": null,
   "metadata": {
    "scrolled": true
   },
   "outputs": [],
   "source": [
    "plt.figure(figsize = (20,6))\n",
    "plt.plot(testy2.reset_index(drop=True),label = \"Valores reales\")\n",
    "plt.plot(y_preddense100, label = \"Prediccion\")\n",
    "plt.legend()"
   ]
  },
  {
   "cell_type": "code",
   "execution_count": null,
   "metadata": {},
   "outputs": [],
   "source": [
    "test2 =subida(testy2)\n",
    "pred2 = subida(y_preddense100)\n",
    "print(\"Error Absoluto Medio:\", mean_absolute_error(testy2, y_preddense100))\n",
    "print(\"R-cuadrado:\", r2_score(testy2, y_preddense100))\n",
    "print('Tasa de acierto de subida:', acierto(test2,pred2))"
   ]
  },
  {
   "cell_type": "markdown",
   "metadata": {},
   "source": [
    "Modelo 64 neuronas:"
   ]
  },
  {
   "cell_type": "code",
   "execution_count": null,
   "metadata": {},
   "outputs": [],
   "source": [
    "modeldense64 = build_model3(64,1,'relu','mae','adam')\n",
    "modeldense64.summary()\n",
    "\n",
    "modeldense64.fit(trainX2, trainy2, epochs=1000)"
   ]
  },
  {
   "cell_type": "code",
   "execution_count": null,
   "metadata": {},
   "outputs": [],
   "source": [
    "y_preddense64 = modeldense64.predict(testX2)"
   ]
  },
  {
   "cell_type": "code",
   "execution_count": null,
   "metadata": {
    "scrolled": true
   },
   "outputs": [],
   "source": [
    "plt.figure(figsize = (20,6))\n",
    "plt.plot(testy2.reset_index(drop=True),label = \"Valores reales\")\n",
    "plt.plot(y_preddense64, label = \"Prediccion\")\n",
    "plt.legend()"
   ]
  },
  {
   "cell_type": "code",
   "execution_count": null,
   "metadata": {},
   "outputs": [],
   "source": [
    "test2 =subida(testy2)\n",
    "pred2 = subida(y_preddense64)\n",
    "print(\"Error Absoluto Medio:\", mean_absolute_error(testy2, y_preddense64))\n",
    "print(\"R-cuadrado:\", r2_score(testy2, y_preddense64))\n",
    "print('Tasa de acierto de subida:', acierto(test2,pred2))"
   ]
  },
  {
   "cell_type": "markdown",
   "metadata": {},
   "source": [
    "Modelo 32 neuronas:"
   ]
  },
  {
   "cell_type": "code",
   "execution_count": null,
   "metadata": {},
   "outputs": [],
   "source": [
    "modeldense32 = build_model3(32,1,'relu','mae','adam')\n",
    "modeldense32.summary()\n",
    "\n",
    "modeldense32.fit(trainX2, trainy2, epochs=1000)"
   ]
  },
  {
   "cell_type": "code",
   "execution_count": null,
   "metadata": {},
   "outputs": [],
   "source": [
    "y_preddense32 = modeldense32.predict(testX2)"
   ]
  },
  {
   "cell_type": "code",
   "execution_count": null,
   "metadata": {},
   "outputs": [],
   "source": [
    "plt.figure(figsize = (20,6))\n",
    "plt.plot(testy2.reset_index(drop=True),label = \"Valores reales\")\n",
    "plt.plot(y_preddense32, label = \"Prediccion\")\n",
    "plt.legend()"
   ]
  },
  {
   "cell_type": "code",
   "execution_count": null,
   "metadata": {},
   "outputs": [],
   "source": [
    "test2 =subida(testy2)\n",
    "pred2 = subida(y_preddense32)\n",
    "print(\"Error Absoluto Medio:\", mean_absolute_error(testy2, y_preddense32))\n",
    "print(\"R-cuadrado:\", r2_score(testy2, y_preddense32))\n",
    "print('Tasa de acierto de subida:', acierto(test2,pred2))"
   ]
  },
  {
   "cell_type": "markdown",
   "metadata": {},
   "source": [
    "### Dense RELU+ADAGRAD"
   ]
  },
  {
   "cell_type": "markdown",
   "metadata": {},
   "source": [
    "#### EXPERIMENTO 1: Modelo con 5 capas, dividiendo las neuronas."
   ]
  },
  {
   "cell_type": "markdown",
   "metadata": {},
   "source": [
    "Modelo 100 neuronas:"
   ]
  },
  {
   "cell_type": "code",
   "execution_count": null,
   "metadata": {
    "scrolled": true
   },
   "outputs": [],
   "source": [
    "modeldense100 = build_model1(100,1,'relu','mae','adam')\n",
    "modeldense100.summary()"
   ]
  },
  {
   "cell_type": "code",
   "execution_count": null,
   "metadata": {},
   "outputs": [],
   "source": [
    "modeldense100.fit(trainX2, trainy2, epochs=1000)\n",
    " \n",
    "# evaluamos el modelo\n",
    "scoresdense100 = modeldense100.evaluate(testX2, testy2)"
   ]
  },
  {
   "cell_type": "code",
   "execution_count": null,
   "metadata": {},
   "outputs": [],
   "source": [
    "y_preddense100 = modeldense100.predict(testX2)"
   ]
  },
  {
   "cell_type": "code",
   "execution_count": null,
   "metadata": {},
   "outputs": [],
   "source": [
    "plt.figure(figsize = (20,6))\n",
    "plt.plot(testy2.reset_index(drop=True),label = \"Valores reales\")\n",
    "plt.plot(y_preddense100, label = \"Prediccion\")\n",
    "plt.legend()"
   ]
  },
  {
   "cell_type": "code",
   "execution_count": null,
   "metadata": {},
   "outputs": [],
   "source": [
    "test2 =subida(testy2)\n",
    "pred2 = subida(y_preddense100)\n",
    "print(\"Error Absoluto Medio:\", mean_absolute_error(testy2, y_preddense100))\n",
    "print(\"R-cuadrado:\", r2_score(testy2, y_preddense100))\n",
    "print('Tasa de acierto de subida:', acierto(test2,pred2))"
   ]
  },
  {
   "cell_type": "markdown",
   "metadata": {},
   "source": [
    "Modelo 64 neuronas"
   ]
  },
  {
   "cell_type": "code",
   "execution_count": null,
   "metadata": {},
   "outputs": [],
   "source": [
    "modeldense64 = build_model1(64,1,'relu','mae','adam')\n",
    "modeldense64.summary()"
   ]
  },
  {
   "cell_type": "code",
   "execution_count": null,
   "metadata": {},
   "outputs": [],
   "source": [
    "modeldense64.fit(trainX2, trainy2, epochs=1000)\n",
    " \n",
    "# evaluamos el modelo\n",
    "scoresdense64 = modeldense64.evaluate(testX2, testy2)\n",
    " "
   ]
  },
  {
   "cell_type": "code",
   "execution_count": null,
   "metadata": {},
   "outputs": [],
   "source": [
    "y_preddense64 = modeldense64.predict(testX2)"
   ]
  },
  {
   "cell_type": "code",
   "execution_count": null,
   "metadata": {},
   "outputs": [],
   "source": [
    "plt.figure(figsize = (20,6))\n",
    "plt.plot(testy2.reset_index(drop=True),label = \"Valores reales\")\n",
    "plt.plot(y_preddense64, label = \"Prediccion\")\n",
    "plt.legend()"
   ]
  },
  {
   "cell_type": "code",
   "execution_count": null,
   "metadata": {},
   "outputs": [],
   "source": [
    "test2 =subida(testy2)\n",
    "pred2 = subida(y_preddense64)\n",
    "print(\"Error Absoluto Medio:\", mean_absolute_error(testy2, y_preddense64))\n",
    "print(\"R-cuadrado:\", r2_score(testy2, y_preddense64))\n",
    "print('Tasa de acierto de subida:', acierto(test2,pred2))"
   ]
  },
  {
   "cell_type": "markdown",
   "metadata": {},
   "source": [
    "Modelo 32 neuronas:"
   ]
  },
  {
   "cell_type": "code",
   "execution_count": null,
   "metadata": {},
   "outputs": [],
   "source": [
    "modeldense32 = build_model1(32,1,'relu','mae','adam')\n",
    "modeldense32.summary()"
   ]
  },
  {
   "cell_type": "code",
   "execution_count": null,
   "metadata": {},
   "outputs": [],
   "source": [
    "modeldense32.fit(trainX2, trainy2, epochs=1000)\n",
    " \n",
    "# evaluamos el modelo\n",
    "scoresdense32 = modeldense32.evaluate(testX2, testy2)\n",
    " "
   ]
  },
  {
   "cell_type": "code",
   "execution_count": null,
   "metadata": {},
   "outputs": [],
   "source": [
    "y_preddense32 = modeldense32.predict(testX2)"
   ]
  },
  {
   "cell_type": "code",
   "execution_count": null,
   "metadata": {},
   "outputs": [],
   "source": [
    "plt.figure(figsize = (20,6))\n",
    "plt.plot(testy2.reset_index(drop=True),label = \"Valores reales\")\n",
    "plt.plot(y_preddense32, label = \"Prediccion\")\n",
    "plt.legend()"
   ]
  },
  {
   "cell_type": "code",
   "execution_count": null,
   "metadata": {},
   "outputs": [],
   "source": [
    "test2 =subida(testy2)\n",
    "pred2 = subida(y_preddense32)\n",
    "print(\"Error Absoluto Medio:\", mean_absolute_error(testy2, y_preddense32))\n",
    "print(\"R-cuadrado:\", r2_score(testy2, y_preddense32))\n",
    "print('Tasa de acierto de subida:', acierto(test2,pred2))"
   ]
  },
  {
   "cell_type": "markdown",
   "metadata": {},
   "source": [
    "  "
   ]
  },
  {
   "cell_type": "markdown",
   "metadata": {},
   "source": [
    "#### EXPERIMENTO 2:  Modelo con 5 capas, mismas neuronas cada 2 capas"
   ]
  },
  {
   "cell_type": "code",
   "execution_count": null,
   "metadata": {
    "scrolled": true
   },
   "outputs": [],
   "source": [
    "modeldense100 = build_model2(100,1,'relu','mae','adam')\n",
    "modeldense100.summary()"
   ]
  },
  {
   "cell_type": "code",
   "execution_count": null,
   "metadata": {},
   "outputs": [],
   "source": [
    "modeldense100.fit(trainX2, trainy2, epochs=1000)\n",
    " \n",
    "# evaluamos el modelo\n",
    "scoresdense100 = modeldense100.evaluate(testX2, testy2)"
   ]
  },
  {
   "cell_type": "code",
   "execution_count": null,
   "metadata": {},
   "outputs": [],
   "source": [
    "y_preddense100 = modeldense100.predict(testX2)"
   ]
  },
  {
   "cell_type": "code",
   "execution_count": null,
   "metadata": {},
   "outputs": [],
   "source": [
    "plt.figure(figsize = (20,6))\n",
    "plt.plot(testy2.reset_index(drop=True),label = \"Valores reales\")\n",
    "plt.plot(y_preddense100, label = \"Prediccion\")\n",
    "plt.legend()"
   ]
  },
  {
   "cell_type": "code",
   "execution_count": null,
   "metadata": {},
   "outputs": [],
   "source": [
    "test2 =subida(testy2)\n",
    "pred2 = subida(y_preddense100)\n",
    "print(\"Error Absoluto Medio:\", mean_absolute_error(testy2, y_preddense100))\n",
    "print(\"R-cuadrado:\", r2_score(testy2, y_preddense100))\n",
    "print('Tasa de acierto de subida:', acierto(test2,pred2))"
   ]
  },
  {
   "cell_type": "markdown",
   "metadata": {},
   "source": [
    "Modelo 64 neuronas"
   ]
  },
  {
   "cell_type": "code",
   "execution_count": null,
   "metadata": {},
   "outputs": [],
   "source": [
    "modeldense64 = build_model2(64,1,'relu','mae','adam')\n",
    "modeldense64.summary()"
   ]
  },
  {
   "cell_type": "code",
   "execution_count": null,
   "metadata": {},
   "outputs": [],
   "source": [
    "modeldense64.fit(trainX2, trainy2, epochs=1000)\n",
    " \n",
    "# evaluamos el modelo\n",
    "scoresdense64 = modeldense64.evaluate(testX2, testy2)\n",
    " "
   ]
  },
  {
   "cell_type": "code",
   "execution_count": null,
   "metadata": {},
   "outputs": [],
   "source": [
    "y_preddense64 = modeldense64.predict(testX2)"
   ]
  },
  {
   "cell_type": "code",
   "execution_count": null,
   "metadata": {},
   "outputs": [],
   "source": [
    "plt.figure(figsize = (20,6))\n",
    "plt.plot(testy2.reset_index(drop=True),label = \"Valores reales\")\n",
    "plt.plot(y_preddense64, label = \"Prediccion\")\n",
    "plt.legend()"
   ]
  },
  {
   "cell_type": "code",
   "execution_count": null,
   "metadata": {},
   "outputs": [],
   "source": [
    "test2 =subida(testy2)\n",
    "pred2 = subida(y_preddense64)\n",
    "print(\"Error Absoluto Medio:\", mean_absolute_error(testy2, y_preddense64))\n",
    "print(\"R-cuadrado:\", r2_score(testy2, y_preddense64))\n",
    "print('Tasa de acierto de subida:', acierto(test2,pred2))"
   ]
  },
  {
   "cell_type": "markdown",
   "metadata": {},
   "source": [
    "Modelo 32 neuronas:"
   ]
  },
  {
   "cell_type": "code",
   "execution_count": null,
   "metadata": {},
   "outputs": [],
   "source": [
    "modeldense32 = build_model2(32,1,'relu','mae','adam')\n",
    "modeldense32.summary()"
   ]
  },
  {
   "cell_type": "code",
   "execution_count": null,
   "metadata": {},
   "outputs": [],
   "source": [
    "modeldense32.fit(trainX2, trainy2, epochs=1000)\n",
    " \n",
    "# evaluamos el modelo\n",
    "scoresdense32 = modeldense32.evaluate(testX2, testy2)\n",
    " "
   ]
  },
  {
   "cell_type": "code",
   "execution_count": null,
   "metadata": {},
   "outputs": [],
   "source": [
    "y_preddense32 = modeldense32.predict(testX2)"
   ]
  },
  {
   "cell_type": "code",
   "execution_count": null,
   "metadata": {},
   "outputs": [],
   "source": [
    "plt.figure(figsize = (20,6))\n",
    "plt.plot(testy2.reset_index(drop=True),label = \"Valores reales\")\n",
    "plt.plot(y_preddense32, label = \"Prediccion\")\n",
    "plt.legend()"
   ]
  },
  {
   "cell_type": "code",
   "execution_count": null,
   "metadata": {},
   "outputs": [],
   "source": [
    "test2 =subida(testy2)\n",
    "pred2 = subida(y_preddense32)\n",
    "print(\"Error Absoluto Medio:\", mean_absolute_error(testy2, y_preddense32))\n",
    "print(\"R-cuadrado:\", r2_score(testy2, y_preddense32))\n",
    "print('Tasa de acierto de subida:', acierto(test2,pred2))"
   ]
  },
  {
   "cell_type": "markdown",
   "metadata": {},
   "source": [
    "### EXPERIMENTO 3: Modelo 10 capas"
   ]
  },
  {
   "cell_type": "markdown",
   "metadata": {},
   "source": [
    "Modelo 100 neuronas:"
   ]
  },
  {
   "cell_type": "code",
   "execution_count": null,
   "metadata": {},
   "outputs": [],
   "source": [
    "modeldense100 = build_model3(100,1,'relu','mae','adam')\n",
    "modeldense100.summary()\n",
    "\n",
    "modeldense100.fit(trainX2, trainy2, epochs=100)\n",
    " "
   ]
  },
  {
   "cell_type": "code",
   "execution_count": null,
   "metadata": {},
   "outputs": [],
   "source": [
    "y_preddense100 = modeldense100.predict(testX2)"
   ]
  },
  {
   "cell_type": "code",
   "execution_count": null,
   "metadata": {
    "scrolled": true
   },
   "outputs": [],
   "source": [
    "plt.figure(figsize = (20,6))\n",
    "plt.plot(testy2.reset_index(drop=True),label = \"Valores reales\")\n",
    "plt.plot(y_preddense100, label = \"Prediccion\")\n",
    "plt.legend()"
   ]
  },
  {
   "cell_type": "code",
   "execution_count": null,
   "metadata": {},
   "outputs": [],
   "source": [
    "test2 =subida(testy2)\n",
    "pred2 = subida(y_preddense100)\n",
    "print(\"Error Absoluto Medio:\", mean_absolute_error(testy2, y_preddense100))\n",
    "print(\"R-cuadrado:\", r2_score(testy2, y_preddense100))\n",
    "print('Tasa de acierto de subida:', acierto(test2,pred2))"
   ]
  },
  {
   "cell_type": "markdown",
   "metadata": {},
   "source": [
    "Modelo 64 neuronas:"
   ]
  },
  {
   "cell_type": "code",
   "execution_count": null,
   "metadata": {},
   "outputs": [],
   "source": [
    "modeldense64 = build_model3(64,1,'relu','mae','adam')\n",
    "modeldense64.summary()\n",
    "\n",
    "modeldense64.fit(trainX2, trainy2, epochs=1000)"
   ]
  },
  {
   "cell_type": "code",
   "execution_count": null,
   "metadata": {},
   "outputs": [],
   "source": [
    "y_preddense64 = modeldense64.predict(testX2)"
   ]
  },
  {
   "cell_type": "code",
   "execution_count": null,
   "metadata": {
    "scrolled": true
   },
   "outputs": [],
   "source": [
    "plt.figure(figsize = (20,6))\n",
    "plt.plot(testy2.reset_index(drop=True),label = \"Valores reales\")\n",
    "plt.plot(y_preddense64, label = \"Prediccion\")\n",
    "plt.legend()"
   ]
  },
  {
   "cell_type": "code",
   "execution_count": null,
   "metadata": {},
   "outputs": [],
   "source": [
    "test2 =subida(testy2)\n",
    "pred2 = subida(y_preddense64)\n",
    "print(\"Error Absoluto Medio:\", mean_absolute_error(testy2, y_preddense64))\n",
    "print(\"R-cuadrado:\", r2_score(testy2, y_preddense64))\n",
    "print('Tasa de acierto de subida:', acierto(test2,pred2))"
   ]
  },
  {
   "cell_type": "markdown",
   "metadata": {},
   "source": [
    "Modelo 32 neuronas:"
   ]
  },
  {
   "cell_type": "code",
   "execution_count": null,
   "metadata": {},
   "outputs": [],
   "source": [
    "modeldense32 = build_model3(32,1,'relu','mae','adam')\n",
    "modeldense32.summary()\n",
    "\n",
    "modeldense32.fit(trainX2, trainy2, epochs=1000)"
   ]
  },
  {
   "cell_type": "code",
   "execution_count": null,
   "metadata": {},
   "outputs": [],
   "source": [
    "y_preddense32 = modeldense32.predict(testX2)"
   ]
  },
  {
   "cell_type": "code",
   "execution_count": null,
   "metadata": {},
   "outputs": [],
   "source": [
    "plt.figure(figsize = (20,6))\n",
    "plt.plot(testy2.reset_index(drop=True),label = \"Valores reales\")\n",
    "plt.plot(y_preddense32, label = \"Prediccion\")\n",
    "plt.legend()"
   ]
  },
  {
   "cell_type": "code",
   "execution_count": null,
   "metadata": {},
   "outputs": [],
   "source": [
    "test2 =subida(testy2)\n",
    "pred2 = subida(y_preddense32)\n",
    "print(\"Error Absoluto Medio:\", mean_absolute_error(testy2, y_preddense32))\n",
    "print(\"R-cuadrado:\", r2_score(testy2, y_preddense32))\n",
    "print('Tasa de acierto de subida:', acierto(test2,pred2))"
   ]
  },
  {
   "cell_type": "markdown",
   "metadata": {},
   "source": [
    "# CONJUNTO DE DATOS 3"
   ]
  },
  {
   "cell_type": "code",
   "execution_count": null,
   "metadata": {},
   "outputs": [],
   "source": [
    "def build_model1(neurons, output_size, activation_fun,loss_fun,optimizer_fun):\n",
    "    model = Sequential()\n",
    "    model.add(Dense(neurons, input_dim = 35, activation=activation_fun))\n",
    "    model.add(Dense(round(neurons/2), activation=activation_fun))\n",
    "    model.add(Dense(round(neurons/3), activation=activation_fun))\n",
    "    model.add(Dense(round(neurons/4), activation=activation_fun))\n",
    "    model.add(Dense(1, activation=activation_fun))\n",
    "    model.compile(loss=loss_fun, optimizer=optimizer_fun, metrics=['mae'])\n",
    "    return model"
   ]
  },
  {
   "cell_type": "code",
   "execution_count": null,
   "metadata": {},
   "outputs": [],
   "source": [
    "def build_model2(neurons, output_size, activation_fun,loss_fun,optimizer_fun):\n",
    "    model = Sequential()\n",
    "    model.add(Dense(neurons, input_dim = 35, activation=activation_fun))\n",
    "    model.add(Dense(round(neurons), activation=activation_fun))\n",
    "    model.add(Dense(round(neurons/2), activation=activation_fun))\n",
    "    model.add(Dense(round(neurons/2), activation=activation_fun))\n",
    "    model.add(Dense(1, activation=activation_fun))\n",
    "    model.compile(loss=loss_fun, optimizer=optimizer_fun, metrics=['mae'])\n",
    "    return model"
   ]
  },
  {
   "cell_type": "code",
   "execution_count": null,
   "metadata": {},
   "outputs": [],
   "source": [
    "def build_model3(neurons, output_size, activation_fun,loss_fun,optimizer_fun):\n",
    "    model = Sequential()\n",
    "    model.add(Dense(neurons, input_dim = 35, activation=activation_fun))\n",
    "    model.add(Dense(round(neurons/2), activation=activation_fun))\n",
    "    model.add(Dense(round(neurons/3), activation=activation_fun))\n",
    "    model.add(Dense(round(neurons/4), activation=activation_fun))\n",
    "    model.add(Dense(round(neurons/5), activation=activation_fun))\n",
    "    model.add(Dense(round(neurons/6), activation=activation_fun))\n",
    "    model.add(Dense(round(neurons/7), activation=activation_fun))\n",
    "    model.add(Dense(round(neurons/8), activation=activation_fun))\n",
    "    model.add(Dense(round(neurons/9), activation=activation_fun))\n",
    "    model.add(Dense(1, activation=activation_fun))\n",
    "    model.compile(loss=loss_fun, optimizer=optimizer_fun, metrics=['mae'])\n",
    "    return model"
   ]
  },
  {
   "cell_type": "markdown",
   "metadata": {},
   "source": [
    "### Dense RELU+ADAM"
   ]
  },
  {
   "cell_type": "markdown",
   "metadata": {},
   "source": [
    "#### EXPERIMENTO 1: Modelo con 5 capas, dividiendo las neuronas."
   ]
  },
  {
   "cell_type": "markdown",
   "metadata": {},
   "source": [
    "Modelo 100 neuronas:"
   ]
  },
  {
   "cell_type": "code",
   "execution_count": null,
   "metadata": {
    "scrolled": true
   },
   "outputs": [],
   "source": [
    "modeldense100 = build_model1(100,1,'relu','mae','adam')\n",
    "modeldense100.summary()"
   ]
  },
  {
   "cell_type": "code",
   "execution_count": null,
   "metadata": {},
   "outputs": [],
   "source": [
    "modeldense100.fit(trainX3, trainy3, epochs=1000)\n",
    " \n",
    "# evaluamos el modelo\n",
    "scoresdense100 = modeldense100.evaluate(testX3, testy3)"
   ]
  },
  {
   "cell_type": "code",
   "execution_count": null,
   "metadata": {},
   "outputs": [],
   "source": [
    "y_preddense100 = modeldense100.predict(testX3)"
   ]
  },
  {
   "cell_type": "code",
   "execution_count": null,
   "metadata": {},
   "outputs": [],
   "source": [
    "plt.figure(figsize = (20,6))\n",
    "plt.plot(testy3.reset_index(drop=True),label = \"Valores reales\")\n",
    "plt.plot(y_preddense100, label = \"Prediccion\")\n",
    "plt.legend()"
   ]
  },
  {
   "cell_type": "code",
   "execution_count": null,
   "metadata": {},
   "outputs": [],
   "source": [
    "test3 =subida(testy3)\n",
    "pred3 = subida(y_preddense100)\n",
    "print(\"Error Absoluto Medio:\", mean_absolute_error(testy3, y_preddense100))\n",
    "print(\"R-cuadrado:\", r2_score(testy3, y_preddense100))\n",
    "print('Tasa de acierto de subida:', acierto(test3,pred3))"
   ]
  },
  {
   "cell_type": "markdown",
   "metadata": {},
   "source": [
    "Modelo 64 neuronas"
   ]
  },
  {
   "cell_type": "code",
   "execution_count": null,
   "metadata": {},
   "outputs": [],
   "source": [
    "modeldense64 = build_model1(64,1,'relu','mae','adam')\n",
    "modeldense64.summary()"
   ]
  },
  {
   "cell_type": "code",
   "execution_count": null,
   "metadata": {},
   "outputs": [],
   "source": [
    "modeldense64.fit(trainX3, trainy3, epochs=1000)\n",
    " \n",
    "# evaluamos el modelo\n",
    "scoresdense64 = modeldense64.evaluate(testX3, testy3)\n",
    " "
   ]
  },
  {
   "cell_type": "code",
   "execution_count": null,
   "metadata": {},
   "outputs": [],
   "source": [
    "y_preddense64 = modeldense64.predict(testX3)"
   ]
  },
  {
   "cell_type": "code",
   "execution_count": null,
   "metadata": {},
   "outputs": [],
   "source": [
    "plt.figure(figsize = (20,6))\n",
    "plt.plot(testy3.reset_index(drop=True),label = \"Valores reales\")\n",
    "plt.plot(y_preddense64, label = \"Prediccion\")\n",
    "plt.legend()"
   ]
  },
  {
   "cell_type": "code",
   "execution_count": null,
   "metadata": {},
   "outputs": [],
   "source": [
    "test3 =subida(testy3)\n",
    "pred3 = subida(y_preddense64)\n",
    "print(\"Error Absoluto Medio:\", mean_absolute_error(testy3, y_preddense64))\n",
    "print(\"R-cuadrado:\", r2_score(testy3, y_preddense64))\n",
    "print('Tasa de acierto de subida:', acierto(test3,pred3))"
   ]
  },
  {
   "cell_type": "markdown",
   "metadata": {},
   "source": [
    "Modelo 32 neuronas:"
   ]
  },
  {
   "cell_type": "code",
   "execution_count": null,
   "metadata": {},
   "outputs": [],
   "source": [
    "modeldense32 = build_model1(32,1,'relu','mae','adam')\n",
    "modeldense32.summary()"
   ]
  },
  {
   "cell_type": "code",
   "execution_count": null,
   "metadata": {},
   "outputs": [],
   "source": [
    "modeldense32.fit(trainX3, trainy3, epochs=1000)\n",
    " \n",
    "# evaluamos el modelo\n",
    "scoresdense32 = modeldense32.evaluate(testX3, testy3)\n",
    " "
   ]
  },
  {
   "cell_type": "code",
   "execution_count": null,
   "metadata": {},
   "outputs": [],
   "source": [
    "y_preddense32 = modeldense32.predict(testX3)"
   ]
  },
  {
   "cell_type": "code",
   "execution_count": null,
   "metadata": {},
   "outputs": [],
   "source": [
    "plt.figure(figsize = (20,6))\n",
    "plt.plot(testy3.reset_index(drop=True),label = \"Valores reales\")\n",
    "plt.plot(y_preddense32, label = \"Prediccion\")\n",
    "plt.legend()"
   ]
  },
  {
   "cell_type": "code",
   "execution_count": null,
   "metadata": {},
   "outputs": [],
   "source": [
    "test3 =subida(testy3)\n",
    "pred3 = subida(y_preddense32)\n",
    "print(\"Error Absoluto Medio:\", mean_absolute_error(testy3, y_preddense32))\n",
    "print(\"R-cuadrado:\", r2_score(testy3, y_preddense32))\n",
    "print('Tasa de acierto de subida:', acierto(test3,pred3))"
   ]
  },
  {
   "cell_type": "markdown",
   "metadata": {},
   "source": [
    "  "
   ]
  },
  {
   "cell_type": "markdown",
   "metadata": {},
   "source": [
    "#### EXPERIMENTO 2:  Modelo con 5 capas, mismas neuronas cada 2 capas"
   ]
  },
  {
   "cell_type": "code",
   "execution_count": null,
   "metadata": {
    "scrolled": true
   },
   "outputs": [],
   "source": [
    "modeldense100 = build_model2(100,1,'relu','mae','adam')\n",
    "modeldense100.summary()"
   ]
  },
  {
   "cell_type": "code",
   "execution_count": null,
   "metadata": {},
   "outputs": [],
   "source": [
    "modeldense100.fit(trainX3, trainy3, epochs=1000)\n",
    " \n",
    "# evaluamos el modelo\n",
    "scoresdense100 = modeldense100.evaluate(testX3, testy3)"
   ]
  },
  {
   "cell_type": "code",
   "execution_count": null,
   "metadata": {},
   "outputs": [],
   "source": [
    "y_preddense100 = modeldense100.predict(testX3)"
   ]
  },
  {
   "cell_type": "code",
   "execution_count": null,
   "metadata": {},
   "outputs": [],
   "source": [
    "plt.figure(figsize = (20,6))\n",
    "plt.plot(testy3.reset_index(drop=True),label = \"Valores reales\")\n",
    "plt.plot(y_preddense100, label = \"Prediccion\")\n",
    "plt.legend()"
   ]
  },
  {
   "cell_type": "code",
   "execution_count": null,
   "metadata": {},
   "outputs": [],
   "source": [
    "test3 =subida(testy3)\n",
    "pred3 = subida(y_preddense100)\n",
    "print(\"Error Absoluto Medio:\", mean_absolute_error(testy3, y_preddense100))\n",
    "print(\"R-cuadrado:\", r2_score(testy3, y_preddense100))\n",
    "print('Tasa de acierto de subida:', acierto(test3,pred3))"
   ]
  },
  {
   "cell_type": "markdown",
   "metadata": {},
   "source": [
    "Modelo 64 neuronas"
   ]
  },
  {
   "cell_type": "code",
   "execution_count": null,
   "metadata": {},
   "outputs": [],
   "source": [
    "modeldense64 = build_model2(64,1,'relu','mae','adam')\n",
    "modeldense64.summary()"
   ]
  },
  {
   "cell_type": "code",
   "execution_count": null,
   "metadata": {},
   "outputs": [],
   "source": [
    "modeldense64.fit(trainX3, trainy3, epochs=1000)\n",
    " \n",
    "# evaluamos el modelo\n",
    "scoresdense64 = modeldense64.evaluate(testX3, testy3)\n",
    " "
   ]
  },
  {
   "cell_type": "code",
   "execution_count": null,
   "metadata": {},
   "outputs": [],
   "source": [
    "y_preddense64 = modeldense64.predict(testX3)"
   ]
  },
  {
   "cell_type": "code",
   "execution_count": null,
   "metadata": {},
   "outputs": [],
   "source": [
    "plt.figure(figsize = (20,6))\n",
    "plt.plot(testy3.reset_index(drop=True),label = \"Valores reales\")\n",
    "plt.plot(y_preddense64, label = \"Prediccion\")\n",
    "plt.legend()"
   ]
  },
  {
   "cell_type": "code",
   "execution_count": null,
   "metadata": {},
   "outputs": [],
   "source": [
    "test3 =subida(testy3)\n",
    "pred3 = subida(y_preddense64)\n",
    "print(\"Error Absoluto Medio:\", mean_absolute_error(testy3, y_preddense64))\n",
    "print(\"R-cuadrado:\", r2_score(testy3, y_preddense64))\n",
    "print('Tasa de acierto de subida:', acierto(test3,pred3))"
   ]
  },
  {
   "cell_type": "markdown",
   "metadata": {},
   "source": [
    "Modelo 32 neuronas:"
   ]
  },
  {
   "cell_type": "code",
   "execution_count": null,
   "metadata": {},
   "outputs": [],
   "source": [
    "modeldense32 = build_model2(32,1,'relu','mae','adam')\n",
    "modeldense32.summary()"
   ]
  },
  {
   "cell_type": "code",
   "execution_count": null,
   "metadata": {},
   "outputs": [],
   "source": [
    "modeldense32.fit(trainX3, trainy3, epochs=1000)\n",
    " \n",
    "# evaluamos el modelo\n",
    "scoresdense32 = modeldense32.evaluate(testX3, testy3)\n",
    " "
   ]
  },
  {
   "cell_type": "code",
   "execution_count": null,
   "metadata": {},
   "outputs": [],
   "source": [
    "y_preddense32 = modeldense32.predict(testX3)"
   ]
  },
  {
   "cell_type": "code",
   "execution_count": null,
   "metadata": {},
   "outputs": [],
   "source": [
    "plt.figure(figsize = (20,6))\n",
    "plt.plot(testy3.reset_index(drop=True),label = \"Valores reales\")\n",
    "plt.plot(y_preddense32, label = \"Prediccion\")\n",
    "plt.legend()"
   ]
  },
  {
   "cell_type": "code",
   "execution_count": null,
   "metadata": {},
   "outputs": [],
   "source": [
    "test3 =subida(testy3)\n",
    "pred3 = subida(y_preddense32)\n",
    "print(\"Error Absoluto Medio:\", mean_absolute_error(testy3, y_preddense32))\n",
    "print(\"R-cuadrado:\", r2_score(testy3, y_preddense32))\n",
    "print('Tasa de acierto de subida:', acierto(test3,pred3))"
   ]
  },
  {
   "cell_type": "markdown",
   "metadata": {},
   "source": [
    "### EXPERIMENTO 3: Modelo 10 capas"
   ]
  },
  {
   "cell_type": "markdown",
   "metadata": {},
   "source": [
    "Modelo 100 neuronas:"
   ]
  },
  {
   "cell_type": "code",
   "execution_count": null,
   "metadata": {},
   "outputs": [],
   "source": [
    "modeldense100 = build_model3(100,1,'relu','mae','adam')\n",
    "modeldense100.summary()\n",
    "\n",
    "modeldense100.fit(trainX3, trainy3, epochs=100)\n",
    " "
   ]
  },
  {
   "cell_type": "code",
   "execution_count": null,
   "metadata": {},
   "outputs": [],
   "source": [
    "y_preddense100 = modeldense100.predict(testX3)"
   ]
  },
  {
   "cell_type": "code",
   "execution_count": null,
   "metadata": {
    "scrolled": true
   },
   "outputs": [],
   "source": [
    "plt.figure(figsize = (20,6))\n",
    "plt.plot(testy3.reset_index(drop=True),label = \"Valores reales\")\n",
    "plt.plot(y_preddense100, label = \"Prediccion\")\n",
    "plt.legend()"
   ]
  },
  {
   "cell_type": "code",
   "execution_count": null,
   "metadata": {},
   "outputs": [],
   "source": [
    "test3 =subida(testy3)\n",
    "pred3 = subida(y_preddense100)\n",
    "print(\"Error Absoluto Medio:\", mean_absolute_error(testy3, y_preddense100))\n",
    "print(\"R-cuadrado:\", r2_score(testy3, y_preddense100))\n",
    "print('Tasa de acierto de subida:', acierto(test3,pred3))"
   ]
  },
  {
   "cell_type": "markdown",
   "metadata": {},
   "source": [
    "Modelo 64 neuronas:"
   ]
  },
  {
   "cell_type": "code",
   "execution_count": null,
   "metadata": {},
   "outputs": [],
   "source": [
    "modeldense64 = build_model3(64,1,'relu','mae','adam')\n",
    "modeldense64.summary()\n",
    "\n",
    "modeldense64.fit(trainX3, trainy3, epochs=1000)"
   ]
  },
  {
   "cell_type": "code",
   "execution_count": null,
   "metadata": {},
   "outputs": [],
   "source": [
    "y_preddense64 = modeldense64.predict(testX3)"
   ]
  },
  {
   "cell_type": "code",
   "execution_count": null,
   "metadata": {
    "scrolled": true
   },
   "outputs": [],
   "source": [
    "plt.figure(figsize = (20,6))\n",
    "plt.plot(testy3.reset_index(drop=True),label = \"Valores reales\")\n",
    "plt.plot(y_preddense64, label = \"Prediccion\")\n",
    "plt.legend()"
   ]
  },
  {
   "cell_type": "code",
   "execution_count": null,
   "metadata": {},
   "outputs": [],
   "source": [
    "test3 =subida(testy3)\n",
    "pred3 = subida(y_preddense64)\n",
    "print(\"Error Absoluto Medio:\", mean_absolute_error(testy3, y_preddense64))\n",
    "print(\"R-cuadrado:\", r2_score(testy3, y_preddense64))\n",
    "print('Tasa de acierto de subida:', acierto(test3,pred3))"
   ]
  },
  {
   "cell_type": "markdown",
   "metadata": {},
   "source": [
    "Modelo 32 neuronas:"
   ]
  },
  {
   "cell_type": "code",
   "execution_count": null,
   "metadata": {},
   "outputs": [],
   "source": [
    "modeldense32 = build_model3(32,1,'relu','mae','adam')\n",
    "modeldense32.summary()\n",
    "\n",
    "modeldense32.fit(trainX3, trainy3, epochs=1000)"
   ]
  },
  {
   "cell_type": "code",
   "execution_count": null,
   "metadata": {},
   "outputs": [],
   "source": [
    "y_preddense32 = modeldense32.predict(testX3)"
   ]
  },
  {
   "cell_type": "code",
   "execution_count": null,
   "metadata": {},
   "outputs": [],
   "source": [
    "plt.figure(figsize = (20,6))\n",
    "plt.plot(testy3.reset_index(drop=True),label = \"Valores reales\")\n",
    "plt.plot(y_preddense32, label = \"Prediccion\")\n",
    "plt.legend()"
   ]
  },
  {
   "cell_type": "code",
   "execution_count": null,
   "metadata": {},
   "outputs": [],
   "source": [
    "test3 =subida(testy3)\n",
    "pred3 = subida(y_preddense32)\n",
    "print(\"Error Absoluto Medio:\", mean_absolute_error(testy3, y_preddense32))\n",
    "print(\"R-cuadrado:\", r2_score(testy3, y_preddense32))\n",
    "print('Tasa de acierto de subida:', acierto(test3,pred3))"
   ]
  },
  {
   "cell_type": "markdown",
   "metadata": {},
   "source": [
    "### Dense RELU+ADAGRAD"
   ]
  },
  {
   "cell_type": "markdown",
   "metadata": {},
   "source": [
    "#### EXPERIMENTO 1: Modelo con 5 capas, dividiendo las neuronas."
   ]
  },
  {
   "cell_type": "markdown",
   "metadata": {},
   "source": [
    "Modelo 100 neuronas:"
   ]
  },
  {
   "cell_type": "code",
   "execution_count": null,
   "metadata": {
    "scrolled": true
   },
   "outputs": [],
   "source": [
    "modeldense100 = build_model1(100,1,'relu','mae','adam')\n",
    "modeldense100.summary()"
   ]
  },
  {
   "cell_type": "code",
   "execution_count": null,
   "metadata": {},
   "outputs": [],
   "source": [
    "modeldense100.fit(trainX3, trainy3, epochs=1000)\n",
    " \n",
    "# evaluamos el modelo\n",
    "scoresdense100 = modeldense100.evaluate(testX3, testy3)"
   ]
  },
  {
   "cell_type": "code",
   "execution_count": null,
   "metadata": {},
   "outputs": [],
   "source": [
    "y_preddense100 = modeldense100.predict(testX3)"
   ]
  },
  {
   "cell_type": "code",
   "execution_count": null,
   "metadata": {},
   "outputs": [],
   "source": [
    "plt.figure(figsize = (20,6))\n",
    "plt.plot(testy3.reset_index(drop=True),label = \"Valores reales\")\n",
    "plt.plot(y_preddense100, label = \"Prediccion\")\n",
    "plt.legend()"
   ]
  },
  {
   "cell_type": "code",
   "execution_count": null,
   "metadata": {},
   "outputs": [],
   "source": [
    "test3 =subida(testy3)\n",
    "pred3 = subida(y_preddense100)\n",
    "print(\"Error Absoluto Medio:\", mean_absolute_error(testy3, y_preddense100))\n",
    "print(\"R-cuadrado:\", r2_score(testy3, y_preddense100))\n",
    "print('Tasa de acierto de subida:', acierto(test3,pred3))"
   ]
  },
  {
   "cell_type": "markdown",
   "metadata": {},
   "source": [
    "Modelo 64 neuronas"
   ]
  },
  {
   "cell_type": "code",
   "execution_count": null,
   "metadata": {},
   "outputs": [],
   "source": [
    "modeldense64 = build_model1(64,1,'relu','mae','adam')\n",
    "modeldense64.summary()"
   ]
  },
  {
   "cell_type": "code",
   "execution_count": null,
   "metadata": {},
   "outputs": [],
   "source": [
    "modeldense64.fit(trainX3, trainy3, epochs=1000)\n",
    " \n",
    "# evaluamos el modelo\n",
    "scoresdense64 = modeldense64.evaluate(testX3, testy3)\n",
    " "
   ]
  },
  {
   "cell_type": "code",
   "execution_count": null,
   "metadata": {},
   "outputs": [],
   "source": [
    "y_preddense64 = modeldense64.predict(testX3)"
   ]
  },
  {
   "cell_type": "code",
   "execution_count": null,
   "metadata": {},
   "outputs": [],
   "source": [
    "plt.figure(figsize = (20,6))\n",
    "plt.plot(testy3.reset_index(drop=True),label = \"Valores reales\")\n",
    "plt.plot(y_preddense64, label = \"Prediccion\")\n",
    "plt.legend()"
   ]
  },
  {
   "cell_type": "code",
   "execution_count": null,
   "metadata": {},
   "outputs": [],
   "source": [
    "test3 =subida(testy3)\n",
    "pred3 = subida(y_preddense64)\n",
    "print(\"Error Absoluto Medio:\", mean_absolute_error(testy3, y_preddense64))\n",
    "print(\"R-cuadrado:\", r2_score(testy3, y_preddense64))\n",
    "print('Tasa de acierto de subida:', acierto(test3,pred3))"
   ]
  },
  {
   "cell_type": "markdown",
   "metadata": {},
   "source": [
    "Modelo 32 neuronas:"
   ]
  },
  {
   "cell_type": "code",
   "execution_count": null,
   "metadata": {},
   "outputs": [],
   "source": [
    "modeldense32 = build_model1(32,1,'relu','mae','adam')\n",
    "modeldense32.summary()"
   ]
  },
  {
   "cell_type": "code",
   "execution_count": null,
   "metadata": {},
   "outputs": [],
   "source": [
    "modeldense32.fit(trainX3, trainy3, epochs=1000)\n",
    " \n",
    "# evaluamos el modelo\n",
    "scoresdense32 = modeldense32.evaluate(testX3, testy3)\n",
    " "
   ]
  },
  {
   "cell_type": "code",
   "execution_count": null,
   "metadata": {},
   "outputs": [],
   "source": [
    "y_preddense32 = modeldense32.predict(testX3)"
   ]
  },
  {
   "cell_type": "code",
   "execution_count": null,
   "metadata": {},
   "outputs": [],
   "source": [
    "plt.figure(figsize = (20,6))\n",
    "plt.plot(testy3.reset_index(drop=True),label = \"Valores reales\")\n",
    "plt.plot(y_preddense32, label = \"Prediccion\")\n",
    "plt.legend()"
   ]
  },
  {
   "cell_type": "code",
   "execution_count": null,
   "metadata": {},
   "outputs": [],
   "source": [
    "test3 =subida(testy3)\n",
    "pred3 = subida(y_preddense32)\n",
    "print(\"Error Absoluto Medio:\", mean_absolute_error(testy3, y_preddense32))\n",
    "print(\"R-cuadrado:\", r2_score(testy3, y_preddense32))\n",
    "print('Tasa de acierto de subida:', acierto(test3,pred3))"
   ]
  },
  {
   "cell_type": "markdown",
   "metadata": {},
   "source": [
    "  "
   ]
  },
  {
   "cell_type": "markdown",
   "metadata": {},
   "source": [
    "#### EXPERIMENTO 2:  Modelo con 5 capas, mismas neuronas cada 2 capas"
   ]
  },
  {
   "cell_type": "code",
   "execution_count": null,
   "metadata": {
    "scrolled": true
   },
   "outputs": [],
   "source": [
    "modeldense100 = build_model2(100,1,'relu','mae','adam')\n",
    "modeldense100.summary()"
   ]
  },
  {
   "cell_type": "code",
   "execution_count": null,
   "metadata": {},
   "outputs": [],
   "source": [
    "modeldense100.fit(trainX3, trainy3, epochs=1000)\n",
    " \n",
    "# evaluamos el modelo\n",
    "scoresdense100 = modeldense100.evaluate(testX3, testy3)"
   ]
  },
  {
   "cell_type": "code",
   "execution_count": null,
   "metadata": {},
   "outputs": [],
   "source": [
    "y_preddense100 = modeldense100.predict(testX3)"
   ]
  },
  {
   "cell_type": "code",
   "execution_count": null,
   "metadata": {},
   "outputs": [],
   "source": [
    "plt.figure(figsize = (20,6))\n",
    "plt.plot(testy3.reset_index(drop=True),label = \"Valores reales\")\n",
    "plt.plot(y_preddense100, label = \"Prediccion\")\n",
    "plt.legend()"
   ]
  },
  {
   "cell_type": "code",
   "execution_count": null,
   "metadata": {},
   "outputs": [],
   "source": [
    "test3 =subida(testy3)\n",
    "pred3 = subida(y_preddense100)\n",
    "print(\"Error Absoluto Medio:\", mean_absolute_error(testy3, y_preddense100))\n",
    "print(\"R-cuadrado:\", r2_score(testy3, y_preddense100))\n",
    "print('Tasa de acierto de subida:', acierto(test3,pred3))"
   ]
  },
  {
   "cell_type": "markdown",
   "metadata": {},
   "source": [
    "Modelo 64 neuronas"
   ]
  },
  {
   "cell_type": "code",
   "execution_count": null,
   "metadata": {},
   "outputs": [],
   "source": [
    "modeldense64 = build_model2(64,1,'relu','mae','adam')\n",
    "modeldense64.summary()"
   ]
  },
  {
   "cell_type": "code",
   "execution_count": null,
   "metadata": {},
   "outputs": [],
   "source": [
    "modeldense64.fit(trainX3, trainy3, epochs=1000)\n",
    " \n",
    "# evaluamos el modelo\n",
    "scoresdense64 = modeldense64.evaluate(testX3, testy3)\n",
    " "
   ]
  },
  {
   "cell_type": "code",
   "execution_count": null,
   "metadata": {},
   "outputs": [],
   "source": [
    "y_preddense64 = modeldense64.predict(testX3)"
   ]
  },
  {
   "cell_type": "code",
   "execution_count": null,
   "metadata": {},
   "outputs": [],
   "source": [
    "plt.figure(figsize = (20,6))\n",
    "plt.plot(testy3.reset_index(drop=True),label = \"Valores reales\")\n",
    "plt.plot(y_preddense64, label = \"Prediccion\")\n",
    "plt.legend()"
   ]
  },
  {
   "cell_type": "code",
   "execution_count": null,
   "metadata": {},
   "outputs": [],
   "source": [
    "test3 =subida(testy3)\n",
    "pred3 = subida(y_preddense64)\n",
    "print(\"Error Absoluto Medio:\", mean_absolute_error(testy3, y_preddense64))\n",
    "print(\"R-cuadrado:\", r2_score(testy3, y_preddense64))\n",
    "print('Tasa de acierto de subida:', acierto(test3,pred3))"
   ]
  },
  {
   "cell_type": "markdown",
   "metadata": {},
   "source": [
    "Modelo 32 neuronas:"
   ]
  },
  {
   "cell_type": "code",
   "execution_count": null,
   "metadata": {},
   "outputs": [],
   "source": [
    "modeldense32 = build_model2(32,1,'relu','mae','adam')\n",
    "modeldense32.summary()"
   ]
  },
  {
   "cell_type": "code",
   "execution_count": null,
   "metadata": {},
   "outputs": [],
   "source": [
    "modeldense32.fit(trainX3, trainy3, epochs=1000)\n",
    " \n",
    "# evaluamos el modelo\n",
    "scoresdense32 = modeldense32.evaluate(testX3, testy3)\n",
    " "
   ]
  },
  {
   "cell_type": "code",
   "execution_count": null,
   "metadata": {},
   "outputs": [],
   "source": [
    "y_preddense32 = modeldense32.predict(testX3)"
   ]
  },
  {
   "cell_type": "code",
   "execution_count": null,
   "metadata": {},
   "outputs": [],
   "source": [
    "plt.figure(figsize = (20,6))\n",
    "plt.plot(testy3.reset_index(drop=True),label = \"Valores reales\")\n",
    "plt.plot(y_preddense32, label = \"Prediccion\")\n",
    "plt.legend()"
   ]
  },
  {
   "cell_type": "code",
   "execution_count": null,
   "metadata": {},
   "outputs": [],
   "source": [
    "test3 =subida(testy3)\n",
    "pred3 = subida(y_preddense32)\n",
    "print(\"Error Absoluto Medio:\", mean_absolute_error(testy3, y_preddense32))\n",
    "print(\"R-cuadrado:\", r2_score(testy3, y_preddense32))\n",
    "print('Tasa de acierto de subida:', acierto(test3,pred3))"
   ]
  },
  {
   "cell_type": "markdown",
   "metadata": {},
   "source": [
    "### EXPERIMENTO 3: Modelo 10 capas"
   ]
  },
  {
   "cell_type": "markdown",
   "metadata": {},
   "source": [
    "Modelo 100 neuronas:"
   ]
  },
  {
   "cell_type": "code",
   "execution_count": null,
   "metadata": {},
   "outputs": [],
   "source": [
    "modeldense100 = build_model3(100,1,'relu','mae','adam')\n",
    "modeldense100.summary()\n",
    "\n",
    "modeldense100.fit(trainX3, trainy3, epochs=100)\n",
    " "
   ]
  },
  {
   "cell_type": "code",
   "execution_count": null,
   "metadata": {},
   "outputs": [],
   "source": [
    "y_preddense100 = modeldense100.predict(testX3)"
   ]
  },
  {
   "cell_type": "code",
   "execution_count": null,
   "metadata": {
    "scrolled": true
   },
   "outputs": [],
   "source": [
    "plt.figure(figsize = (20,6))\n",
    "plt.plot(testy3.reset_index(drop=True),label = \"Valores reales\")\n",
    "plt.plot(y_preddense100, label = \"Prediccion\")\n",
    "plt.legend()"
   ]
  },
  {
   "cell_type": "code",
   "execution_count": null,
   "metadata": {},
   "outputs": [],
   "source": [
    "test3 =subida(testy3)\n",
    "pred3 = subida(y_preddense100)\n",
    "print(\"Error Absoluto Medio:\", mean_absolute_error(testy3, y_preddense100))\n",
    "print(\"R-cuadrado:\", r2_score(testy3, y_preddense100))\n",
    "print('Tasa de acierto de subida:', acierto(test3,pred3))"
   ]
  },
  {
   "cell_type": "markdown",
   "metadata": {},
   "source": [
    "Modelo 64 neuronas:"
   ]
  },
  {
   "cell_type": "code",
   "execution_count": null,
   "metadata": {},
   "outputs": [],
   "source": [
    "modeldense64 = build_model3(64,1,'relu','mae','adam')\n",
    "modeldense64.summary()\n",
    "\n",
    "modeldense64.fit(trainX3, trainy3, epochs=1000)"
   ]
  },
  {
   "cell_type": "code",
   "execution_count": null,
   "metadata": {},
   "outputs": [],
   "source": [
    "y_preddense64 = modeldense64.predict(testX3)"
   ]
  },
  {
   "cell_type": "code",
   "execution_count": null,
   "metadata": {
    "scrolled": true
   },
   "outputs": [],
   "source": [
    "plt.figure(figsize = (20,6))\n",
    "plt.plot(testy3.reset_index(drop=True),label = \"Valores reales\")\n",
    "plt.plot(y_preddense64, label = \"Prediccion\")\n",
    "plt.legend()"
   ]
  },
  {
   "cell_type": "code",
   "execution_count": null,
   "metadata": {},
   "outputs": [],
   "source": [
    "test3 =subida(testy3)\n",
    "pred3 = subida(y_preddense64)\n",
    "print(\"Error Absoluto Medio:\", mean_absolute_error(testy3, y_preddense64))\n",
    "print(\"R-cuadrado:\", r2_score(testy3, y_preddense64))\n",
    "print('Tasa de acierto de subida:', acierto(test3,pred3))"
   ]
  },
  {
   "cell_type": "markdown",
   "metadata": {},
   "source": [
    "Modelo 32 neuronas:"
   ]
  },
  {
   "cell_type": "code",
   "execution_count": null,
   "metadata": {},
   "outputs": [],
   "source": [
    "modeldense32 = build_model3(32,1,'relu','mae','adam')\n",
    "modeldense32.summary()\n",
    "\n",
    "modeldense32.fit(trainX3, trainy3, epochs=1000)"
   ]
  },
  {
   "cell_type": "code",
   "execution_count": null,
   "metadata": {},
   "outputs": [],
   "source": [
    "y_preddense32 = modeldense32.predict(testX3)"
   ]
  },
  {
   "cell_type": "code",
   "execution_count": null,
   "metadata": {},
   "outputs": [],
   "source": [
    "plt.figure(figsize = (20,6))\n",
    "plt.plot(testy3.reset_index(drop=True),label = \"Valores reales\")\n",
    "plt.plot(y_preddense32, label = \"Prediccion\")\n",
    "plt.legend()"
   ]
  },
  {
   "cell_type": "code",
   "execution_count": null,
   "metadata": {},
   "outputs": [],
   "source": [
    "test3 =subida(testy3)\n",
    "pred3 = subida(y_preddense32)\n",
    "print(\"Error Absoluto Medio:\", mean_absolute_error(testy3, y_preddense32))\n",
    "print(\"R-cuadrado:\", r2_score(testy3, y_preddense32))\n",
    "print('Tasa de acierto de subida:', acierto(test3,pred3))"
   ]
  },
  {
   "cell_type": "code",
   "execution_count": null,
   "metadata": {},
   "outputs": [],
   "source": []
  }
 ],
 "metadata": {
  "kernelspec": {
   "display_name": "Python 3",
   "language": "python",
   "name": "python3"
  },
  "language_info": {
   "codemirror_mode": {
    "name": "ipython",
    "version": 3
   },
   "file_extension": ".py",
   "mimetype": "text/x-python",
   "name": "python",
   "nbconvert_exporter": "python",
   "pygments_lexer": "ipython3",
   "version": "3.7.6"
  }
 },
 "nbformat": 4,
 "nbformat_minor": 4
}
