{
 "cells": [
  {
   "cell_type": "markdown",
   "metadata": {},
   "source": [
    "# Random forest regresor"
   ]
  },
  {
   "cell_type": "code",
   "execution_count": 23,
   "metadata": {},
   "outputs": [],
   "source": [
    "from sklearn.metrics import accuracy_score\n",
    "from sklearn.ensemble import RandomForestClassifier\n",
    "from sklearn.metrics import confusion_matrix,balanced_accuracy_score,f1_score,classification_report\n",
    "from hyperopt import hp, fmin, tpe, Trials, STATUS_OK\n",
    "from hyperopt.pyll import scope"
   ]
  },
  {
   "cell_type": "markdown",
   "metadata": {},
   "source": [
    "# DIARIO"
   ]
  },
  {
   "cell_type": "code",
   "execution_count": 1,
   "metadata": {},
   "outputs": [],
   "source": [
    "run Datos-1diaBINARIO.ipynb"
   ]
  },
  {
   "cell_type": "markdown",
   "metadata": {},
   "source": [
    "# Random forest regresor"
   ]
  },
  {
   "cell_type": "code",
   "execution_count": 25,
   "metadata": {},
   "outputs": [],
   "source": [
    "from sklearn.metrics import accuracy_score\n",
    "from sklearn.ensemble import RandomForestClassifier\n",
    "from sklearn.metrics import confusion_matrix,balanced_accuracy_score,f1_score,classification_report\n",
    "from hyperopt import hp, fmin, tpe, Trials, STATUS_OK\n",
    "from hyperopt.pyll import scope"
   ]
  },
  {
   "cell_type": "markdown",
   "metadata": {},
   "source": [
    "### EXPERIMENTO 1: MODELO BASE"
   ]
  },
  {
   "cell_type": "code",
   "execution_count": 22,
   "metadata": {
    "scrolled": true
   },
   "outputs": [
    {
     "name": "stdout",
     "output_type": "stream",
     "text": [
      "Tasa de acierto en regresión logística: 0.47\n",
      "Tasa de aciertos balanceada regresión logística: 0.48\n",
      "Medida F1 regresión logística: 0.50\n",
      "Matriz de confusión:\n",
      "[[ 79 118]\n",
      " [ 80  98]]\n",
      "              precision    recall  f1-score   support\n",
      "\n",
      "         0.0       0.50      0.40      0.44       197\n",
      "         1.0       0.45      0.55      0.50       178\n",
      "\n",
      "    accuracy                           0.47       375\n",
      "   macro avg       0.48      0.48      0.47       375\n",
      "weighted avg       0.48      0.47      0.47       375\n",
      "\n"
     ]
    }
   ],
   "source": [
    "# MODELO CON EL CONJUNTO DE DATOS 1\n",
    "# -------------------------------------------------------------------\n",
    "rf1 = RandomForestClassifier().fit(trainX1, trainy1)\n",
    "y_pred1 = rf1.predict(testX1)\n",
    "confusion1 = confusion_matrix(testy1, y_pred1)\n",
    "print(\"Tasa de acierto en rf: {:.2f}\".format(rf1.score(testX1, testy1)))\n",
    "print(\"Tasa de aciertos balanceada regresión logística: {:.2f}\".format(balanced_accuracy_score(testy1, y_pred1)))\n",
    "print(\"Medida F1 regresión logística: {:.2f}\".format(f1_score(testy1, y_pred1)))\n",
    "print(\"Matriz de confusión:\\n{}\".format(confusion1))\n",
    "print(classification_report(testy1, y_pred1))"
   ]
  },
  {
   "cell_type": "code",
   "execution_count": 23,
   "metadata": {},
   "outputs": [
    {
     "name": "stdout",
     "output_type": "stream",
     "text": [
      "Tasa de acierto en regresión logística: 0.49\n",
      "Tasa de aciertos balanceada regresión logística: 0.49\n",
      "Medida F1 regresión logística: 0.52\n",
      "Matriz de confusión:\n",
      "[[ 78 115]\n",
      " [ 71 100]]\n",
      "              precision    recall  f1-score   support\n",
      "\n",
      "         0.0       0.52      0.40      0.46       193\n",
      "         1.0       0.47      0.58      0.52       171\n",
      "\n",
      "    accuracy                           0.49       364\n",
      "   macro avg       0.49      0.49      0.49       364\n",
      "weighted avg       0.50      0.49      0.49       364\n",
      "\n"
     ]
    }
   ],
   "source": [
    "# MODELO CON EL CONJUNTO DE DATOS 2\n",
    "# -------------------------------------------------------------------\n",
    "rf2 = RandomForestClassifier().fit(trainX2, trainy2)\n",
    "y_pred2 = rf2.predict(testX2)\n",
    "confusion2 = confusion_matrix(testy2, y_pred2)\n",
    "print(\"Tasa de acierto en regresión logística: {:.2f}\".format(rf2.score(testX2, testy2)))\n",
    "print(\"Tasa de aciertos balanceada regresión logística: {:.2f}\".format(balanced_accuracy_score(testy2, y_pred2)))\n",
    "print(\"Medida F1 regresión logística: {:.2f}\".format(f1_score(testy2, y_pred2)))\n",
    "print(\"Matriz de confusión:\\n{}\".format(confusion2))\n",
    "print(classification_report(testy2, y_pred2))"
   ]
  },
  {
   "cell_type": "code",
   "execution_count": 19,
   "metadata": {},
   "outputs": [
    {
     "name": "stdout",
     "output_type": "stream",
     "text": [
      "Tasa de acierto en regresión logística: 0.50\n",
      "Tasa de aciertos balanceada regresión logística: 0.51\n",
      "Medida F1 regresión logística: 0.56\n",
      "Matriz de confusión:\n",
      "[[ 63 128]\n",
      " [ 53 116]]\n"
     ]
    }
   ],
   "source": [
    "# MODELO CON EL CONJUNTO DE DATOS 3\n",
    "# -------------------------------------------------------------------\n",
    "rf3 = RandomForestClassifier().fit(trainX3, trainy3)\n",
    "y_pred3 = rf3.predict(testX3)\n",
    "confusion3 = confusion_matrix(testy3, y_pred3)\n",
    "print(\"Tasa de acierto en regresión logística: {:.2f}\".format(rf3.score(testX3, testy3)))\n",
    "print(\"Tasa de aciertos balanceada regresión logística: {:.2f}\".format(balanced_accuracy_score(testy3, y_pred3)))\n",
    "print(\"Medida F1 regresión logística: {:.2f}\".format(f1_score(testy3, y_pred3)))\n",
    "print(\"Matriz de confusión:\\n{}\".format(confusion3))\n",
    "print(classification_report(testy3, y_pred3))"
   ]
  },
  {
   "cell_type": "markdown",
   "metadata": {},
   "source": [
    "### Experimento2: optimización bayesiana\n"
   ]
  },
  {
   "cell_type": "code",
   "execution_count": 42,
   "metadata": {},
   "outputs": [
    {
     "data": {
      "text/plain": [
       "{'criterion': 0,\n",
       " 'max_depth': 380.0,\n",
       " 'max_features': 2,\n",
       " 'min_samples_leaf': 0.24933579444442983,\n",
       " 'min_samples_split': 0.19032782383235314,\n",
       " 'n_estimators': 4}"
      ]
     },
     "execution_count": 42,
     "metadata": {},
     "output_type": "execute_result"
    }
   ],
   "source": [
    "# MODELO CON EL CONJUNTO DE DATOS 1\n",
    "# -------------------------------------------------------------------\n",
    "def objective1(params):\n",
    "   \n",
    "    random_forest = RandomForestClassifier(**params,n_jobs=-1).fit(trainX1, trainy1)\n",
    "    y_pred = random_forest.predict(testX1)\n",
    "    accuracy = random_forest.score(testX1, y_pred)\n",
    "    return {\"loss\": accuracy, \"status\": STATUS_OK}\n",
    "\n",
    "# Definimos los parámetros:\n",
    "param_space = {'criterion': hp.choice('criterion', ['entropy', 'gini']),\n",
    "        'max_depth': hp.quniform('max_depth', 10, 1200, 10),\n",
    "        'max_features': hp.choice('max_features', ['auto', 'sqrt','log2', None]),\n",
    "        'min_samples_leaf': hp.uniform('min_samples_leaf', 0, 0.5),\n",
    "        'min_samples_split' : hp.uniform ('min_samples_split', 0, 1),\n",
    "        'n_estimators' : hp.choice('n_estimators', [10, 50, 300, 750, 1200,1300,1500]) }\n",
    "\n",
    "tpe_algo = tpe.suggest\n",
    "trials = Trials()\n",
    "results = fmin(objective1,space=param_space,algo=tpe_algo,trials=trials,max_evals=100)\n",
    "results"
   ]
  },
  {
   "cell_type": "code",
   "execution_count": 43,
   "metadata": {},
   "outputs": [
    {
     "name": "stdout",
     "output_type": "stream",
     "text": [
      "Tasa de acierto en regresión logística: 0.52\n",
      "Tasa de aciertos balanceada regresión logística: 0.52\n",
      "Medida F1 regresión logística: 0.52\n",
      "Matriz de confusión:\n",
      "[[98 99]\n",
      " [80 98]]\n",
      "              precision    recall  f1-score   support\n",
      "\n",
      "         0.0       0.55      0.50      0.52       197\n",
      "         1.0       0.50      0.55      0.52       178\n",
      "\n",
      "    accuracy                           0.52       375\n",
      "   macro avg       0.52      0.52      0.52       375\n",
      "weighted avg       0.53      0.52      0.52       375\n",
      "\n"
     ]
    }
   ],
   "source": [
    "rfob1 = RandomForestClassifier(criterion='entropy', max_depth=380, max_features = 'log2',min_samples_leaf = 0.24933579444442983,\n",
    "                               min_samples_split = 0.19032782383235314,n_estimators = 4).fit(trainX1,trainy1)\n",
    "y_pred1 = rfob1.predict(testX1)\n",
    "confusion1 = confusion_matrix(testy1, y_pred1)\n",
    "print(\"Tasa de acierto en regresión logística: {:.2f}\".format(rfob1.score(testX1, testy1)))\n",
    "print(\"Tasa de aciertos balanceada regresión logística: {:.2f}\".format(balanced_accuracy_score(testy1, y_pred1)))\n",
    "print(\"Medida F1 regresión logística: {:.2f}\".format(f1_score(testy1, y_pred1)))\n",
    "print(\"Matriz de confusión:\\n{}\".format(confusion1))\n",
    "print(classification_report(testy1, y_pred1))"
   ]
  },
  {
   "cell_type": "code",
   "execution_count": 46,
   "metadata": {
    "scrolled": true
   },
   "outputs": [
    {
     "data": {
      "text/plain": [
       "{'criterion': 0,\n",
       " 'max_depth': 860.0,\n",
       " 'max_features': 3,\n",
       " 'min_samples_leaf': 0.047288992791091444,\n",
       " 'min_samples_split': 0.9810209827373184,\n",
       " 'n_estimators': 2}"
      ]
     },
     "execution_count": 46,
     "metadata": {},
     "output_type": "execute_result"
    }
   ],
   "source": [
    "# MODELO CON EL CONJUNTO DE DATOS 2\n",
    "# -------------------------------------------------------------------\n",
    "def objective1(params):\n",
    "   \n",
    "    random_forest = RandomForestClassifier(**params,n_jobs=-1).fit(trainX2, trainy2)\n",
    "    y_pred = random_forest.predict(testX2)\n",
    "    accuracy = random_forest.score(testX2, y_pred)\n",
    "    return {\"loss\": accuracy, \"status\": STATUS_OK}\n",
    "\n",
    "# Definimos los parámetros:\n",
    "param_space = {'criterion': hp.choice('criterion', ['entropy', 'gini']),\n",
    "        'max_depth': hp.quniform('max_depth', 10, 1200, 10),\n",
    "        'max_features': hp.choice('max_features', ['auto', 'sqrt','log2', None]),\n",
    "        'min_samples_leaf': hp.uniform('min_samples_leaf', 0, 0.5),\n",
    "        'min_samples_split' : hp.uniform ('min_samples_split', 0, 1),\n",
    "        'n_estimators' : hp.choice('n_estimators', [10, 50, 300, 750, 1200,1300,1500]) }\n",
    "\n",
    "tpe_algo = tpe.suggest\n",
    "trials = Trials()\n",
    "results = fmin(objective1,space=param_space,algo=tpe_algo,trials=trials,max_evals=100)\n",
    "results"
   ]
  },
  {
   "cell_type": "code",
   "execution_count": 48,
   "metadata": {},
   "outputs": [
    {
     "name": "stdout",
     "output_type": "stream",
     "text": [
      "Tasa de acierto en regresión logística: 0.47\n",
      "Tasa de aciertos balanceada regresión logística: 0.49\n",
      "Medida F1 regresión logística: 0.52\n",
      "Matriz de confusión:\n",
      "[[ 78 115]\n",
      " [ 71 100]]\n",
      "              precision    recall  f1-score   support\n",
      "\n",
      "         0.0       0.52      0.40      0.46       193\n",
      "         1.0       0.47      0.58      0.52       171\n",
      "\n",
      "    accuracy                           0.49       364\n",
      "   macro avg       0.49      0.49      0.49       364\n",
      "weighted avg       0.50      0.49      0.49       364\n",
      "\n"
     ]
    }
   ],
   "source": [
    "rfob2 = RandomForestClassifier(criterion='entropy', max_depth=860, max_features = None,min_samples_leaf = 0.047288992791091444,\n",
    "                               min_samples_split = 0.9810209827373184,n_estimators = 2).fit(trainX2,trainy2)\n",
    "y_pred2 = rfob2.predict(testX2)\n",
    "confusion2 = confusion_matrix(testy2, y_pred2)\n",
    "print(\"Tasa de acierto en regresión logística: {:.2f}\".format(rfob2.score(testX2, testy2)))\n",
    "print(\"Tasa de aciertos balanceada regresión logística: {:.2f}\".format(balanced_accuracy_score(testy2, y_pred2)))\n",
    "print(\"Medida F1 regresión logística: {:.2f}\".format(f1_score(testy2, y_pred2)))\n",
    "print(\"Matriz de confusión:\\n{}\".format(confusion2))\n",
    "print(classification_report(testy2, y_pred2))"
   ]
  },
  {
   "cell_type": "code",
   "execution_count": 47,
   "metadata": {},
   "outputs": [
    {
     "data": {
      "text/plain": [
       "{'criterion': 0,\n",
       " 'max_depth': 1010.0,\n",
       " 'max_features': 0,\n",
       " 'min_samples_leaf': 0.4763951559853622,\n",
       " 'min_samples_split': 0.4857261372877354,\n",
       " 'n_estimators': 4}"
      ]
     },
     "execution_count": 47,
     "metadata": {},
     "output_type": "execute_result"
    }
   ],
   "source": [
    "# MODELO CON EL CONJUNTO DE DATOS 3\n",
    "# -------------------------------------------------------------------\n",
    "def objective1(params):\n",
    "   \n",
    "    random_forest = RandomForestClassifier(**params,n_jobs=-1).fit(trainX3, trainy3)\n",
    "    y_pred = random_forest.predict(testX3)\n",
    "    accuracy = random_forest.score(testX3, y_pred)\n",
    "    return {\"loss\": accuracy, \"status\": STATUS_OK}\n",
    "\n",
    "# Definimos los parámetros:\n",
    "param_space = {'criterion': hp.choice('criterion', ['entropy', 'gini']),\n",
    "        'max_depth': hp.quniform('max_depth', 10, 1200, 10),\n",
    "        'max_features': hp.choice('max_features', ['auto', 'sqrt','log2', None]),\n",
    "        'min_samples_leaf': hp.uniform('min_samples_leaf', 0, 0.5),\n",
    "        'min_samples_split' : hp.uniform ('min_samples_split', 0, 1),\n",
    "        'n_estimators' : hp.choice('n_estimators', [10, 50, 300, 750, 1200,1300,1500]) }\n",
    "\n",
    "tpe_algo = tpe.suggest\n",
    "trials = Trials()\n",
    "results = fmin(objective1,space=param_space,algo=tpe_algo,trials=trials,max_evals=100)\n",
    "results"
   ]
  },
  {
   "cell_type": "code",
   "execution_count": 49,
   "metadata": {},
   "outputs": [
    {
     "name": "stdout",
     "output_type": "stream",
     "text": [
      "Tasa de acierto en regresión logística: 0.47\n",
      "Tasa de aciertos balanceada regresión logística: 0.51\n",
      "Medida F1 regresión logística: 0.56\n",
      "Matriz de confusión:\n",
      "[[ 63 128]\n",
      " [ 53 116]]\n",
      "              precision    recall  f1-score   support\n",
      "\n",
      "         0.0       0.54      0.33      0.41       191\n",
      "         1.0       0.48      0.69      0.56       169\n",
      "\n",
      "    accuracy                           0.50       360\n",
      "   macro avg       0.51      0.51      0.49       360\n",
      "weighted avg       0.51      0.50      0.48       360\n",
      "\n"
     ]
    }
   ],
   "source": [
    "rfob3 = RandomForestClassifier(criterion='entropy', max_depth=1010, max_features = 'auto',min_samples_leaf = 0.4763951559853622,\n",
    "                               min_samples_split = 0.4857261372877354,n_estimators = 4).fit(trainX3,trainy3)\n",
    "y_pred3 = rfob3.predict(testX3)\n",
    "confusion3 = confusion_matrix(testy3, y_pred3)\n",
    "print(\"Tasa de acierto en regresión logística: {:.2f}\".format(rfob3.score(testX3, testy3)))\n",
    "print(\"Tasa de aciertos balanceada regresión logística: {:.2f}\".format(balanced_accuracy_score(testy3, y_pred3)))\n",
    "print(\"Medida F1 regresión logística: {:.2f}\".format(f1_score(testy3, y_pred3)))\n",
    "print(\"Matriz de confusión:\\n{}\".format(confusion3))\n",
    "print(classification_report(testy3, y_pred3))"
   ]
  },
  {
   "cell_type": "markdown",
   "metadata": {},
   "source": [
    " "
   ]
  },
  {
   "cell_type": "markdown",
   "metadata": {},
   "source": [
    " "
   ]
  },
  {
   "cell_type": "markdown",
   "metadata": {},
   "source": [
    "# HORARIO"
   ]
  },
  {
   "cell_type": "code",
   "execution_count": 22,
   "metadata": {},
   "outputs": [],
   "source": [
    "run Datos-1horaBINARIO.ipynb"
   ]
  },
  {
   "cell_type": "markdown",
   "metadata": {},
   "source": [
    "### EXPERIMENTO 1: MODELO BASE"
   ]
  },
  {
   "cell_type": "code",
   "execution_count": 5,
   "metadata": {
    "scrolled": true
   },
   "outputs": [
    {
     "name": "stdout",
     "output_type": "stream",
     "text": [
      "Tasa de acierto en rf: 0.51\n",
      "Tasa de aciertos balanceada regresión logística: 0.51\n",
      "Medida F1 regresión logística: 0.55\n",
      "Matriz de confusión:\n",
      "[[1937 2602]\n",
      " [1793 2670]]\n",
      "              precision    recall  f1-score   support\n",
      "\n",
      "         0.0       0.52      0.43      0.47      4539\n",
      "         1.0       0.51      0.60      0.55      4463\n",
      "\n",
      "    accuracy                           0.51      9002\n",
      "   macro avg       0.51      0.51      0.51      9002\n",
      "weighted avg       0.51      0.51      0.51      9002\n",
      "\n"
     ]
    }
   ],
   "source": [
    "# MODELO CON EL CONJUNTO DE DATOS 1\n",
    "# -------------------------------------------------------------------\n",
    "rf1 = RandomForestClassifier().fit(trainX1, trainy1)\n",
    "y_pred1 = rf1.predict(testX1)\n",
    "confusion1 = confusion_matrix(testy1, y_pred1)\n",
    "print(\"Tasa de acierto en rf: {:.2f}\".format(rf1.score(testX1, testy1)))\n",
    "print(\"Tasa de aciertos balanceada regresión logística: {:.2f}\".format(balanced_accuracy_score(testy1, y_pred1)))\n",
    "print(\"Medida F1 regresión logística: {:.2f}\".format(f1_score(testy1, y_pred1)))\n",
    "print(\"Matriz de confusión:\\n{}\".format(confusion1))\n",
    "print(classification_report(testy1, y_pred1))"
   ]
  },
  {
   "cell_type": "code",
   "execution_count": 6,
   "metadata": {},
   "outputs": [
    {
     "name": "stdout",
     "output_type": "stream",
     "text": [
      "Tasa de acierto en regresión logística: 0.52\n",
      "Tasa de aciertos balanceada regresión logística: 0.52\n",
      "Medida F1 regresión logística: 0.56\n",
      "Matriz de confusión:\n",
      "[[1897 2637]\n",
      " [1692 2765]]\n",
      "              precision    recall  f1-score   support\n",
      "\n",
      "         0.0       0.53      0.42      0.47      4534\n",
      "         1.0       0.51      0.62      0.56      4457\n",
      "\n",
      "    accuracy                           0.52      8991\n",
      "   macro avg       0.52      0.52      0.51      8991\n",
      "weighted avg       0.52      0.52      0.51      8991\n",
      "\n"
     ]
    }
   ],
   "source": [
    "# MODELO CON EL CONJUNTO DE DATOS 2\n",
    "# -------------------------------------------------------------------\n",
    "rf2 = RandomForestClassifier().fit(trainX2, trainy2)\n",
    "y_pred2 = rf2.predict(testX2)\n",
    "confusion2 = confusion_matrix(testy2, y_pred2)\n",
    "print(\"Tasa de acierto en regresión logística: {:.2f}\".format(rf2.score(testX2, testy2)))\n",
    "print(\"Tasa de aciertos balanceada regresión logística: {:.2f}\".format(balanced_accuracy_score(testy2, y_pred2)))\n",
    "print(\"Medida F1 regresión logística: {:.2f}\".format(f1_score(testy2, y_pred2)))\n",
    "print(\"Matriz de confusión:\\n{}\".format(confusion2))\n",
    "print(classification_report(testy2, y_pred2))"
   ]
  },
  {
   "cell_type": "code",
   "execution_count": 7,
   "metadata": {},
   "outputs": [
    {
     "name": "stdout",
     "output_type": "stream",
     "text": [
      "Tasa de acierto en regresión logística: 0.52\n",
      "Tasa de aciertos balanceada regresión logística: 0.52\n",
      "Medida F1 regresión logística: 0.55\n",
      "Matriz de confusión:\n",
      "[[2036 2496]\n",
      " [1789 2666]]\n",
      "              precision    recall  f1-score   support\n",
      "\n",
      "         0.0       0.53      0.45      0.49      4532\n",
      "         1.0       0.52      0.60      0.55      4455\n",
      "\n",
      "    accuracy                           0.52      8987\n",
      "   macro avg       0.52      0.52      0.52      8987\n",
      "weighted avg       0.52      0.52      0.52      8987\n",
      "\n"
     ]
    }
   ],
   "source": [
    "# MODELO CON EL CONJUNTO DE DATOS 3\n",
    "# -------------------------------------------------------------------\n",
    "rf3 = RandomForestClassifier().fit(trainX3, trainy3)\n",
    "y_pred3 = rf3.predict(testX3)\n",
    "confusion3 = confusion_matrix(testy3, y_pred3)\n",
    "print(\"Tasa de acierto en regresión logística: {:.2f}\".format(rf3.score(testX3, testy3)))\n",
    "print(\"Tasa de aciertos balanceada regresión logística: {:.2f}\".format(balanced_accuracy_score(testy3, y_pred3)))\n",
    "print(\"Medida F1 regresión logística: {:.2f}\".format(f1_score(testy3, y_pred3)))\n",
    "print(\"Matriz de confusión:\\n{}\".format(confusion3))\n",
    "print(classification_report(testy3, y_pred3))"
   ]
  },
  {
   "cell_type": "markdown",
   "metadata": {},
   "source": [
    "### Experimento2: optimización bayesiana\n"
   ]
  },
  {
   "cell_type": "code",
   "execution_count": 20,
   "metadata": {},
   "outputs": [
    {
     "data": {
      "text/plain": [
       "{'criterion': 0,\n",
       " 'max_depth': 1090.0,\n",
       " 'max_features': 0,\n",
       " 'min_samples_leaf': 0.010325967229942501,\n",
       " 'min_samples_split': 0.9760155143967946,\n",
       " 'n_estimators': 2}"
      ]
     },
     "execution_count": 20,
     "metadata": {},
     "output_type": "execute_result"
    }
   ],
   "source": [
    "# MODELO CON EL CONJUNTO DE DATOS 1\n",
    "# -------------------------------------------------------------------\n",
    "def objective1(params):\n",
    "   \n",
    "    random_forest = RandomForestClassifier(**params,n_jobs=-1).fit(trainX1, trainy1)\n",
    "    y_pred = random_forest.predict(testX1)\n",
    "    accuracy = random_forest.score(testX1, y_pred)\n",
    "    return {\"loss\": accuracy, \"status\": STATUS_OK}\n",
    "\n",
    "# Definimos los parámetros:\n",
    "param_space = {'criterion': hp.choice('criterion', ['entropy', 'gini']),\n",
    "        'max_depth': hp.quniform('max_depth', 10, 1200, 10),\n",
    "        'max_features': hp.choice('max_features', ['auto', 'sqrt','log2', None]),\n",
    "        'min_samples_leaf': hp.uniform('min_samples_leaf', 0, 0.5),\n",
    "        'min_samples_split' : hp.uniform ('min_samples_split', 0, 1),\n",
    "        'n_estimators' : hp.choice('n_estimators', [10, 50, 300, 750, 1200,1300,1500]) }\n",
    "\n",
    "tpe_algo = tpe.suggest\n",
    "trials = Trials()\n",
    "results = fmin(objective1,space=param_space,algo=tpe_algo,trials=trials,max_evals=100)\n",
    "results"
   ]
  },
  {
   "cell_type": "code",
   "execution_count": 24,
   "metadata": {},
   "outputs": [
    {
     "name": "stdout",
     "output_type": "stream",
     "text": [
      "Tasa de acierto en regresión logística: 0.50\n",
      "Tasa de aciertos balanceada regresión logística: 0.50\n",
      "Medida F1 regresión logística: 0.66\n",
      "Matriz de confusión:\n",
      "[[   0 4547]\n",
      " [   0 4468]]\n",
      "              precision    recall  f1-score   support\n",
      "\n",
      "         0.0       0.00      0.00      0.00      4547\n",
      "         1.0       0.50      1.00      0.66      4468\n",
      "\n",
      "    accuracy                           0.50      9015\n",
      "   macro avg       0.25      0.50      0.33      9015\n",
      "weighted avg       0.25      0.50      0.33      9015\n",
      "\n"
     ]
    },
    {
     "name": "stderr",
     "output_type": "stream",
     "text": [
      "C:\\Users\\SARA\\anaconda3\\lib\\site-packages\\sklearn\\metrics\\_classification.py:1245: UndefinedMetricWarning: Precision and F-score are ill-defined and being set to 0.0 in labels with no predicted samples. Use `zero_division` parameter to control this behavior.\n",
      "  _warn_prf(average, modifier, msg_start, len(result))\n",
      "C:\\Users\\SARA\\anaconda3\\lib\\site-packages\\sklearn\\metrics\\_classification.py:1245: UndefinedMetricWarning: Precision and F-score are ill-defined and being set to 0.0 in labels with no predicted samples. Use `zero_division` parameter to control this behavior.\n",
      "  _warn_prf(average, modifier, msg_start, len(result))\n",
      "C:\\Users\\SARA\\anaconda3\\lib\\site-packages\\sklearn\\metrics\\_classification.py:1245: UndefinedMetricWarning: Precision and F-score are ill-defined and being set to 0.0 in labels with no predicted samples. Use `zero_division` parameter to control this behavior.\n",
      "  _warn_prf(average, modifier, msg_start, len(result))\n"
     ]
    }
   ],
   "source": [
    "rfob1 = RandomForestClassifier(criterion='entropy', max_depth=1090.0, max_features = 'auto',min_samples_leaf =0.010325967229942501,\n",
    "                               min_samples_split =0.9760155143967946,n_estimators = 50).fit(trainX1,trainy1)\n",
    "y_pred1 = rfob1.predict(testX1)\n",
    "confusion1 = confusion_matrix(testy1, y_pred1)\n",
    "print(\"Tasa de acierto en regresión logística: {:.2f}\".format(rfob1.score(testX1, testy1)))\n",
    "print(\"Tasa de aciertos balanceada regresión logística: {:.2f}\".format(balanced_accuracy_score(testy1, y_pred1)))\n",
    "print(\"Medida F1 regresión logística: {:.2f}\".format(f1_score(testy1, y_pred1)))\n",
    "print(\"Matriz de confusión:\\n{}\".format(confusion1))\n",
    "print(classification_report(testy1, y_pred1))"
   ]
  },
  {
   "cell_type": "code",
   "execution_count": 9,
   "metadata": {
    "scrolled": true
   },
   "outputs": [
    {
     "data": {
      "text/plain": [
       "{'criterion': 0,\n",
       " 'max_depth': 970.0,\n",
       " 'max_features': 2,\n",
       " 'min_samples_leaf': 0.3764673719796875,\n",
       " 'min_samples_split': 0.3554188600796512,\n",
       " 'n_estimators': 0}"
      ]
     },
     "execution_count": 9,
     "metadata": {},
     "output_type": "execute_result"
    }
   ],
   "source": [
    "# MODELO CON EL CONJUNTO DE DATOS 2\n",
    "# -------------------------------------------------------------------\n",
    "def objective1(params):\n",
    "   \n",
    "    random_forest = RandomForestClassifier(**params,n_jobs=-1).fit(trainX2, trainy2)\n",
    "    y_pred = random_forest.predict(testX2)\n",
    "    accuracy = random_forest.score(testX2, y_pred)\n",
    "    return {\"loss\": accuracy, \"status\": STATUS_OK}\n",
    "\n",
    "# Definimos los parámetros:\n",
    "param_space = {'criterion': hp.choice('criterion', ['entropy', 'gini']),\n",
    "        'max_depth': hp.quniform('max_depth', 10, 1200, 10),\n",
    "        'max_features': hp.choice('max_features', ['auto', 'sqrt','log2', None]),\n",
    "        'min_samples_leaf': hp.uniform('min_samples_leaf', 0, 0.5),\n",
    "        'min_samples_split' : hp.uniform ('min_samples_split', 0, 1),\n",
    "        'n_estimators' : hp.choice('n_estimators', [10, 50, 300, 750, 1200,1300,1500]) }\n",
    "\n",
    "tpe_algo = tpe.suggest\n",
    "trials = Trials()\n",
    "results = fmin(objective1,space=param_space,algo=tpe_algo,trials=trials,max_evals=100)\n",
    "results"
   ]
  },
  {
   "cell_type": "code",
   "execution_count": 29,
   "metadata": {},
   "outputs": [
    {
     "name": "stdout",
     "output_type": "stream",
     "text": [
      "Tasa de acierto en regresión logística: 0.50\n",
      "Tasa de aciertos balanceada regresión logística: 0.51\n",
      "Medida F1 regresión logística: 0.55\n",
      "Matriz de confusión:\n",
      "[[1847 2695]\n",
      " [1744 2718]]\n",
      "              precision    recall  f1-score   support\n",
      "\n",
      "         0.0       0.51      0.41      0.45      4542\n",
      "         1.0       0.50      0.61      0.55      4462\n",
      "\n",
      "    accuracy                           0.51      9004\n",
      "   macro avg       0.51      0.51      0.50      9004\n",
      "weighted avg       0.51      0.51      0.50      9004\n",
      "\n"
     ]
    }
   ],
   "source": [
    "rfob2 = RandomForestClassifier(criterion='entropy', max_depth=970, max_features = 'log2',min_samples_leaf = 0.3764673719796875,\n",
    "                               min_samples_split =0.3554188600796512,n_estimators = 10).fit(trainX2,trainy2)\n",
    "y_pred2 = rf2.predict(testX2)\n",
    "confusion2 = confusion_matrix(testy2, y_pred2)\n",
    "print(\"Tasa de acierto en regresión logística: {:.2f}\".format(rfob2.score(testX2, testy2)))\n",
    "print(\"Tasa de aciertos balanceada regresión logística: {:.2f}\".format(balanced_accuracy_score(testy2, y_pred2)))\n",
    "print(\"Medida F1 regresión logística: {:.2f}\".format(f1_score(testy2, y_pred2)))\n",
    "print(\"Matriz de confusión:\\n{}\".format(confusion2))\n",
    "print(classification_report(testy2, y_pred2))"
   ]
  },
  {
   "cell_type": "code",
   "execution_count": 5,
   "metadata": {},
   "outputs": [
    {
     "data": {
      "text/plain": [
       "{'criterion': 0,\n",
       " 'max_depth': 720.0,\n",
       " 'max_features': 2,\n",
       " 'min_samples_leaf': 0.3738696840487653,\n",
       " 'min_samples_split': 0.982286389642832,\n",
       " 'n_estimators': 5}"
      ]
     },
     "execution_count": 5,
     "metadata": {},
     "output_type": "execute_result"
    }
   ],
   "source": [
    "# MODELO CON EL CONJUNTO DE DATOS 3\n",
    "# -------------------------------------------------------------------\n",
    "def objective1(params):\n",
    "   \n",
    "    random_forest = RandomForestClassifier(**params,n_jobs=-1).fit(trainX3, trainy3)\n",
    "    y_pred = random_forest.predict(testX3)\n",
    "    accuracy = random_forest.score(testX3, y_pred)\n",
    "    return {\"loss\": accuracy, \"status\": STATUS_OK}\n",
    "\n",
    "# Definimos los parámetros:\n",
    "param_space = {'criterion': hp.choice('criterion', ['entropy', 'gini']),\n",
    "        'max_depth': hp.quniform('max_depth', 10, 1200, 10),\n",
    "        'max_features': hp.choice('max_features', ['auto', 'sqrt','log2', None]),\n",
    "        'min_samples_leaf': hp.uniform('min_samples_leaf', 0, 0.5),\n",
    "        'min_samples_split' : hp.uniform ('min_samples_split', 0, 1),\n",
    "        'n_estimators' : hp.choice('n_estimators', [10, 50, 300, 750, 1200,1300,1500]) }\n",
    "\n",
    "tpe_algo = tpe.suggest\n",
    "trials = Trials()\n",
    "results = fmin(objective1,space=param_space,algo=tpe_algo,trials=trials,max_evals=100)\n",
    "results"
   ]
  },
  {
   "cell_type": "code",
   "execution_count": 30,
   "metadata": {},
   "outputs": [
    {
     "name": "stdout",
     "output_type": "stream",
     "text": [
      "Tasa de acierto en regresión logística: 0.50\n",
      "Tasa de aciertos balanceada regresión logística: 0.52\n",
      "Medida F1 regresión logística: 0.56\n",
      "Matriz de confusión:\n",
      "[[1839 2701]\n",
      " [1642 2818]]\n",
      "              precision    recall  f1-score   support\n",
      "\n",
      "         0.0       0.53      0.41      0.46      4540\n",
      "         1.0       0.51      0.63      0.56      4460\n",
      "\n",
      "    accuracy                           0.52      9000\n",
      "   macro avg       0.52      0.52      0.51      9000\n",
      "weighted avg       0.52      0.52      0.51      9000\n",
      "\n"
     ]
    }
   ],
   "source": [
    "rfob3 = RandomForestClassifier(criterion='entropy', max_depth=720, max_features = 'log2',min_samples_leaf = 0.3738696840487653,\n",
    "                               min_samples_split = 0.982286389642832,n_estimators = 1300).fit(trainX3,trainy3)\n",
    "y_pred3 = rf3.predict(testX3)\n",
    "confusion3 = confusion_matrix(testy3, y_pred3)\n",
    "print(\"Tasa de acierto en regresión logística: {:.2f}\".format(rfob3.score(testX3, testy3)))\n",
    "print(\"Tasa de aciertos balanceada regresión logística: {:.2f}\".format(balanced_accuracy_score(testy3, y_pred3)))\n",
    "print(\"Medida F1 regresión logística: {:.2f}\".format(f1_score(testy3, y_pred3)))\n",
    "print(\"Matriz de confusión:\\n{}\".format(confusion3))\n",
    "print(classification_report(testy3, y_pred3))"
   ]
  },
  {
   "cell_type": "markdown",
   "metadata": {},
   "source": [
    " "
   ]
  },
  {
   "cell_type": "markdown",
   "metadata": {},
   "source": [
    "# 5 dias"
   ]
  },
  {
   "cell_type": "code",
   "execution_count": 31,
   "metadata": {},
   "outputs": [],
   "source": [
    "run Datos-5diasBINARIO.ipynb"
   ]
  },
  {
   "cell_type": "markdown",
   "metadata": {},
   "source": [
    "### EXPERIMENTO 1: MODELO BASE"
   ]
  },
  {
   "cell_type": "code",
   "execution_count": 7,
   "metadata": {
    "scrolled": true
   },
   "outputs": [
    {
     "name": "stdout",
     "output_type": "stream",
     "text": [
      "Tasa de acierto en rf: 0.52\n",
      "Tasa de aciertos balanceada regresión logística: 0.52\n",
      "Medida F1 regresión logística: 0.54\n",
      "Matriz de confusión:\n",
      "[[ 88 110]\n",
      " [ 70 107]]\n",
      "              precision    recall  f1-score   support\n",
      "\n",
      "         0.0       0.56      0.44      0.49       198\n",
      "         1.0       0.49      0.60      0.54       177\n",
      "\n",
      "    accuracy                           0.52       375\n",
      "   macro avg       0.53      0.52      0.52       375\n",
      "weighted avg       0.53      0.52      0.52       375\n",
      "\n"
     ]
    }
   ],
   "source": [
    "# MODELO CON EL CONJUNTO DE DATOS 1\n",
    "# -------------------------------------------------------------------\n",
    "rf1 = RandomForestClassifier().fit(trainX1, trainy1)\n",
    "y_pred1 = rf1.predict(testX1)\n",
    "confusion1 = confusion_matrix(testy1, y_pred1)\n",
    "print(\"Tasa de acierto en rf: {:.2f}\".format(rf1.score(testX1, testy1)))\n",
    "print(\"Tasa de aciertos balanceada regresión logística: {:.2f}\".format(balanced_accuracy_score(testy1, y_pred1)))\n",
    "print(\"Medida F1 regresión logística: {:.2f}\".format(f1_score(testy1, y_pred1)))\n",
    "print(\"Matriz de confusión:\\n{}\".format(confusion1))\n",
    "print(classification_report(testy1, y_pred1))"
   ]
  },
  {
   "cell_type": "code",
   "execution_count": 8,
   "metadata": {},
   "outputs": [
    {
     "name": "stdout",
     "output_type": "stream",
     "text": [
      "Tasa de acierto en regresión logística: 0.49\n",
      "Tasa de aciertos balanceada regresión logística: 0.50\n",
      "Medida F1 regresión logística: 0.55\n",
      "Matriz de confusión:\n",
      "[[ 68 124]\n",
      " [ 60 111]]\n",
      "              precision    recall  f1-score   support\n",
      "\n",
      "         0.0       0.53      0.35      0.42       192\n",
      "         1.0       0.47      0.65      0.55       171\n",
      "\n",
      "    accuracy                           0.49       363\n",
      "   macro avg       0.50      0.50      0.49       363\n",
      "weighted avg       0.50      0.49      0.48       363\n",
      "\n"
     ]
    }
   ],
   "source": [
    "# MODELO CON EL CONJUNTO DE DATOS 2\n",
    "# -------------------------------------------------------------------\n",
    "rf2 = RandomForestClassifier().fit(trainX2, trainy2)\n",
    "y_pred2 = rf2.predict(testX2)\n",
    "confusion2 = confusion_matrix(testy2, y_pred2)\n",
    "print(\"Tasa de acierto en regresión logística: {:.2f}\".format(rf2.score(testX2, testy2)))\n",
    "print(\"Tasa de aciertos balanceada regresión logística: {:.2f}\".format(balanced_accuracy_score(testy2, y_pred2)))\n",
    "print(\"Medida F1 regresión logística: {:.2f}\".format(f1_score(testy2, y_pred2)))\n",
    "print(\"Matriz de confusión:\\n{}\".format(confusion2))\n",
    "print(classification_report(testy2, y_pred2))"
   ]
  },
  {
   "cell_type": "code",
   "execution_count": 9,
   "metadata": {},
   "outputs": [
    {
     "name": "stdout",
     "output_type": "stream",
     "text": [
      "Tasa de acierto en regresión logística: 0.46\n",
      "Tasa de aciertos balanceada regresión logística: 0.47\n",
      "Medida F1 regresión logística: 0.55\n",
      "Matriz de confusión:\n",
      "[[ 50 140]\n",
      " [ 53 116]]\n",
      "              precision    recall  f1-score   support\n",
      "\n",
      "         0.0       0.49      0.26      0.34       190\n",
      "         1.0       0.45      0.69      0.55       169\n",
      "\n",
      "    accuracy                           0.46       359\n",
      "   macro avg       0.47      0.47      0.44       359\n",
      "weighted avg       0.47      0.46      0.44       359\n",
      "\n"
     ]
    }
   ],
   "source": [
    "# MODELO CON EL CONJUNTO DE DATOS 3\n",
    "# -------------------------------------------------------------------\n",
    "rf3 = RandomForestClassifier().fit(trainX3, trainy3)\n",
    "y_pred3 = rf3.predict(testX3)\n",
    "confusion3 = confusion_matrix(testy3, y_pred3)\n",
    "print(\"Tasa de acierto en regresión logística: {:.2f}\".format(rf3.score(testX3, testy3)))\n",
    "print(\"Tasa de aciertos balanceada regresión logística: {:.2f}\".format(balanced_accuracy_score(testy3, y_pred3)))\n",
    "print(\"Medida F1 regresión logística: {:.2f}\".format(f1_score(testy3, y_pred3)))\n",
    "print(\"Matriz de confusión:\\n{}\".format(confusion3))\n",
    "print(classification_report(testy3, y_pred3))"
   ]
  },
  {
   "cell_type": "markdown",
   "metadata": {},
   "source": [
    "### Experimento2: optimización bayesiana\n"
   ]
  },
  {
   "cell_type": "code",
   "execution_count": 14,
   "metadata": {},
   "outputs": [
    {
     "data": {
      "text/plain": [
       "{'criterion': 1,\n",
       " 'max_depth': 590.0,\n",
       " 'max_features': 0,\n",
       " 'min_samples_leaf': 0.42280316479693086,\n",
       " 'min_samples_split': 0.1390647593060027,\n",
       " 'n_estimators': 2}"
      ]
     },
     "execution_count": 14,
     "metadata": {},
     "output_type": "execute_result"
    }
   ],
   "source": [
    "# MODELO CON EL CONJUNTO DE DATOS 1\n",
    "# -------------------------------------------------------------------\n",
    "def objective1(params):\n",
    "   \n",
    "    random_forest = RandomForestClassifier(**params,n_jobs=-1).fit(trainX1, trainy1)\n",
    "    y_pred = random_forest.predict(testX1)\n",
    "    accuracy = random_forest.score(testX1, y_pred)\n",
    "    return {\"loss\": accuracy, \"status\": STATUS_OK}\n",
    "\n",
    "# Definimos los parámetros:\n",
    "param_space = {'criterion': hp.choice('criterion', ['entropy', 'gini']),\n",
    "        'max_depth': hp.quniform('max_depth', 10, 1200, 10),\n",
    "        'max_features': hp.choice('max_features', ['auto', 'sqrt','log2', None]),\n",
    "        'min_samples_leaf': hp.uniform('min_samples_leaf', 0, 0.5),\n",
    "        'min_samples_split' : hp.uniform ('min_samples_split', 0, 1),\n",
    "        'n_estimators' : hp.choice('n_estimators', [10, 50, 300, 750, 1200,1300,1500]) }\n",
    "\n",
    "tpe_algo = tpe.suggest\n",
    "trials = Trials()\n",
    "results = fmin(objective1,space=param_space,algo=tpe_algo,trials=trials,max_evals=100)\n",
    "results"
   ]
  },
  {
   "cell_type": "code",
   "execution_count": 32,
   "metadata": {},
   "outputs": [
    {
     "name": "stdout",
     "output_type": "stream",
     "text": [
      "Tasa de acierto en regresión logística: 0.47\n",
      "Tasa de aciertos balanceada regresión logística: 0.50\n",
      "Medida F1 regresión logística: 0.64\n",
      "Matriz de confusión:\n",
      "[[  0 199]\n",
      " [  0 177]]\n",
      "              precision    recall  f1-score   support\n",
      "\n",
      "         0.0       0.00      0.00      0.00       199\n",
      "         1.0       0.47      1.00      0.64       177\n",
      "\n",
      "    accuracy                           0.47       376\n",
      "   macro avg       0.24      0.50      0.32       376\n",
      "weighted avg       0.22      0.47      0.30       376\n",
      "\n"
     ]
    },
    {
     "name": "stderr",
     "output_type": "stream",
     "text": [
      "C:\\Users\\SARA\\anaconda3\\lib\\site-packages\\sklearn\\metrics\\_classification.py:1245: UndefinedMetricWarning: Precision and F-score are ill-defined and being set to 0.0 in labels with no predicted samples. Use `zero_division` parameter to control this behavior.\n",
      "  _warn_prf(average, modifier, msg_start, len(result))\n",
      "C:\\Users\\SARA\\anaconda3\\lib\\site-packages\\sklearn\\metrics\\_classification.py:1245: UndefinedMetricWarning: Precision and F-score are ill-defined and being set to 0.0 in labels with no predicted samples. Use `zero_division` parameter to control this behavior.\n",
      "  _warn_prf(average, modifier, msg_start, len(result))\n",
      "C:\\Users\\SARA\\anaconda3\\lib\\site-packages\\sklearn\\metrics\\_classification.py:1245: UndefinedMetricWarning: Precision and F-score are ill-defined and being set to 0.0 in labels with no predicted samples. Use `zero_division` parameter to control this behavior.\n",
      "  _warn_prf(average, modifier, msg_start, len(result))\n"
     ]
    }
   ],
   "source": [
    "rfob1 = RandomForestClassifier(criterion='gini', max_depth=590, max_features = 'auto',min_samples_leaf = 0.42280316479693086,\n",
    "                               min_samples_split = 0.1390647593060027,n_estimators = 300).fit(trainX1,trainy1)\n",
    "y_pred1 = rfob1.predict(testX1)\n",
    "confusion1 = confusion_matrix(testy1, y_pred1)\n",
    "print(\"Tasa de acierto en regresión logística: {:.2f}\".format(rfob1.score(testX1, testy1)))\n",
    "print(\"Tasa de aciertos balanceada regresión logística: {:.2f}\".format(balanced_accuracy_score(testy1, y_pred1)))\n",
    "print(\"Medida F1 regresión logística: {:.2f}\".format(f1_score(testy1, y_pred1)))\n",
    "print(\"Matriz de confusión:\\n{}\".format(confusion1))\n",
    "print(classification_report(testy1, y_pred1))"
   ]
  },
  {
   "cell_type": "code",
   "execution_count": 11,
   "metadata": {
    "scrolled": true
   },
   "outputs": [
    {
     "data": {
      "text/plain": [
       "{'criterion': 1,\n",
       " 'max_depth': 850.0,\n",
       " 'max_features': 0,\n",
       " 'min_samples_leaf': 0.41232149702163806,\n",
       " 'min_samples_split': 0.6950959623047934,\n",
       " 'n_estimators': 5}"
      ]
     },
     "execution_count": 11,
     "metadata": {},
     "output_type": "execute_result"
    }
   ],
   "source": [
    "# MODELO CON EL CONJUNTO DE DATOS 2\n",
    "# -------------------------------------------------------------------\n",
    "def objective1(params):\n",
    "   \n",
    "    random_forest = RandomForestClassifier(**params,n_jobs=-1).fit(trainX2, trainy2)\n",
    "    y_pred = random_forest.predict(testX2)\n",
    "    accuracy = random_forest.score(testX2, y_pred)\n",
    "    return {\"loss\": accuracy, \"status\": STATUS_OK}\n",
    "\n",
    "# Definimos los parámetros:\n",
    "param_space = {'criterion': hp.choice('criterion', ['entropy', 'gini']),\n",
    "        'max_depth': hp.quniform('max_depth', 10, 1200, 10),\n",
    "        'max_features': hp.choice('max_features', ['auto', 'sqrt','log2', None]),\n",
    "        'min_samples_leaf': hp.uniform('min_samples_leaf', 0, 0.5),\n",
    "        'min_samples_split' : hp.uniform ('min_samples_split', 0, 1),\n",
    "        'n_estimators' : hp.choice('n_estimators', [10, 50, 300, 750, 1200,1300,1500]) }\n",
    "\n",
    "tpe_algo = tpe.suggest\n",
    "trials = Trials()\n",
    "results = fmin(objective1,space=param_space,algo=tpe_algo,trials=trials,max_evals=100)\n",
    "results"
   ]
  },
  {
   "cell_type": "code",
   "execution_count": 33,
   "metadata": {},
   "outputs": [
    {
     "name": "stdout",
     "output_type": "stream",
     "text": [
      "Tasa de acierto en regresión logística: 0.46\n",
      "Tasa de aciertos balanceada regresión logística: 0.50\n",
      "Medida F1 regresión logística: 0.63\n",
      "Matriz de confusión:\n",
      "[[  0 195]\n",
      " [  0 169]]\n",
      "              precision    recall  f1-score   support\n",
      "\n",
      "         0.0       0.00      0.00      0.00       195\n",
      "         1.0       0.46      1.00      0.63       169\n",
      "\n",
      "    accuracy                           0.46       364\n",
      "   macro avg       0.23      0.50      0.32       364\n",
      "weighted avg       0.22      0.46      0.29       364\n",
      "\n"
     ]
    },
    {
     "name": "stderr",
     "output_type": "stream",
     "text": [
      "C:\\Users\\SARA\\anaconda3\\lib\\site-packages\\sklearn\\metrics\\_classification.py:1245: UndefinedMetricWarning: Precision and F-score are ill-defined and being set to 0.0 in labels with no predicted samples. Use `zero_division` parameter to control this behavior.\n",
      "  _warn_prf(average, modifier, msg_start, len(result))\n",
      "C:\\Users\\SARA\\anaconda3\\lib\\site-packages\\sklearn\\metrics\\_classification.py:1245: UndefinedMetricWarning: Precision and F-score are ill-defined and being set to 0.0 in labels with no predicted samples. Use `zero_division` parameter to control this behavior.\n",
      "  _warn_prf(average, modifier, msg_start, len(result))\n",
      "C:\\Users\\SARA\\anaconda3\\lib\\site-packages\\sklearn\\metrics\\_classification.py:1245: UndefinedMetricWarning: Precision and F-score are ill-defined and being set to 0.0 in labels with no predicted samples. Use `zero_division` parameter to control this behavior.\n",
      "  _warn_prf(average, modifier, msg_start, len(result))\n"
     ]
    }
   ],
   "source": [
    "rfob2 = RandomForestClassifier(criterion='gini', max_depth=860, max_features = 'auto',min_samples_leaf = 0.41232149702163806,\n",
    "                               min_samples_split =0.6950959623047934,n_estimators = 1300).fit(trainX2,trainy2)\n",
    "y_pred2 = rfob2.predict(testX2)\n",
    "confusion2 = confusion_matrix(testy2, y_pred2)\n",
    "print(\"Tasa de acierto en regresión logística: {:.2f}\".format(rfob2.score(testX2, testy2)))\n",
    "print(\"Tasa de aciertos balanceada regresión logística: {:.2f}\".format(balanced_accuracy_score(testy2, y_pred2)))\n",
    "print(\"Medida F1 regresión logística: {:.2f}\".format(f1_score(testy2, y_pred2)))\n",
    "print(\"Matriz de confusión:\\n{}\".format(confusion2))\n",
    "print(classification_report(testy2, y_pred2))"
   ]
  },
  {
   "cell_type": "code",
   "execution_count": 12,
   "metadata": {},
   "outputs": [
    {
     "data": {
      "text/plain": [
       "{'criterion': 1,\n",
       " 'max_depth': 800.0,\n",
       " 'max_features': 1,\n",
       " 'min_samples_leaf': 0.3567157397991235,\n",
       " 'min_samples_split': 0.18924112599613718,\n",
       " 'n_estimators': 0}"
      ]
     },
     "execution_count": 12,
     "metadata": {},
     "output_type": "execute_result"
    }
   ],
   "source": [
    "# MODELO CON EL CONJUNTO DE DATOS 3\n",
    "# -------------------------------------------------------------------\n",
    "def objective1(params):\n",
    "   \n",
    "    random_forest = RandomForestClassifier(**params,n_jobs=-1).fit(trainX3, trainy3)\n",
    "    y_pred = random_forest.predict(testX3)\n",
    "    accuracy = random_forest.score(testX3, y_pred)\n",
    "    return {\"loss\": accuracy, \"status\": STATUS_OK}\n",
    "\n",
    "# Definimos los parámetros:\n",
    "param_space = {'criterion': hp.choice('criterion', ['entropy', 'gini']),\n",
    "        'max_depth': hp.quniform('max_depth', 10, 1200, 10),\n",
    "        'max_features': hp.choice('max_features', ['auto', 'sqrt','log2', None]),\n",
    "        'min_samples_leaf': hp.uniform('min_samples_leaf', 0, 0.5),\n",
    "        'min_samples_split' : hp.uniform ('min_samples_split', 0, 1),\n",
    "        'n_estimators' : hp.choice('n_estimators', [10, 50, 300, 750, 1200,1300,1500]) }\n",
    "\n",
    "tpe_algo = tpe.suggest\n",
    "trials = Trials()\n",
    "results = fmin(objective1,space=param_space,algo=tpe_algo,trials=trials,max_evals=100)\n",
    "results"
   ]
  },
  {
   "cell_type": "code",
   "execution_count": 34,
   "metadata": {},
   "outputs": [
    {
     "name": "stdout",
     "output_type": "stream",
     "text": [
      "Tasa de acierto en regresión logística: 0.47\n",
      "Tasa de aciertos balanceada regresión logística: 0.50\n",
      "Medida F1 regresión logística: 0.64\n",
      "Matriz de confusión:\n",
      "[[  0 191]\n",
      " [  0 168]]\n",
      "              precision    recall  f1-score   support\n",
      "\n",
      "         0.0       0.00      0.00      0.00       191\n",
      "         1.0       0.47      1.00      0.64       168\n",
      "\n",
      "    accuracy                           0.47       359\n",
      "   macro avg       0.23      0.50      0.32       359\n",
      "weighted avg       0.22      0.47      0.30       359\n",
      "\n"
     ]
    },
    {
     "name": "stderr",
     "output_type": "stream",
     "text": [
      "C:\\Users\\SARA\\anaconda3\\lib\\site-packages\\sklearn\\metrics\\_classification.py:1245: UndefinedMetricWarning: Precision and F-score are ill-defined and being set to 0.0 in labels with no predicted samples. Use `zero_division` parameter to control this behavior.\n",
      "  _warn_prf(average, modifier, msg_start, len(result))\n",
      "C:\\Users\\SARA\\anaconda3\\lib\\site-packages\\sklearn\\metrics\\_classification.py:1245: UndefinedMetricWarning: Precision and F-score are ill-defined and being set to 0.0 in labels with no predicted samples. Use `zero_division` parameter to control this behavior.\n",
      "  _warn_prf(average, modifier, msg_start, len(result))\n",
      "C:\\Users\\SARA\\anaconda3\\lib\\site-packages\\sklearn\\metrics\\_classification.py:1245: UndefinedMetricWarning: Precision and F-score are ill-defined and being set to 0.0 in labels with no predicted samples. Use `zero_division` parameter to control this behavior.\n",
      "  _warn_prf(average, modifier, msg_start, len(result))\n"
     ]
    }
   ],
   "source": [
    "rfob3 = RandomForestClassifier(criterion='gini', max_depth=800, max_features = 'sqrt',min_samples_leaf = 0.3567157397991235,\n",
    "                               min_samples_split = 0.18924112599613718,n_estimators = 10).fit(trainX3,trainy3)\n",
    "y_pred3 = rfob3.predict(testX3)\n",
    "confusion3 = confusion_matrix(testy3, y_pred3)\n",
    "print(\"Tasa de acierto en regresión logística: {:.2f}\".format(rfob3.score(testX3, testy3)))\n",
    "print(\"Tasa de aciertos balanceada regresión logística: {:.2f}\".format(balanced_accuracy_score(testy3, y_pred3)))\n",
    "print(\"Medida F1 regresión logística: {:.2f}\".format(f1_score(testy3, y_pred3)))\n",
    "print(\"Matriz de confusión:\\n{}\".format(confusion3))\n",
    "print(classification_report(testy3, y_pred3))"
   ]
  },
  {
   "cell_type": "code",
   "execution_count": null,
   "metadata": {},
   "outputs": [],
   "source": []
  },
  {
   "cell_type": "markdown",
   "metadata": {},
   "source": [
    "# 10 dias"
   ]
  },
  {
   "cell_type": "code",
   "execution_count": 43,
   "metadata": {},
   "outputs": [],
   "source": [
    "run Datos-10diasBINARIO.ipynb"
   ]
  },
  {
   "cell_type": "markdown",
   "metadata": {},
   "source": [
    "### EXPERIMENTO 1: MODELO BASE"
   ]
  },
  {
   "cell_type": "code",
   "execution_count": 36,
   "metadata": {
    "scrolled": true
   },
   "outputs": [
    {
     "name": "stdout",
     "output_type": "stream",
     "text": [
      "Tasa de acierto en rf: 0.48\n",
      "Tasa de aciertos balanceada regresión logística: 0.48\n",
      "Medida F1 regresión logística: 0.50\n",
      "Matriz de confusión:\n",
      "[[ 81 118]\n",
      " [ 77  99]]\n",
      "              precision    recall  f1-score   support\n",
      "\n",
      "         0.0       0.51      0.41      0.45       199\n",
      "         1.0       0.46      0.56      0.50       176\n",
      "\n",
      "    accuracy                           0.48       375\n",
      "   macro avg       0.48      0.48      0.48       375\n",
      "weighted avg       0.49      0.48      0.48       375\n",
      "\n"
     ]
    }
   ],
   "source": [
    "# MODELO CON EL CONJUNTO DE DATOS 1\n",
    "# -------------------------------------------------------------------\n",
    "rf1 = RandomForestClassifier().fit(trainX1, trainy1)\n",
    "y_pred1 = rf1.predict(testX1)\n",
    "confusion1 = confusion_matrix(testy1, y_pred1)\n",
    "print(\"Tasa de acierto en rf: {:.2f}\".format(rf1.score(testX1, testy1)))\n",
    "print(\"Tasa de aciertos balanceada regresión logística: {:.2f}\".format(balanced_accuracy_score(testy1, y_pred1)))\n",
    "print(\"Medida F1 regresión logística: {:.2f}\".format(f1_score(testy1, y_pred1)))\n",
    "print(\"Matriz de confusión:\\n{}\".format(confusion1))\n",
    "print(classification_report(testy1, y_pred1))"
   ]
  },
  {
   "cell_type": "code",
   "execution_count": 37,
   "metadata": {},
   "outputs": [
    {
     "name": "stdout",
     "output_type": "stream",
     "text": [
      "Tasa de acierto en regresión logística: 0.45\n",
      "Tasa de aciertos balanceada regresión logística: 0.46\n",
      "Medida F1 regresión logística: 0.52\n",
      "Matriz de confusión:\n",
      "[[ 54 138]\n",
      " [ 62 108]]\n",
      "              precision    recall  f1-score   support\n",
      "\n",
      "         0.0       0.47      0.28      0.35       192\n",
      "         1.0       0.44      0.64      0.52       170\n",
      "\n",
      "    accuracy                           0.45       362\n",
      "   macro avg       0.45      0.46      0.43       362\n",
      "weighted avg       0.45      0.45      0.43       362\n",
      "\n"
     ]
    }
   ],
   "source": [
    "# MODELO CON EL CONJUNTO DE DATOS 2\n",
    "# -------------------------------------------------------------------\n",
    "rf2 = RandomForestClassifier().fit(trainX2, trainy2)\n",
    "y_pred2 = rf2.predict(testX2)\n",
    "confusion2 = confusion_matrix(testy2, y_pred2)\n",
    "print(\"Tasa de acierto en regresión logística: {:.2f}\".format(rf2.score(testX2, testy2)))\n",
    "print(\"Tasa de aciertos balanceada regresión logística: {:.2f}\".format(balanced_accuracy_score(testy2, y_pred2)))\n",
    "print(\"Medida F1 regresión logística: {:.2f}\".format(f1_score(testy2, y_pred2)))\n",
    "print(\"Matriz de confusión:\\n{}\".format(confusion2))\n",
    "print(classification_report(testy2, y_pred2))"
   ]
  },
  {
   "cell_type": "code",
   "execution_count": 38,
   "metadata": {},
   "outputs": [
    {
     "name": "stdout",
     "output_type": "stream",
     "text": [
      "Tasa de acierto en regresión logística: 0.48\n",
      "Tasa de aciertos balanceada regresión logística: 0.49\n",
      "Medida F1 regresión logística: 0.52\n",
      "Matriz de confusión:\n",
      "[[ 74 112]\n",
      " [ 72  98]]\n",
      "              precision    recall  f1-score   support\n",
      "\n",
      "         0.0       0.51      0.40      0.45       186\n",
      "         1.0       0.47      0.58      0.52       170\n",
      "\n",
      "    accuracy                           0.48       356\n",
      "   macro avg       0.49      0.49      0.48       356\n",
      "weighted avg       0.49      0.48      0.48       356\n",
      "\n"
     ]
    }
   ],
   "source": [
    "# MODELO CON EL CONJUNTO DE DATOS 3\n",
    "# -------------------------------------------------------------------\n",
    "rf3 = RandomForestClassifier().fit(trainX3, trainy3)\n",
    "y_pred3 = rf3.predict(testX3)\n",
    "confusion3 = confusion_matrix(testy3, y_pred3)\n",
    "print(\"Tasa de acierto en regresión logística: {:.2f}\".format(rf3.score(testX3, testy3)))\n",
    "print(\"Tasa de aciertos balanceada regresión logística: {:.2f}\".format(balanced_accuracy_score(testy3, y_pred3)))\n",
    "print(\"Medida F1 regresión logística: {:.2f}\".format(f1_score(testy3, y_pred3)))\n",
    "print(\"Matriz de confusión:\\n{}\".format(confusion3))\n",
    "print(classification_report(testy3, y_pred3))"
   ]
  },
  {
   "cell_type": "markdown",
   "metadata": {},
   "source": [
    "### Experimento2: optimización bayesiana\n"
   ]
  },
  {
   "cell_type": "code",
   "execution_count": 40,
   "metadata": {},
   "outputs": [
    {
     "data": {
      "text/plain": [
       "{'criterion': 1,\n",
       " 'max_depth': 530.0,\n",
       " 'max_features': 3,\n",
       " 'min_samples_leaf': 0.2291845173236473,\n",
       " 'min_samples_split': 0.816030394513747,\n",
       " 'n_estimators': 1}"
      ]
     },
     "execution_count": 40,
     "metadata": {},
     "output_type": "execute_result"
    }
   ],
   "source": [
    "# MODELO CON EL CONJUNTO DE DATOS 1\n",
    "# -------------------------------------------------------------------\n",
    "def objective1(params):\n",
    "   \n",
    "    random_forest = RandomForestClassifier(**params,n_jobs=-1).fit(trainX1, trainy1)\n",
    "    y_pred = random_forest.predict(testX1)\n",
    "    accuracy = random_forest.score(testX1, y_pred)\n",
    "    return {\"loss\": accuracy, \"status\": STATUS_OK}\n",
    "\n",
    "# Definimos los parámetros:\n",
    "param_space = {'criterion': hp.choice('criterion', ['entropy', 'gini']),\n",
    "        'max_depth': hp.quniform('max_depth', 10, 1200, 10),\n",
    "        'max_features': hp.choice('max_features', ['auto', 'sqrt','log2', None]),\n",
    "        'min_samples_leaf': hp.uniform('min_samples_leaf', 0, 0.5),\n",
    "        'min_samples_split' : hp.uniform ('min_samples_split', 0, 1),\n",
    "        'n_estimators' : hp.choice('n_estimators', [10, 50, 300, 750, 1200,1300,1500]) }\n",
    "\n",
    "tpe_algo = tpe.suggest\n",
    "trials = Trials()\n",
    "results = fmin(objective1,space=param_space,algo=tpe_algo,trials=trials,max_evals=100)\n",
    "results"
   ]
  },
  {
   "cell_type": "code",
   "execution_count": 44,
   "metadata": {},
   "outputs": [
    {
     "name": "stdout",
     "output_type": "stream",
     "text": [
      "Tasa de acierto en regresión logística: 0.47\n",
      "Tasa de aciertos balanceada regresión logística: 0.50\n",
      "Medida F1 regresión logística: 0.64\n",
      "Matriz de confusión:\n",
      "[[  0 199]\n",
      " [  0 176]]\n",
      "              precision    recall  f1-score   support\n",
      "\n",
      "         0.0       0.00      0.00      0.00       199\n",
      "         1.0       0.47      1.00      0.64       176\n",
      "\n",
      "    accuracy                           0.47       375\n",
      "   macro avg       0.23      0.50      0.32       375\n",
      "weighted avg       0.22      0.47      0.30       375\n",
      "\n"
     ]
    },
    {
     "name": "stderr",
     "output_type": "stream",
     "text": [
      "C:\\Users\\SARA\\anaconda3\\lib\\site-packages\\sklearn\\metrics\\_classification.py:1245: UndefinedMetricWarning: Precision and F-score are ill-defined and being set to 0.0 in labels with no predicted samples. Use `zero_division` parameter to control this behavior.\n",
      "  _warn_prf(average, modifier, msg_start, len(result))\n",
      "C:\\Users\\SARA\\anaconda3\\lib\\site-packages\\sklearn\\metrics\\_classification.py:1245: UndefinedMetricWarning: Precision and F-score are ill-defined and being set to 0.0 in labels with no predicted samples. Use `zero_division` parameter to control this behavior.\n",
      "  _warn_prf(average, modifier, msg_start, len(result))\n",
      "C:\\Users\\SARA\\anaconda3\\lib\\site-packages\\sklearn\\metrics\\_classification.py:1245: UndefinedMetricWarning: Precision and F-score are ill-defined and being set to 0.0 in labels with no predicted samples. Use `zero_division` parameter to control this behavior.\n",
      "  _warn_prf(average, modifier, msg_start, len(result))\n"
     ]
    }
   ],
   "source": [
    "rfob1 = RandomForestClassifier(criterion='gini', max_depth=530, max_features = None,min_samples_leaf = 0.2291845173236473,\n",
    "                               min_samples_split =0.816030394513747,n_estimators = 10).fit(trainX1,trainy1)\n",
    "y_pred1 = rfob1.predict(testX1)\n",
    "confusion1 = confusion_matrix(testy1, y_pred1)\n",
    "print(\"Tasa de acierto en regresión logística: {:.2f}\".format(rfob1.score(testX1, testy1)))\n",
    "print(\"Tasa de aciertos balanceada regresión logística: {:.2f}\".format(balanced_accuracy_score(testy1, y_pred1)))\n",
    "print(\"Medida F1 regresión logística: {:.2f}\".format(f1_score(testy1, y_pred1)))\n",
    "print(\"Matriz de confusión:\\n{}\".format(confusion1))\n",
    "print(classification_report(testy1, y_pred1))"
   ]
  },
  {
   "cell_type": "code",
   "execution_count": 41,
   "metadata": {
    "scrolled": true
   },
   "outputs": [
    {
     "data": {
      "text/plain": [
       "{'criterion': 0,\n",
       " 'max_depth': 290.0,\n",
       " 'max_features': 2,\n",
       " 'min_samples_leaf': 0.015995134074772044,\n",
       " 'min_samples_split': 0.6217193994969481,\n",
       " 'n_estimators': 6}"
      ]
     },
     "execution_count": 41,
     "metadata": {},
     "output_type": "execute_result"
    }
   ],
   "source": [
    "# MODELO CON EL CONJUNTO DE DATOS 2\n",
    "# -------------------------------------------------------------------\n",
    "def objective1(params):\n",
    "   \n",
    "    random_forest = RandomForestClassifier(**params,n_jobs=-1).fit(trainX2, trainy2)\n",
    "    y_pred = random_forest.predict(testX2)\n",
    "    accuracy = random_forest.score(testX2, y_pred)\n",
    "    return {\"loss\": accuracy, \"status\": STATUS_OK}\n",
    "\n",
    "# Definimos los parámetros:\n",
    "param_space = {'criterion': hp.choice('criterion', ['entropy', 'gini']),\n",
    "        'max_depth': hp.quniform('max_depth', 10, 1200, 10),\n",
    "        'max_features': hp.choice('max_features', ['auto', 'sqrt','log2', None]),\n",
    "        'min_samples_leaf': hp.uniform('min_samples_leaf', 0, 0.5),\n",
    "        'min_samples_split' : hp.uniform ('min_samples_split', 0, 1),\n",
    "        'n_estimators' : hp.choice('n_estimators', [10, 50, 300, 750, 1200,1300,1500]) }\n",
    "\n",
    "tpe_algo = tpe.suggest\n",
    "trials = Trials()\n",
    "results = fmin(objective1,space=param_space,algo=tpe_algo,trials=trials,max_evals=100)\n",
    "results"
   ]
  },
  {
   "cell_type": "code",
   "execution_count": 45,
   "metadata": {},
   "outputs": [
    {
     "name": "stdout",
     "output_type": "stream",
     "text": [
      "Tasa de acierto en regresión logística: 0.49\n",
      "Tasa de aciertos balanceada regresión logística: 0.51\n",
      "Medida F1 regresión logística: 0.61\n",
      "Matriz de confusión:\n",
      "[[ 33 159]\n",
      " [ 27 143]]\n",
      "              precision    recall  f1-score   support\n",
      "\n",
      "         0.0       0.55      0.17      0.26       192\n",
      "         1.0       0.47      0.84      0.61       170\n",
      "\n",
      "    accuracy                           0.49       362\n",
      "   macro avg       0.51      0.51      0.43       362\n",
      "weighted avg       0.51      0.49      0.42       362\n",
      "\n"
     ]
    }
   ],
   "source": [
    "rfob2 = RandomForestClassifier(criterion='entropy', max_depth=290, max_features = 'log2',min_samples_leaf = 0.015995134074772044,\n",
    "                               min_samples_split = 0.6217193994969481,n_estimators = 1500).fit(trainX2,trainy2)\n",
    "y_pred2 = rfob2.predict(testX2)\n",
    "confusion2 = confusion_matrix(testy2, y_pred2)\n",
    "print(\"Tasa de acierto en regresión logística: {:.2f}\".format(rfob2.score(testX2, testy2)))\n",
    "print(\"Tasa de aciertos balanceada regresión logística: {:.2f}\".format(balanced_accuracy_score(testy2, y_pred2)))\n",
    "print(\"Medida F1 regresión logística: {:.2f}\".format(f1_score(testy2, y_pred2)))\n",
    "print(\"Matriz de confusión:\\n{}\".format(confusion2))\n",
    "print(classification_report(testy2, y_pred2))"
   ]
  },
  {
   "cell_type": "code",
   "execution_count": 42,
   "metadata": {},
   "outputs": [
    {
     "data": {
      "text/plain": [
       "{'criterion': 1,\n",
       " 'max_depth': 1080.0,\n",
       " 'max_features': 3,\n",
       " 'min_samples_leaf': 0.31597207392258486,\n",
       " 'min_samples_split': 0.8136333266808387,\n",
       " 'n_estimators': 1}"
      ]
     },
     "execution_count": 42,
     "metadata": {},
     "output_type": "execute_result"
    }
   ],
   "source": [
    "# MODELO CON EL CONJUNTO DE DATOS 3\n",
    "# -------------------------------------------------------------------\n",
    "def objective1(params):\n",
    "   \n",
    "    random_forest = RandomForestClassifier(**params,n_jobs=-1).fit(trainX3, trainy3)\n",
    "    y_pred = random_forest.predict(testX3)\n",
    "    accuracy = random_forest.score(testX3, y_pred)\n",
    "    return {\"loss\": accuracy, \"status\": STATUS_OK}\n",
    "\n",
    "# Definimos los parámetros:\n",
    "param_space = {'criterion': hp.choice('criterion', ['entropy', 'gini']),\n",
    "        'max_depth': hp.quniform('max_depth', 10, 1200, 10),\n",
    "        'max_features': hp.choice('max_features', ['auto', 'sqrt','log2', None]),\n",
    "        'min_samples_leaf': hp.uniform('min_samples_leaf', 0, 0.5),\n",
    "        'min_samples_split' : hp.uniform ('min_samples_split', 0, 1),\n",
    "        'n_estimators' : hp.choice('n_estimators', [10, 50, 300, 750, 1200,1300,1500]) }\n",
    "\n",
    "tpe_algo = tpe.suggest\n",
    "trials = Trials()\n",
    "results = fmin(objective1,space=param_space,algo=tpe_algo,trials=trials,max_evals=100)\n",
    "results"
   ]
  },
  {
   "cell_type": "code",
   "execution_count": 46,
   "metadata": {},
   "outputs": [
    {
     "name": "stdout",
     "output_type": "stream",
     "text": [
      "Tasa de acierto en regresión logística: 0.48\n",
      "Tasa de aciertos balanceada regresión logística: 0.50\n",
      "Medida F1 regresión logística: 0.65\n",
      "Matriz de confusión:\n",
      "[[  0 186]\n",
      " [  0 170]]\n",
      "              precision    recall  f1-score   support\n",
      "\n",
      "         0.0       0.00      0.00      0.00       186\n",
      "         1.0       0.48      1.00      0.65       170\n",
      "\n",
      "    accuracy                           0.48       356\n",
      "   macro avg       0.24      0.50      0.32       356\n",
      "weighted avg       0.23      0.48      0.31       356\n",
      "\n"
     ]
    },
    {
     "name": "stderr",
     "output_type": "stream",
     "text": [
      "C:\\Users\\SARA\\anaconda3\\lib\\site-packages\\sklearn\\metrics\\_classification.py:1245: UndefinedMetricWarning: Precision and F-score are ill-defined and being set to 0.0 in labels with no predicted samples. Use `zero_division` parameter to control this behavior.\n",
      "  _warn_prf(average, modifier, msg_start, len(result))\n",
      "C:\\Users\\SARA\\anaconda3\\lib\\site-packages\\sklearn\\metrics\\_classification.py:1245: UndefinedMetricWarning: Precision and F-score are ill-defined and being set to 0.0 in labels with no predicted samples. Use `zero_division` parameter to control this behavior.\n",
      "  _warn_prf(average, modifier, msg_start, len(result))\n",
      "C:\\Users\\SARA\\anaconda3\\lib\\site-packages\\sklearn\\metrics\\_classification.py:1245: UndefinedMetricWarning: Precision and F-score are ill-defined and being set to 0.0 in labels with no predicted samples. Use `zero_division` parameter to control this behavior.\n",
      "  _warn_prf(average, modifier, msg_start, len(result))\n"
     ]
    }
   ],
   "source": [
    "rfob3 = RandomForestClassifier(criterion='gini', max_depth=1080, max_features = None,min_samples_leaf = 0.31597207392258486,\n",
    "                               min_samples_split = 0.8136333266808387,n_estimators = 10).fit(trainX3,trainy3)\n",
    "y_pred3 = rfob3.predict(testX3)\n",
    "confusion3 = confusion_matrix(testy3, y_pred3)\n",
    "print(\"Tasa de acierto en regresión logística: {:.2f}\".format(rfob3.score(testX3, testy3)))\n",
    "print(\"Tasa de aciertos balanceada regresión logística: {:.2f}\".format(balanced_accuracy_score(testy3, y_pred3)))\n",
    "print(\"Medida F1 regresión logística: {:.2f}\".format(f1_score(testy3, y_pred3)))\n",
    "print(\"Matriz de confusión:\\n{}\".format(confusion3))\n",
    "print(classification_report(testy3, y_pred3))"
   ]
  },
  {
   "cell_type": "code",
   "execution_count": null,
   "metadata": {},
   "outputs": [],
   "source": []
  },
  {
   "cell_type": "markdown",
   "metadata": {},
   "source": [
    "# 20 dias"
   ]
  },
  {
   "cell_type": "code",
   "execution_count": 48,
   "metadata": {},
   "outputs": [],
   "source": [
    "run Datos-20diasBINARIO.ipynb"
   ]
  },
  {
   "cell_type": "markdown",
   "metadata": {},
   "source": [
    "### EXPERIMENTO 1: MODELO BASE"
   ]
  },
  {
   "cell_type": "code",
   "execution_count": 49,
   "metadata": {
    "scrolled": true
   },
   "outputs": [
    {
     "name": "stdout",
     "output_type": "stream",
     "text": [
      "Tasa de acierto en rf: 0.48\n",
      "Tasa de aciertos balanceada regresión logística: 0.48\n",
      "Medida F1 regresión logística: 0.49\n",
      "Matriz de confusión:\n",
      "[[ 89 109]\n",
      " [ 85  92]]\n",
      "              precision    recall  f1-score   support\n",
      "\n",
      "         0.0       0.51      0.45      0.48       198\n",
      "         1.0       0.46      0.52      0.49       177\n",
      "\n",
      "    accuracy                           0.48       375\n",
      "   macro avg       0.48      0.48      0.48       375\n",
      "weighted avg       0.49      0.48      0.48       375\n",
      "\n"
     ]
    }
   ],
   "source": [
    "# MODELO CON EL CONJUNTO DE DATOS 1\n",
    "# -------------------------------------------------------------------\n",
    "rf1 = RandomForestClassifier().fit(trainX1, trainy1)\n",
    "y_pred1 = rf1.predict(testX1)\n",
    "confusion1 = confusion_matrix(testy1, y_pred1)\n",
    "print(\"Tasa de acierto en rf: {:.2f}\".format(rf1.score(testX1, testy1)))\n",
    "print(\"Tasa de aciertos balanceada regresión logística: {:.2f}\".format(balanced_accuracy_score(testy1, y_pred1)))\n",
    "print(\"Medida F1 regresión logística: {:.2f}\".format(f1_score(testy1, y_pred1)))\n",
    "print(\"Matriz de confusión:\\n{}\".format(confusion1))\n",
    "print(classification_report(testy1, y_pred1))"
   ]
  },
  {
   "cell_type": "code",
   "execution_count": 50,
   "metadata": {},
   "outputs": [
    {
     "name": "stdout",
     "output_type": "stream",
     "text": [
      "Tasa de acierto en regresión logística: 0.45\n",
      "Tasa de aciertos balanceada regresión logística: 0.47\n",
      "Medida F1 regresión logística: 0.54\n",
      "Matriz de confusión:\n",
      "[[ 46 146]\n",
      " [ 52 118]]\n",
      "              precision    recall  f1-score   support\n",
      "\n",
      "         0.0       0.47      0.24      0.32       192\n",
      "         1.0       0.45      0.69      0.54       170\n",
      "\n",
      "    accuracy                           0.45       362\n",
      "   macro avg       0.46      0.47      0.43       362\n",
      "weighted avg       0.46      0.45      0.42       362\n",
      "\n"
     ]
    }
   ],
   "source": [
    "# MODELO CON EL CONJUNTO DE DATOS 2\n",
    "# -------------------------------------------------------------------\n",
    "rf2 = RandomForestClassifier().fit(trainX2, trainy2)\n",
    "y_pred2 = rf2.predict(testX2)\n",
    "confusion2 = confusion_matrix(testy2, y_pred2)\n",
    "print(\"Tasa de acierto en regresión logística: {:.2f}\".format(rf2.score(testX2, testy2)))\n",
    "print(\"Tasa de aciertos balanceada regresión logística: {:.2f}\".format(balanced_accuracy_score(testy2, y_pred2)))\n",
    "print(\"Medida F1 regresión logística: {:.2f}\".format(f1_score(testy2, y_pred2)))\n",
    "print(\"Matriz de confusión:\\n{}\".format(confusion2))\n",
    "print(classification_report(testy2, y_pred2))"
   ]
  },
  {
   "cell_type": "code",
   "execution_count": 51,
   "metadata": {},
   "outputs": [
    {
     "name": "stdout",
     "output_type": "stream",
     "text": [
      "Tasa de acierto en regresión logística: 0.50\n",
      "Tasa de aciertos balanceada regresión logística: 0.50\n",
      "Medida F1 regresión logística: 0.52\n",
      "Matriz de confusión:\n",
      "[[ 82 104]\n",
      " [ 74  96]]\n",
      "              precision    recall  f1-score   support\n",
      "\n",
      "         0.0       0.53      0.44      0.48       186\n",
      "         1.0       0.48      0.56      0.52       170\n",
      "\n",
      "    accuracy                           0.50       356\n",
      "   macro avg       0.50      0.50      0.50       356\n",
      "weighted avg       0.50      0.50      0.50       356\n",
      "\n"
     ]
    }
   ],
   "source": [
    "# MODELO CON EL CONJUNTO DE DATOS 3\n",
    "# -------------------------------------------------------------------\n",
    "rf3 = RandomForestClassifier().fit(trainX3, trainy3)\n",
    "y_pred3 = rf3.predict(testX3)\n",
    "confusion3 = confusion_matrix(testy3, y_pred3)\n",
    "print(\"Tasa de acierto en regresión logística: {:.2f}\".format(rf3.score(testX3, testy3)))\n",
    "print(\"Tasa de aciertos balanceada regresión logística: {:.2f}\".format(balanced_accuracy_score(testy3, y_pred3)))\n",
    "print(\"Medida F1 regresión logística: {:.2f}\".format(f1_score(testy3, y_pred3)))\n",
    "print(\"Matriz de confusión:\\n{}\".format(confusion3))\n",
    "print(classification_report(testy3, y_pred3))"
   ]
  },
  {
   "cell_type": "markdown",
   "metadata": {},
   "source": [
    "### Experimento2: optimización bayesiana\n"
   ]
  },
  {
   "cell_type": "code",
   "execution_count": 52,
   "metadata": {},
   "outputs": [
    {
     "data": {
      "text/plain": [
       "{'criterion': 1,\n",
       " 'max_depth': 1110.0,\n",
       " 'max_features': 3,\n",
       " 'min_samples_leaf': 0.35844001723525115,\n",
       " 'min_samples_split': 0.9976083234402783,\n",
       " 'n_estimators': 4}"
      ]
     },
     "execution_count": 52,
     "metadata": {},
     "output_type": "execute_result"
    }
   ],
   "source": [
    "# MODELO CON EL CONJUNTO DE DATOS 1\n",
    "# -------------------------------------------------------------------\n",
    "def objective1(params):\n",
    "   \n",
    "    random_forest = RandomForestClassifier(**params,n_jobs=-1).fit(trainX1, trainy1)\n",
    "    y_pred = random_forest.predict(testX1)\n",
    "    accuracy = random_forest.score(testX1, y_pred)\n",
    "    return {\"loss\": accuracy, \"status\": STATUS_OK}\n",
    "\n",
    "# Definimos los parámetros:\n",
    "param_space = {'criterion': hp.choice('criterion', ['entropy', 'gini']),\n",
    "        'max_depth': hp.quniform('max_depth', 10, 1200, 10),\n",
    "        'max_features': hp.choice('max_features', ['auto', 'sqrt','log2', None]),\n",
    "        'min_samples_leaf': hp.uniform('min_samples_leaf', 0, 0.5),\n",
    "        'min_samples_split' : hp.uniform ('min_samples_split', 0, 1),\n",
    "        'n_estimators' : hp.choice('n_estimators', [10, 50, 300, 750, 1200,1300,1500]) }\n",
    "\n",
    "tpe_algo = tpe.suggest\n",
    "trials = Trials()\n",
    "results = fmin(objective1,space=param_space,algo=tpe_algo,trials=trials,max_evals=100)\n",
    "results"
   ]
  },
  {
   "cell_type": "code",
   "execution_count": 57,
   "metadata": {},
   "outputs": [
    {
     "name": "stdout",
     "output_type": "stream",
     "text": [
      "Tasa de acierto en regresión logística: 0.47\n",
      "Tasa de aciertos balanceada regresión logística: 0.50\n",
      "Medida F1 regresión logística: 0.64\n",
      "Matriz de confusión:\n",
      "[[  0 198]\n",
      " [  0 177]]\n",
      "              precision    recall  f1-score   support\n",
      "\n",
      "         0.0       0.00      0.00      0.00       198\n",
      "         1.0       0.47      1.00      0.64       177\n",
      "\n",
      "    accuracy                           0.47       375\n",
      "   macro avg       0.24      0.50      0.32       375\n",
      "weighted avg       0.22      0.47      0.30       375\n",
      "\n"
     ]
    },
    {
     "name": "stderr",
     "output_type": "stream",
     "text": [
      "C:\\Users\\SARA\\anaconda3\\lib\\site-packages\\sklearn\\metrics\\_classification.py:1245: UndefinedMetricWarning: Precision and F-score are ill-defined and being set to 0.0 in labels with no predicted samples. Use `zero_division` parameter to control this behavior.\n",
      "  _warn_prf(average, modifier, msg_start, len(result))\n",
      "C:\\Users\\SARA\\anaconda3\\lib\\site-packages\\sklearn\\metrics\\_classification.py:1245: UndefinedMetricWarning: Precision and F-score are ill-defined and being set to 0.0 in labels with no predicted samples. Use `zero_division` parameter to control this behavior.\n",
      "  _warn_prf(average, modifier, msg_start, len(result))\n",
      "C:\\Users\\SARA\\anaconda3\\lib\\site-packages\\sklearn\\metrics\\_classification.py:1245: UndefinedMetricWarning: Precision and F-score are ill-defined and being set to 0.0 in labels with no predicted samples. Use `zero_division` parameter to control this behavior.\n",
      "  _warn_prf(average, modifier, msg_start, len(result))\n"
     ]
    }
   ],
   "source": [
    "rfob1 = RandomForestClassifier(criterion='gini', max_depth=1110, max_features = None, min_samples_leaf = 0.35844001723525115,\n",
    "                               min_samples_split = 0.9976083234402783,n_estimators = 1200).fit(trainX1,trainy1)\n",
    "y_pred1 = rfob1.predict(testX1)\n",
    "confusion1 = confusion_matrix(testy1, y_pred1)\n",
    "print(\"Tasa de acierto en regresión logística: {:.2f}\".format(rfob1.score(testX1, testy1)))\n",
    "print(\"Tasa de aciertos balanceada regresión logística: {:.2f}\".format(balanced_accuracy_score(testy1, y_pred1)))\n",
    "print(\"Medida F1 regresión logística: {:.2f}\".format(f1_score(testy1, y_pred1)))\n",
    "print(\"Matriz de confusión:\\n{}\".format(confusion1))\n",
    "print(classification_report(testy1, y_pred1))"
   ]
  },
  {
   "cell_type": "code",
   "execution_count": 53,
   "metadata": {
    "scrolled": true
   },
   "outputs": [
    {
     "data": {
      "text/plain": [
       "{'criterion': 1,\n",
       " 'max_depth': 450.0,\n",
       " 'max_features': 3,\n",
       " 'min_samples_leaf': 0.0992737678785105,\n",
       " 'min_samples_split': 0.48622902914973876,\n",
       " 'n_estimators': 6}"
      ]
     },
     "execution_count": 53,
     "metadata": {},
     "output_type": "execute_result"
    }
   ],
   "source": [
    "# MODELO CON EL CONJUNTO DE DATOS 2\n",
    "# -------------------------------------------------------------------\n",
    "def objective1(params):\n",
    "   \n",
    "    random_forest = RandomForestClassifier(**params,n_jobs=-1).fit(trainX2, trainy2)\n",
    "    y_pred = random_forest.predict(testX2)\n",
    "    accuracy = random_forest.score(testX2, y_pred)\n",
    "    return {\"loss\": accuracy, \"status\": STATUS_OK}\n",
    "\n",
    "# Definimos los parámetros:\n",
    "param_space = {'criterion': hp.choice('criterion', ['entropy', 'gini']),\n",
    "        'max_depth': hp.quniform('max_depth', 10, 1200, 10),\n",
    "        'max_features': hp.choice('max_features', ['auto', 'sqrt','log2', None]),\n",
    "        'min_samples_leaf': hp.uniform('min_samples_leaf', 0, 0.5),\n",
    "        'min_samples_split' : hp.uniform ('min_samples_split', 0, 1),\n",
    "        'n_estimators' : hp.choice('n_estimators', [10, 50, 300, 750, 1200,1300,1500]) }\n",
    "\n",
    "tpe_algo = tpe.suggest\n",
    "trials = Trials()\n",
    "results = fmin(objective1,space=param_space,algo=tpe_algo,trials=trials,max_evals=100)\n",
    "results"
   ]
  },
  {
   "cell_type": "code",
   "execution_count": 56,
   "metadata": {},
   "outputs": [
    {
     "name": "stdout",
     "output_type": "stream",
     "text": [
      "Tasa de acierto en regresión logística: 0.48\n",
      "Tasa de aciertos balanceada regresión logística: 0.47\n",
      "Medida F1 regresión logística: 0.54\n",
      "Matriz de confusión:\n",
      "[[ 46 146]\n",
      " [ 52 118]]\n",
      "              precision    recall  f1-score   support\n",
      "\n",
      "         0.0       0.47      0.24      0.32       192\n",
      "         1.0       0.45      0.69      0.54       170\n",
      "\n",
      "    accuracy                           0.45       362\n",
      "   macro avg       0.46      0.47      0.43       362\n",
      "weighted avg       0.46      0.45      0.42       362\n",
      "\n"
     ]
    }
   ],
   "source": [
    "rfob2 = RandomForestClassifier(criterion='gini', max_depth=450, max_features = None,min_samples_leaf = 0.0992737678785105,\n",
    "                               min_samples_split =0.48622902914973876,n_estimators = 1500).fit(trainX2,trainy2)\n",
    "confusion2 = confusion_matrix(testy2, y_pred2)\n",
    "print(\"Tasa de acierto en regresión logística: {:.2f}\".format(rfob2.score(testX2, testy2)))\n",
    "print(\"Tasa de aciertos balanceada regresión logística: {:.2f}\".format(balanced_accuracy_score(testy2, y_pred2)))\n",
    "print(\"Medida F1 regresión logística: {:.2f}\".format(f1_score(testy2, y_pred2)))\n",
    "print(\"Matriz de confusión:\\n{}\".format(confusion2))\n",
    "print(classification_report(testy2, y_pred2))"
   ]
  },
  {
   "cell_type": "code",
   "execution_count": 54,
   "metadata": {},
   "outputs": [
    {
     "data": {
      "text/plain": [
       "{'criterion': 1,\n",
       " 'max_depth': 420.0,\n",
       " 'max_features': 3,\n",
       " 'min_samples_leaf': 0.14359880239571415,\n",
       " 'min_samples_split': 0.9293601424741218,\n",
       " 'n_estimators': 4}"
      ]
     },
     "execution_count": 54,
     "metadata": {},
     "output_type": "execute_result"
    }
   ],
   "source": [
    "# MODELO CON EL CONJUNTO DE DATOS 3\n",
    "# -------------------------------------------------------------------\n",
    "def objective1(params):\n",
    "   \n",
    "    random_forest = RandomForestClassifier(**params,n_jobs=-1).fit(trainX3, trainy3)\n",
    "    y_pred = random_forest.predict(testX3)\n",
    "    accuracy = random_forest.score(testX3, y_pred)\n",
    "    return {\"loss\": accuracy, \"status\": STATUS_OK}\n",
    "\n",
    "# Definimos los parámetros:\n",
    "param_space = {'criterion': hp.choice('criterion', ['entropy', 'gini']),\n",
    "        'max_depth': hp.quniform('max_depth', 10, 1200, 10),\n",
    "        'max_features': hp.choice('max_features', ['auto', 'sqrt','log2', None]),\n",
    "        'min_samples_leaf': hp.uniform('min_samples_leaf', 0, 0.5),\n",
    "        'min_samples_split' : hp.uniform ('min_samples_split', 0, 1),\n",
    "        'n_estimators' : hp.choice('n_estimators', [10, 50, 300, 750, 1200,1300,1500]) }\n",
    "\n",
    "tpe_algo = tpe.suggest\n",
    "trials = Trials()\n",
    "results = fmin(objective1,space=param_space,algo=tpe_algo,trials=trials,max_evals=100)\n",
    "results"
   ]
  },
  {
   "cell_type": "code",
   "execution_count": 55,
   "metadata": {},
   "outputs": [
    {
     "name": "stdout",
     "output_type": "stream",
     "text": [
      "Tasa de acierto en regresión logística: 0.48\n",
      "Tasa de aciertos balanceada regresión logística: 0.50\n",
      "Medida F1 regresión logística: 0.52\n",
      "Matriz de confusión:\n",
      "[[ 82 104]\n",
      " [ 74  96]]\n",
      "              precision    recall  f1-score   support\n",
      "\n",
      "         0.0       0.53      0.44      0.48       186\n",
      "         1.0       0.48      0.56      0.52       170\n",
      "\n",
      "    accuracy                           0.50       356\n",
      "   macro avg       0.50      0.50      0.50       356\n",
      "weighted avg       0.50      0.50      0.50       356\n",
      "\n"
     ]
    }
   ],
   "source": [
    "rfob3 = RandomForestClassifier(criterion='gini', max_depth=420, max_features = None,min_samples_leaf = 0.14359880239571415,\n",
    "                               min_samples_split = 0.9293601424741218,n_estimators = 1200).fit(trainX3,trainy3)\n",
    "confusion3 = confusion_matrix(testy3, y_pred3)\n",
    "print(\"Tasa de acierto en regresión logística: {:.2f}\".format(rfob3.score(testX3, testy3)))\n",
    "print(\"Tasa de aciertos balanceada regresión logística: {:.2f}\".format(balanced_accuracy_score(testy3, y_pred3)))\n",
    "print(\"Medida F1 regresión logística: {:.2f}\".format(f1_score(testy3, y_pred3)))\n",
    "print(\"Matriz de confusión:\\n{}\".format(confusion3))\n",
    "print(classification_report(testy3, y_pred3))"
   ]
  },
  {
   "cell_type": "code",
   "execution_count": null,
   "metadata": {},
   "outputs": [],
   "source": []
  }
 ],
 "metadata": {
  "kernelspec": {
   "display_name": "Python 3",
   "language": "python",
   "name": "python3"
  },
  "language_info": {
   "codemirror_mode": {
    "name": "ipython",
    "version": 3
   },
   "file_extension": ".py",
   "mimetype": "text/x-python",
   "name": "python",
   "nbconvert_exporter": "python",
   "pygments_lexer": "ipython3",
   "version": "3.7.6"
  }
 },
 "nbformat": 4,
 "nbformat_minor": 4
}
