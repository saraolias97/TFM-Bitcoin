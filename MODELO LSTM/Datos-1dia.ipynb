{
 "cells": [
  {
   "cell_type": "markdown",
   "metadata": {},
   "source": [
    "# DATOS NO BINARIO - 1 DIA"
   ]
  },
  {
   "cell_type": "code",
   "execution_count": 1,
   "metadata": {},
   "outputs": [],
   "source": [
    "import numpy as np\n",
    "import ccxt\n",
    "import pandas as pd\n",
    "from datetime import datetime \n",
    "import talib\n",
    "import matplotlib.pyplot as plt\n",
    "\n",
    "exchange = ccxt.binance({'enableRateLimit' : True})\n",
    "\n",
    "# poner la hora en milisegundos\n",
    "msec = 1000\n",
    "minute = 60*msec\n",
    "hour = 60*minute\n",
    "\n",
    "now = exchange.milliseconds()"
   ]
  },
  {
   "cell_type": "code",
   "execution_count": 2,
   "metadata": {},
   "outputs": [],
   "source": [
    "def get_candles(symbol, timeframe, limit, from_timestamp):\n",
    "    \n",
    "    try:\n",
    "        candles = exchange.fetch_ohlcv(symbol = symbol, \n",
    "                                       timeframe = timeframe, \n",
    "                                       limit = limit, \n",
    "                                       since = from_timestamp)\n",
    "        header = ['timestamp','Open','High','Low','Close','Volume']\n",
    "        \n",
    "        df = pd.DataFrame(candles, columns = header)\n",
    "        # Convertimos las fechas en fecha de dia/hora/año para no tener que tratar con timestamp\n",
    "        df['datetime'] = pd.to_datetime(df['timestamp'], unit='ms')\n",
    "        df.datetime = df.datetime.dt.tz_localize('UCT')\n",
    "        return df.sort_values(by='timestamp', ascending = False)\n",
    "    except:\n",
    "        print('No more data')\n",
    "        pass"
   ]
  },
  {
   "cell_type": "code",
   "execution_count": 3,
   "metadata": {},
   "outputs": [],
   "source": [
    "def save_candles(symbol, timeframe, limit, from_timestamp, to_timestamp):\n",
    "    df_list = []\n",
    "    while(from_timestamp < now):\n",
    "        candles = get_candles(symbol, timeframe, limit, from_timestamp)\n",
    "        df_list.append(candles)\n",
    "       # print(candles)\n",
    "        if (len(candles))>0:\n",
    "            from_timestamp = int(candles['timestamp'].iloc[0] + minute) # el minuto se agrega para que no haya duplicados\n",
    "        else:\n",
    "            from_timestamp += hour*24000 # porque es un dia 24.0000, 1 hora seria 1000\n",
    "            # lo que hacemos es, en el caso que este vacia, vamos a la vela del día siguiente para comprobar si también esta vacia o no\n",
    "    final_df = pd.concat(df_list, axis=0)\n",
    "    final_df.sort_values(by='timestamp', ascending = False)\n",
    "    final_df.to_csv('{}_{}_{}_{}'.format(symbol.replace('/', '-'), timeframe, from_timestamp, to_timestamp), index=False)\n",
    "    return final_df"
   ]
  },
  {
   "cell_type": "code",
   "execution_count": 4,
   "metadata": {},
   "outputs": [],
   "source": [
    "final_df_1day = save_candles(\n",
    "    symbol = 'BTC/USDT',\n",
    "    timeframe = '1d',\n",
    "    limit = 1000,\n",
    "    from_timestamp = exchange.parse8601('2015-01-01 00:00:00'),\n",
    "    to_timestamp = exchange.milliseconds()\n",
    ")"
   ]
  },
  {
   "cell_type": "code",
   "execution_count": 5,
   "metadata": {},
   "outputs": [],
   "source": [
    "final_df_1day['datetime'] =pd.to_datetime(final_df_1day['datetime'])\n",
    "final_df_1day = final_df_1day.sort_values(by='datetime', ascending = True)"
   ]
  },
  {
   "cell_type": "code",
   "execution_count": 6,
   "metadata": {
    "scrolled": true
   },
   "outputs": [],
   "source": [
    "X_t = final_df_1day.drop(['timestamp'],axis = 1)\n",
    "X_t.set_index('datetime',inplace=True)"
   ]
  },
  {
   "cell_type": "markdown",
   "metadata": {},
   "source": [
    "Definimos y_t y eliminamos el ultimo elemento de X_t"
   ]
  },
  {
   "cell_type": "code",
   "execution_count": 7,
   "metadata": {},
   "outputs": [],
   "source": [
    "y_t = X_t['Close'].shift().dropna()\n",
    "X_t = X_t[:-1]"
   ]
  },
  {
   "cell_type": "markdown",
   "metadata": {},
   "source": [
    "# DATOS EXPERIMENTACION"
   ]
  },
  {
   "cell_type": "markdown",
   "metadata": {},
   "source": [
    "**EXPERIMENTO 1: Añadimos Anterior, Diferencia, Anterior-1,Diferencia-1, Subida, Subida -1**"
   ]
  },
  {
   "cell_type": "code",
   "execution_count": 8,
   "metadata": {},
   "outputs": [],
   "source": [
    "def formabinaria(list):\n",
    "    y_tbinario = []\n",
    "    for i in range (0,len(list)):\n",
    "        if list[i] >= 0:\n",
    "            y_tbinario.append(1)\n",
    "        else:\n",
    "            y_tbinario.append(0)\n",
    "    return y_tbinario"
   ]
  },
  {
   "cell_type": "code",
   "execution_count": 9,
   "metadata": {
    "scrolled": false
   },
   "outputs": [],
   "source": [
    "X_t1 = X_t.copy()\n",
    "X_t1.loc[:,'Anterior'] = X_t1.loc[:,'Close'].shift()\n",
    "X_t1.loc[:,'Diferencia'] = X_t1.loc[:,'Close'].diff()\n",
    "X_t1.loc[:,'Anterior-1'] = X_t1.loc[:,'Anterior'].shift()\n",
    "X_t1.loc[:,'Diferencia-1'] = X_t1.loc[:,'Anterior'].diff()\n",
    "X_t1 = X_t1.dropna()\n",
    "X_t1['Subida'] = formabinaria(X_t1['Diferencia'])\n",
    "X_t1['Subida-1'] = formabinaria(X_t1['Diferencia-1'])\n",
    "X_t1 = X_t1.dropna()\n"
   ]
  },
  {
   "cell_type": "code",
   "execution_count": 10,
   "metadata": {},
   "outputs": [],
   "source": [
    "y_t1 = X_t1['Close'].shift(-1)\n",
    "X_t1 = X_t1[:-1]\n",
    "y_t1 = y_t1[:-1]"
   ]
  },
  {
   "cell_type": "code",
   "execution_count": 11,
   "metadata": {},
   "outputs": [],
   "source": [
    "p_train = 0.80 # Porcentaje de train.\n",
    "\n",
    "trainX1 = X_t1[:int((len(X_t1))*p_train)] \n",
    "testX1 = X_t1[int((len(X_t1))*p_train):]\n",
    "\n",
    "trainy1 = y_t1[:int((len(y_t1))*p_train)] \n",
    "testy1 = y_t1[int((len(y_t1))*p_train):]"
   ]
  },
  {
   "cell_type": "markdown",
   "metadata": {},
   "source": [
    "**EXPERIMENTO 2: Añadimos VWAP, SMA10, SMA20, SMA55, EMA10, EMA20, EMA55, VMA10, VMA20, VMA55**"
   ]
  },
  {
   "cell_type": "markdown",
   "metadata": {},
   "source": [
    "Vamos a añadir nuevas columnas y aplicar de nuevo el modelo.\n",
    "\n",
    "Añadimos una columna para el VWAP: \"precio medio ponderado por volumen\". Este indicador nos muestra la relacion que hay entre el precio del BTC y el volumen de las operaciones diarias."
   ]
  },
  {
   "cell_type": "code",
   "execution_count": 12,
   "metadata": {},
   "outputs": [],
   "source": [
    "def vwap(df):\n",
    "    q = df.Volume.values\n",
    "    p = df.Close.values\n",
    "    return df.assign(vwap=(p * q).cumsum() / q.cumsum())\n",
    "\n",
    "X_t2 = X_t1.copy()\n",
    "X_t2 = X_t2.groupby(X_t2.index.date, group_keys=False).apply(vwap)\n"
   ]
  },
  {
   "cell_type": "markdown",
   "metadata": {},
   "source": [
    "**Medias moviles**. Las MM hacen la media segun el numero de pasos anteriores que se indiquen. Las mejores de corto plazo son las medias exponenciales 10,20 y 50.  En nuestro caso vamos a añadir:\n",
    "\n",
    "- Media SMA con 10 horas anteriores\n",
    "- Media SMA con 20 horas anteriores\n",
    "- Media SMA con 55 horas anteriores\n",
    "- Media EMA con 20 horas anteriores\n",
    "- Media EMA con 55 horas anteriores\n",
    "- Media VMA con 20 horas anteriores\n",
    "- Media VMA con 55 horas anteriores\n",
    "\n",
    "SMA: Una media móvil simple (o aritmética) es una media móvil aritmética calculada sumando los elementos de una serie temporal y dividiendo este total por el número de períodos de tiempo.\n",
    "\n",
    "VMA: sirven para frenar el promedio cuando los precios están en el período de consolidación para evitar señales malas y acelerar el promedio cuando el mercado está en tendencia para aprovechar al máximo los precios en tendencia.\n",
    "\n",
    "EMA: las medias móviles exponenciales dan más peso a los períodos más recientes. Esto los hace más seguras  que la SMA y por lo tanto pueden ser usadas para crear una mejor estrategia de trading con medias móviles.\n",
    "\n",
    "Articulo explicando diferencias (para el desarrollo) : https://traderprofesional.com/bolsa/guias/analisis-tecnico/indicadores/medias-moviles/#:~:text=Media%20m%C3%B3vil%20variable%20(VMA),-La%20media%20m%C3%B3vil&text=La%20volatilidad%20es%20la%20medida,para%20los%20pr%C3%B3ximos%2030%20d%C3%ADas."
   ]
  },
  {
   "cell_type": "code",
   "execution_count": 13,
   "metadata": {},
   "outputs": [],
   "source": [
    "X_t2['SMA10'] = talib.MA(X_t2['Close'],timeperiod=10,matype=0) #SMA\n",
    "X_t2['SMA20'] = talib.MA(X_t2['Close'],timeperiod=20,matype=0) #SMA\n",
    "X_t2['SMA55'] = talib.MA(X_t2['Close'],timeperiod=55,matype=0) #SMA\n",
    "X_t2['EMA10'] = talib.MA(X_t2['Close'],timeperiod=10,matype=1) #EMA\n",
    "X_t2['EMA20'] = talib.MA(X_t2['Close'],timeperiod=20,matype=1) #EMA\n",
    "X_t2['EMA55'] = talib.MA(X_t2['Close'],timeperiod=55,matype=1) #EMA\n",
    "X_t2['VMA10'] = talib.MA(X_t2['Close'],timeperiod=10,matype=2) #EMA\n",
    "X_t2['VMA20'] = talib.MA(X_t2['Close'],timeperiod=20,matype=2) #VMA\n",
    "X_t2['VMA55'] = talib.MA(X_t2['Close'],timeperiod=55,matype=2) #VMA\n",
    "X_t2 = X_t2.dropna()\n"
   ]
  },
  {
   "cell_type": "code",
   "execution_count": 14,
   "metadata": {},
   "outputs": [],
   "source": [
    "y_t2 = X_t2['Close'].shift(-1)\n",
    "X_t2 = X_t2[:-1]\n",
    "y_t2 = y_t2[:-1]"
   ]
  },
  {
   "cell_type": "code",
   "execution_count": 15,
   "metadata": {},
   "outputs": [],
   "source": [
    "p_train = 0.80 # Porcentaje de train.\n",
    "\n",
    "trainX2 = X_t2[:int((len(X_t2))*p_train)] \n",
    "testX2 = X_t2[int((len(X_t2))*p_train):]\n",
    "\n",
    "trainy2 = y_t2[:int((len(y_t2))*p_train)] \n",
    "testy2 = y_t2[int((len(y_t2))*p_train):]"
   ]
  },
  {
   "cell_type": "markdown",
   "metadata": {},
   "source": [
    "**EXPERIMENTO 3: Añadimos el indicador MACD, el indicador KDJ, Bandas de Bollinger,RSI, Estocastico,Indicador ATR**"
   ]
  },
  {
   "cell_type": "markdown",
   "metadata": {},
   "source": [
    "**Indicador MACD (Moving Average Convergene Divergence)** :  mide la convergencia y divergencia en el tiempo de dos medias móviles del precio de un activo. En otras palabras el MACD señala, en cada momento, la separación entre el valor de dos medias móviles con diferente período de cálculo.\n",
    "Para el cálculo del MACD se emplea una media móvil exponencial con un período corto de cálculo y otra media móvil exponencial con un período de tiempo medio. Normalmente, para la media corta se emplean 12 períodos y, para la otra media, 26 períodos. (MACD = EMA (12) – EMA (26))\n",
    "\n",
    "Después de obtener el MACD, se calcula, a su vez, su media móvil exponencial. Para realizar este cálculo se suele emplear una media de 9 períodos. Esta media móvil se denomina Señal.\n",
    "\n",
    "Fuente: https://www.avatrade.es/educacion/professional-trading-strategies/macd-trading-strategies"
   ]
  },
  {
   "cell_type": "code",
   "execution_count": 16,
   "metadata": {},
   "outputs": [],
   "source": [
    "X_t3 = X_t2.copy()\n",
    "dif, dea, bar = talib.MACD(X_t3['Close'].values, fastperiod=12, slowperiod=26, signalperiod=9)\n",
    "# calculamos EMA1= media movil de precio de cierre el dia 12, EMA2 = media movil del precio de cierre dia 26, DEA = 9\n",
    "dif[np.isnan(dif)],dea[np.isnan(dea)],bar[np.isnan(bar)]=0,0,0 #para eliminar valores nulos\n",
    "X_t3['MACD-dif'] = dif\n",
    "X_t3['MACD-dea'] = dea\n",
    "X_t3['MACD-bar'] = bar"
   ]
  },
  {
   "cell_type": "markdown",
   "metadata": {},
   "source": [
    "**Indicador KDJ**: las líneas K y D del oscilador estocástico (señalar una inversión de tendencia inminente cuando ocurren divergencias alcistas y bajistas.) y la J muestra la divergencia del valor D de la K."
   ]
  },
  {
   "cell_type": "code",
   "execution_count": 17,
   "metadata": {},
   "outputs": [],
   "source": [
    "X_t3['K'], X_t3['D'] = talib.STOCH(X_t3['High'].values, X_t3['Low'].values, X_t3['Close'].values, \n",
    "                                    fastk_period=9, slowk_period=3,slowk_matype=0, slowd_period=3, slowd_matype=0)\n",
    "X_t3['K'].fillna(0,inplace=True)\n",
    "X_t3['D'].fillna(0,inplace=True)\n",
    "X_t3['J']=3*X_t3['K']-2*X_t3['D']"
   ]
  },
  {
   "cell_type": "markdown",
   "metadata": {},
   "source": [
    "**Bandas de Bollinger**: El indiador bandas de Bollinger utiliza una medida estadística conocida como la desviación estándar para determinar dónde podría tener lugar un posible nivel de soporte o resistencia.\n",
    "\n",
    "Fuente: https://admiralmarkets.com/es/education/articles/forex-strategy/bandas-de-bollinger?utm_source=google&utm_medium=cpc&utm_campaign=ES_ES_performance_max_new&utm_term=&gclid=EAIaIQobChMI3PbX97-y9wIVR4xoCR3BlwjTEAAYAiAAEgK2dvD_BwE"
   ]
  },
  {
   "cell_type": "code",
   "execution_count": 18,
   "metadata": {},
   "outputs": [],
   "source": [
    "X_t3['Banda_superior'], X_t3['Banda_media'], X_t3['Banda_inferior'] = talib.BBANDS(X_t3['Close'], timeperiod=20)"
   ]
  },
  {
   "cell_type": "markdown",
   "metadata": {},
   "source": [
    "**RSI(Relative Strength Index)**: es un indicador de tipo oscilador que refleja la fuerza relativa de los movimientos alcistas, en comparación con los movimientos bajistas. Es utilizado por los traders para medir la fuerza de una tendencia e identificar señales de fin de tendencia."
   ]
  },
  {
   "cell_type": "code",
   "execution_count": 19,
   "metadata": {},
   "outputs": [],
   "source": [
    "X_t3['RSI'] = talib.RSI(X_t3['Close'],14)"
   ]
  },
  {
   "cell_type": "markdown",
   "metadata": {},
   "source": [
    "**Estocastico** :  significa la comparación realizada por el indicador estocástico MT4 entre el precio de cierre actual y sus precios de cierre anteriores durante un período elegido. El Oscilador Estocástico se mide usando las líneas K y D.\n",
    "\n",
    "K = 100 [(C – Ln) / (Hn – Ln)] -> C es el precio de cierre actual;\n",
    "Ln es el precio más bajo durante las últimas \"n\" sesiones de trading;\n",
    "Hn es el precio más alto durante las últimas \"n\" sesiones de trading.\n",
    "\n",
    "D = es la media móvil de %K durante N períodos\n",
    "\n",
    "➡ Si el precio de cierre actual es cercano al precio más alto (Hn) del período en cuestión, el estocástico estará cerca del 100 %\n",
    "\n",
    "➡ Si el precio de cierre actual está cerca del precio más bajo (Bn) del período relevante, el estocástico estará cerca del 0 %\n",
    "\n",
    "Fuente: https://admiralmarkets.com/es/education/articles/forex-indicators/indicador-estocastico?utm_source=google&utm_medium=cpc&utm_campaign=ES_ES_performance_max_new&utm_term=&gclid=EAIaIQobChMIm-bP_sKy9wIV1vZRCh0T1gvKEAAYAiAAEgIzZfD_BwE"
   ]
  },
  {
   "cell_type": "code",
   "execution_count": 20,
   "metadata": {},
   "outputs": [],
   "source": [
    "X_t3['slowk'], X_t3['slowd'] = talib.STOCH(X_t3['High'], X_t3['Low'], X_t3['Close'], \n",
    "                                       fastk_period=14, slowk_period=3, slowk_matype=0, slowd_period= 3,slowd_matype=0)"
   ]
  },
  {
   "cell_type": "markdown",
   "metadata": {},
   "source": [
    "**Indicador ATR (Average True Range):** Lo que nos viene a calcular este indicador, es la volatilidad existente en el periodo actual, para que podamos actuar en consecuencia. Si vemos que la volatilidad aumenta o disminuye, podremos tomar decisiones de compra o de venta.\n",
    "\n",
    "La fórmula es muy sencilla, y es que para el cálculo toma el valor más alto de estos tres:\n",
    "\n",
    "El máximo de la última vela, menos el mínimo de la última vela. El máximo de la última vela, menos el cierre de la vela anterior (valor absoluto). El mínimo de la última vela, menos el cierre de la vela anterior (valor absoluto).\n",
    "\n",
    "Fuente: https://www.novatostradingclub.com/indicadores/atr-indicador/"
   ]
  },
  {
   "cell_type": "code",
   "execution_count": 21,
   "metadata": {
    "scrolled": true
   },
   "outputs": [],
   "source": [
    "X_t3['ATR'] = talib.ATR(X_t3['High'], X_t3['Low'], X_t3['Close'], timeperiod = 14)"
   ]
  },
  {
   "cell_type": "markdown",
   "metadata": {},
   "source": [
    "**Funciones de Reconocimiento de patrones (BELTHOLD)**: al ingresar los datos de apertura, máximo, mínimo y cierre de la acción en estudio la función seleccionada retornara uno de tres posibles valores enteros, 0 cuando no reconoce patrón, 100 cuando reconoce un patrón alcista y -100 cuando reconoce un patrón bajista.\n",
    "\n",
    "Fuente: https://www.investopedia.com/terms/b/bearishbelthold.asp"
   ]
  },
  {
   "cell_type": "code",
   "execution_count": 22,
   "metadata": {},
   "outputs": [],
   "source": [
    "X_t3 = X_t3.copy()\n",
    "X_t3['BELTHOLD'] = talib.CDLBELTHOLD(X_t3['Open'],X_t3['High'],X_t3['Low'],X_t3['Close'])"
   ]
  },
  {
   "cell_type": "markdown",
   "metadata": {},
   "source": [
    " "
   ]
  },
  {
   "cell_type": "markdown",
   "metadata": {},
   "source": [
    "Preparamos los datos:"
   ]
  },
  {
   "cell_type": "code",
   "execution_count": 23,
   "metadata": {},
   "outputs": [],
   "source": [
    "X_t3 = X_t3.dropna()\n",
    "y_t3 = X_t3['Close'].shift(-1)\n",
    "X_t3 = X_t3[:-1]\n",
    "y_t3 = y_t3[:-1]"
   ]
  },
  {
   "cell_type": "code",
   "execution_count": 24,
   "metadata": {},
   "outputs": [],
   "source": [
    "p_train = 0.80 # Porcentaje de train.\n",
    "\n",
    "trainX3 = X_t3[:int((len(X_t3))*p_train)] \n",
    "testX3 = X_t3[int((len(X_t3))*p_train):]\n",
    "\n",
    "trainy3 = y_t3[:int((len(y_t3))*p_train)] \n",
    "testy3 = y_t3[int((len(y_t3))*p_train):]"
   ]
  },
  {
   "cell_type": "code",
   "execution_count": 25,
   "metadata": {},
   "outputs": [
    {
     "data": {
      "text/html": [
       "<div>\n",
       "<style scoped>\n",
       "    .dataframe tbody tr th:only-of-type {\n",
       "        vertical-align: middle;\n",
       "    }\n",
       "\n",
       "    .dataframe tbody tr th {\n",
       "        vertical-align: top;\n",
       "    }\n",
       "\n",
       "    .dataframe thead th {\n",
       "        text-align: right;\n",
       "    }\n",
       "</style>\n",
       "<table border=\"1\" class=\"dataframe\">\n",
       "  <thead>\n",
       "    <tr style=\"text-align: right;\">\n",
       "      <th></th>\n",
       "      <th>Open</th>\n",
       "      <th>High</th>\n",
       "      <th>Low</th>\n",
       "      <th>Close</th>\n",
       "      <th>Volume</th>\n",
       "      <th>Anterior</th>\n",
       "      <th>Diferencia</th>\n",
       "      <th>Anterior-1</th>\n",
       "      <th>Diferencia-1</th>\n",
       "      <th>Subida</th>\n",
       "      <th>...</th>\n",
       "      <th>D</th>\n",
       "      <th>J</th>\n",
       "      <th>Banda_superior</th>\n",
       "      <th>Banda_media</th>\n",
       "      <th>Banda_inferior</th>\n",
       "      <th>RSI</th>\n",
       "      <th>slowk</th>\n",
       "      <th>slowd</th>\n",
       "      <th>ATR</th>\n",
       "      <th>BELTHOLD</th>\n",
       "    </tr>\n",
       "    <tr>\n",
       "      <th>datetime</th>\n",
       "      <th></th>\n",
       "      <th></th>\n",
       "      <th></th>\n",
       "      <th></th>\n",
       "      <th></th>\n",
       "      <th></th>\n",
       "      <th></th>\n",
       "      <th></th>\n",
       "      <th></th>\n",
       "      <th></th>\n",
       "      <th></th>\n",
       "      <th></th>\n",
       "      <th></th>\n",
       "      <th></th>\n",
       "      <th></th>\n",
       "      <th></th>\n",
       "      <th></th>\n",
       "      <th></th>\n",
       "      <th></th>\n",
       "      <th></th>\n",
       "      <th></th>\n",
       "    </tr>\n",
       "  </thead>\n",
       "  <tbody>\n",
       "    <tr>\n",
       "      <th>2017-10-31 00:00:00+00:00</th>\n",
       "      <td>6120.52</td>\n",
       "      <td>6498.01</td>\n",
       "      <td>6100.00</td>\n",
       "      <td>6463.00</td>\n",
       "      <td>1511.774925</td>\n",
       "      <td>6120.50</td>\n",
       "      <td>342.50</td>\n",
       "      <td>6169.98</td>\n",
       "      <td>-49.48</td>\n",
       "      <td>1</td>\n",
       "      <td>...</td>\n",
       "      <td>79.581270</td>\n",
       "      <td>122.414042</td>\n",
       "      <td>6317.646599</td>\n",
       "      <td>5819.1305</td>\n",
       "      <td>5320.614401</td>\n",
       "      <td>67.467110</td>\n",
       "      <td>95.095872</td>\n",
       "      <td>84.008822</td>\n",
       "      <td>371.223753</td>\n",
       "      <td>100</td>\n",
       "    </tr>\n",
       "    <tr>\n",
       "      <th>2017-11-01 00:00:00+00:00</th>\n",
       "      <td>6463.00</td>\n",
       "      <td>6774.67</td>\n",
       "      <td>6338.02</td>\n",
       "      <td>6753.98</td>\n",
       "      <td>1675.615188</td>\n",
       "      <td>6463.00</td>\n",
       "      <td>290.98</td>\n",
       "      <td>6120.50</td>\n",
       "      <td>342.50</td>\n",
       "      <td>1</td>\n",
       "      <td>...</td>\n",
       "      <td>88.597363</td>\n",
       "      <td>105.195119</td>\n",
       "      <td>6498.104564</td>\n",
       "      <td>5885.3295</td>\n",
       "      <td>5272.554436</td>\n",
       "      <td>71.086705</td>\n",
       "      <td>95.208135</td>\n",
       "      <td>90.973516</td>\n",
       "      <td>375.897056</td>\n",
       "      <td>0</td>\n",
       "    </tr>\n",
       "    <tr>\n",
       "      <th>2017-11-02 00:00:00+00:00</th>\n",
       "      <td>6753.98</td>\n",
       "      <td>7300.00</td>\n",
       "      <td>6685.10</td>\n",
       "      <td>7019.98</td>\n",
       "      <td>2503.610803</td>\n",
       "      <td>6753.98</td>\n",
       "      <td>266.00</td>\n",
       "      <td>6463.00</td>\n",
       "      <td>290.98</td>\n",
       "      <td>1</td>\n",
       "      <td>...</td>\n",
       "      <td>93.974923</td>\n",
       "      <td>93.858036</td>\n",
       "      <td>6730.445720</td>\n",
       "      <td>5953.8295</td>\n",
       "      <td>5177.213280</td>\n",
       "      <td>73.940997</td>\n",
       "      <td>94.100321</td>\n",
       "      <td>94.801443</td>\n",
       "      <td>392.968695</td>\n",
       "      <td>0</td>\n",
       "    </tr>\n",
       "    <tr>\n",
       "      <th>2017-11-03 00:00:00+00:00</th>\n",
       "      <td>7010.31</td>\n",
       "      <td>7346.34</td>\n",
       "      <td>6923.00</td>\n",
       "      <td>7115.04</td>\n",
       "      <td>1891.497592</td>\n",
       "      <td>7019.98</td>\n",
       "      <td>95.06</td>\n",
       "      <td>6753.98</td>\n",
       "      <td>266.00</td>\n",
       "      <td>1</td>\n",
       "      <td>...</td>\n",
       "      <td>92.824439</td>\n",
       "      <td>85.573346</td>\n",
       "      <td>6941.234642</td>\n",
       "      <td>6016.0820</td>\n",
       "      <td>5090.929358</td>\n",
       "      <td>74.894814</td>\n",
       "      <td>91.155722</td>\n",
       "      <td>93.488059</td>\n",
       "      <td>395.138074</td>\n",
       "      <td>0</td>\n",
       "    </tr>\n",
       "    <tr>\n",
       "      <th>2017-11-04 00:00:00+00:00</th>\n",
       "      <td>7115.02</td>\n",
       "      <td>7480.99</td>\n",
       "      <td>6901.00</td>\n",
       "      <td>7357.09</td>\n",
       "      <td>1399.191767</td>\n",
       "      <td>7115.04</td>\n",
       "      <td>242.05</td>\n",
       "      <td>7019.98</td>\n",
       "      <td>95.06</td>\n",
       "      <td>1</td>\n",
       "      <td>...</td>\n",
       "      <td>90.994361</td>\n",
       "      <td>83.930424</td>\n",
       "      <td>7179.963724</td>\n",
       "      <td>6098.4370</td>\n",
       "      <td>5016.910276</td>\n",
       "      <td>77.184755</td>\n",
       "      <td>89.736906</td>\n",
       "      <td>91.664316</td>\n",
       "      <td>408.341783</td>\n",
       "      <td>0</td>\n",
       "    </tr>\n",
       "    <tr>\n",
       "      <th>...</th>\n",
       "      <td>...</td>\n",
       "      <td>...</td>\n",
       "      <td>...</td>\n",
       "      <td>...</td>\n",
       "      <td>...</td>\n",
       "      <td>...</td>\n",
       "      <td>...</td>\n",
       "      <td>...</td>\n",
       "      <td>...</td>\n",
       "      <td>...</td>\n",
       "      <td>...</td>\n",
       "      <td>...</td>\n",
       "      <td>...</td>\n",
       "      <td>...</td>\n",
       "      <td>...</td>\n",
       "      <td>...</td>\n",
       "      <td>...</td>\n",
       "      <td>...</td>\n",
       "      <td>...</td>\n",
       "      <td>...</td>\n",
       "      <td>...</td>\n",
       "    </tr>\n",
       "    <tr>\n",
       "      <th>2022-10-25 00:00:00+00:00</th>\n",
       "      <td>19330.60</td>\n",
       "      <td>20415.87</td>\n",
       "      <td>19237.00</td>\n",
       "      <td>20080.07</td>\n",
       "      <td>326370.670610</td>\n",
       "      <td>19329.72</td>\n",
       "      <td>750.35</td>\n",
       "      <td>19570.40</td>\n",
       "      <td>-240.68</td>\n",
       "      <td>1</td>\n",
       "      <td>...</td>\n",
       "      <td>67.935284</td>\n",
       "      <td>96.545180</td>\n",
       "      <td>19901.461354</td>\n",
       "      <td>19348.5835</td>\n",
       "      <td>18795.705646</td>\n",
       "      <td>58.826296</td>\n",
       "      <td>75.983475</td>\n",
       "      <td>68.864837</td>\n",
       "      <td>633.404103</td>\n",
       "      <td>0</td>\n",
       "    </tr>\n",
       "    <tr>\n",
       "      <th>2022-10-26 00:00:00+00:00</th>\n",
       "      <td>20079.02</td>\n",
       "      <td>21020.00</td>\n",
       "      <td>20050.41</td>\n",
       "      <td>20771.59</td>\n",
       "      <td>380492.695760</td>\n",
       "      <td>20080.07</td>\n",
       "      <td>691.52</td>\n",
       "      <td>19329.72</td>\n",
       "      <td>750.35</td>\n",
       "      <td>1</td>\n",
       "      <td>...</td>\n",
       "      <td>73.473149</td>\n",
       "      <td>87.883366</td>\n",
       "      <td>20182.324011</td>\n",
       "      <td>19389.1295</td>\n",
       "      <td>18595.934989</td>\n",
       "      <td>65.544074</td>\n",
       "      <td>80.274704</td>\n",
       "      <td>74.375950</td>\n",
       "      <td>657.417381</td>\n",
       "      <td>100</td>\n",
       "    </tr>\n",
       "    <tr>\n",
       "      <th>2022-10-27 00:00:00+00:00</th>\n",
       "      <td>20771.61</td>\n",
       "      <td>20872.21</td>\n",
       "      <td>20200.00</td>\n",
       "      <td>20295.11</td>\n",
       "      <td>328643.577910</td>\n",
       "      <td>20771.59</td>\n",
       "      <td>-476.48</td>\n",
       "      <td>20080.07</td>\n",
       "      <td>691.52</td>\n",
       "      <td>0</td>\n",
       "      <td>...</td>\n",
       "      <td>78.573531</td>\n",
       "      <td>82.769305</td>\n",
       "      <td>20312.530847</td>\n",
       "      <td>19427.3805</td>\n",
       "      <td>18542.230153</td>\n",
       "      <td>58.465730</td>\n",
       "      <td>81.849983</td>\n",
       "      <td>79.369387</td>\n",
       "      <td>658.473997</td>\n",
       "      <td>0</td>\n",
       "    </tr>\n",
       "    <tr>\n",
       "      <th>2022-10-28 00:00:00+00:00</th>\n",
       "      <td>20295.11</td>\n",
       "      <td>20750.00</td>\n",
       "      <td>20000.09</td>\n",
       "      <td>20591.84</td>\n",
       "      <td>287039.945690</td>\n",
       "      <td>20295.11</td>\n",
       "      <td>296.73</td>\n",
       "      <td>20771.59</td>\n",
       "      <td>-476.48</td>\n",
       "      <td>1</td>\n",
       "      <td>...</td>\n",
       "      <td>79.512522</td>\n",
       "      <td>81.841623</td>\n",
       "      <td>20506.313016</td>\n",
       "      <td>19486.0745</td>\n",
       "      <td>18465.835984</td>\n",
       "      <td>61.270767</td>\n",
       "      <td>80.856788</td>\n",
       "      <td>80.993825</td>\n",
       "      <td>665.005140</td>\n",
       "      <td>0</td>\n",
       "    </tr>\n",
       "    <tr>\n",
       "      <th>2022-10-29 00:00:00+00:00</th>\n",
       "      <td>20591.84</td>\n",
       "      <td>21085.00</td>\n",
       "      <td>20554.01</td>\n",
       "      <td>20809.67</td>\n",
       "      <td>254881.777550</td>\n",
       "      <td>20591.84</td>\n",
       "      <td>217.83</td>\n",
       "      <td>20295.11</td>\n",
       "      <td>296.73</td>\n",
       "      <td>1</td>\n",
       "      <td>...</td>\n",
       "      <td>80.091550</td>\n",
       "      <td>79.857815</td>\n",
       "      <td>20725.947258</td>\n",
       "      <td>19554.6070</td>\n",
       "      <td>18383.266742</td>\n",
       "      <td>63.233774</td>\n",
       "      <td>80.013638</td>\n",
       "      <td>80.906803</td>\n",
       "      <td>655.432630</td>\n",
       "      <td>0</td>\n",
       "    </tr>\n",
       "  </tbody>\n",
       "</table>\n",
       "<p>1825 rows × 35 columns</p>\n",
       "</div>"
      ],
      "text/plain": [
       "                               Open      High       Low     Close  \\\n",
       "datetime                                                            \n",
       "2017-10-31 00:00:00+00:00   6120.52   6498.01   6100.00   6463.00   \n",
       "2017-11-01 00:00:00+00:00   6463.00   6774.67   6338.02   6753.98   \n",
       "2017-11-02 00:00:00+00:00   6753.98   7300.00   6685.10   7019.98   \n",
       "2017-11-03 00:00:00+00:00   7010.31   7346.34   6923.00   7115.04   \n",
       "2017-11-04 00:00:00+00:00   7115.02   7480.99   6901.00   7357.09   \n",
       "...                             ...       ...       ...       ...   \n",
       "2022-10-25 00:00:00+00:00  19330.60  20415.87  19237.00  20080.07   \n",
       "2022-10-26 00:00:00+00:00  20079.02  21020.00  20050.41  20771.59   \n",
       "2022-10-27 00:00:00+00:00  20771.61  20872.21  20200.00  20295.11   \n",
       "2022-10-28 00:00:00+00:00  20295.11  20750.00  20000.09  20591.84   \n",
       "2022-10-29 00:00:00+00:00  20591.84  21085.00  20554.01  20809.67   \n",
       "\n",
       "                                  Volume  Anterior  Diferencia  Anterior-1  \\\n",
       "datetime                                                                     \n",
       "2017-10-31 00:00:00+00:00    1511.774925   6120.50      342.50     6169.98   \n",
       "2017-11-01 00:00:00+00:00    1675.615188   6463.00      290.98     6120.50   \n",
       "2017-11-02 00:00:00+00:00    2503.610803   6753.98      266.00     6463.00   \n",
       "2017-11-03 00:00:00+00:00    1891.497592   7019.98       95.06     6753.98   \n",
       "2017-11-04 00:00:00+00:00    1399.191767   7115.04      242.05     7019.98   \n",
       "...                                  ...       ...         ...         ...   \n",
       "2022-10-25 00:00:00+00:00  326370.670610  19329.72      750.35    19570.40   \n",
       "2022-10-26 00:00:00+00:00  380492.695760  20080.07      691.52    19329.72   \n",
       "2022-10-27 00:00:00+00:00  328643.577910  20771.59     -476.48    20080.07   \n",
       "2022-10-28 00:00:00+00:00  287039.945690  20295.11      296.73    20771.59   \n",
       "2022-10-29 00:00:00+00:00  254881.777550  20591.84      217.83    20295.11   \n",
       "\n",
       "                           Diferencia-1  Subida  ...          D           J  \\\n",
       "datetime                                         ...                          \n",
       "2017-10-31 00:00:00+00:00        -49.48       1  ...  79.581270  122.414042   \n",
       "2017-11-01 00:00:00+00:00        342.50       1  ...  88.597363  105.195119   \n",
       "2017-11-02 00:00:00+00:00        290.98       1  ...  93.974923   93.858036   \n",
       "2017-11-03 00:00:00+00:00        266.00       1  ...  92.824439   85.573346   \n",
       "2017-11-04 00:00:00+00:00         95.06       1  ...  90.994361   83.930424   \n",
       "...                                 ...     ...  ...        ...         ...   \n",
       "2022-10-25 00:00:00+00:00       -240.68       1  ...  67.935284   96.545180   \n",
       "2022-10-26 00:00:00+00:00        750.35       1  ...  73.473149   87.883366   \n",
       "2022-10-27 00:00:00+00:00        691.52       0  ...  78.573531   82.769305   \n",
       "2022-10-28 00:00:00+00:00       -476.48       1  ...  79.512522   81.841623   \n",
       "2022-10-29 00:00:00+00:00        296.73       1  ...  80.091550   79.857815   \n",
       "\n",
       "                           Banda_superior  Banda_media  Banda_inferior  \\\n",
       "datetime                                                                 \n",
       "2017-10-31 00:00:00+00:00     6317.646599    5819.1305     5320.614401   \n",
       "2017-11-01 00:00:00+00:00     6498.104564    5885.3295     5272.554436   \n",
       "2017-11-02 00:00:00+00:00     6730.445720    5953.8295     5177.213280   \n",
       "2017-11-03 00:00:00+00:00     6941.234642    6016.0820     5090.929358   \n",
       "2017-11-04 00:00:00+00:00     7179.963724    6098.4370     5016.910276   \n",
       "...                                   ...          ...             ...   \n",
       "2022-10-25 00:00:00+00:00    19901.461354   19348.5835    18795.705646   \n",
       "2022-10-26 00:00:00+00:00    20182.324011   19389.1295    18595.934989   \n",
       "2022-10-27 00:00:00+00:00    20312.530847   19427.3805    18542.230153   \n",
       "2022-10-28 00:00:00+00:00    20506.313016   19486.0745    18465.835984   \n",
       "2022-10-29 00:00:00+00:00    20725.947258   19554.6070    18383.266742   \n",
       "\n",
       "                                 RSI      slowk      slowd         ATR  \\\n",
       "datetime                                                                 \n",
       "2017-10-31 00:00:00+00:00  67.467110  95.095872  84.008822  371.223753   \n",
       "2017-11-01 00:00:00+00:00  71.086705  95.208135  90.973516  375.897056   \n",
       "2017-11-02 00:00:00+00:00  73.940997  94.100321  94.801443  392.968695   \n",
       "2017-11-03 00:00:00+00:00  74.894814  91.155722  93.488059  395.138074   \n",
       "2017-11-04 00:00:00+00:00  77.184755  89.736906  91.664316  408.341783   \n",
       "...                              ...        ...        ...         ...   \n",
       "2022-10-25 00:00:00+00:00  58.826296  75.983475  68.864837  633.404103   \n",
       "2022-10-26 00:00:00+00:00  65.544074  80.274704  74.375950  657.417381   \n",
       "2022-10-27 00:00:00+00:00  58.465730  81.849983  79.369387  658.473997   \n",
       "2022-10-28 00:00:00+00:00  61.270767  80.856788  80.993825  665.005140   \n",
       "2022-10-29 00:00:00+00:00  63.233774  80.013638  80.906803  655.432630   \n",
       "\n",
       "                           BELTHOLD  \n",
       "datetime                             \n",
       "2017-10-31 00:00:00+00:00       100  \n",
       "2017-11-01 00:00:00+00:00         0  \n",
       "2017-11-02 00:00:00+00:00         0  \n",
       "2017-11-03 00:00:00+00:00         0  \n",
       "2017-11-04 00:00:00+00:00         0  \n",
       "...                             ...  \n",
       "2022-10-25 00:00:00+00:00         0  \n",
       "2022-10-26 00:00:00+00:00       100  \n",
       "2022-10-27 00:00:00+00:00         0  \n",
       "2022-10-28 00:00:00+00:00         0  \n",
       "2022-10-29 00:00:00+00:00         0  \n",
       "\n",
       "[1825 rows x 35 columns]"
      ]
     },
     "execution_count": 25,
     "metadata": {},
     "output_type": "execute_result"
    }
   ],
   "source": [
    "X_t3"
   ]
  },
  {
   "cell_type": "code",
   "execution_count": null,
   "metadata": {},
   "outputs": [],
   "source": []
  },
  {
   "cell_type": "code",
   "execution_count": null,
   "metadata": {},
   "outputs": [],
   "source": []
  },
  {
   "cell_type": "code",
   "execution_count": null,
   "metadata": {},
   "outputs": [],
   "source": []
  },
  {
   "cell_type": "code",
   "execution_count": null,
   "metadata": {},
   "outputs": [],
   "source": []
  }
 ],
 "metadata": {
  "kernelspec": {
   "display_name": "Python 3",
   "language": "python",
   "name": "python3"
  },
  "language_info": {
   "codemirror_mode": {
    "name": "ipython",
    "version": 3
   },
   "file_extension": ".py",
   "mimetype": "text/x-python",
   "name": "python",
   "nbconvert_exporter": "python",
   "pygments_lexer": "ipython3",
   "version": "3.7.6"
  }
 },
 "nbformat": 4,
 "nbformat_minor": 4
}
