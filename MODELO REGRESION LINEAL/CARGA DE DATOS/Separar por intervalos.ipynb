{
 "cells": [
  {
   "cell_type": "markdown",
   "metadata": {},
   "source": [
    "Carga de datos:"
   ]
  },
  {
   "cell_type": "code",
   "execution_count": 67,
   "metadata": {},
   "outputs": [],
   "source": [
    "run Datos-1dia.ipynb"
   ]
  },
  {
   "cell_type": "markdown",
   "metadata": {},
   "source": [
    "Vamos a ver gráficamente como se distribuyen los intervalos:"
   ]
  },
  {
   "cell_type": "code",
   "execution_count": 64,
   "metadata": {
    "scrolled": true
   },
   "outputs": [
    {
     "data": {
      "text/plain": [
       "[<matplotlib.lines.Line2D at 0x25c5ef46b48>]"
      ]
     },
     "execution_count": 64,
     "metadata": {},
     "output_type": "execute_result"
    },
    {
     "data": {
      "image/png": "[encoded data removed]",
      "text/plain": [
       "<Figure size 432x288 with 1 Axes>"
      ]
     },
     "metadata": {
      "needs_background": "light"
     },
     "output_type": "display_data"
    }
   ],
   "source": [
    "plt.plot((X_t1['Diferencia']*100)/X_t1['Anterior'])"
   ]
  },
  {
   "cell_type": "markdown",
   "metadata": {},
   "source": [
    "Como hemos visto que los intervalos se mueven entre -20% y 20% (solo hay algunos valores que despuntan, vamos a clasificar en los siguientes conjuntos:\n",
    "\n",
    "- Conjunto 1 - el porcentaje es mayor de 20%\n",
    "- Conjunto 2 - el porcentaje esta entre el 10% y el 20%\n",
    "- Conjunto 3 - el porcentaje esta entre el 5% y el 10%\n",
    "- Conjunto 4 - el porcentaje esta entre el 0% y el 5%\n",
    "- Conjunto 5 - el porcentaje esta entre el -5% y el 0%\n",
    "- Conjunto 6 - el porcentaje esta entre el -10% y el -5%\n",
    "- Conjunto 7 - el porcentaje esta entre el -20% y el -10%\n",
    "- Conjunto 8 - el porcentaje es menor de -20%\n",
    "\n"
   ]
  },
  {
   "cell_type": "code",
   "execution_count": 68,
   "metadata": {},
   "outputs": [],
   "source": [
    "def porintervalos (X):\n",
    "\n",
    "    intervalos = (X['Diferencia']*100)/X['Anterior']\n",
    "    for i in range(0,len(X)):\n",
    "        int = intervalos[i]\n",
    "        if (20 < int ):\n",
    "            intervalos[i] = 1\n",
    "            \n",
    "        elif (20>int>10):\n",
    "            intervalos[i]=2\n",
    "  \n",
    "        elif (10>int>5):\n",
    "            intervalos[i]=3            \n",
    "            \n",
    "        elif (5>int>0):\n",
    "            intervalos[i]=4            \n",
    "            \n",
    "        elif (0>int>-5):\n",
    "            intervalos[i]=5\n",
    "  \n",
    "        elif (-5>int>-10):\n",
    "            intervalos[i]=6            \n",
    "            \n",
    "        elif (-10>int>-20):\n",
    "            intervalos[i]=7                                \n",
    "            \n",
    "        else:\n",
    "            intervalos[i] = 8\n",
    "    return intervalos"
   ]
  },
  {
   "cell_type": "code",
   "execution_count": 70,
   "metadata": {},
   "outputs": [
    {
     "data": {
      "text/html": [
       "<div>\n",
       "<style scoped>\n",
       "    .dataframe tbody tr th:only-of-type {\n",
       "        vertical-align: middle;\n",
       "    }\n",
       "\n",
       "    .dataframe tbody tr th {\n",
       "        vertical-align: top;\n",
       "    }\n",
       "\n",
       "    .dataframe thead th {\n",
       "        text-align: right;\n",
       "    }\n",
       "</style>\n",
       "<table border=\"1\" class=\"dataframe\">\n",
       "  <thead>\n",
       "    <tr style=\"text-align: right;\">\n",
       "      <th></th>\n",
       "      <th>Open</th>\n",
       "      <th>High</th>\n",
       "      <th>Low</th>\n",
       "      <th>Close</th>\n",
       "      <th>Volume</th>\n",
       "      <th>Anterior</th>\n",
       "      <th>Diferencia</th>\n",
       "      <th>Anterior-1</th>\n",
       "      <th>Diferencia-1</th>\n",
       "      <th>Subida</th>\n",
       "      <th>Subida-1</th>\n",
       "    </tr>\n",
       "    <tr>\n",
       "      <th>datetime</th>\n",
       "      <th></th>\n",
       "      <th></th>\n",
       "      <th></th>\n",
       "      <th></th>\n",
       "      <th></th>\n",
       "      <th></th>\n",
       "      <th></th>\n",
       "      <th></th>\n",
       "      <th></th>\n",
       "      <th></th>\n",
       "      <th></th>\n",
       "    </tr>\n",
       "  </thead>\n",
       "  <tbody>\n",
       "    <tr>\n",
       "      <th>2017-08-19 00:00:00+00:00</th>\n",
       "      <td>4108.37</td>\n",
       "      <td>4184.69</td>\n",
       "      <td>3850.00</td>\n",
       "      <td>4139.98</td>\n",
       "      <td>381.309763</td>\n",
       "      <td>4108.37</td>\n",
       "      <td>31.61</td>\n",
       "      <td>4285.08</td>\n",
       "      <td>-176.71</td>\n",
       "      <td>1</td>\n",
       "      <td>0</td>\n",
       "    </tr>\n",
       "    <tr>\n",
       "      <th>2017-08-20 00:00:00+00:00</th>\n",
       "      <td>4120.98</td>\n",
       "      <td>4211.08</td>\n",
       "      <td>4032.62</td>\n",
       "      <td>4086.29</td>\n",
       "      <td>467.083022</td>\n",
       "      <td>4139.98</td>\n",
       "      <td>-53.69</td>\n",
       "      <td>4108.37</td>\n",
       "      <td>31.61</td>\n",
       "      <td>0</td>\n",
       "      <td>1</td>\n",
       "    </tr>\n",
       "    <tr>\n",
       "      <th>2017-08-21 00:00:00+00:00</th>\n",
       "      <td>4069.13</td>\n",
       "      <td>4119.62</td>\n",
       "      <td>3911.79</td>\n",
       "      <td>4016.00</td>\n",
       "      <td>691.743060</td>\n",
       "      <td>4086.29</td>\n",
       "      <td>-70.29</td>\n",
       "      <td>4139.98</td>\n",
       "      <td>-53.69</td>\n",
       "      <td>0</td>\n",
       "      <td>0</td>\n",
       "    </tr>\n",
       "    <tr>\n",
       "      <th>2017-08-22 00:00:00+00:00</th>\n",
       "      <td>4016.00</td>\n",
       "      <td>4104.82</td>\n",
       "      <td>3400.00</td>\n",
       "      <td>4040.00</td>\n",
       "      <td>966.684858</td>\n",
       "      <td>4016.00</td>\n",
       "      <td>24.00</td>\n",
       "      <td>4086.29</td>\n",
       "      <td>-70.29</td>\n",
       "      <td>1</td>\n",
       "      <td>0</td>\n",
       "    </tr>\n",
       "    <tr>\n",
       "      <th>2017-08-23 00:00:00+00:00</th>\n",
       "      <td>4040.00</td>\n",
       "      <td>4265.80</td>\n",
       "      <td>4013.89</td>\n",
       "      <td>4114.01</td>\n",
       "      <td>1001.136565</td>\n",
       "      <td>4040.00</td>\n",
       "      <td>74.01</td>\n",
       "      <td>4016.00</td>\n",
       "      <td>24.00</td>\n",
       "      <td>1</td>\n",
       "      <td>1</td>\n",
       "    </tr>\n",
       "    <tr>\n",
       "      <th>...</th>\n",
       "      <td>...</td>\n",
       "      <td>...</td>\n",
       "      <td>...</td>\n",
       "      <td>...</td>\n",
       "      <td>...</td>\n",
       "      <td>...</td>\n",
       "      <td>...</td>\n",
       "      <td>...</td>\n",
       "      <td>...</td>\n",
       "      <td>...</td>\n",
       "      <td>...</td>\n",
       "    </tr>\n",
       "    <tr>\n",
       "      <th>2022-09-16 00:00:00+00:00</th>\n",
       "      <td>19701.88</td>\n",
       "      <td>19890.00</td>\n",
       "      <td>19320.01</td>\n",
       "      <td>19803.30</td>\n",
       "      <td>283791.070640</td>\n",
       "      <td>19701.88</td>\n",
       "      <td>101.42</td>\n",
       "      <td>20226.71</td>\n",
       "      <td>-524.83</td>\n",
       "      <td>1</td>\n",
       "      <td>0</td>\n",
       "    </tr>\n",
       "    <tr>\n",
       "      <th>2022-09-17 00:00:00+00:00</th>\n",
       "      <td>19803.30</td>\n",
       "      <td>20189.00</td>\n",
       "      <td>19748.08</td>\n",
       "      <td>20113.62</td>\n",
       "      <td>179350.243380</td>\n",
       "      <td>19803.30</td>\n",
       "      <td>310.32</td>\n",
       "      <td>19701.88</td>\n",
       "      <td>101.42</td>\n",
       "      <td>1</td>\n",
       "      <td>1</td>\n",
       "    </tr>\n",
       "    <tr>\n",
       "      <th>2022-09-18 00:00:00+00:00</th>\n",
       "      <td>20112.61</td>\n",
       "      <td>20117.26</td>\n",
       "      <td>19335.62</td>\n",
       "      <td>19416.18</td>\n",
       "      <td>254217.469040</td>\n",
       "      <td>20113.62</td>\n",
       "      <td>-697.44</td>\n",
       "      <td>19803.30</td>\n",
       "      <td>310.32</td>\n",
       "      <td>0</td>\n",
       "      <td>1</td>\n",
       "    </tr>\n",
       "    <tr>\n",
       "      <th>2022-09-19 00:00:00+00:00</th>\n",
       "      <td>19417.45</td>\n",
       "      <td>19686.20</td>\n",
       "      <td>18232.56</td>\n",
       "      <td>19537.02</td>\n",
       "      <td>380512.403060</td>\n",
       "      <td>19416.18</td>\n",
       "      <td>120.84</td>\n",
       "      <td>20113.62</td>\n",
       "      <td>-697.44</td>\n",
       "      <td>1</td>\n",
       "      <td>0</td>\n",
       "    </tr>\n",
       "    <tr>\n",
       "      <th>2022-09-20 00:00:00+00:00</th>\n",
       "      <td>19537.02</td>\n",
       "      <td>19634.62</td>\n",
       "      <td>18711.87</td>\n",
       "      <td>18875.00</td>\n",
       "      <td>324098.328600</td>\n",
       "      <td>19537.02</td>\n",
       "      <td>-662.02</td>\n",
       "      <td>19416.18</td>\n",
       "      <td>120.84</td>\n",
       "      <td>0</td>\n",
       "      <td>1</td>\n",
       "    </tr>\n",
       "  </tbody>\n",
       "</table>\n",
       "<p>1859 rows × 11 columns</p>\n",
       "</div>"
      ],
      "text/plain": [
       "                               Open      High       Low     Close  \\\n",
       "datetime                                                            \n",
       "2017-08-19 00:00:00+00:00   4108.37   4184.69   3850.00   4139.98   \n",
       "2017-08-20 00:00:00+00:00   4120.98   4211.08   4032.62   4086.29   \n",
       "2017-08-21 00:00:00+00:00   4069.13   4119.62   3911.79   4016.00   \n",
       "2017-08-22 00:00:00+00:00   4016.00   4104.82   3400.00   4040.00   \n",
       "2017-08-23 00:00:00+00:00   4040.00   4265.80   4013.89   4114.01   \n",
       "...                             ...       ...       ...       ...   \n",
       "2022-09-16 00:00:00+00:00  19701.88  19890.00  19320.01  19803.30   \n",
       "2022-09-17 00:00:00+00:00  19803.30  20189.00  19748.08  20113.62   \n",
       "2022-09-18 00:00:00+00:00  20112.61  20117.26  19335.62  19416.18   \n",
       "2022-09-19 00:00:00+00:00  19417.45  19686.20  18232.56  19537.02   \n",
       "2022-09-20 00:00:00+00:00  19537.02  19634.62  18711.87  18875.00   \n",
       "\n",
       "                                  Volume  Anterior  Diferencia  Anterior-1  \\\n",
       "datetime                                                                     \n",
       "2017-08-19 00:00:00+00:00     381.309763   4108.37       31.61     4285.08   \n",
       "2017-08-20 00:00:00+00:00     467.083022   4139.98      -53.69     4108.37   \n",
       "2017-08-21 00:00:00+00:00     691.743060   4086.29      -70.29     4139.98   \n",
       "2017-08-22 00:00:00+00:00     966.684858   4016.00       24.00     4086.29   \n",
       "2017-08-23 00:00:00+00:00    1001.136565   4040.00       74.01     4016.00   \n",
       "...                                  ...       ...         ...         ...   \n",
       "2022-09-16 00:00:00+00:00  283791.070640  19701.88      101.42    20226.71   \n",
       "2022-09-17 00:00:00+00:00  179350.243380  19803.30      310.32    19701.88   \n",
       "2022-09-18 00:00:00+00:00  254217.469040  20113.62     -697.44    19803.30   \n",
       "2022-09-19 00:00:00+00:00  380512.403060  19416.18      120.84    20113.62   \n",
       "2022-09-20 00:00:00+00:00  324098.328600  19537.02     -662.02    19416.18   \n",
       "\n",
       "                           Diferencia-1  Subida  Subida-1  \n",
       "datetime                                                   \n",
       "2017-08-19 00:00:00+00:00       -176.71       1         0  \n",
       "2017-08-20 00:00:00+00:00         31.61       0         1  \n",
       "2017-08-21 00:00:00+00:00        -53.69       0         0  \n",
       "2017-08-22 00:00:00+00:00        -70.29       1         0  \n",
       "2017-08-23 00:00:00+00:00         24.00       1         1  \n",
       "...                                 ...     ...       ...  \n",
       "2022-09-16 00:00:00+00:00       -524.83       1         0  \n",
       "2022-09-17 00:00:00+00:00        101.42       1         1  \n",
       "2022-09-18 00:00:00+00:00        310.32       0         1  \n",
       "2022-09-19 00:00:00+00:00       -697.44       1         0  \n",
       "2022-09-20 00:00:00+00:00        120.84       0         1  \n",
       "\n",
       "[1859 rows x 11 columns]"
      ]
     },
     "execution_count": 70,
     "metadata": {},
     "output_type": "execute_result"
    }
   ],
   "source": [
    "X_t1"
   ]
  },
  {
   "cell_type": "code",
   "execution_count": 71,
   "metadata": {
    "scrolled": false
   },
   "outputs": [
    {
     "data": {
      "text/plain": [
       "datetime\n",
       "2017-08-19 00:00:00+00:00    4.0\n",
       "2017-08-20 00:00:00+00:00    5.0\n",
       "2017-08-21 00:00:00+00:00    5.0\n",
       "2017-08-22 00:00:00+00:00    4.0\n",
       "2017-08-23 00:00:00+00:00    4.0\n",
       "                            ... \n",
       "2022-09-16 00:00:00+00:00    4.0\n",
       "2022-09-17 00:00:00+00:00    4.0\n",
       "2022-09-18 00:00:00+00:00    5.0\n",
       "2022-09-19 00:00:00+00:00    4.0\n",
       "2022-09-20 00:00:00+00:00    5.0\n",
       "Length: 1859, dtype: float64"
      ]
     },
     "execution_count": 71,
     "metadata": {},
     "output_type": "execute_result"
    }
   ],
   "source": [
    "y_intervalos = porintervalos(X_t1)\n",
    "y_intervalos"
   ]
  },
  {
   "cell_type": "markdown",
   "metadata": {},
   "source": [
    "Veamos como se han distribuido los datos en los diferentes conjuntos:"
   ]
  },
  {
   "cell_type": "code",
   "execution_count": 74,
   "metadata": {},
   "outputs": [
    {
     "data": {
      "text/plain": [
       "4.0    808\n",
       "5.0    737\n",
       "6.0    126\n",
       "3.0    121\n",
       "2.0     38\n",
       "7.0     27\n",
       "1.0      1\n",
       "8.0      1\n",
       "dtype: int64"
      ]
     },
     "execution_count": 74,
     "metadata": {},
     "output_type": "execute_result"
    }
   ],
   "source": [
    "y_intervalos.value_counts()"
   ]
  },
  {
   "cell_type": "markdown",
   "metadata": {},
   "source": [
    "Redefinimos las dimensiones de las variables para que cuadren:"
   ]
  },
  {
   "cell_type": "code",
   "execution_count": 81,
   "metadata": {},
   "outputs": [],
   "source": [
    "y_t1 = y_intervalos.shift(-1).dropna()\n",
    "X_t1 = X_t1[:-1]"
   ]
  },
  {
   "cell_type": "code",
   "execution_count": null,
   "metadata": {},
   "outputs": [],
   "source": []
  },
  {
   "cell_type": "code",
   "execution_count": null,
   "metadata": {},
   "outputs": [],
   "source": []
  },
  {
   "cell_type": "code",
   "execution_count": null,
   "metadata": {},
   "outputs": [],
   "source": []
  }
 ],
 "metadata": {
  "kernelspec": {
   "display_name": "Python 3",
   "language": "python",
   "name": "python3"
  },
  "language_info": {
   "codemirror_mode": {
    "name": "ipython",
    "version": 3
   },
   "file_extension": ".py",
   "mimetype": "text/x-python",
   "name": "python",
   "nbconvert_exporter": "python",
   "pygments_lexer": "ipython3",
   "version": "3.7.6"
  }
 },
 "nbformat": 4,
 "nbformat_minor": 4
}
