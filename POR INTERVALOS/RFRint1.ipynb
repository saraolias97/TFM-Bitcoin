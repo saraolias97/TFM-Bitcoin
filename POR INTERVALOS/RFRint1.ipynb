{
 "cells": [
  {
   "cell_type": "markdown",
   "metadata": {},
   "source": [
    "# Random forest regresor"
   ]
  },
  {
   "cell_type": "code",
   "execution_count": 1,
   "metadata": {},
   "outputs": [],
   "source": [
    "from sklearn.metrics import accuracy_score\n",
    "from sklearn.ensemble import RandomForestClassifier\n",
    "from sklearn.metrics import confusion_matrix,balanced_accuracy_score,classification_report\n",
    "from hyperopt import hp, fmin, tpe, Trials, STATUS_OK\n",
    "from hyperopt.pyll import scope"
   ]
  },
  {
   "cell_type": "markdown",
   "metadata": {},
   "source": [
    "# DIARIO"
   ]
  },
  {
   "cell_type": "code",
   "execution_count": 2,
   "metadata": {},
   "outputs": [
    {
     "data": {
      "image/png": "[encoded data removed]",
      "text/plain": [
       "<Figure size 432x288 with 1 Axes>"
      ]
     },
     "metadata": {
      "needs_background": "light"
     },
     "output_type": "display_data"
    }
   ],
   "source": [
    "run 1dia-porintervalos1.ipynb"
   ]
  },
  {
   "cell_type": "markdown",
   "metadata": {},
   "source": [
    "# Random forest regresor"
   ]
  },
  {
   "cell_type": "code",
   "execution_count": 3,
   "metadata": {},
   "outputs": [],
   "source": [
    "from sklearn.metrics import accuracy_score\n",
    "from sklearn.ensemble import RandomForestClassifier\n",
    "from sklearn.metrics import confusion_matrix,balanced_accuracy_score,classification_report\n",
    "from hyperopt import hp, fmin, tpe, Trials, STATUS_OK\n",
    "from hyperopt.pyll import scope"
   ]
  },
  {
   "cell_type": "markdown",
   "metadata": {},
   "source": [
    "### EXPERIMENTO 1: MODELO BASE"
   ]
  },
  {
   "cell_type": "code",
   "execution_count": 4,
   "metadata": {
    "scrolled": true
   },
   "outputs": [
    {
     "name": "stdout",
     "output_type": "stream",
     "text": [
      "Tasa de acierto en rf: 0.40\n",
      "Tasa de aciertos balanceada regresión logística: 0.17\n",
      "Matriz de confusión:\n",
      "[[  0   0   2   1   0   0]\n",
      " [  0   1   7   5   0   0]\n",
      " [  0   4  91  64   2   0]\n",
      " [  0   9 102  62   0   0]\n",
      " [  0   0  21   6   0   0]\n",
      " [  0   1   2   1   0   0]]\n",
      "              precision    recall  f1-score   support\n",
      "\n",
      "         1.0       0.00      0.00      0.00         3\n",
      "         2.0       0.07      0.08      0.07        13\n",
      "         3.0       0.40      0.57      0.47       161\n",
      "         4.0       0.45      0.36      0.40       173\n",
      "         5.0       0.00      0.00      0.00        27\n",
      "         6.0       0.00      0.00      0.00         4\n",
      "\n",
      "    accuracy                           0.40       381\n",
      "   macro avg       0.15      0.17      0.16       381\n",
      "weighted avg       0.38      0.40      0.38       381\n",
      "\n"
     ]
    },
    {
     "name": "stderr",
     "output_type": "stream",
     "text": [
      "C:\\Users\\SARA\\anaconda3\\lib\\site-packages\\sklearn\\metrics\\_classification.py:1245: UndefinedMetricWarning: Precision and F-score are ill-defined and being set to 0.0 in labels with no predicted samples. Use `zero_division` parameter to control this behavior.\n",
      "  _warn_prf(average, modifier, msg_start, len(result))\n",
      "C:\\Users\\SARA\\anaconda3\\lib\\site-packages\\sklearn\\metrics\\_classification.py:1245: UndefinedMetricWarning: Precision and F-score are ill-defined and being set to 0.0 in labels with no predicted samples. Use `zero_division` parameter to control this behavior.\n",
      "  _warn_prf(average, modifier, msg_start, len(result))\n",
      "C:\\Users\\SARA\\anaconda3\\lib\\site-packages\\sklearn\\metrics\\_classification.py:1245: UndefinedMetricWarning: Precision and F-score are ill-defined and being set to 0.0 in labels with no predicted samples. Use `zero_division` parameter to control this behavior.\n",
      "  _warn_prf(average, modifier, msg_start, len(result))\n"
     ]
    }
   ],
   "source": [
    "# MODELO CON EL CONJUNTO DE DATOS 1\n",
    "# -------------------------------------------------------------------\n",
    "rf1 = RandomForestClassifier().fit(trainX1, trainy1)\n",
    "y_pred1 = rf1.predict(testX1)\n",
    "confusion1 = confusion_matrix(testy1, y_pred1)\n",
    "print(\"Tasa de acierto en rf: {:.2f}\".format(rf1.score(testX1, testy1)))\n",
    "print(\"Tasa de aciertos balanceada regresión logística: {:.2f}\".format(balanced_accuracy_score(testy1, y_pred1)))\n",
    "print(\"Matriz de confusión:\\n{}\".format(confusion1))\n",
    "print(classification_report(testy1, y_pred1))"
   ]
  },
  {
   "cell_type": "code",
   "execution_count": 5,
   "metadata": {},
   "outputs": [
    {
     "name": "stdout",
     "output_type": "stream",
     "text": [
      "Tasa de acierto en regresión logística: 0.42\n",
      "Tasa de aciertos balanceada regresión logística: 0.17\n",
      "Matriz de confusión:\n",
      "[[  0   0   3   0   0   0]\n",
      " [  0   1   8   4   0   0]\n",
      " [  0   4  95  56   1   0]\n",
      " [  0   7 101  59   1   0]\n",
      " [  0   0  15  11   0   0]\n",
      " [  0   1   3   0   0   0]]\n",
      "              precision    recall  f1-score   support\n",
      "\n",
      "         1.0       0.00      0.00      0.00         3\n",
      "         2.0       0.08      0.08      0.08        13\n",
      "         3.0       0.42      0.61      0.50       156\n",
      "         4.0       0.45      0.35      0.40       168\n",
      "         5.0       0.00      0.00      0.00        26\n",
      "         6.0       0.00      0.00      0.00         4\n",
      "\n",
      "    accuracy                           0.42       370\n",
      "   macro avg       0.16      0.17      0.16       370\n",
      "weighted avg       0.39      0.42      0.39       370\n",
      "\n"
     ]
    },
    {
     "name": "stderr",
     "output_type": "stream",
     "text": [
      "C:\\Users\\SARA\\anaconda3\\lib\\site-packages\\sklearn\\metrics\\_classification.py:1245: UndefinedMetricWarning: Precision and F-score are ill-defined and being set to 0.0 in labels with no predicted samples. Use `zero_division` parameter to control this behavior.\n",
      "  _warn_prf(average, modifier, msg_start, len(result))\n",
      "C:\\Users\\SARA\\anaconda3\\lib\\site-packages\\sklearn\\metrics\\_classification.py:1245: UndefinedMetricWarning: Precision and F-score are ill-defined and being set to 0.0 in labels with no predicted samples. Use `zero_division` parameter to control this behavior.\n",
      "  _warn_prf(average, modifier, msg_start, len(result))\n",
      "C:\\Users\\SARA\\anaconda3\\lib\\site-packages\\sklearn\\metrics\\_classification.py:1245: UndefinedMetricWarning: Precision and F-score are ill-defined and being set to 0.0 in labels with no predicted samples. Use `zero_division` parameter to control this behavior.\n",
      "  _warn_prf(average, modifier, msg_start, len(result))\n"
     ]
    }
   ],
   "source": [
    "# MODELO CON EL CONJUNTO DE DATOS 2\n",
    "# -------------------------------------------------------------------\n",
    "rf2 = RandomForestClassifier().fit(trainX2, trainy2)\n",
    "y_pred2 = rf2.predict(testX2)\n",
    "confusion2 = confusion_matrix(testy2, y_pred2)\n",
    "print(\"Tasa de acierto en regresión logística: {:.2f}\".format(rf2.score(testX2, testy2)))\n",
    "print(\"Tasa de aciertos balanceada regresión logística: {:.2f}\".format(balanced_accuracy_score(testy2, y_pred2)))\n",
    "print(\"Matriz de confusión:\\n{}\".format(confusion2))\n",
    "print(classification_report(testy2, y_pred2))"
   ]
  },
  {
   "cell_type": "code",
   "execution_count": 6,
   "metadata": {},
   "outputs": [
    {
     "name": "stdout",
     "output_type": "stream",
     "text": [
      "Tasa de acierto en regresión logística: 0.43\n",
      "Tasa de aciertos balanceada regresión logística: 0.18\n",
      "Matriz de confusión:\n",
      "[[  0   0   3   0   0   0]\n",
      " [  0   1   8   4   0   0]\n",
      " [  0   8 105  41   0   0]\n",
      " [  0   4 111  51   0   0]\n",
      " [  0   1  15  10   0   0]\n",
      " [  0   0   3   1   0   0]]\n",
      "              precision    recall  f1-score   support\n",
      "\n",
      "         1.0       0.00      0.00      0.00         3\n",
      "         2.0       0.07      0.08      0.07        13\n",
      "         3.0       0.43      0.68      0.53       154\n",
      "         4.0       0.48      0.31      0.37       166\n",
      "         5.0       0.00      0.00      0.00        26\n",
      "         6.0       0.00      0.00      0.00         4\n",
      "\n",
      "    accuracy                           0.43       366\n",
      "   macro avg       0.16      0.18      0.16       366\n",
      "weighted avg       0.40      0.43      0.39       366\n",
      "\n"
     ]
    },
    {
     "name": "stderr",
     "output_type": "stream",
     "text": [
      "C:\\Users\\SARA\\anaconda3\\lib\\site-packages\\sklearn\\metrics\\_classification.py:1245: UndefinedMetricWarning: Precision and F-score are ill-defined and being set to 0.0 in labels with no predicted samples. Use `zero_division` parameter to control this behavior.\n",
      "  _warn_prf(average, modifier, msg_start, len(result))\n",
      "C:\\Users\\SARA\\anaconda3\\lib\\site-packages\\sklearn\\metrics\\_classification.py:1245: UndefinedMetricWarning: Precision and F-score are ill-defined and being set to 0.0 in labels with no predicted samples. Use `zero_division` parameter to control this behavior.\n",
      "  _warn_prf(average, modifier, msg_start, len(result))\n",
      "C:\\Users\\SARA\\anaconda3\\lib\\site-packages\\sklearn\\metrics\\_classification.py:1245: UndefinedMetricWarning: Precision and F-score are ill-defined and being set to 0.0 in labels with no predicted samples. Use `zero_division` parameter to control this behavior.\n",
      "  _warn_prf(average, modifier, msg_start, len(result))\n"
     ]
    }
   ],
   "source": [
    "# MODELO CON EL CONJUNTO DE DATOS 3\n",
    "# -------------------------------------------------------------------\n",
    "rf3 = RandomForestClassifier().fit(trainX3, trainy3)\n",
    "y_pred3 = rf3.predict(testX3)\n",
    "confusion3 = confusion_matrix(testy3, y_pred3)\n",
    "print(\"Tasa de acierto en regresión logística: {:.2f}\".format(rf3.score(testX3, testy3)))\n",
    "print(\"Tasa de aciertos balanceada regresión logística: {:.2f}\".format(balanced_accuracy_score(testy3, y_pred3)))\n",
    "print(\"Matriz de confusión:\\n{}\".format(confusion3))\n",
    "print(classification_report(testy3, y_pred3))"
   ]
  },
  {
   "cell_type": "markdown",
   "metadata": {},
   "source": [
    "### Experimento2: optimización bayesiana\n"
   ]
  },
  {
   "cell_type": "code",
   "execution_count": 7,
   "metadata": {},
   "outputs": [
    {
     "data": {
      "text/plain": [
       "{'criterion': 0,\n",
       " 'max_depth': 610.0,\n",
       " 'max_features': 1,\n",
       " 'min_samples_leaf': 0.055821651122156424,\n",
       " 'min_samples_split': 0.8793390745032267,\n",
       " 'n_estimators': 0}"
      ]
     },
     "execution_count": 7,
     "metadata": {},
     "output_type": "execute_result"
    }
   ],
   "source": [
    "# MODELO CON EL CONJUNTO DE DATOS 1\n",
    "# -------------------------------------------------------------------\n",
    "def objective1(params):\n",
    "   \n",
    "    random_forest = RandomForestClassifier(**params,n_jobs=-1).fit(trainX1, trainy1)\n",
    "    y_pred = random_forest.predict(testX1)\n",
    "    accuracy = random_forest.score(testX1, y_pred)\n",
    "    return {\"loss\": accuracy, \"status\": STATUS_OK}\n",
    "\n",
    "# Definimos los parámetros:\n",
    "param_space = {'criterion': hp.choice('criterion', ['entropy', 'gini']),\n",
    "        'max_depth': hp.quniform('max_depth', 10, 1200, 10),\n",
    "        'max_features': hp.choice('max_features', ['auto', 'sqrt','log2', None]),\n",
    "        'min_samples_leaf': hp.uniform('min_samples_leaf', 0, 0.5),\n",
    "        'min_samples_split' : hp.uniform ('min_samples_split', 0, 1),\n",
    "        'n_estimators' : hp.choice('n_estimators', [10, 50, 300, 750, 1200,1300,1500]) }\n",
    "\n",
    "tpe_algo = tpe.suggest\n",
    "trials = Trials()\n",
    "results = fmin(objective1,space=param_space,algo=tpe_algo,trials=trials,max_evals=100)\n",
    "results"
   ]
  },
  {
   "cell_type": "code",
   "execution_count": 53,
   "metadata": {},
   "outputs": [
    {
     "name": "stdout",
     "output_type": "stream",
     "text": [
      "Tasa de acierto en regresión logística: 0.15\n",
      "Tasa de aciertos balanceada regresión logística: 0.17\n",
      "Matriz de confusión:\n",
      "[[  0   0   0   0   0 127]\n",
      " [  0   0   0   0   0  49]\n",
      " [  0   0   0   0   0  53]\n",
      " [  0   0   0   0   0  64]\n",
      " [  0   0   0   0   0  27]\n",
      " [  0   0   0   0   0  55]]\n",
      "              precision    recall  f1-score   support\n",
      "\n",
      "         1.0       0.00      0.00      0.00       127\n",
      "         2.0       0.00      0.00      0.00        49\n",
      "         3.0       0.00      0.00      0.00        53\n",
      "         4.0       0.00      0.00      0.00        64\n",
      "         5.0       0.00      0.00      0.00        27\n",
      "         6.0       0.15      1.00      0.26        55\n",
      "\n",
      "    accuracy                           0.15       375\n",
      "   macro avg       0.02      0.17      0.04       375\n",
      "weighted avg       0.02      0.15      0.04       375\n",
      "\n"
     ]
    },
    {
     "name": "stderr",
     "output_type": "stream",
     "text": [
      "C:\\Users\\SARA\\anaconda3\\lib\\site-packages\\sklearn\\metrics\\_classification.py:1245: UndefinedMetricWarning: Precision and F-score are ill-defined and being set to 0.0 in labels with no predicted samples. Use `zero_division` parameter to control this behavior.\n",
      "  _warn_prf(average, modifier, msg_start, len(result))\n",
      "C:\\Users\\SARA\\anaconda3\\lib\\site-packages\\sklearn\\metrics\\_classification.py:1245: UndefinedMetricWarning: Precision and F-score are ill-defined and being set to 0.0 in labels with no predicted samples. Use `zero_division` parameter to control this behavior.\n",
      "  _warn_prf(average, modifier, msg_start, len(result))\n",
      "C:\\Users\\SARA\\anaconda3\\lib\\site-packages\\sklearn\\metrics\\_classification.py:1245: UndefinedMetricWarning: Precision and F-score are ill-defined and being set to 0.0 in labels with no predicted samples. Use `zero_division` parameter to control this behavior.\n",
      "  _warn_prf(average, modifier, msg_start, len(result))\n"
     ]
    }
   ],
   "source": [
    "rfob1 = RandomForestClassifier(criterion='entropy', max_depth=610, max_features = 'sqrt',min_samples_leaf = 0.055821651122156424,\n",
    "                               min_samples_split = 0.8793390745032267,n_estimators = 10).fit(trainX1,trainy1)\n",
    "y_pred1 = rfob1.predict(testX1)\n",
    "confusion1 = confusion_matrix(testy1, y_pred1)\n",
    "print(\"Tasa de acierto en regresión logística: {:.2f}\".format(rfob1.score(testX1, testy1)))\n",
    "print(\"Tasa de aciertos balanceada regresión logística: {:.2f}\".format(balanced_accuracy_score(testy1, y_pred1)))\n",
    "print(\"Matriz de confusión:\\n{}\".format(confusion1))\n",
    "print(classification_report(testy1, y_pred1))"
   ]
  },
  {
   "cell_type": "code",
   "execution_count": 9,
   "metadata": {
    "scrolled": true
   },
   "outputs": [
    {
     "data": {
      "text/plain": [
       "{'criterion': 1,\n",
       " 'max_depth': 850.0,\n",
       " 'max_features': 0,\n",
       " 'min_samples_leaf': 0.2791186224844764,\n",
       " 'min_samples_split': 0.5661950435017895,\n",
       " 'n_estimators': 6}"
      ]
     },
     "execution_count": 9,
     "metadata": {},
     "output_type": "execute_result"
    }
   ],
   "source": [
    "# MODELO CON EL CONJUNTO DE DATOS 2\n",
    "# -------------------------------------------------------------------\n",
    "def objective1(params):\n",
    "   \n",
    "    random_forest = RandomForestClassifier(**params,n_jobs=-1).fit(trainX2, trainy2)\n",
    "    y_pred = random_forest.predict(testX2)\n",
    "    accuracy = random_forest.score(testX2, y_pred)\n",
    "    return {\"loss\": accuracy, \"status\": STATUS_OK}\n",
    "\n",
    "# Definimos los parámetros:\n",
    "param_space = {'criterion': hp.choice('criterion', ['entropy', 'gini']),\n",
    "        'max_depth': hp.quniform('max_depth', 10, 1200, 10),\n",
    "        'max_features': hp.choice('max_features', ['auto', 'sqrt','log2', None]),\n",
    "        'min_samples_leaf': hp.uniform('min_samples_leaf', 0, 0.5),\n",
    "        'min_samples_split' : hp.uniform ('min_samples_split', 0, 1),\n",
    "        'n_estimators' : hp.choice('n_estimators', [10, 50, 300, 750, 1200,1300,1500]) }\n",
    "\n",
    "tpe_algo = tpe.suggest\n",
    "trials = Trials()\n",
    "results = fmin(objective1,space=param_space,algo=tpe_algo,trials=trials,max_evals=100)\n",
    "results"
   ]
  },
  {
   "cell_type": "code",
   "execution_count": 54,
   "metadata": {},
   "outputs": [
    {
     "name": "stdout",
     "output_type": "stream",
     "text": [
      "Tasa de acierto en regresión logística: 0.47\n",
      "Tasa de aciertos balanceada regresión logística: 0.33\n",
      "Matriz de confusión:\n",
      "[[127   0   0   0   0   0]\n",
      " [ 47   0   0   0   0   2]\n",
      " [ 36   0   0   0   0  16]\n",
      " [ 38   0   0   0   0  26]\n",
      " [  1   0   0   0   0  26]\n",
      " [  1   0   0   0   0  44]]\n",
      "              precision    recall  f1-score   support\n",
      "\n",
      "         1.0       0.51      1.00      0.67       127\n",
      "         2.0       0.00      0.00      0.00        49\n",
      "         3.0       0.00      0.00      0.00        52\n",
      "         4.0       0.00      0.00      0.00        64\n",
      "         5.0       0.00      0.00      0.00        27\n",
      "         6.0       0.39      0.98      0.55        45\n",
      "\n",
      "    accuracy                           0.47       364\n",
      "   macro avg       0.15      0.33      0.20       364\n",
      "weighted avg       0.22      0.47      0.30       364\n",
      "\n"
     ]
    },
    {
     "name": "stderr",
     "output_type": "stream",
     "text": [
      "C:\\Users\\SARA\\anaconda3\\lib\\site-packages\\sklearn\\metrics\\_classification.py:1245: UndefinedMetricWarning: Precision and F-score are ill-defined and being set to 0.0 in labels with no predicted samples. Use `zero_division` parameter to control this behavior.\n",
      "  _warn_prf(average, modifier, msg_start, len(result))\n",
      "C:\\Users\\SARA\\anaconda3\\lib\\site-packages\\sklearn\\metrics\\_classification.py:1245: UndefinedMetricWarning: Precision and F-score are ill-defined and being set to 0.0 in labels with no predicted samples. Use `zero_division` parameter to control this behavior.\n",
      "  _warn_prf(average, modifier, msg_start, len(result))\n",
      "C:\\Users\\SARA\\anaconda3\\lib\\site-packages\\sklearn\\metrics\\_classification.py:1245: UndefinedMetricWarning: Precision and F-score are ill-defined and being set to 0.0 in labels with no predicted samples. Use `zero_division` parameter to control this behavior.\n",
      "  _warn_prf(average, modifier, msg_start, len(result))\n"
     ]
    }
   ],
   "source": [
    "rfob2 = RandomForestClassifier(criterion='gini', max_depth=850, max_features = 'auto',min_samples_leaf = 0.2791186224844764,\n",
    "                               min_samples_split = 0.5661950435017895,n_estimators = 1500).fit(trainX2,trainy2)\n",
    "y_pred2 = rfob2.predict(testX2)\n",
    "confusion2 = confusion_matrix(testy2, y_pred2)\n",
    "print(\"Tasa de acierto en regresión logística: {:.2f}\".format(rfob2.score(testX2, testy2)))\n",
    "print(\"Tasa de aciertos balanceada regresión logística: {:.2f}\".format(balanced_accuracy_score(testy2, y_pred2)))\n",
    "print(\"Matriz de confusión:\\n{}\".format(confusion2))\n",
    "print(classification_report(testy2, y_pred2))"
   ]
  },
  {
   "cell_type": "code",
   "execution_count": 11,
   "metadata": {},
   "outputs": [
    {
     "data": {
      "text/plain": [
       "{'criterion': 1,\n",
       " 'max_depth': 510.0,\n",
       " 'max_features': 3,\n",
       " 'min_samples_leaf': 0.15552473760734342,\n",
       " 'min_samples_split': 0.38848356751795443,\n",
       " 'n_estimators': 1}"
      ]
     },
     "execution_count": 11,
     "metadata": {},
     "output_type": "execute_result"
    }
   ],
   "source": [
    "# MODELO CON EL CONJUNTO DE DATOS 3\n",
    "# -------------------------------------------------------------------\n",
    "def objective1(params):\n",
    "   \n",
    "    random_forest = RandomForestClassifier(**params,n_jobs=-1).fit(trainX3, trainy3)\n",
    "    y_pred = random_forest.predict(testX3)\n",
    "    accuracy = random_forest.score(testX3, y_pred)\n",
    "    return {\"loss\": accuracy, \"status\": STATUS_OK}\n",
    "\n",
    "# Definimos los parámetros:\n",
    "param_space = {'criterion': hp.choice('criterion', ['entropy', 'gini']),\n",
    "        'max_depth': hp.quniform('max_depth', 10, 1200, 10),\n",
    "        'max_features': hp.choice('max_features', ['auto', 'sqrt','log2', None]),\n",
    "        'min_samples_leaf': hp.uniform('min_samples_leaf', 0, 0.5),\n",
    "        'min_samples_split' : hp.uniform ('min_samples_split', 0, 1),\n",
    "        'n_estimators' : hp.choice('n_estimators', [10, 50, 300, 750, 1200,1300,1500]) }\n",
    "\n",
    "tpe_algo = tpe.suggest\n",
    "trials = Trials()\n",
    "results = fmin(objective1,space=param_space,algo=tpe_algo,trials=trials,max_evals=100)\n",
    "results"
   ]
  },
  {
   "cell_type": "code",
   "execution_count": 55,
   "metadata": {},
   "outputs": [
    {
     "name": "stdout",
     "output_type": "stream",
     "text": [
      "Tasa de acierto en regresión logística: 0.47\n",
      "Tasa de aciertos balanceada regresión logística: 0.33\n",
      "Matriz de confusión:\n",
      "[[127   0   0   0   0   0]\n",
      " [ 47   0   0   0   0   2]\n",
      " [ 36   0   0   0   0  16]\n",
      " [ 37   0   0   0   0  26]\n",
      " [  1   0   0   0   0  25]\n",
      " [  1   0   0   0   0  42]]\n",
      "              precision    recall  f1-score   support\n",
      "\n",
      "         1.0       0.51      1.00      0.68       127\n",
      "         2.0       0.00      0.00      0.00        49\n",
      "         3.0       0.00      0.00      0.00        52\n",
      "         4.0       0.00      0.00      0.00        63\n",
      "         5.0       0.00      0.00      0.00        26\n",
      "         6.0       0.38      0.98      0.55        43\n",
      "\n",
      "    accuracy                           0.47       360\n",
      "   macro avg       0.15      0.33      0.20       360\n",
      "weighted avg       0.23      0.47      0.30       360\n",
      "\n"
     ]
    },
    {
     "name": "stderr",
     "output_type": "stream",
     "text": [
      "C:\\Users\\SARA\\anaconda3\\lib\\site-packages\\sklearn\\metrics\\_classification.py:1245: UndefinedMetricWarning: Precision and F-score are ill-defined and being set to 0.0 in labels with no predicted samples. Use `zero_division` parameter to control this behavior.\n",
      "  _warn_prf(average, modifier, msg_start, len(result))\n",
      "C:\\Users\\SARA\\anaconda3\\lib\\site-packages\\sklearn\\metrics\\_classification.py:1245: UndefinedMetricWarning: Precision and F-score are ill-defined and being set to 0.0 in labels with no predicted samples. Use `zero_division` parameter to control this behavior.\n",
      "  _warn_prf(average, modifier, msg_start, len(result))\n",
      "C:\\Users\\SARA\\anaconda3\\lib\\site-packages\\sklearn\\metrics\\_classification.py:1245: UndefinedMetricWarning: Precision and F-score are ill-defined and being set to 0.0 in labels with no predicted samples. Use `zero_division` parameter to control this behavior.\n",
      "  _warn_prf(average, modifier, msg_start, len(result))\n"
     ]
    }
   ],
   "source": [
    "rfob3 = RandomForestClassifier(criterion='gini', max_depth=510, max_features = None,min_samples_leaf = 0.15552473760734342,\n",
    "                               min_samples_split =0.38848356751795443,n_estimators = 50).fit(trainX3,trainy3)\n",
    "y_pred3 = rfob3.predict(testX3)\n",
    "confusion3 = confusion_matrix(testy3, y_pred3)\n",
    "print(\"Tasa de acierto en regresión logística: {:.2f}\".format(rfob3.score(testX3, testy3)))\n",
    "print(\"Tasa de aciertos balanceada regresión logística: {:.2f}\".format(balanced_accuracy_score(testy3, y_pred3)))\n",
    "print(\"Matriz de confusión:\\n{}\".format(confusion3))\n",
    "print(classification_report(testy3, y_pred3))"
   ]
  },
  {
   "cell_type": "markdown",
   "metadata": {},
   "source": [
    " "
   ]
  },
  {
   "cell_type": "markdown",
   "metadata": {},
   "source": [
    " "
   ]
  },
  {
   "cell_type": "markdown",
   "metadata": {},
   "source": [
    "# HORARIO"
   ]
  },
  {
   "cell_type": "code",
   "execution_count": 14,
   "metadata": {},
   "outputs": [
    {
     "data": {
      "image/png": "[encoded data removed]",
      "text/plain": [
       "<Figure size 432x288 with 1 Axes>"
      ]
     },
     "metadata": {
      "needs_background": "light"
     },
     "output_type": "display_data"
    }
   ],
   "source": [
    "run 1hora-porintervalos1.ipynb"
   ]
  },
  {
   "cell_type": "markdown",
   "metadata": {},
   "source": [
    "### EXPERIMENTO 1: MODELO BASE"
   ]
  },
  {
   "cell_type": "code",
   "execution_count": 8,
   "metadata": {
    "scrolled": true
   },
   "outputs": [
    {
     "name": "stdout",
     "output_type": "stream",
     "text": [
      "Tasa de acierto en rf: 0.51\n",
      "Tasa de aciertos balanceada regresión logística: 0.17\n",
      "Matriz de confusión:\n",
      "[[   0    0    2    0    0    0]\n",
      " [   0    0   11    7    0    0]\n",
      " [   0    1 2720 1769    0    0]\n",
      " [   0    0 2618 1952    0    0]\n",
      " [   0    0   19   10    0    0]\n",
      " [   0    0    2    1    0    0]]\n",
      "              precision    recall  f1-score   support\n",
      "\n",
      "         1.0       0.00      0.00      0.00         2\n",
      "         2.0       0.00      0.00      0.00        18\n",
      "         3.0       0.51      0.61      0.55      4490\n",
      "         4.0       0.52      0.43      0.47      4570\n",
      "         5.0       0.00      0.00      0.00        29\n",
      "         6.0       0.00      0.00      0.00         3\n",
      "\n",
      "    accuracy                           0.51      9112\n",
      "   macro avg       0.17      0.17      0.17      9112\n",
      "weighted avg       0.51      0.51      0.51      9112\n",
      "\n"
     ]
    },
    {
     "name": "stderr",
     "output_type": "stream",
     "text": [
      "C:\\Users\\SARA\\anaconda3\\lib\\site-packages\\sklearn\\metrics\\_classification.py:1245: UndefinedMetricWarning: Precision and F-score are ill-defined and being set to 0.0 in labels with no predicted samples. Use `zero_division` parameter to control this behavior.\n",
      "  _warn_prf(average, modifier, msg_start, len(result))\n",
      "C:\\Users\\SARA\\anaconda3\\lib\\site-packages\\sklearn\\metrics\\_classification.py:1245: UndefinedMetricWarning: Precision and F-score are ill-defined and being set to 0.0 in labels with no predicted samples. Use `zero_division` parameter to control this behavior.\n",
      "  _warn_prf(average, modifier, msg_start, len(result))\n",
      "C:\\Users\\SARA\\anaconda3\\lib\\site-packages\\sklearn\\metrics\\_classification.py:1245: UndefinedMetricWarning: Precision and F-score are ill-defined and being set to 0.0 in labels with no predicted samples. Use `zero_division` parameter to control this behavior.\n",
      "  _warn_prf(average, modifier, msg_start, len(result))\n"
     ]
    }
   ],
   "source": [
    "# MODELO CON EL CONJUNTO DE DATOS 1\n",
    "# -------------------------------------------------------------------\n",
    "rf1 = RandomForestClassifier().fit(trainX1, trainy1)\n",
    "y_pred1 = rf1.predict(testX1)\n",
    "confusion1 = confusion_matrix(testy1, y_pred1)\n",
    "print(\"Tasa de acierto en rf: {:.2f}\".format(rf1.score(testX1, testy1)))\n",
    "print(\"Tasa de aciertos balanceada regresión logística: {:.2f}\".format(balanced_accuracy_score(testy1, y_pred1)))\n",
    "print(\"Matriz de confusión:\\n{}\".format(confusion1))\n",
    "print(classification_report(testy1, y_pred1))"
   ]
  },
  {
   "cell_type": "code",
   "execution_count": 9,
   "metadata": {},
   "outputs": [
    {
     "name": "stdout",
     "output_type": "stream",
     "text": [
      "Tasa de acierto en regresión logística: 0.52\n",
      "Tasa de aciertos balanceada regresión logística: 0.17\n",
      "Matriz de confusión:\n",
      "[[   0    0    2    0    0    0]\n",
      " [   0    0   12    6    0    0]\n",
      " [   0    0 2929 1555    0    0]\n",
      " [   0    0 2780 1785    0    0]\n",
      " [   0    0   22    7    0    0]\n",
      " [   0    0    1    2    0    0]]\n",
      "              precision    recall  f1-score   support\n",
      "\n",
      "         1.0       0.00      0.00      0.00         2\n",
      "         2.0       0.00      0.00      0.00        18\n",
      "         3.0       0.51      0.65      0.57      4484\n",
      "         4.0       0.53      0.39      0.45      4565\n",
      "         5.0       0.00      0.00      0.00        29\n",
      "         6.0       0.00      0.00      0.00         3\n",
      "\n",
      "    accuracy                           0.52      9101\n",
      "   macro avg       0.17      0.17      0.17      9101\n",
      "weighted avg       0.52      0.52      0.51      9101\n",
      "\n"
     ]
    },
    {
     "name": "stderr",
     "output_type": "stream",
     "text": [
      "C:\\Users\\SARA\\anaconda3\\lib\\site-packages\\sklearn\\metrics\\_classification.py:1245: UndefinedMetricWarning: Precision and F-score are ill-defined and being set to 0.0 in labels with no predicted samples. Use `zero_division` parameter to control this behavior.\n",
      "  _warn_prf(average, modifier, msg_start, len(result))\n",
      "C:\\Users\\SARA\\anaconda3\\lib\\site-packages\\sklearn\\metrics\\_classification.py:1245: UndefinedMetricWarning: Precision and F-score are ill-defined and being set to 0.0 in labels with no predicted samples. Use `zero_division` parameter to control this behavior.\n",
      "  _warn_prf(average, modifier, msg_start, len(result))\n",
      "C:\\Users\\SARA\\anaconda3\\lib\\site-packages\\sklearn\\metrics\\_classification.py:1245: UndefinedMetricWarning: Precision and F-score are ill-defined and being set to 0.0 in labels with no predicted samples. Use `zero_division` parameter to control this behavior.\n",
      "  _warn_prf(average, modifier, msg_start, len(result))\n"
     ]
    }
   ],
   "source": [
    "# MODELO CON EL CONJUNTO DE DATOS 2\n",
    "# -------------------------------------------------------------------\n",
    "rf2 = RandomForestClassifier().fit(trainX2, trainy2)\n",
    "y_pred2 = rf2.predict(testX2)\n",
    "confusion2 = confusion_matrix(testy2, y_pred2)\n",
    "print(\"Tasa de acierto en regresión logística: {:.2f}\".format(rf2.score(testX2, testy2)))\n",
    "print(\"Tasa de aciertos balanceada regresión logística: {:.2f}\".format(balanced_accuracy_score(testy2, y_pred2)))\n",
    "print(\"Matriz de confusión:\\n{}\".format(confusion2))\n",
    "print(classification_report(testy2, y_pred2))"
   ]
  },
  {
   "cell_type": "code",
   "execution_count": 10,
   "metadata": {},
   "outputs": [
    {
     "name": "stdout",
     "output_type": "stream",
     "text": [
      "Tasa de acierto en regresión logística: 0.52\n",
      "Tasa de aciertos balanceada regresión logística: 0.18\n",
      "Matriz de confusión:\n",
      "[[   0    0    2    0    0    0]\n",
      " [   0    0   12    6    0    0]\n",
      " [   0    0 2856 1626    0    0]\n",
      " [   0    0 2677 1886    0    0]\n",
      " [   0    0   25    4    0    0]\n",
      " [   0    0    3    0    0    0]]\n",
      "              precision    recall  f1-score   support\n",
      "\n",
      "         1.0       0.00      0.00      0.00         2\n",
      "         2.0       0.00      0.00      0.00        18\n",
      "         3.0       0.51      0.64      0.57      4482\n",
      "         4.0       0.54      0.41      0.47      4563\n",
      "         5.0       0.00      0.00      0.00        29\n",
      "         6.0       0.00      0.00      0.00         3\n",
      "\n",
      "    accuracy                           0.52      9097\n",
      "   macro avg       0.17      0.18      0.17      9097\n",
      "weighted avg       0.52      0.52      0.51      9097\n",
      "\n"
     ]
    },
    {
     "name": "stderr",
     "output_type": "stream",
     "text": [
      "C:\\Users\\SARA\\anaconda3\\lib\\site-packages\\sklearn\\metrics\\_classification.py:1245: UndefinedMetricWarning: Precision and F-score are ill-defined and being set to 0.0 in labels with no predicted samples. Use `zero_division` parameter to control this behavior.\n",
      "  _warn_prf(average, modifier, msg_start, len(result))\n",
      "C:\\Users\\SARA\\anaconda3\\lib\\site-packages\\sklearn\\metrics\\_classification.py:1245: UndefinedMetricWarning: Precision and F-score are ill-defined and being set to 0.0 in labels with no predicted samples. Use `zero_division` parameter to control this behavior.\n",
      "  _warn_prf(average, modifier, msg_start, len(result))\n",
      "C:\\Users\\SARA\\anaconda3\\lib\\site-packages\\sklearn\\metrics\\_classification.py:1245: UndefinedMetricWarning: Precision and F-score are ill-defined and being set to 0.0 in labels with no predicted samples. Use `zero_division` parameter to control this behavior.\n",
      "  _warn_prf(average, modifier, msg_start, len(result))\n"
     ]
    }
   ],
   "source": [
    "# MODELO CON EL CONJUNTO DE DATOS 3\n",
    "# -------------------------------------------------------------------\n",
    "rf3 = RandomForestClassifier().fit(trainX3, trainy3)\n",
    "y_pred3 = rf3.predict(testX3)\n",
    "confusion3 = confusion_matrix(testy3, y_pred3)\n",
    "print(\"Tasa de acierto en regresión logística: {:.2f}\".format(rf3.score(testX3, testy3)))\n",
    "print(\"Tasa de aciertos balanceada regresión logística: {:.2f}\".format(balanced_accuracy_score(testy3, y_pred3)))\n",
    "print(\"Matriz de confusión:\\n{}\".format(confusion3))\n",
    "print(classification_report(testy3, y_pred3))"
   ]
  },
  {
   "cell_type": "markdown",
   "metadata": {},
   "source": [
    "### Experimento2: optimización bayesiana\n"
   ]
  },
  {
   "cell_type": "code",
   "execution_count": 11,
   "metadata": {},
   "outputs": [
    {
     "data": {
      "text/plain": [
       "{'criterion': 1,\n",
       " 'max_depth': 280.0,\n",
       " 'max_features': 2,\n",
       " 'min_samples_leaf': 0.17028253755208395,\n",
       " 'min_samples_split': 0.731060530730142,\n",
       " 'n_estimators': 0}"
      ]
     },
     "execution_count": 11,
     "metadata": {},
     "output_type": "execute_result"
    }
   ],
   "source": [
    "# MODELO CON EL CONJUNTO DE DATOS 1\n",
    "# -------------------------------------------------------------------\n",
    "def objective1(params):\n",
    "   \n",
    "    random_forest = RandomForestClassifier(**params,n_jobs=-1).fit(trainX1, trainy1)\n",
    "    y_pred = random_forest.predict(testX1)\n",
    "    accuracy = random_forest.score(testX1, y_pred)\n",
    "    return {\"loss\": accuracy, \"status\": STATUS_OK}\n",
    "\n",
    "# Definimos los parámetros:\n",
    "param_space = {'criterion': hp.choice('criterion', ['entropy', 'gini']),\n",
    "        'max_depth': hp.quniform('max_depth', 10, 1200, 10),\n",
    "        'max_features': hp.choice('max_features', ['auto', 'sqrt','log2', None]),\n",
    "        'min_samples_leaf': hp.uniform('min_samples_leaf', 0, 0.5),\n",
    "        'min_samples_split' : hp.uniform ('min_samples_split', 0, 1),\n",
    "        'n_estimators' : hp.choice('n_estimators', [10, 50, 300, 750, 1200,1300,1500]) }\n",
    "\n",
    "tpe_algo = tpe.suggest\n",
    "trials = Trials()\n",
    "results = fmin(objective1,space=param_space,algo=tpe_algo,trials=trials,max_evals=100)\n",
    "results"
   ]
  },
  {
   "cell_type": "code",
   "execution_count": 15,
   "metadata": {},
   "outputs": [
    {
     "name": "stdout",
     "output_type": "stream",
     "text": [
      "Tasa de acierto en regresión logística: 0.49\n",
      "Tasa de aciertos balanceada regresión logística: 0.17\n",
      "Matriz de confusión:\n",
      "[[   0    0    2    0    0    0]\n",
      " [   0    0   18    0    0    0]\n",
      " [   0    0 4490    0    0    0]\n",
      " [   0    0 4571    0    0    0]\n",
      " [   0    0   29    0    0    0]\n",
      " [   0    0    3    0    0    0]]\n",
      "              precision    recall  f1-score   support\n",
      "\n",
      "         1.0       0.00      0.00      0.00         2\n",
      "         2.0       0.00      0.00      0.00        18\n",
      "         3.0       0.49      1.00      0.66      4490\n",
      "         4.0       0.00      0.00      0.00      4571\n",
      "         5.0       0.00      0.00      0.00        29\n",
      "         6.0       0.00      0.00      0.00         3\n",
      "\n",
      "    accuracy                           0.49      9113\n",
      "   macro avg       0.08      0.17      0.11      9113\n",
      "weighted avg       0.24      0.49      0.33      9113\n",
      "\n"
     ]
    },
    {
     "name": "stderr",
     "output_type": "stream",
     "text": [
      "C:\\Users\\SARA\\anaconda3\\lib\\site-packages\\sklearn\\metrics\\_classification.py:1245: UndefinedMetricWarning: Precision and F-score are ill-defined and being set to 0.0 in labels with no predicted samples. Use `zero_division` parameter to control this behavior.\n",
      "  _warn_prf(average, modifier, msg_start, len(result))\n",
      "C:\\Users\\SARA\\anaconda3\\lib\\site-packages\\sklearn\\metrics\\_classification.py:1245: UndefinedMetricWarning: Precision and F-score are ill-defined and being set to 0.0 in labels with no predicted samples. Use `zero_division` parameter to control this behavior.\n",
      "  _warn_prf(average, modifier, msg_start, len(result))\n",
      "C:\\Users\\SARA\\anaconda3\\lib\\site-packages\\sklearn\\metrics\\_classification.py:1245: UndefinedMetricWarning: Precision and F-score are ill-defined and being set to 0.0 in labels with no predicted samples. Use `zero_division` parameter to control this behavior.\n",
      "  _warn_prf(average, modifier, msg_start, len(result))\n"
     ]
    }
   ],
   "source": [
    "rfob1 = RandomForestClassifier(criterion='gini', max_depth=280, max_features = 'log2',min_samples_leaf =0.17028253755208395,\n",
    "                               min_samples_split =0.731060530730142,n_estimators = 10).fit(trainX1,trainy1)\n",
    "y_pred1 = rfob1.predict(testX1)\n",
    "confusion1 = confusion_matrix(testy1, y_pred1)\n",
    "print(\"Tasa de acierto en regresión logística: {:.2f}\".format(rfob1.score(testX1, testy1)))\n",
    "print(\"Tasa de aciertos balanceada regresión logística: {:.2f}\".format(balanced_accuracy_score(testy1, y_pred1)))\n",
    "print(\"Matriz de confusión:\\n{}\".format(confusion1))\n",
    "print(classification_report(testy1, y_pred1))"
   ]
  },
  {
   "cell_type": "code",
   "execution_count": 12,
   "metadata": {
    "scrolled": true
   },
   "outputs": [
    {
     "data": {
      "text/plain": [
       "{'criterion': 0,\n",
       " 'max_depth': 1010.0,\n",
       " 'max_features': 3,\n",
       " 'min_samples_leaf': 0.43500738985872717,\n",
       " 'min_samples_split': 0.4071245248645976,\n",
       " 'n_estimators': 2}"
      ]
     },
     "execution_count": 12,
     "metadata": {},
     "output_type": "execute_result"
    }
   ],
   "source": [
    "# MODELO CON EL CONJUNTO DE DATOS 2\n",
    "# -------------------------------------------------------------------\n",
    "def objective1(params):\n",
    "   \n",
    "    random_forest = RandomForestClassifier(**params,n_jobs=-1).fit(trainX2, trainy2)\n",
    "    y_pred = random_forest.predict(testX2)\n",
    "    accuracy = random_forest.score(testX2, y_pred)\n",
    "    return {\"loss\": accuracy, \"status\": STATUS_OK}\n",
    "\n",
    "# Definimos los parámetros:\n",
    "param_space = {'criterion': hp.choice('criterion', ['entropy', 'gini']),\n",
    "        'max_depth': hp.quniform('max_depth', 10, 1200, 10),\n",
    "        'max_features': hp.choice('max_features', ['auto', 'sqrt','log2', None]),\n",
    "        'min_samples_leaf': hp.uniform('min_samples_leaf', 0, 0.5),\n",
    "        'min_samples_split' : hp.uniform ('min_samples_split', 0, 1),\n",
    "        'n_estimators' : hp.choice('n_estimators', [10, 50, 300, 750, 1200,1300,1500]) }\n",
    "\n",
    "tpe_algo = tpe.suggest\n",
    "trials = Trials()\n",
    "results = fmin(objective1,space=param_space,algo=tpe_algo,trials=trials,max_evals=100)\n",
    "results"
   ]
  },
  {
   "cell_type": "code",
   "execution_count": 16,
   "metadata": {},
   "outputs": [
    {
     "name": "stdout",
     "output_type": "stream",
     "text": [
      "Tasa de acierto en regresión logística: 0.49\n",
      "Tasa de aciertos balanceada regresión logística: 0.17\n",
      "Matriz de confusión:\n",
      "[[   0    0    2    0    0    0]\n",
      " [   0    0   12    6    0    0]\n",
      " [   0    0 2928 1555    0    0]\n",
      " [   0    0 2781 1786    0    0]\n",
      " [   0    0   22    7    0    0]\n",
      " [   0    0    1    2    0    0]]\n",
      "              precision    recall  f1-score   support\n",
      "\n",
      "         1.0       0.00      0.00      0.00         2\n",
      "         2.0       0.00      0.00      0.00        18\n",
      "         3.0       0.51      0.65      0.57      4483\n",
      "         4.0       0.53      0.39      0.45      4567\n",
      "         5.0       0.00      0.00      0.00        29\n",
      "         6.0       0.00      0.00      0.00         3\n",
      "\n",
      "    accuracy                           0.52      9102\n",
      "   macro avg       0.17      0.17      0.17      9102\n",
      "weighted avg       0.52      0.52      0.51      9102\n",
      "\n"
     ]
    },
    {
     "name": "stderr",
     "output_type": "stream",
     "text": [
      "C:\\Users\\SARA\\anaconda3\\lib\\site-packages\\sklearn\\metrics\\_classification.py:1245: UndefinedMetricWarning: Precision and F-score are ill-defined and being set to 0.0 in labels with no predicted samples. Use `zero_division` parameter to control this behavior.\n",
      "  _warn_prf(average, modifier, msg_start, len(result))\n",
      "C:\\Users\\SARA\\anaconda3\\lib\\site-packages\\sklearn\\metrics\\_classification.py:1245: UndefinedMetricWarning: Precision and F-score are ill-defined and being set to 0.0 in labels with no predicted samples. Use `zero_division` parameter to control this behavior.\n",
      "  _warn_prf(average, modifier, msg_start, len(result))\n",
      "C:\\Users\\SARA\\anaconda3\\lib\\site-packages\\sklearn\\metrics\\_classification.py:1245: UndefinedMetricWarning: Precision and F-score are ill-defined and being set to 0.0 in labels with no predicted samples. Use `zero_division` parameter to control this behavior.\n",
      "  _warn_prf(average, modifier, msg_start, len(result))\n"
     ]
    }
   ],
   "source": [
    "rfob2 = RandomForestClassifier(criterion='entropy', max_depth=1010, max_features = None,min_samples_leaf = 0.43500738985872717,\n",
    "                               min_samples_split = 0.4071245248645976,n_estimators = 50).fit(trainX2,trainy2)\n",
    "y_pred2 = rf2.predict(testX2)\n",
    "confusion2 = confusion_matrix(testy2, y_pred2)\n",
    "print(\"Tasa de acierto en regresión logística: {:.2f}\".format(rfob2.score(testX2, testy2)))\n",
    "print(\"Tasa de aciertos balanceada regresión logística: {:.2f}\".format(balanced_accuracy_score(testy2, y_pred2)))\n",
    "print(\"Matriz de confusión:\\n{}\".format(confusion2))\n",
    "print(classification_report(testy2, y_pred2))"
   ]
  },
  {
   "cell_type": "code",
   "execution_count": 13,
   "metadata": {},
   "outputs": [
    {
     "data": {
      "text/plain": [
       "{'criterion': 1,\n",
       " 'max_depth': 1010.0,\n",
       " 'max_features': 2,\n",
       " 'min_samples_leaf': 0.019111902577715834,\n",
       " 'min_samples_split': 0.4578436426148944,\n",
       " 'n_estimators': 6}"
      ]
     },
     "execution_count": 13,
     "metadata": {},
     "output_type": "execute_result"
    }
   ],
   "source": [
    "# MODELO CON EL CONJUNTO DE DATOS 3\n",
    "# -------------------------------------------------------------------\n",
    "def objective1(params):\n",
    "   \n",
    "    random_forest = RandomForestClassifier(**params,n_jobs=-1).fit(trainX3, trainy3)\n",
    "    y_pred = random_forest.predict(testX3)\n",
    "    accuracy = random_forest.score(testX3, y_pred)\n",
    "    return {\"loss\": accuracy, \"status\": STATUS_OK}\n",
    "\n",
    "# Definimos los parámetros:\n",
    "param_space = {'criterion': hp.choice('criterion', ['entropy', 'gini']),\n",
    "        'max_depth': hp.quniform('max_depth', 10, 1200, 10),\n",
    "        'max_features': hp.choice('max_features', ['auto', 'sqrt','log2', None]),\n",
    "        'min_samples_leaf': hp.uniform('min_samples_leaf', 0, 0.5),\n",
    "        'min_samples_split' : hp.uniform ('min_samples_split', 0, 1),\n",
    "        'n_estimators' : hp.choice('n_estimators', [10, 50, 300, 750, 1200,1300,1500]) }\n",
    "\n",
    "tpe_algo = tpe.suggest\n",
    "trials = Trials()\n",
    "results = fmin(objective1,space=param_space,algo=tpe_algo,trials=trials,max_evals=100)\n",
    "results"
   ]
  },
  {
   "cell_type": "code",
   "execution_count": 17,
   "metadata": {},
   "outputs": [
    {
     "name": "stdout",
     "output_type": "stream",
     "text": [
      "Tasa de acierto en regresión logística: 0.53\n",
      "Tasa de aciertos balanceada regresión logística: 0.18\n",
      "Matriz de confusión:\n",
      "[[   0    0    2    0    0    0]\n",
      " [   0    0   12    6    0    0]\n",
      " [   0    0 2856 1624    0    0]\n",
      " [   0    0 2679 1887    0    0]\n",
      " [   0    0   25    4    0    0]\n",
      " [   0    0    3    0    0    0]]\n",
      "              precision    recall  f1-score   support\n",
      "\n",
      "         1.0       0.00      0.00      0.00         2\n",
      "         2.0       0.00      0.00      0.00        18\n",
      "         3.0       0.51      0.64      0.57      4480\n",
      "         4.0       0.54      0.41      0.47      4566\n",
      "         5.0       0.00      0.00      0.00        29\n",
      "         6.0       0.00      0.00      0.00         3\n",
      "\n",
      "    accuracy                           0.52      9098\n",
      "   macro avg       0.17      0.18      0.17      9098\n",
      "weighted avg       0.52      0.52      0.51      9098\n",
      "\n"
     ]
    },
    {
     "name": "stderr",
     "output_type": "stream",
     "text": [
      "C:\\Users\\SARA\\anaconda3\\lib\\site-packages\\sklearn\\metrics\\_classification.py:1245: UndefinedMetricWarning: Precision and F-score are ill-defined and being set to 0.0 in labels with no predicted samples. Use `zero_division` parameter to control this behavior.\n",
      "  _warn_prf(average, modifier, msg_start, len(result))\n",
      "C:\\Users\\SARA\\anaconda3\\lib\\site-packages\\sklearn\\metrics\\_classification.py:1245: UndefinedMetricWarning: Precision and F-score are ill-defined and being set to 0.0 in labels with no predicted samples. Use `zero_division` parameter to control this behavior.\n",
      "  _warn_prf(average, modifier, msg_start, len(result))\n",
      "C:\\Users\\SARA\\anaconda3\\lib\\site-packages\\sklearn\\metrics\\_classification.py:1245: UndefinedMetricWarning: Precision and F-score are ill-defined and being set to 0.0 in labels with no predicted samples. Use `zero_division` parameter to control this behavior.\n",
      "  _warn_prf(average, modifier, msg_start, len(result))\n"
     ]
    }
   ],
   "source": [
    "rfob3 = RandomForestClassifier(criterion='gini', max_depth=1010, max_features = 'log2',min_samples_leaf = 0.019111902577715834,\n",
    "                               min_samples_split = 0.4578436426148944,n_estimators = 1500).fit(trainX3,trainy3)\n",
    "y_pred3 = rf3.predict(testX3)\n",
    "confusion3 = confusion_matrix(testy3, y_pred3)\n",
    "print(\"Tasa de acierto en regresión logística: {:.2f}\".format(rfob3.score(testX3, testy3)))\n",
    "print(\"Tasa de aciertos balanceada regresión logística: {:.2f}\".format(balanced_accuracy_score(testy3, y_pred3)))\n",
    "print(\"Matriz de confusión:\\n{}\".format(confusion3))\n",
    "print(classification_report(testy3, y_pred3))"
   ]
  },
  {
   "cell_type": "markdown",
   "metadata": {},
   "source": [
    " "
   ]
  },
  {
   "cell_type": "markdown",
   "metadata": {},
   "source": [
    "# 5 dias"
   ]
  },
  {
   "cell_type": "code",
   "execution_count": 23,
   "metadata": {},
   "outputs": [
    {
     "data": {
      "image/png": "[encoded data removed]",
      "text/plain": [
       "<Figure size 432x288 with 1 Axes>"
      ]
     },
     "metadata": {
      "needs_background": "light"
     },
     "output_type": "display_data"
    }
   ],
   "source": [
    "run 5dias-porintervalos1.ipynb"
   ]
  },
  {
   "cell_type": "markdown",
   "metadata": {},
   "source": [
    "### EXPERIMENTO 1: MODELO BASE"
   ]
  },
  {
   "cell_type": "code",
   "execution_count": 24,
   "metadata": {
    "scrolled": true
   },
   "outputs": [
    {
     "name": "stdout",
     "output_type": "stream",
     "text": [
      "Tasa de acierto en rf: 0.39\n",
      "Tasa de aciertos balanceada regresión logística: 0.41\n",
      "Matriz de confusión:\n",
      "[[12 13  3  2  2  0]\n",
      " [12 23 22  9  3  0]\n",
      " [12 11 48 30  3  5]\n",
      " [ 2  2 16 41 19 22]\n",
      " [ 1  2  3  9 13 20]\n",
      " [ 0  0  1  3  2 12]]\n",
      "              precision    recall  f1-score   support\n",
      "\n",
      "         1.0       0.31      0.38      0.34        32\n",
      "         2.0       0.45      0.33      0.38        69\n",
      "         3.0       0.52      0.44      0.48       109\n",
      "         4.0       0.44      0.40      0.42       102\n",
      "         5.0       0.31      0.27      0.29        48\n",
      "         6.0       0.20      0.67      0.31        18\n",
      "\n",
      "    accuracy                           0.39       378\n",
      "   macro avg       0.37      0.41      0.37       378\n",
      "weighted avg       0.42      0.39      0.40       378\n",
      "\n"
     ]
    }
   ],
   "source": [
    "# MODELO CON EL CONJUNTO DE DATOS 1\n",
    "# -------------------------------------------------------------------\n",
    "rf1 = RandomForestClassifier().fit(trainX1, trainy1)\n",
    "y_pred1 = rf1.predict(testX1)\n",
    "confusion1 = confusion_matrix(testy1, y_pred1)\n",
    "print(\"Tasa de acierto en rf: {:.2f}\".format(rf1.score(testX1, testy1)))\n",
    "print(\"Tasa de aciertos balanceada regresión logística: {:.2f}\".format(balanced_accuracy_score(testy1, y_pred1)))\n",
    "print(\"Matriz de confusión:\\n{}\".format(confusion1))\n",
    "print(classification_report(testy1, y_pred1))"
   ]
  },
  {
   "cell_type": "code",
   "execution_count": 25,
   "metadata": {},
   "outputs": [
    {
     "name": "stdout",
     "output_type": "stream",
     "text": [
      "Tasa de acierto en regresión logística: 0.34\n",
      "Tasa de aciertos balanceada regresión logística: 0.37\n",
      "Matriz de confusión:\n",
      "[[12  7  5  8  0  0]\n",
      " [15 13 28 12  1  0]\n",
      " [20  3 36 43  1  6]\n",
      " [ 7  1 13 45  6 26]\n",
      " [ 4  0  3 10  6 20]\n",
      " [ 0  0  1  2  1 12]]\n",
      "              precision    recall  f1-score   support\n",
      "\n",
      "         1.0       0.21      0.38      0.27        32\n",
      "         2.0       0.54      0.19      0.28        69\n",
      "         3.0       0.42      0.33      0.37       109\n",
      "         4.0       0.38      0.46      0.41        98\n",
      "         5.0       0.40      0.14      0.21        43\n",
      "         6.0       0.19      0.75      0.30        16\n",
      "\n",
      "    accuracy                           0.34       367\n",
      "   macro avg       0.35      0.37      0.31       367\n",
      "weighted avg       0.40      0.34      0.33       367\n",
      "\n"
     ]
    }
   ],
   "source": [
    "# MODELO CON EL CONJUNTO DE DATOS 2\n",
    "# -------------------------------------------------------------------\n",
    "rf2 = RandomForestClassifier().fit(trainX2, trainy2)\n",
    "y_pred2 = rf2.predict(testX2)\n",
    "confusion2 = confusion_matrix(testy2, y_pred2)\n",
    "print(\"Tasa de acierto en regresión logística: {:.2f}\".format(rf2.score(testX2, testy2)))\n",
    "print(\"Tasa de aciertos balanceada regresión logística: {:.2f}\".format(balanced_accuracy_score(testy2, y_pred2)))\n",
    "print(\"Matriz de confusión:\\n{}\".format(confusion2))\n",
    "print(classification_report(testy2, y_pred2))"
   ]
  },
  {
   "cell_type": "code",
   "execution_count": 26,
   "metadata": {},
   "outputs": [
    {
     "name": "stdout",
     "output_type": "stream",
     "text": [
      "Tasa de acierto en regresión logística: 0.31\n",
      "Tasa de aciertos balanceada regresión logística: 0.37\n",
      "Matriz de confusión:\n",
      "[[11  9  8  4  0  0]\n",
      " [15 19 21 12  2  0]\n",
      " [16  5 42 31  7  5]\n",
      " [ 7  1 17 22 17 33]\n",
      " [ 3  0  6  4  6 24]\n",
      " [ 0  0  1  0  2 13]]\n",
      "              precision    recall  f1-score   support\n",
      "\n",
      "         1.0       0.21      0.34      0.26        32\n",
      "         2.0       0.56      0.28      0.37        69\n",
      "         3.0       0.44      0.40      0.42       106\n",
      "         4.0       0.30      0.23      0.26        97\n",
      "         5.0       0.18      0.14      0.16        43\n",
      "         6.0       0.17      0.81      0.29        16\n",
      "\n",
      "    accuracy                           0.31       363\n",
      "   macro avg       0.31      0.37      0.29       363\n",
      "weighted avg       0.36      0.31      0.32       363\n",
      "\n"
     ]
    }
   ],
   "source": [
    "# MODELO CON EL CONJUNTO DE DATOS 3\n",
    "# -------------------------------------------------------------------\n",
    "rf3 = RandomForestClassifier().fit(trainX3, trainy3)\n",
    "y_pred3 = rf3.predict(testX3)\n",
    "confusion3 = confusion_matrix(testy3, y_pred3)\n",
    "print(\"Tasa de acierto en regresión logística: {:.2f}\".format(rf3.score(testX3, testy3)))\n",
    "print(\"Tasa de aciertos balanceada regresión logística: {:.2f}\".format(balanced_accuracy_score(testy3, y_pred3)))\n",
    "print(\"Matriz de confusión:\\n{}\".format(confusion3))\n",
    "print(classification_report(testy3, y_pred3))"
   ]
  },
  {
   "cell_type": "markdown",
   "metadata": {},
   "source": [
    "### Experimento2: optimización bayesiana\n"
   ]
  },
  {
   "cell_type": "code",
   "execution_count": 27,
   "metadata": {},
   "outputs": [
    {
     "data": {
      "text/plain": [
       "{'criterion': 1,\n",
       " 'max_depth': 710.0,\n",
       " 'max_features': 3,\n",
       " 'min_samples_leaf': 0.30224672925481383,\n",
       " 'min_samples_split': 0.4680698867847355,\n",
       " 'n_estimators': 0}"
      ]
     },
     "execution_count": 27,
     "metadata": {},
     "output_type": "execute_result"
    }
   ],
   "source": [
    "# MODELO CON EL CONJUNTO DE DATOS 1\n",
    "# -------------------------------------------------------------------\n",
    "def objective1(params):\n",
    "   \n",
    "    random_forest = RandomForestClassifier(**params,n_jobs=-1).fit(trainX1, trainy1)\n",
    "    y_pred = random_forest.predict(testX1)\n",
    "    accuracy = random_forest.score(testX1, y_pred)\n",
    "    return {\"loss\": accuracy, \"status\": STATUS_OK}\n",
    "\n",
    "# Definimos los parámetros:\n",
    "param_space = {'criterion': hp.choice('criterion', ['entropy', 'gini']),\n",
    "        'max_depth': hp.quniform('max_depth', 10, 1200, 10),\n",
    "        'max_features': hp.choice('max_features', ['auto', 'sqrt','log2', None]),\n",
    "        'min_samples_leaf': hp.uniform('min_samples_leaf', 0, 0.5),\n",
    "        'min_samples_split' : hp.uniform ('min_samples_split', 0, 1),\n",
    "        'n_estimators' : hp.choice('n_estimators', [10, 50, 300, 750, 1200,1300,1500]) }\n",
    "\n",
    "tpe_algo = tpe.suggest\n",
    "trials = Trials()\n",
    "results = fmin(objective1,space=param_space,algo=tpe_algo,trials=trials,max_evals=100)\n",
    "results"
   ]
  },
  {
   "cell_type": "code",
   "execution_count": 59,
   "metadata": {},
   "outputs": [
    {
     "name": "stdout",
     "output_type": "stream",
     "text": [
      "Tasa de acierto en regresión logística: 0.48\n",
      "Tasa de aciertos balanceada regresión logística: 0.33\n",
      "Matriz de confusión:\n",
      "[[127   0   0   0   0   0]\n",
      " [ 47   0   0   0   0   2]\n",
      " [ 36   0   0   0   0  17]\n",
      " [ 35   0   0   0   0  29]\n",
      " [  1   0   0   0   0  26]\n",
      " [  1   0   0   0   0  54]]\n",
      "              precision    recall  f1-score   support\n",
      "\n",
      "         1.0       0.51      1.00      0.68       127\n",
      "         2.0       0.00      0.00      0.00        49\n",
      "         3.0       0.00      0.00      0.00        53\n",
      "         4.0       0.00      0.00      0.00        64\n",
      "         5.0       0.00      0.00      0.00        27\n",
      "         6.0       0.42      0.98      0.59        55\n",
      "\n",
      "    accuracy                           0.48       375\n",
      "   macro avg       0.16      0.33      0.21       375\n",
      "weighted avg       0.24      0.48      0.32       375\n",
      "\n"
     ]
    },
    {
     "name": "stderr",
     "output_type": "stream",
     "text": [
      "C:\\Users\\SARA\\anaconda3\\lib\\site-packages\\sklearn\\metrics\\_classification.py:1245: UndefinedMetricWarning: Precision and F-score are ill-defined and being set to 0.0 in labels with no predicted samples. Use `zero_division` parameter to control this behavior.\n",
      "  _warn_prf(average, modifier, msg_start, len(result))\n",
      "C:\\Users\\SARA\\anaconda3\\lib\\site-packages\\sklearn\\metrics\\_classification.py:1245: UndefinedMetricWarning: Precision and F-score are ill-defined and being set to 0.0 in labels with no predicted samples. Use `zero_division` parameter to control this behavior.\n",
      "  _warn_prf(average, modifier, msg_start, len(result))\n",
      "C:\\Users\\SARA\\anaconda3\\lib\\site-packages\\sklearn\\metrics\\_classification.py:1245: UndefinedMetricWarning: Precision and F-score are ill-defined and being set to 0.0 in labels with no predicted samples. Use `zero_division` parameter to control this behavior.\n",
      "  _warn_prf(average, modifier, msg_start, len(result))\n"
     ]
    }
   ],
   "source": [
    "rfob1 = RandomForestClassifier(criterion='gini', max_depth=710, max_features = None,min_samples_leaf = 0.30224672925481383,\n",
    "                               min_samples_split = 0.4680698867847355,n_estimators = 10).fit(trainX1,trainy1)\n",
    "y_pred1 = rfob1.predict(testX1)\n",
    "confusion1 = confusion_matrix(testy1, y_pred1)\n",
    "print(\"Tasa de acierto en regresión logística: {:.2f}\".format(rfob1.score(testX1, testy1)))\n",
    "print(\"Tasa de aciertos balanceada regresión logística: {:.2f}\".format(balanced_accuracy_score(testy1, y_pred1)))\n",
    "print(\"Matriz de confusión:\\n{}\".format(confusion1))\n",
    "print(classification_report(testy1, y_pred1))"
   ]
  },
  {
   "cell_type": "code",
   "execution_count": 29,
   "metadata": {
    "scrolled": true
   },
   "outputs": [
    {
     "data": {
      "text/plain": [
       "{'criterion': 1,\n",
       " 'max_depth': 940.0,\n",
       " 'max_features': 1,\n",
       " 'min_samples_leaf': 0.438141217579095,\n",
       " 'min_samples_split': 0.3712885489320368,\n",
       " 'n_estimators': 6}"
      ]
     },
     "execution_count": 29,
     "metadata": {},
     "output_type": "execute_result"
    }
   ],
   "source": [
    "# MODELO CON EL CONJUNTO DE DATOS 2\n",
    "# -------------------------------------------------------------------\n",
    "def objective1(params):\n",
    "   \n",
    "    random_forest = RandomForestClassifier(**params,n_jobs=-1).fit(trainX2, trainy2)\n",
    "    y_pred = random_forest.predict(testX2)\n",
    "    accuracy = random_forest.score(testX2, y_pred)\n",
    "    return {\"loss\": accuracy, \"status\": STATUS_OK}\n",
    "\n",
    "# Definimos los parámetros:\n",
    "param_space = {'criterion': hp.choice('criterion', ['entropy', 'gini']),\n",
    "        'max_depth': hp.quniform('max_depth', 10, 1200, 10),\n",
    "        'max_features': hp.choice('max_features', ['auto', 'sqrt','log2', None]),\n",
    "        'min_samples_leaf': hp.uniform('min_samples_leaf', 0, 0.5),\n",
    "        'min_samples_split' : hp.uniform ('min_samples_split', 0, 1),\n",
    "        'n_estimators' : hp.choice('n_estimators', [10, 50, 300, 750, 1200,1300,1500]) }\n",
    "\n",
    "tpe_algo = tpe.suggest\n",
    "trials = Trials()\n",
    "results = fmin(objective1,space=param_space,algo=tpe_algo,trials=trials,max_evals=100)\n",
    "results"
   ]
  },
  {
   "cell_type": "code",
   "execution_count": 60,
   "metadata": {},
   "outputs": [
    {
     "name": "stdout",
     "output_type": "stream",
     "text": [
      "Tasa de acierto en regresión logística: 0.12\n",
      "Tasa de aciertos balanceada regresión logística: 0.17\n",
      "Matriz de confusión:\n",
      "[[  0   0   0   0   0 127]\n",
      " [  0   0   0   0   0  49]\n",
      " [  0   0   0   0   0  52]\n",
      " [  0   0   0   0   0  64]\n",
      " [  0   0   0   0   0  27]\n",
      " [  0   0   0   0   0  45]]\n",
      "              precision    recall  f1-score   support\n",
      "\n",
      "         1.0       0.00      0.00      0.00       127\n",
      "         2.0       0.00      0.00      0.00        49\n",
      "         3.0       0.00      0.00      0.00        52\n",
      "         4.0       0.00      0.00      0.00        64\n",
      "         5.0       0.00      0.00      0.00        27\n",
      "         6.0       0.12      1.00      0.22        45\n",
      "\n",
      "    accuracy                           0.12       364\n",
      "   macro avg       0.02      0.17      0.04       364\n",
      "weighted avg       0.02      0.12      0.03       364\n",
      "\n"
     ]
    },
    {
     "name": "stderr",
     "output_type": "stream",
     "text": [
      "C:\\Users\\SARA\\anaconda3\\lib\\site-packages\\sklearn\\metrics\\_classification.py:1245: UndefinedMetricWarning: Precision and F-score are ill-defined and being set to 0.0 in labels with no predicted samples. Use `zero_division` parameter to control this behavior.\n",
      "  _warn_prf(average, modifier, msg_start, len(result))\n",
      "C:\\Users\\SARA\\anaconda3\\lib\\site-packages\\sklearn\\metrics\\_classification.py:1245: UndefinedMetricWarning: Precision and F-score are ill-defined and being set to 0.0 in labels with no predicted samples. Use `zero_division` parameter to control this behavior.\n",
      "  _warn_prf(average, modifier, msg_start, len(result))\n",
      "C:\\Users\\SARA\\anaconda3\\lib\\site-packages\\sklearn\\metrics\\_classification.py:1245: UndefinedMetricWarning: Precision and F-score are ill-defined and being set to 0.0 in labels with no predicted samples. Use `zero_division` parameter to control this behavior.\n",
      "  _warn_prf(average, modifier, msg_start, len(result))\n"
     ]
    }
   ],
   "source": [
    "rfob2 = RandomForestClassifier(criterion='gini', max_depth=940, max_features = 'sqrt',min_samples_leaf = 0.438141217579095,\n",
    "                               min_samples_split =0.3712885489320368,n_estimators = 1500).fit(trainX2,trainy2)\n",
    "y_pred2 = rfob2.predict(testX2)\n",
    "confusion2 = confusion_matrix(testy2, y_pred2)\n",
    "print(\"Tasa de acierto en regresión logística: {:.2f}\".format(rfob2.score(testX2, testy2)))\n",
    "print(\"Tasa de aciertos balanceada regresión logística: {:.2f}\".format(balanced_accuracy_score(testy2, y_pred2)))\n",
    "print(\"Matriz de confusión:\\n{}\".format(confusion2))\n",
    "print(classification_report(testy2, y_pred2))"
   ]
  },
  {
   "cell_type": "code",
   "execution_count": 31,
   "metadata": {},
   "outputs": [
    {
     "data": {
      "text/plain": [
       "{'criterion': 1,\n",
       " 'max_depth': 740.0,\n",
       " 'max_features': 2,\n",
       " 'min_samples_leaf': 0.35561163167582105,\n",
       " 'min_samples_split': 0.6108173603938969,\n",
       " 'n_estimators': 1}"
      ]
     },
     "execution_count": 31,
     "metadata": {},
     "output_type": "execute_result"
    }
   ],
   "source": [
    "# MODELO CON EL CONJUNTO DE DATOS 3\n",
    "# -------------------------------------------------------------------\n",
    "def objective1(params):\n",
    "   \n",
    "    random_forest = RandomForestClassifier(**params,n_jobs=-1).fit(trainX3, trainy3)\n",
    "    y_pred = random_forest.predict(testX3)\n",
    "    accuracy = random_forest.score(testX3, y_pred)\n",
    "    return {\"loss\": accuracy, \"status\": STATUS_OK}\n",
    "\n",
    "# Definimos los parámetros:\n",
    "param_space = {'criterion': hp.choice('criterion', ['entropy', 'gini']),\n",
    "        'max_depth': hp.quniform('max_depth', 10, 1200, 10),\n",
    "        'max_features': hp.choice('max_features', ['auto', 'sqrt','log2', None]),\n",
    "        'min_samples_leaf': hp.uniform('min_samples_leaf', 0, 0.5),\n",
    "        'min_samples_split' : hp.uniform ('min_samples_split', 0, 1),\n",
    "        'n_estimators' : hp.choice('n_estimators', [10, 50, 300, 750, 1200,1300,1500]) }\n",
    "\n",
    "tpe_algo = tpe.suggest\n",
    "trials = Trials()\n",
    "results = fmin(objective1,space=param_space,algo=tpe_algo,trials=trials,max_evals=100)\n",
    "results"
   ]
  },
  {
   "cell_type": "code",
   "execution_count": 61,
   "metadata": {},
   "outputs": [
    {
     "name": "stdout",
     "output_type": "stream",
     "text": [
      "Tasa de acierto en regresión logística: 0.12\n",
      "Tasa de aciertos balanceada regresión logística: 0.17\n",
      "Matriz de confusión:\n",
      "[[  0   0   0   0   0 127]\n",
      " [  0   0   0   0   0  49]\n",
      " [  0   0   0   0   0  52]\n",
      " [  0   0   0   0   0  63]\n",
      " [  0   0   0   0   0  26]\n",
      " [  0   0   0   0   0  43]]\n",
      "              precision    recall  f1-score   support\n",
      "\n",
      "         1.0       0.00      0.00      0.00       127\n",
      "         2.0       0.00      0.00      0.00        49\n",
      "         3.0       0.00      0.00      0.00        52\n",
      "         4.0       0.00      0.00      0.00        63\n",
      "         5.0       0.00      0.00      0.00        26\n",
      "         6.0       0.12      1.00      0.21        43\n",
      "\n",
      "    accuracy                           0.12       360\n",
      "   macro avg       0.02      0.17      0.04       360\n",
      "weighted avg       0.01      0.12      0.03       360\n",
      "\n"
     ]
    },
    {
     "name": "stderr",
     "output_type": "stream",
     "text": [
      "C:\\Users\\SARA\\anaconda3\\lib\\site-packages\\sklearn\\metrics\\_classification.py:1245: UndefinedMetricWarning: Precision and F-score are ill-defined and being set to 0.0 in labels with no predicted samples. Use `zero_division` parameter to control this behavior.\n",
      "  _warn_prf(average, modifier, msg_start, len(result))\n",
      "C:\\Users\\SARA\\anaconda3\\lib\\site-packages\\sklearn\\metrics\\_classification.py:1245: UndefinedMetricWarning: Precision and F-score are ill-defined and being set to 0.0 in labels with no predicted samples. Use `zero_division` parameter to control this behavior.\n",
      "  _warn_prf(average, modifier, msg_start, len(result))\n",
      "C:\\Users\\SARA\\anaconda3\\lib\\site-packages\\sklearn\\metrics\\_classification.py:1245: UndefinedMetricWarning: Precision and F-score are ill-defined and being set to 0.0 in labels with no predicted samples. Use `zero_division` parameter to control this behavior.\n",
      "  _warn_prf(average, modifier, msg_start, len(result))\n"
     ]
    }
   ],
   "source": [
    "rfob3 = RandomForestClassifier(criterion='gini', max_depth=740, max_features = 'log2',min_samples_leaf = 0.35561163167582105,\n",
    "                               min_samples_split = 0.6108173603938969,n_estimators = 50).fit(trainX3,trainy3)\n",
    "y_pred3 = rfob3.predict(testX3)\n",
    "confusion3 = confusion_matrix(testy3, y_pred3)\n",
    "print(\"Tasa de acierto en regresión logística: {:.2f}\".format(rfob3.score(testX3, testy3)))\n",
    "print(\"Tasa de aciertos balanceada regresión logística: {:.2f}\".format(balanced_accuracy_score(testy3, y_pred3)))\n",
    "print(\"Matriz de confusión:\\n{}\".format(confusion3))\n",
    "print(classification_report(testy3, y_pred3))"
   ]
  },
  {
   "cell_type": "code",
   "execution_count": null,
   "metadata": {},
   "outputs": [],
   "source": []
  },
  {
   "cell_type": "markdown",
   "metadata": {},
   "source": [
    "# 10 dias"
   ]
  },
  {
   "cell_type": "code",
   "execution_count": 33,
   "metadata": {},
   "outputs": [],
   "source": [
    "run 10dias-porintervalos1.ipynb"
   ]
  },
  {
   "cell_type": "markdown",
   "metadata": {},
   "source": [
    "### EXPERIMENTO 1: MODELO BASE"
   ]
  },
  {
   "cell_type": "code",
   "execution_count": 34,
   "metadata": {
    "scrolled": true
   },
   "outputs": [
    {
     "name": "stdout",
     "output_type": "stream",
     "text": [
      "Tasa de acierto en rf: 0.40\n",
      "Tasa de aciertos balanceada regresión logística: 0.41\n",
      "Matriz de confusión:\n",
      "[[45 18 13  1  0  0]\n",
      " [20 20 19  2  1  0]\n",
      " [14 10 32 11  0  5]\n",
      " [ 3  2 21 17  8 28]\n",
      " [ 1  1  4 11  8 25]\n",
      " [ 0  0  1  2  6 28]]\n",
      "              precision    recall  f1-score   support\n",
      "\n",
      "         1.0       0.54      0.58      0.56        77\n",
      "         2.0       0.39      0.32      0.35        62\n",
      "         3.0       0.36      0.44      0.40        72\n",
      "         4.0       0.39      0.22      0.28        79\n",
      "         5.0       0.35      0.16      0.22        50\n",
      "         6.0       0.33      0.76      0.46        37\n",
      "\n",
      "    accuracy                           0.40       377\n",
      "   macro avg       0.39      0.41      0.38       377\n",
      "weighted avg       0.40      0.40      0.38       377\n",
      "\n"
     ]
    }
   ],
   "source": [
    "# MODELO CON EL CONJUNTO DE DATOS 1\n",
    "# -------------------------------------------------------------------\n",
    "rf1 = RandomForestClassifier().fit(trainX1, trainy1)\n",
    "y_pred1 = rf1.predict(testX1)\n",
    "confusion1 = confusion_matrix(testy1, y_pred1)\n",
    "print(\"Tasa de acierto en rf: {:.2f}\".format(rf1.score(testX1, testy1)))\n",
    "print(\"Tasa de aciertos balanceada regresión logística: {:.2f}\".format(balanced_accuracy_score(testy1, y_pred1)))\n",
    "print(\"Matriz de confusión:\\n{}\".format(confusion1))\n",
    "print(classification_report(testy1, y_pred1))"
   ]
  },
  {
   "cell_type": "code",
   "execution_count": 35,
   "metadata": {},
   "outputs": [
    {
     "name": "stdout",
     "output_type": "stream",
     "text": [
      "Tasa de acierto en regresión logística: 0.30\n",
      "Tasa de aciertos balanceada regresión logística: 0.35\n",
      "Matriz de confusión:\n",
      "[[41 13  4  0  0 19]\n",
      " [20 12  6  5  1 18]\n",
      " [13  9 15  5  1 29]\n",
      " [ 1  5  4 10  9 49]\n",
      " [ 1  2  1  9 11 25]\n",
      " [ 0  1  0  1  4 22]]\n",
      "              precision    recall  f1-score   support\n",
      "\n",
      "         1.0       0.54      0.53      0.54        77\n",
      "         2.0       0.29      0.19      0.23        62\n",
      "         3.0       0.50      0.21      0.29        72\n",
      "         4.0       0.33      0.13      0.19        78\n",
      "         5.0       0.42      0.22      0.29        49\n",
      "         6.0       0.14      0.79      0.23        28\n",
      "\n",
      "    accuracy                           0.30       366\n",
      "   macro avg       0.37      0.35      0.30       366\n",
      "weighted avg       0.40      0.30      0.31       366\n",
      "\n"
     ]
    }
   ],
   "source": [
    "# MODELO CON EL CONJUNTO DE DATOS 2\n",
    "# -------------------------------------------------------------------\n",
    "rf2 = RandomForestClassifier().fit(trainX2, trainy2)\n",
    "y_pred2 = rf2.predict(testX2)\n",
    "confusion2 = confusion_matrix(testy2, y_pred2)\n",
    "print(\"Tasa de acierto en regresión logística: {:.2f}\".format(rf2.score(testX2, testy2)))\n",
    "print(\"Tasa de aciertos balanceada regresión logística: {:.2f}\".format(balanced_accuracy_score(testy2, y_pred2)))\n",
    "print(\"Matriz de confusión:\\n{}\".format(confusion2))\n",
    "print(classification_report(testy2, y_pred2))"
   ]
  },
  {
   "cell_type": "code",
   "execution_count": 36,
   "metadata": {},
   "outputs": [
    {
     "name": "stdout",
     "output_type": "stream",
     "text": [
      "Tasa de acierto en regresión logística: 0.29\n",
      "Tasa de aciertos balanceada regresión logística: 0.35\n",
      "Matriz de confusión:\n",
      "[[32 25 12  3  0  5]\n",
      " [23 13  9 13  3  1]\n",
      " [13  7 19 13  1 19]\n",
      " [ 1  2 13  8 11 42]\n",
      " [ 1  2  2  2  8 31]\n",
      " [ 0  0  0  2  0 26]]\n",
      "              precision    recall  f1-score   support\n",
      "\n",
      "         1.0       0.46      0.42      0.44        77\n",
      "         2.0       0.27      0.21      0.23        62\n",
      "         3.0       0.35      0.26      0.30        72\n",
      "         4.0       0.20      0.10      0.14        77\n",
      "         5.0       0.35      0.17      0.23        46\n",
      "         6.0       0.21      0.93      0.34        28\n",
      "\n",
      "    accuracy                           0.29       362\n",
      "   macro avg       0.30      0.35      0.28       362\n",
      "weighted avg       0.31      0.29      0.28       362\n",
      "\n"
     ]
    }
   ],
   "source": [
    "# MODELO CON EL CONJUNTO DE DATOS 3\n",
    "# -------------------------------------------------------------------\n",
    "rf3 = RandomForestClassifier().fit(trainX3, trainy3)\n",
    "y_pred3 = rf3.predict(testX3)\n",
    "confusion3 = confusion_matrix(testy3, y_pred3)\n",
    "print(\"Tasa de acierto en regresión logística: {:.2f}\".format(rf3.score(testX3, testy3)))\n",
    "print(\"Tasa de aciertos balanceada regresión logística: {:.2f}\".format(balanced_accuracy_score(testy3, y_pred3)))\n",
    "print(\"Matriz de confusión:\\n{}\".format(confusion3))\n",
    "print(classification_report(testy3, y_pred3))"
   ]
  },
  {
   "cell_type": "markdown",
   "metadata": {},
   "source": [
    "### Experimento2: optimización bayesiana\n"
   ]
  },
  {
   "cell_type": "code",
   "execution_count": 37,
   "metadata": {},
   "outputs": [
    {
     "data": {
      "text/plain": [
       "{'criterion': 1,\n",
       " 'max_depth': 490.0,\n",
       " 'max_features': 3,\n",
       " 'min_samples_leaf': 0.05927568137575662,\n",
       " 'min_samples_split': 0.7057322090506604,\n",
       " 'n_estimators': 6}"
      ]
     },
     "execution_count": 37,
     "metadata": {},
     "output_type": "execute_result"
    }
   ],
   "source": [
    "# MODELO CON EL CONJUNTO DE DATOS 1\n",
    "# -------------------------------------------------------------------\n",
    "def objective1(params):\n",
    "   \n",
    "    random_forest = RandomForestClassifier(**params,n_jobs=-1).fit(trainX1, trainy1)\n",
    "    y_pred = random_forest.predict(testX1)\n",
    "    accuracy = random_forest.score(testX1, y_pred)\n",
    "    return {\"loss\": accuracy, \"status\": STATUS_OK}\n",
    "\n",
    "# Definimos los parámetros:\n",
    "param_space = {'criterion': hp.choice('criterion', ['entropy', 'gini']),\n",
    "        'max_depth': hp.quniform('max_depth', 10, 1200, 10),\n",
    "        'max_features': hp.choice('max_features', ['auto', 'sqrt','log2', None]),\n",
    "        'min_samples_leaf': hp.uniform('min_samples_leaf', 0, 0.5),\n",
    "        'min_samples_split' : hp.uniform ('min_samples_split', 0, 1),\n",
    "        'n_estimators' : hp.choice('n_estimators', [10, 50, 300, 750, 1200,1300,1500]) }\n",
    "\n",
    "tpe_algo = tpe.suggest\n",
    "trials = Trials()\n",
    "results = fmin(objective1,space=param_space,algo=tpe_algo,trials=trials,max_evals=100)\n",
    "results"
   ]
  },
  {
   "cell_type": "code",
   "execution_count": 62,
   "metadata": {},
   "outputs": [
    {
     "name": "stdout",
     "output_type": "stream",
     "text": [
      "Tasa de acierto en regresión logística: 0.15\n",
      "Tasa de aciertos balanceada regresión logística: 0.17\n",
      "Matriz de confusión:\n",
      "[[  0   0   0   0   0 127]\n",
      " [  0   0   0   0   0  49]\n",
      " [  0   0   0   0   0  53]\n",
      " [  0   0   0   0   0  64]\n",
      " [  0   0   0   0   0  27]\n",
      " [  0   0   0   0   0  55]]\n",
      "              precision    recall  f1-score   support\n",
      "\n",
      "         1.0       0.00      0.00      0.00       127\n",
      "         2.0       0.00      0.00      0.00        49\n",
      "         3.0       0.00      0.00      0.00        53\n",
      "         4.0       0.00      0.00      0.00        64\n",
      "         5.0       0.00      0.00      0.00        27\n",
      "         6.0       0.15      1.00      0.26        55\n",
      "\n",
      "    accuracy                           0.15       375\n",
      "   macro avg       0.02      0.17      0.04       375\n",
      "weighted avg       0.02      0.15      0.04       375\n",
      "\n"
     ]
    },
    {
     "name": "stderr",
     "output_type": "stream",
     "text": [
      "C:\\Users\\SARA\\anaconda3\\lib\\site-packages\\sklearn\\metrics\\_classification.py:1245: UndefinedMetricWarning: Precision and F-score are ill-defined and being set to 0.0 in labels with no predicted samples. Use `zero_division` parameter to control this behavior.\n",
      "  _warn_prf(average, modifier, msg_start, len(result))\n",
      "C:\\Users\\SARA\\anaconda3\\lib\\site-packages\\sklearn\\metrics\\_classification.py:1245: UndefinedMetricWarning: Precision and F-score are ill-defined and being set to 0.0 in labels with no predicted samples. Use `zero_division` parameter to control this behavior.\n",
      "  _warn_prf(average, modifier, msg_start, len(result))\n",
      "C:\\Users\\SARA\\anaconda3\\lib\\site-packages\\sklearn\\metrics\\_classification.py:1245: UndefinedMetricWarning: Precision and F-score are ill-defined and being set to 0.0 in labels with no predicted samples. Use `zero_division` parameter to control this behavior.\n",
      "  _warn_prf(average, modifier, msg_start, len(result))\n"
     ]
    }
   ],
   "source": [
    "rfob1 = RandomForestClassifier(criterion='gini', max_depth=490, max_features = None,min_samples_leaf = 0.05927568137575662,\n",
    "                               min_samples_split =0.7057322090506604,n_estimators = 1500).fit(trainX1,trainy1)\n",
    "y_pred1 = rfob1.predict(testX1)\n",
    "confusion1 = confusion_matrix(testy1, y_pred1)\n",
    "print(\"Tasa de acierto en regresión logística: {:.2f}\".format(rfob1.score(testX1, testy1)))\n",
    "print(\"Tasa de aciertos balanceada regresión logística: {:.2f}\".format(balanced_accuracy_score(testy1, y_pred1)))\n",
    "print(\"Matriz de confusión:\\n{}\".format(confusion1))\n",
    "print(classification_report(testy1, y_pred1))"
   ]
  },
  {
   "cell_type": "code",
   "execution_count": 39,
   "metadata": {
    "scrolled": true
   },
   "outputs": [
    {
     "data": {
      "text/plain": [
       "{'criterion': 1,\n",
       " 'max_depth': 190.0,\n",
       " 'max_features': 2,\n",
       " 'min_samples_leaf': 0.4524231773257227,\n",
       " 'min_samples_split': 0.9779991603446105,\n",
       " 'n_estimators': 3}"
      ]
     },
     "execution_count": 39,
     "metadata": {},
     "output_type": "execute_result"
    }
   ],
   "source": [
    "# MODELO CON EL CONJUNTO DE DATOS 2\n",
    "# -------------------------------------------------------------------\n",
    "def objective1(params):\n",
    "   \n",
    "    random_forest = RandomForestClassifier(**params,n_jobs=-1).fit(trainX2, trainy2)\n",
    "    y_pred = random_forest.predict(testX2)\n",
    "    accuracy = random_forest.score(testX2, y_pred)\n",
    "    return {\"loss\": accuracy, \"status\": STATUS_OK}\n",
    "\n",
    "# Definimos los parámetros:\n",
    "param_space = {'criterion': hp.choice('criterion', ['entropy', 'gini']),\n",
    "        'max_depth': hp.quniform('max_depth', 10, 1200, 10),\n",
    "        'max_features': hp.choice('max_features', ['auto', 'sqrt','log2', None]),\n",
    "        'min_samples_leaf': hp.uniform('min_samples_leaf', 0, 0.5),\n",
    "        'min_samples_split' : hp.uniform ('min_samples_split', 0, 1),\n",
    "        'n_estimators' : hp.choice('n_estimators', [10, 50, 300, 750, 1200,1300,1500]) }\n",
    "\n",
    "tpe_algo = tpe.suggest\n",
    "trials = Trials()\n",
    "results = fmin(objective1,space=param_space,algo=tpe_algo,trials=trials,max_evals=100)\n",
    "results"
   ]
  },
  {
   "cell_type": "code",
   "execution_count": 63,
   "metadata": {},
   "outputs": [
    {
     "name": "stdout",
     "output_type": "stream",
     "text": [
      "Tasa de acierto en regresión logística: 0.12\n",
      "Tasa de aciertos balanceada regresión logística: 0.17\n",
      "Matriz de confusión:\n",
      "[[  0   0   0   0   0 127]\n",
      " [  0   0   0   0   0  49]\n",
      " [  0   0   0   0   0  52]\n",
      " [  0   0   0   0   0  64]\n",
      " [  0   0   0   0   0  27]\n",
      " [  0   0   0   0   0  45]]\n",
      "              precision    recall  f1-score   support\n",
      "\n",
      "         1.0       0.00      0.00      0.00       127\n",
      "         2.0       0.00      0.00      0.00        49\n",
      "         3.0       0.00      0.00      0.00        52\n",
      "         4.0       0.00      0.00      0.00        64\n",
      "         5.0       0.00      0.00      0.00        27\n",
      "         6.0       0.12      1.00      0.22        45\n",
      "\n",
      "    accuracy                           0.12       364\n",
      "   macro avg       0.02      0.17      0.04       364\n",
      "weighted avg       0.02      0.12      0.03       364\n",
      "\n"
     ]
    },
    {
     "name": "stderr",
     "output_type": "stream",
     "text": [
      "C:\\Users\\SARA\\anaconda3\\lib\\site-packages\\sklearn\\metrics\\_classification.py:1245: UndefinedMetricWarning: Precision and F-score are ill-defined and being set to 0.0 in labels with no predicted samples. Use `zero_division` parameter to control this behavior.\n",
      "  _warn_prf(average, modifier, msg_start, len(result))\n",
      "C:\\Users\\SARA\\anaconda3\\lib\\site-packages\\sklearn\\metrics\\_classification.py:1245: UndefinedMetricWarning: Precision and F-score are ill-defined and being set to 0.0 in labels with no predicted samples. Use `zero_division` parameter to control this behavior.\n",
      "  _warn_prf(average, modifier, msg_start, len(result))\n",
      "C:\\Users\\SARA\\anaconda3\\lib\\site-packages\\sklearn\\metrics\\_classification.py:1245: UndefinedMetricWarning: Precision and F-score are ill-defined and being set to 0.0 in labels with no predicted samples. Use `zero_division` parameter to control this behavior.\n",
      "  _warn_prf(average, modifier, msg_start, len(result))\n"
     ]
    }
   ],
   "source": [
    "rfob2 = RandomForestClassifier(criterion='gini', max_depth=190, max_features = 'log2',min_samples_leaf = 0.4524231773257227,\n",
    "                               min_samples_split = 0.9779991603446105,n_estimators = 750).fit(trainX2,trainy2)\n",
    "y_pred2 = rfob2.predict(testX2)\n",
    "confusion2 = confusion_matrix(testy2, y_pred2)\n",
    "print(\"Tasa de acierto en regresión logística: {:.2f}\".format(rfob2.score(testX2, testy2)))\n",
    "print(\"Tasa de aciertos balanceada regresión logística: {:.2f}\".format(balanced_accuracy_score(testy2, y_pred2)))\n",
    "print(\"Matriz de confusión:\\n{}\".format(confusion2))\n",
    "print(classification_report(testy2, y_pred2))"
   ]
  },
  {
   "cell_type": "code",
   "execution_count": 41,
   "metadata": {},
   "outputs": [
    {
     "data": {
      "text/plain": [
       "{'criterion': 0,\n",
       " 'max_depth': 100.0,\n",
       " 'max_features': 0,\n",
       " 'min_samples_leaf': 0.34375199178917537,\n",
       " 'min_samples_split': 0.28053279799246544,\n",
       " 'n_estimators': 3}"
      ]
     },
     "execution_count": 41,
     "metadata": {},
     "output_type": "execute_result"
    }
   ],
   "source": [
    "# MODELO CON EL CONJUNTO DE DATOS 3\n",
    "# -------------------------------------------------------------------\n",
    "def objective1(params):\n",
    "   \n",
    "    random_forest = RandomForestClassifier(**params,n_jobs=-1).fit(trainX3, trainy3)\n",
    "    y_pred = random_forest.predict(testX3)\n",
    "    accuracy = random_forest.score(testX3, y_pred)\n",
    "    return {\"loss\": accuracy, \"status\": STATUS_OK}\n",
    "\n",
    "# Definimos los parámetros:\n",
    "param_space = {'criterion': hp.choice('criterion', ['entropy', 'gini']),\n",
    "        'max_depth': hp.quniform('max_depth', 10, 1200, 10),\n",
    "        'max_features': hp.choice('max_features', ['auto', 'sqrt','log2', None]),\n",
    "        'min_samples_leaf': hp.uniform('min_samples_leaf', 0, 0.5),\n",
    "        'min_samples_split' : hp.uniform ('min_samples_split', 0, 1),\n",
    "        'n_estimators' : hp.choice('n_estimators', [10, 50, 300, 750, 1200,1300,1500]) }\n",
    "\n",
    "tpe_algo = tpe.suggest\n",
    "trials = Trials()\n",
    "results = fmin(objective1,space=param_space,algo=tpe_algo,trials=trials,max_evals=100)\n",
    "results"
   ]
  },
  {
   "cell_type": "code",
   "execution_count": 65,
   "metadata": {},
   "outputs": [
    {
     "name": "stdout",
     "output_type": "stream",
     "text": [
      "Tasa de acierto en regresión logística: 0.12\n",
      "Tasa de aciertos balanceada regresión logística: 0.17\n",
      "Matriz de confusión:\n",
      "[[  0   0   0   0   0 127]\n",
      " [  0   0   0   0   0  49]\n",
      " [  0   0   0   0   0  52]\n",
      " [  0   0   0   0   0  63]\n",
      " [  0   0   0   0   0  26]\n",
      " [  0   0   0   0   0  43]]\n",
      "              precision    recall  f1-score   support\n",
      "\n",
      "         1.0       0.00      0.00      0.00       127\n",
      "         2.0       0.00      0.00      0.00        49\n",
      "         3.0       0.00      0.00      0.00        52\n",
      "         4.0       0.00      0.00      0.00        63\n",
      "         5.0       0.00      0.00      0.00        26\n",
      "         6.0       0.12      1.00      0.21        43\n",
      "\n",
      "    accuracy                           0.12       360\n",
      "   macro avg       0.02      0.17      0.04       360\n",
      "weighted avg       0.01      0.12      0.03       360\n",
      "\n"
     ]
    },
    {
     "name": "stderr",
     "output_type": "stream",
     "text": [
      "C:\\Users\\SARA\\anaconda3\\lib\\site-packages\\sklearn\\metrics\\_classification.py:1245: UndefinedMetricWarning: Precision and F-score are ill-defined and being set to 0.0 in labels with no predicted samples. Use `zero_division` parameter to control this behavior.\n",
      "  _warn_prf(average, modifier, msg_start, len(result))\n",
      "C:\\Users\\SARA\\anaconda3\\lib\\site-packages\\sklearn\\metrics\\_classification.py:1245: UndefinedMetricWarning: Precision and F-score are ill-defined and being set to 0.0 in labels with no predicted samples. Use `zero_division` parameter to control this behavior.\n",
      "  _warn_prf(average, modifier, msg_start, len(result))\n",
      "C:\\Users\\SARA\\anaconda3\\lib\\site-packages\\sklearn\\metrics\\_classification.py:1245: UndefinedMetricWarning: Precision and F-score are ill-defined and being set to 0.0 in labels with no predicted samples. Use `zero_division` parameter to control this behavior.\n",
      "  _warn_prf(average, modifier, msg_start, len(result))\n"
     ]
    }
   ],
   "source": [
    "rfob3 = RandomForestClassifier(criterion='entropy', max_depth=100, max_features = 'auto',min_samples_leaf = 0.34375199178917537,\n",
    "                               min_samples_split =0.28053279799246544,n_estimators = 750).fit(trainX3,trainy3)\n",
    "y_pred3 = rfob3.predict(testX3)\n",
    "confusion3 = confusion_matrix(testy3, y_pred3)\n",
    "print(\"Tasa de acierto en regresión logística: {:.2f}\".format(rfob3.score(testX3, testy3)))\n",
    "print(\"Tasa de aciertos balanceada regresión logística: {:.2f}\".format(balanced_accuracy_score(testy3, y_pred3)))\n",
    "print(\"Matriz de confusión:\\n{}\".format(confusion3))\n",
    "print(classification_report(testy3, y_pred3))"
   ]
  },
  {
   "cell_type": "code",
   "execution_count": null,
   "metadata": {},
   "outputs": [],
   "source": []
  },
  {
   "cell_type": "markdown",
   "metadata": {},
   "source": [
    "# 20 dias"
   ]
  },
  {
   "cell_type": "code",
   "execution_count": 43,
   "metadata": {},
   "outputs": [
    {
     "data": {
      "image/png": "[encoded data removed]",
      "text/plain": [
       "<Figure size 432x288 with 1 Axes>"
      ]
     },
     "metadata": {
      "needs_background": "light"
     },
     "output_type": "display_data"
    }
   ],
   "source": [
    "run 20dias-porintervalos1.ipynb"
   ]
  },
  {
   "cell_type": "markdown",
   "metadata": {},
   "source": [
    "### EXPERIMENTO 1: MODELO BASE"
   ]
  },
  {
   "cell_type": "code",
   "execution_count": 44,
   "metadata": {
    "scrolled": true
   },
   "outputs": [
    {
     "name": "stdout",
     "output_type": "stream",
     "text": [
      "Tasa de acierto en rf: 0.54\n",
      "Tasa de aciertos balanceada regresión logística: 0.46\n",
      "Matriz de confusión:\n",
      "[[95 20  9  3  0  0]\n",
      " [19  8 14  8  0  0]\n",
      " [ 6  5 22 15  1  4]\n",
      " [ 2  1 21 24  6 10]\n",
      " [ 0  0  5  4  4 14]\n",
      " [ 0  0  0  2  3 50]]\n",
      "              precision    recall  f1-score   support\n",
      "\n",
      "         1.0       0.78      0.75      0.76       127\n",
      "         2.0       0.24      0.16      0.19        49\n",
      "         3.0       0.31      0.42      0.35        53\n",
      "         4.0       0.43      0.38      0.40        64\n",
      "         5.0       0.29      0.15      0.20        27\n",
      "         6.0       0.64      0.91      0.75        55\n",
      "\n",
      "    accuracy                           0.54       375\n",
      "   macro avg       0.45      0.46      0.44       375\n",
      "weighted avg       0.53      0.54      0.53       375\n",
      "\n"
     ]
    }
   ],
   "source": [
    "# MODELO CON EL CONJUNTO DE DATOS 1\n",
    "# -------------------------------------------------------------------\n",
    "rf1 = RandomForestClassifier().fit(trainX1, trainy1)\n",
    "y_pred1 = rf1.predict(testX1)\n",
    "confusion1 = confusion_matrix(testy1, y_pred1)\n",
    "print(\"Tasa de acierto en rf: {:.2f}\".format(rf1.score(testX1, testy1)))\n",
    "print(\"Tasa de aciertos balanceada regresión logística: {:.2f}\".format(balanced_accuracy_score(testy1, y_pred1)))\n",
    "print(\"Matriz de confusión:\\n{}\".format(confusion1))\n",
    "print(classification_report(testy1, y_pred1))"
   ]
  },
  {
   "cell_type": "code",
   "execution_count": 45,
   "metadata": {},
   "outputs": [
    {
     "name": "stdout",
     "output_type": "stream",
     "text": [
      "Tasa de acierto en regresión logística: 0.46\n",
      "Tasa de aciertos balanceada regresión logística: 0.41\n",
      "Matriz de confusión:\n",
      "[[77 17 19 14  0  0]\n",
      " [18  8  8 14  1  0]\n",
      " [ 6  4 14 25  0  3]\n",
      " [ 6  0 17 27  6  8]\n",
      " [ 0  0  8  6  3 10]\n",
      " [ 0  0  0  4  1 40]]\n",
      "              precision    recall  f1-score   support\n",
      "\n",
      "         1.0       0.72      0.61      0.66       127\n",
      "         2.0       0.28      0.16      0.21        49\n",
      "         3.0       0.21      0.27      0.24        52\n",
      "         4.0       0.30      0.42      0.35        64\n",
      "         5.0       0.27      0.11      0.16        27\n",
      "         6.0       0.66      0.89      0.75        45\n",
      "\n",
      "    accuracy                           0.46       364\n",
      "   macro avg       0.41      0.41      0.39       364\n",
      "weighted avg       0.47      0.46      0.46       364\n",
      "\n"
     ]
    }
   ],
   "source": [
    "# MODELO CON EL CONJUNTO DE DATOS 2\n",
    "# -------------------------------------------------------------------\n",
    "rf2 = RandomForestClassifier().fit(trainX2, trainy2)\n",
    "y_pred2 = rf2.predict(testX2)\n",
    "confusion2 = confusion_matrix(testy2, y_pred2)\n",
    "print(\"Tasa de acierto en regresión logística: {:.2f}\".format(rf2.score(testX2, testy2)))\n",
    "print(\"Tasa de aciertos balanceada regresión logística: {:.2f}\".format(balanced_accuracy_score(testy2, y_pred2)))\n",
    "print(\"Matriz de confusión:\\n{}\".format(confusion2))\n",
    "print(classification_report(testy2, y_pred2))"
   ]
  },
  {
   "cell_type": "code",
   "execution_count": 46,
   "metadata": {},
   "outputs": [
    {
     "name": "stdout",
     "output_type": "stream",
     "text": [
      "Tasa de acierto en regresión logística: 0.47\n",
      "Tasa de aciertos balanceada regresión logística: 0.39\n",
      "Matriz de confusión:\n",
      "[[98  7 18  1  0  3]\n",
      " [22  6  4  1  4 12]\n",
      " [12  1 15  2  1 21]\n",
      " [ 9  0 10  9  5 30]\n",
      " [ 0  0  5  2  4 15]\n",
      " [ 0  0  1  0  5 37]]\n",
      "              precision    recall  f1-score   support\n",
      "\n",
      "         1.0       0.70      0.77      0.73       127\n",
      "         2.0       0.43      0.12      0.19        49\n",
      "         3.0       0.28      0.29      0.29        52\n",
      "         4.0       0.60      0.14      0.23        63\n",
      "         5.0       0.21      0.15      0.18        26\n",
      "         6.0       0.31      0.86      0.46        43\n",
      "\n",
      "    accuracy                           0.47       360\n",
      "   macro avg       0.42      0.39      0.35       360\n",
      "weighted avg       0.50      0.47      0.43       360\n",
      "\n"
     ]
    }
   ],
   "source": [
    "# MODELO CON EL CONJUNTO DE DATOS 3\n",
    "# -------------------------------------------------------------------\n",
    "rf3 = RandomForestClassifier().fit(trainX3, trainy3)\n",
    "y_pred3 = rf3.predict(testX3)\n",
    "confusion3 = confusion_matrix(testy3, y_pred3)\n",
    "print(\"Tasa de acierto en regresión logística: {:.2f}\".format(rf3.score(testX3, testy3)))\n",
    "print(\"Tasa de aciertos balanceada regresión logística: {:.2f}\".format(balanced_accuracy_score(testy3, y_pred3)))\n",
    "print(\"Matriz de confusión:\\n{}\".format(confusion3))\n",
    "print(classification_report(testy3, y_pred3))"
   ]
  },
  {
   "cell_type": "markdown",
   "metadata": {},
   "source": [
    "### Experimento2: optimización bayesiana\n"
   ]
  },
  {
   "cell_type": "code",
   "execution_count": 47,
   "metadata": {},
   "outputs": [
    {
     "data": {
      "text/plain": [
       "{'criterion': 1,\n",
       " 'max_depth': 590.0,\n",
       " 'max_features': 3,\n",
       " 'min_samples_leaf': 0.07133375869191327,\n",
       " 'min_samples_split': 0.4480312606402357,\n",
       " 'n_estimators': 2}"
      ]
     },
     "execution_count": 47,
     "metadata": {},
     "output_type": "execute_result"
    }
   ],
   "source": [
    "# MODELO CON EL CONJUNTO DE DATOS 1\n",
    "# -------------------------------------------------------------------\n",
    "def objective1(params):\n",
    "   \n",
    "    random_forest = RandomForestClassifier(**params,n_jobs=-1).fit(trainX1, trainy1)\n",
    "    y_pred = random_forest.predict(testX1)\n",
    "    accuracy = random_forest.score(testX1, y_pred)\n",
    "    return {\"loss\": accuracy, \"status\": STATUS_OK}\n",
    "\n",
    "# Definimos los parámetros:\n",
    "param_space = {'criterion': hp.choice('criterion', ['entropy', 'gini']),\n",
    "        'max_depth': hp.quniform('max_depth', 10, 1200, 10),\n",
    "        'max_features': hp.choice('max_features', ['auto', 'sqrt','log2', None]),\n",
    "        'min_samples_leaf': hp.uniform('min_samples_leaf', 0, 0.5),\n",
    "        'min_samples_split' : hp.uniform ('min_samples_split', 0, 1),\n",
    "        'n_estimators' : hp.choice('n_estimators', [10, 50, 300, 750, 1200,1300,1500]) }\n",
    "\n",
    "tpe_algo = tpe.suggest\n",
    "trials = Trials()\n",
    "results = fmin(objective1,space=param_space,algo=tpe_algo,trials=trials,max_evals=100)\n",
    "results"
   ]
  },
  {
   "cell_type": "code",
   "execution_count": 66,
   "metadata": {},
   "outputs": [
    {
     "name": "stdout",
     "output_type": "stream",
     "text": [
      "Tasa de acierto en regresión logística: 0.48\n",
      "Tasa de aciertos balanceada regresión logística: 0.33\n",
      "Matriz de confusión:\n",
      "[[127   0   0   0   0   0]\n",
      " [ 47   0   0   0   0   2]\n",
      " [ 37   0   0   0   0  16]\n",
      " [ 38   0   0   0   0  26]\n",
      " [  1   0   0   0   0  26]\n",
      " [  1   0   0   0   0  54]]\n",
      "              precision    recall  f1-score   support\n",
      "\n",
      "         1.0       0.51      1.00      0.67       127\n",
      "         2.0       0.00      0.00      0.00        49\n",
      "         3.0       0.00      0.00      0.00        53\n",
      "         4.0       0.00      0.00      0.00        64\n",
      "         5.0       0.00      0.00      0.00        27\n",
      "         6.0       0.44      0.98      0.60        55\n",
      "\n",
      "    accuracy                           0.48       375\n",
      "   macro avg       0.16      0.33      0.21       375\n",
      "weighted avg       0.24      0.48      0.32       375\n",
      "\n"
     ]
    },
    {
     "name": "stderr",
     "output_type": "stream",
     "text": [
      "C:\\Users\\SARA\\anaconda3\\lib\\site-packages\\sklearn\\metrics\\_classification.py:1245: UndefinedMetricWarning: Precision and F-score are ill-defined and being set to 0.0 in labels with no predicted samples. Use `zero_division` parameter to control this behavior.\n",
      "  _warn_prf(average, modifier, msg_start, len(result))\n",
      "C:\\Users\\SARA\\anaconda3\\lib\\site-packages\\sklearn\\metrics\\_classification.py:1245: UndefinedMetricWarning: Precision and F-score are ill-defined and being set to 0.0 in labels with no predicted samples. Use `zero_division` parameter to control this behavior.\n",
      "  _warn_prf(average, modifier, msg_start, len(result))\n",
      "C:\\Users\\SARA\\anaconda3\\lib\\site-packages\\sklearn\\metrics\\_classification.py:1245: UndefinedMetricWarning: Precision and F-score are ill-defined and being set to 0.0 in labels with no predicted samples. Use `zero_division` parameter to control this behavior.\n",
      "  _warn_prf(average, modifier, msg_start, len(result))\n"
     ]
    }
   ],
   "source": [
    "rfob1 = RandomForestClassifier(criterion='gini', max_depth=590, max_features = None, min_samples_leaf =0.07133375869191327,\n",
    "                               min_samples_split = 0.4480312606402357,n_estimators = 300).fit(trainX1,trainy1)\n",
    "y_pred1 = rfob1.predict(testX1)\n",
    "confusion1 = confusion_matrix(testy1, y_pred1)\n",
    "print(\"Tasa de acierto en regresión logística: {:.2f}\".format(rfob1.score(testX1, testy1)))\n",
    "print(\"Tasa de aciertos balanceada regresión logística: {:.2f}\".format(balanced_accuracy_score(testy1, y_pred1)))\n",
    "print(\"Matriz de confusión:\\n{}\".format(confusion1))\n",
    "print(classification_report(testy1, y_pred1))"
   ]
  },
  {
   "cell_type": "code",
   "execution_count": 49,
   "metadata": {
    "scrolled": true
   },
   "outputs": [
    {
     "data": {
      "text/plain": [
       "{'criterion': 0,\n",
       " 'max_depth': 260.0,\n",
       " 'max_features': 1,\n",
       " 'min_samples_leaf': 0.049697679938940253,\n",
       " 'min_samples_split': 0.765678533550797,\n",
       " 'n_estimators': 1}"
      ]
     },
     "execution_count": 49,
     "metadata": {},
     "output_type": "execute_result"
    }
   ],
   "source": [
    "# MODELO CON EL CONJUNTO DE DATOS 2\n",
    "# -------------------------------------------------------------------\n",
    "def objective1(params):\n",
    "   \n",
    "    random_forest = RandomForestClassifier(**params,n_jobs=-1).fit(trainX2, trainy2)\n",
    "    y_pred = random_forest.predict(testX2)\n",
    "    accuracy = random_forest.score(testX2, y_pred)\n",
    "    return {\"loss\": accuracy, \"status\": STATUS_OK}\n",
    "\n",
    "# Definimos los parámetros:\n",
    "param_space = {'criterion': hp.choice('criterion', ['entropy', 'gini']),\n",
    "        'max_depth': hp.quniform('max_depth', 10, 1200, 10),\n",
    "        'max_features': hp.choice('max_features', ['auto', 'sqrt','log2', None]),\n",
    "        'min_samples_leaf': hp.uniform('min_samples_leaf', 0, 0.5),\n",
    "        'min_samples_split' : hp.uniform ('min_samples_split', 0, 1),\n",
    "        'n_estimators' : hp.choice('n_estimators', [10, 50, 300, 750, 1200,1300,1500]) }\n",
    "\n",
    "tpe_algo = tpe.suggest\n",
    "trials = Trials()\n",
    "results = fmin(objective1,space=param_space,algo=tpe_algo,trials=trials,max_evals=100)\n",
    "results"
   ]
  },
  {
   "cell_type": "code",
   "execution_count": 67,
   "metadata": {},
   "outputs": [
    {
     "name": "stdout",
     "output_type": "stream",
     "text": [
      "Tasa de acierto en regresión logística: 0.12\n",
      "Tasa de aciertos balanceada regresión logística: 0.17\n",
      "Matriz de confusión:\n",
      "[[  0   0   0   0   0 127]\n",
      " [  0   0   0   0   0  49]\n",
      " [  0   0   0   0   0  52]\n",
      " [  0   0   0   0   0  64]\n",
      " [  0   0   0   0   0  27]\n",
      " [  0   0   0   0   0  45]]\n",
      "              precision    recall  f1-score   support\n",
      "\n",
      "         1.0       0.00      0.00      0.00       127\n",
      "         2.0       0.00      0.00      0.00        49\n",
      "         3.0       0.00      0.00      0.00        52\n",
      "         4.0       0.00      0.00      0.00        64\n",
      "         5.0       0.00      0.00      0.00        27\n",
      "         6.0       0.12      1.00      0.22        45\n",
      "\n",
      "    accuracy                           0.12       364\n",
      "   macro avg       0.02      0.17      0.04       364\n",
      "weighted avg       0.02      0.12      0.03       364\n",
      "\n"
     ]
    },
    {
     "name": "stderr",
     "output_type": "stream",
     "text": [
      "C:\\Users\\SARA\\anaconda3\\lib\\site-packages\\sklearn\\metrics\\_classification.py:1245: UndefinedMetricWarning: Precision and F-score are ill-defined and being set to 0.0 in labels with no predicted samples. Use `zero_division` parameter to control this behavior.\n",
      "  _warn_prf(average, modifier, msg_start, len(result))\n",
      "C:\\Users\\SARA\\anaconda3\\lib\\site-packages\\sklearn\\metrics\\_classification.py:1245: UndefinedMetricWarning: Precision and F-score are ill-defined and being set to 0.0 in labels with no predicted samples. Use `zero_division` parameter to control this behavior.\n",
      "  _warn_prf(average, modifier, msg_start, len(result))\n",
      "C:\\Users\\SARA\\anaconda3\\lib\\site-packages\\sklearn\\metrics\\_classification.py:1245: UndefinedMetricWarning: Precision and F-score are ill-defined and being set to 0.0 in labels with no predicted samples. Use `zero_division` parameter to control this behavior.\n",
      "  _warn_prf(average, modifier, msg_start, len(result))\n"
     ]
    }
   ],
   "source": [
    "rfob2 = RandomForestClassifier(criterion='entropy', max_depth=260, max_features = 'sqrt',min_samples_leaf = 0.049697679938940253,\n",
    "                               min_samples_split =0.765678533550797,n_estimators = 50).fit(trainX2,trainy2)\n",
    "confusion2 = confusion_matrix(testy2, y_pred2)\n",
    "print(\"Tasa de acierto en regresión logística: {:.2f}\".format(rfob2.score(testX2, testy2)))\n",
    "print(\"Tasa de aciertos balanceada regresión logística: {:.2f}\".format(balanced_accuracy_score(testy2, y_pred2)))\n",
    "print(\"Matriz de confusión:\\n{}\".format(confusion2))\n",
    "print(classification_report(testy2, y_pred2))"
   ]
  },
  {
   "cell_type": "code",
   "execution_count": 51,
   "metadata": {},
   "outputs": [
    {
     "data": {
      "text/plain": [
       "{'criterion': 1,\n",
       " 'max_depth': 1170.0,\n",
       " 'max_features': 1,\n",
       " 'min_samples_leaf': 0.28431219740631003,\n",
       " 'min_samples_split': 0.49366298116521745,\n",
       " 'n_estimators': 4}"
      ]
     },
     "execution_count": 51,
     "metadata": {},
     "output_type": "execute_result"
    }
   ],
   "source": [
    "# MODELO CON EL CONJUNTO DE DATOS 3\n",
    "# -------------------------------------------------------------------\n",
    "def objective1(params):\n",
    "   \n",
    "    random_forest = RandomForestClassifier(**params,n_jobs=-1).fit(trainX3, trainy3)\n",
    "    y_pred = random_forest.predict(testX3)\n",
    "    accuracy = random_forest.score(testX3, y_pred)\n",
    "    return {\"loss\": accuracy, \"status\": STATUS_OK}\n",
    "\n",
    "# Definimos los parámetros:\n",
    "param_space = {'criterion': hp.choice('criterion', ['entropy', 'gini']),\n",
    "        'max_depth': hp.quniform('max_depth', 10, 1200, 10),\n",
    "        'max_features': hp.choice('max_features', ['auto', 'sqrt','log2', None]),\n",
    "        'min_samples_leaf': hp.uniform('min_samples_leaf', 0, 0.5),\n",
    "        'min_samples_split' : hp.uniform ('min_samples_split', 0, 1),\n",
    "        'n_estimators' : hp.choice('n_estimators', [10, 50, 300, 750, 1200,1300,1500]) }\n",
    "\n",
    "tpe_algo = tpe.suggest\n",
    "trials = Trials()\n",
    "results = fmin(objective1,space=param_space,algo=tpe_algo,trials=trials,max_evals=100)\n",
    "results"
   ]
  },
  {
   "cell_type": "code",
   "execution_count": 68,
   "metadata": {},
   "outputs": [
    {
     "name": "stdout",
     "output_type": "stream",
     "text": [
      "Tasa de acierto en regresión logística: 0.47\n",
      "Tasa de aciertos balanceada regresión logística: 0.17\n",
      "Matriz de confusión:\n",
      "[[  0   0   0   0   0 127]\n",
      " [  0   0   0   0   0  49]\n",
      " [  0   0   0   0   0  52]\n",
      " [  0   0   0   0   0  63]\n",
      " [  0   0   0   0   0  26]\n",
      " [  0   0   0   0   0  43]]\n",
      "              precision    recall  f1-score   support\n",
      "\n",
      "         1.0       0.00      0.00      0.00       127\n",
      "         2.0       0.00      0.00      0.00        49\n",
      "         3.0       0.00      0.00      0.00        52\n",
      "         4.0       0.00      0.00      0.00        63\n",
      "         5.0       0.00      0.00      0.00        26\n",
      "         6.0       0.12      1.00      0.21        43\n",
      "\n",
      "    accuracy                           0.12       360\n",
      "   macro avg       0.02      0.17      0.04       360\n",
      "weighted avg       0.01      0.12      0.03       360\n",
      "\n"
     ]
    },
    {
     "name": "stderr",
     "output_type": "stream",
     "text": [
      "C:\\Users\\SARA\\anaconda3\\lib\\site-packages\\sklearn\\metrics\\_classification.py:1245: UndefinedMetricWarning: Precision and F-score are ill-defined and being set to 0.0 in labels with no predicted samples. Use `zero_division` parameter to control this behavior.\n",
      "  _warn_prf(average, modifier, msg_start, len(result))\n",
      "C:\\Users\\SARA\\anaconda3\\lib\\site-packages\\sklearn\\metrics\\_classification.py:1245: UndefinedMetricWarning: Precision and F-score are ill-defined and being set to 0.0 in labels with no predicted samples. Use `zero_division` parameter to control this behavior.\n",
      "  _warn_prf(average, modifier, msg_start, len(result))\n",
      "C:\\Users\\SARA\\anaconda3\\lib\\site-packages\\sklearn\\metrics\\_classification.py:1245: UndefinedMetricWarning: Precision and F-score are ill-defined and being set to 0.0 in labels with no predicted samples. Use `zero_division` parameter to control this behavior.\n",
      "  _warn_prf(average, modifier, msg_start, len(result))\n"
     ]
    }
   ],
   "source": [
    "rfob3 = RandomForestClassifier(criterion='gini', max_depth=1170, max_features = 'sqrt',min_samples_leaf = 0.28431219740631003,\n",
    "                               min_samples_split = 0.49366298116521745,n_estimators = 1200).fit(trainX3,trainy3)\n",
    "confusion3 = confusion_matrix(testy3, y_pred3)\n",
    "print(\"Tasa de acierto en regresión logística: {:.2f}\".format(rfob3.score(testX3, testy3)))\n",
    "print(\"Tasa de aciertos balanceada regresión logística: {:.2f}\".format(balanced_accuracy_score(testy3, y_pred3)))\n",
    "print(\"Matriz de confusión:\\n{}\".format(confusion3))\n",
    "print(classification_report(testy3, y_pred3))"
   ]
  },
  {
   "cell_type": "code",
   "execution_count": null,
   "metadata": {},
   "outputs": [],
   "source": []
  }
 ],
 "metadata": {
  "kernelspec": {
   "display_name": "Python 3",
   "language": "python",
   "name": "python3"
  },
  "language_info": {
   "codemirror_mode": {
    "name": "ipython",
    "version": 3
   },
   "file_extension": ".py",
   "mimetype": "text/x-python",
   "name": "python",
   "nbconvert_exporter": "python",
   "pygments_lexer": "ipython3",
   "version": "3.7.6"
  }
 },
 "nbformat": 4,
 "nbformat_minor": 4
}
