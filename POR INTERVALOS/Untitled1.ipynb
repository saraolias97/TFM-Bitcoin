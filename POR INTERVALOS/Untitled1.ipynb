{
 "cells": [
  {
   "cell_type": "markdown",
   "metadata": {},
   "source": [
    "# INTERVALO 2"
   ]
  },
  {
   "cell_type": "markdown",
   "metadata": {},
   "source": [
    "Cargamos los datos:"
   ]
  },
  {
   "cell_type": "code",
   "execution_count": null,
   "metadata": {},
   "outputs": [],
   "source": [
    "run 1dia-porintervalos2.ipynb"
   ]
  },
  {
   "cell_type": "markdown",
   "metadata": {},
   "source": [
    "## CONJUNTO DE DATOS 1"
   ]
  },
  {
   "cell_type": "markdown",
   "metadata": {},
   "source": [
    "### LSTM RELU+ADAM"
   ]
  },
  {
   "cell_type": "markdown",
   "metadata": {},
   "source": [
    "#### EXPERIMENTO 1: Modelo con 5 capas, dividiendo las neuronas."
   ]
  },
  {
   "cell_type": "code",
   "execution_count": null,
   "metadata": {},
   "outputs": [],
   "source": [
    "def build_model1(neurons, output_size, activation_fun,loss_fun,optimizer_fun):\n",
    "    model = Sequential()\n",
    "    model.add(LSTM(neurons, activation=activation_fun, return_sequences=True, input_shape=(11, 1)))\n",
    "    model.add(LSTM(int(round(neurons/2)), activation=activation_fun, return_sequences=True))\n",
    "    model.add(LSTM(int(round(neurons/3)), activation=activation_fun, return_sequences=True))\n",
    "    model.add(LSTM(int(round(neurons/4)), activation=activation_fun))\n",
    "    model.add(Dense(5))\n",
    "    model.compile(optimizer=optimizer_fun, loss=loss_fun, metrics=['accuracy'])\n",
    "    return model"
   ]
  },
  {
   "cell_type": "markdown",
   "metadata": {},
   "source": [
    "Modelo 100 neuronas:"
   ]
  },
  {
   "cell_type": "code",
   "execution_count": null,
   "metadata": {
    "scrolled": true
   },
   "outputs": [],
   "source": [
    "modelLSTM100 = build_model1(32,6,'relu','binary_crossentropy','adam')\n",
    "modelLSTM100.summary()\n",
    "modelLSTM100.fit(trainX1, trainy1, epochs=10)"
   ]
  },
  {
   "cell_type": "code",
   "execution_count": null,
   "metadata": {},
   "outputs": [],
   "source": [
    "y_predLSTM100 = modelLSTM100.predict(testX1)\n",
    "y_predLSTM100 =  y_predLSTM100.argmax(axis=-1)\n",
    "confusion1 = confusion_matrix(testy1, y_predLSTM100)\n",
    "print(\"Tasa de acierto en regresión logística: {:.2f}\", acierto(y_predLSTM100, testy1))\n",
    "print(\"Tasa de aciertos balanceada regresión logística: {:.2f}\".format(balanced_accuracy_score(testy1, y_predLSTM100)))\n",
    "print(\"Matriz de confusión:\\n{}\".format(confusion1))\n",
    "print(classification_report(testy1, y_predLSTM100))"
   ]
  },
  {
   "cell_type": "markdown",
   "metadata": {},
   "source": [
    "Modelo 64 neuronas"
   ]
  },
  {
   "cell_type": "code",
   "execution_count": null,
   "metadata": {},
   "outputs": [],
   "source": [
    "modelLSTM64 = build_model1(64,1,'relu','binary_crossentropy','adam')\n",
    "modelLSTM64.summary()\n",
    "modelLSTM64.fit(trainX1, trainy1, epochs=100)"
   ]
  },
  {
   "cell_type": "code",
   "execution_count": null,
   "metadata": {},
   "outputs": [],
   "source": [
    "y_predLSTM64 = modelLSTM64.predict(testX1)\n",
    "y_predLSTM64 =  y_predLSTM64.argmax(axis=-1)\n",
    "confusion1 = confusion_matrix(testy1, y_predLSTM64)\n",
    "print(\"Tasa de acierto en regresión logística: {:.2f}\", acierto(y_predLSTM64, testy1))\n",
    "print(\"Tasa de aciertos balanceada regresión logística: {:.2f}\".format(balanced_accuracy_score(testy1, y_predLSTM64)))\n",
    "print(\"Matriz de confusión:\\n{}\".format(confusion1))\n",
    "print(classification_report(testy1, y_predLSTM64))"
   ]
  },
  {
   "cell_type": "markdown",
   "metadata": {},
   "source": [
    "Modelo 32 neuronas:"
   ]
  },
  {
   "cell_type": "code",
   "execution_count": null,
   "metadata": {},
   "outputs": [],
   "source": [
    "modelLSTM32 = build_model1(32,1,'relu','binary_crossentropy','adam')\n",
    "modelLSTM32.summary()\n",
    "modelLSTM32.fit(trainX1, trainy1, epochs=100)"
   ]
  },
  {
   "cell_type": "code",
   "execution_count": null,
   "metadata": {},
   "outputs": [],
   "source": [
    "y_predLSTM32 = modelLSTM32.predict(testX1)\n",
    "y_predLSTM32 =  y_predLSTM32.argmax(axis=-1)\n",
    "confusion1 = confusion_matrix(testy1, y_predLSTM32)\n",
    "print(\"Tasa de acierto en regresión logística: {:.2f}\", acierto(y_predLSTM32, testy1))\n",
    "print(\"Tasa de aciertos balanceada regresión logística: {:.2f}\".format(balanced_accuracy_score(testy1, y_predLSTM32)))\n",
    "print(\"Matriz de confusión:\\n{}\".format(confusion1))\n",
    "print(classification_report(testy1, y_predLSTM32))"
   ]
  },
  {
   "cell_type": "markdown",
   "metadata": {},
   "source": [
    "  "
   ]
  },
  {
   "cell_type": "markdown",
   "metadata": {},
   "source": [
    "#### EXPERIMENTO 2:  Modelo con 5 capas, mismas neuronas cada 2 capas"
   ]
  },
  {
   "cell_type": "code",
   "execution_count": null,
   "metadata": {},
   "outputs": [],
   "source": [
    "def build_model2(neurons, output_size, activation_fun,loss_fun,optimizer_fun):\n",
    "    model = Sequential()\n",
    "    model.add(LSTM(neurons, activation=activation_fun, return_sequences=True, input_shape=(11, 1)))\n",
    "    model.add(LSTM(neurons, activation=activation_fun, return_sequences=True))\n",
    "    model.add(LSTM(int(round(neurons/2)), activation=activation_fun, return_sequences=True))\n",
    "    model.add(LSTM(int(round(neurons/2)), activation=activation_fun))\n",
    "    model.add(Dense(5, activation=activation_fun))\n",
    "    model.compile(loss=loss_fun, metrics=['accuracy'], optimizer=optimizer_fun)\n",
    "    return model"
   ]
  },
  {
   "cell_type": "markdown",
   "metadata": {},
   "source": [
    "Modelo 100 neuronas:"
   ]
  },
  {
   "cell_type": "code",
   "execution_count": null,
   "metadata": {
    "scrolled": true
   },
   "outputs": [],
   "source": [
    "modelLSTM100 = build_model2(100,1,'relu','binary_crossentropy','adam')\n",
    "modelLSTM100.summary()\n",
    "modelLSTM100.fit(trainX1, trainy1, epochs=100)"
   ]
  },
  {
   "cell_type": "code",
   "execution_count": null,
   "metadata": {},
   "outputs": [],
   "source": [
    "y_predLSTM100 = modelLSTM100.predict(testX1)\n",
    "y_predLSTM100 =  y_predLSTM100.argmax(axis=-1)\n",
    "confusion1 = confusion_matrix(testy1, y_predLSTM100)\n",
    "print(\"Tasa de acierto en regresión logística: {:.2f}\", acierto(y_predLSTM100, testy1))\n",
    "print(\"Tasa de aciertos balanceada regresión logística: {:.2f}\".format(balanced_accuracy_score(testy1, y_predLSTM100)))\n",
    "print(\"Matriz de confusión:\\n{}\".format(confusion1))\n",
    "print(classification_report(testy1, y_predLSTM100))"
   ]
  },
  {
   "cell_type": "markdown",
   "metadata": {},
   "source": [
    "Modelo 64 neuronas"
   ]
  },
  {
   "cell_type": "code",
   "execution_count": null,
   "metadata": {},
   "outputs": [],
   "source": [
    "modelLSTM64 = build_model2(64,1,'relu','binary_crossentropy','adam')\n",
    "modelLSTM64.summary()\n",
    "modelLSTM64.fit(trainX1, trainy1, epochs=100)"
   ]
  },
  {
   "cell_type": "code",
   "execution_count": null,
   "metadata": {},
   "outputs": [],
   "source": [
    "y_predLSTM64 = modelLSTM64.predict(testX1)\n",
    "y_predLSTM64 =  y_predLSTM64.argmax(axis=-1)\n",
    "confusion1 = confusion_matrix(testy1, y_predLSTM64)\n",
    "print(\"Tasa de acierto en regresión logística: {:.2f}\", acierto(y_predLSTM64, testy1))\n",
    "print(\"Tasa de aciertos balanceada regresión logística: {:.2f}\".format(balanced_accuracy_score(testy1, y_predLSTM64)))\n",
    "print(\"Matriz de confusión:\\n{}\".format(confusion1))\n",
    "print(classification_report(testy1, y_predLSTM64))"
   ]
  },
  {
   "cell_type": "markdown",
   "metadata": {},
   "source": [
    "Modelo 32 neuronas:"
   ]
  },
  {
   "cell_type": "code",
   "execution_count": null,
   "metadata": {},
   "outputs": [],
   "source": [
    "modelLSTM32 = build_model2(32,1,'relu','binary_crossentropy','adam')\n",
    "modelLSTM32.summary()\n",
    "modelLSTM32.fit(trainX1, trainy1, epochs=100)"
   ]
  },
  {
   "cell_type": "code",
   "execution_count": null,
   "metadata": {},
   "outputs": [],
   "source": [
    "y_predLSTM32 = modelLSTM32.predict(testX1)\n",
    "y_predLSTM32 =  y_predLSTM32.argmax(axis=-1)\n",
    "confusion1 = confusion_matrix(testy1, y_predLSTM32)\n",
    "print(\"Tasa de acierto en regresión logística: {:.2f}\", acierto(y_predLSTM32, testy1))\n",
    "print(\"Tasa de aciertos balanceada regresión logística: {:.2f}\".format(balanced_accuracy_score(testy1, y_predLSTM32)))\n",
    "print(\"Matriz de confusión:\\n{}\".format(confusion1))\n",
    "print(classification_report(testy1, y_predLSTM32))"
   ]
  },
  {
   "cell_type": "markdown",
   "metadata": {},
   "source": [
    "### EXPERIMENTO 3: Modelo 10 capas"
   ]
  },
  {
   "cell_type": "code",
   "execution_count": null,
   "metadata": {},
   "outputs": [],
   "source": [
    "def build_model3(neurons, output_size, activation_fun,loss_fun,optimizer_fun):\n",
    "    model = Sequential()\n",
    "    model.add(LSTM(neurons, activation=activation_fun, return_sequences=True, input_shape=(11, 1)))\n",
    "    model.add(LSTM(int(round(neurons/2)), activation=activation_fun, return_sequences=True))\n",
    "    model.add(LSTM(int(round(neurons/3)), activation=activation_fun, return_sequences=True))\n",
    "    model.add(LSTM(int(round(neurons/4)), activation=activation_fun, return_sequences=True))\n",
    "    model.add(LSTM(int(round(neurons/5)), activation=activation_fun, return_sequences=True))\n",
    "    model.add(LSTM(int(round(neurons/6)), activation=activation_fun, return_sequences=True))\n",
    "    model.add(LSTM(int(round(neurons/7)), activation=activation_fun, return_sequences=True))\n",
    "    model.add(LSTM(int(round(neurons/8)), activation=activation_fun, return_sequences=True))\n",
    "    model.add(LSTM(int(round(neurons/9)), activation=activation_fun))\n",
    "    model.add(Dense(5, activation=activation_fun))\n",
    "    model.compile(loss=loss_fun, metrics=['accuracy'], optimizer=optimizer_fun)\n",
    "    return model\n"
   ]
  },
  {
   "cell_type": "markdown",
   "metadata": {},
   "source": [
    "Modelo 100 neuronas:"
   ]
  },
  {
   "cell_type": "code",
   "execution_count": null,
   "metadata": {},
   "outputs": [],
   "source": [
    "modelLSTM100 = build_model3(100,1,'relu','binary_crossentropy','adam')\n",
    "modelLSTM100.summary()\n",
    "modelLSTM100.fit(trainX1, trainy1, epochs=100)"
   ]
  },
  {
   "cell_type": "code",
   "execution_count": null,
   "metadata": {},
   "outputs": [],
   "source": [
    "y_predLSTM100 = modelLSTM100.predict(testX1)\n",
    "y_predLSTM100 =  y_predLSTM100.argmax(axis=-1)\n",
    "confusion1 = confusion_matrix(testy1, y_predLSTM100)\n",
    "print(\"Tasa de acierto en regresión logística: {:.2f}\", acierto(y_predLSTM100, testy1))\n",
    "print(\"Tasa de aciertos balanceada regresión logística: {:.2f}\".format(balanced_accuracy_score(testy1, y_predLSTM100)))\n",
    "print(\"Matriz de confusión:\\n{}\".format(confusion1))\n",
    "print(classification_report(testy1, y_predLSTM100))"
   ]
  },
  {
   "cell_type": "markdown",
   "metadata": {},
   "source": [
    "Modelo 64 neuronas:"
   ]
  },
  {
   "cell_type": "code",
   "execution_count": null,
   "metadata": {},
   "outputs": [],
   "source": [
    "modelLSTM64 = build_model3(64,1,'relu','binary_crossentropy','adam')\n",
    "modelLSTM64.summary()\n",
    "modelLSTM64.fit(trainX1, trainy1, epochs=100)"
   ]
  },
  {
   "cell_type": "code",
   "execution_count": null,
   "metadata": {},
   "outputs": [],
   "source": [
    "y_predLSTM64 = modelLSTM64.predict(testX1)\n",
    "y_predLSTM64 =  y_predLSTM64.argmax(axis=-1)\n",
    "confusion1 = confusion_matrix(testy1, y_predLSTM64)\n",
    "print(\"Tasa de acierto en regresión logística: {:.2f}\", acierto(y_predLSTM64, testy1))\n",
    "print(\"Tasa de aciertos balanceada regresión logística: {:.2f}\".format(balanced_accuracy_score(testy1, y_predLSTM64)))\n",
    "print(\"Matriz de confusión:\\n{}\".format(confusion1))\n",
    "print(classification_report(testy1, y_predLSTM64))"
   ]
  },
  {
   "cell_type": "markdown",
   "metadata": {},
   "source": [
    "Modelo 32 neuronas:"
   ]
  },
  {
   "cell_type": "code",
   "execution_count": null,
   "metadata": {},
   "outputs": [],
   "source": [
    "modelLSTM32 = build_model3(32,1,'relu','binary_crossentropy','adam')\n",
    "modelLSTM32.summary()\n",
    "modelLSTM32.fit(trainX1, trainy1, epochs=100)"
   ]
  },
  {
   "cell_type": "code",
   "execution_count": null,
   "metadata": {},
   "outputs": [],
   "source": [
    "y_predLSTM32 = modelLSTM32.predict(testX1)\n",
    "y_predLSTM32 =  y_predLSTM32.argmax(axis=-1)\n",
    "confusion1 = confusion_matrix(testy1, y_predLSTM32)\n",
    "print(\"Tasa de acierto en regresión logística: {:.2f}\", acierto(y_predLSTM32, testy1))\n",
    "print(\"Tasa de aciertos balanceada regresión logística: {:.2f}\".format(balanced_accuracy_score(testy1, y_predLSTM32)))\n",
    "print(\"Matriz de confusión:\\n{}\".format(confusion1))\n",
    "print(classification_report(testy1, y_predLSTM32))"
   ]
  },
  {
   "cell_type": "markdown",
   "metadata": {},
   "source": [
    "### LSTM RELU+ADAGRAD"
   ]
  },
  {
   "cell_type": "markdown",
   "metadata": {},
   "source": [
    "#### EXPERIMENTO 1: Modelo con 5 capas, dividiendo las neuronas."
   ]
  },
  {
   "cell_type": "markdown",
   "metadata": {},
   "source": [
    "Modelo 100 neuronas:"
   ]
  },
  {
   "cell_type": "code",
   "execution_count": null,
   "metadata": {
    "scrolled": false
   },
   "outputs": [],
   "source": [
    "modelLSTM100 = build_model1(100,1,'relu','binary_crossentropy','adagrad')\n",
    "modelLSTM100.summary()\n",
    "modelLSTM100.fit(trainX1, trainy1, epochs=100)"
   ]
  },
  {
   "cell_type": "code",
   "execution_count": null,
   "metadata": {},
   "outputs": [],
   "source": [
    "y_predLSTM100 = modelLSTM100.predict(testX1)\n",
    "y_predLSTM100 =  y_predLSTM100.argmax(axis=-1)\n",
    "confusion1 = confusion_matrix(testy1, y_predLSTM100)\n",
    "print(\"Tasa de acierto en regresión logística: {:.2f}\", acierto(y_predLSTM100, testy1))\n",
    "print(\"Tasa de aciertos balanceada regresión logística: {:.2f}\".format(balanced_accuracy_score(testy1, y_predLSTM100)))\n",
    "print(\"Matriz de confusión:\\n{}\".format(confusion1))\n",
    "print(classification_report(testy1, y_predLSTM100))"
   ]
  },
  {
   "cell_type": "markdown",
   "metadata": {},
   "source": [
    "Modelo 64 neuronas"
   ]
  },
  {
   "cell_type": "code",
   "execution_count": null,
   "metadata": {},
   "outputs": [],
   "source": [
    "modelLSTM64 = build_model1(64,1,'relu','binary_crossentropy','adagrad')\n",
    "modelLSTM64.summary()\n",
    "modelLSTM64.fit(trainX1, trainy1, epochs=100)"
   ]
  },
  {
   "cell_type": "code",
   "execution_count": null,
   "metadata": {},
   "outputs": [],
   "source": [
    "y_predLSTM64 = modelLSTM64.predict(testX1)\n",
    "y_predLSTM64 =  y_predLSTM64.argmax(axis=-1)\n",
    "confusion1 = confusion_matrix(testy1, y_predLSTM64)\n",
    "print(\"Tasa de acierto en regresión logística: {:.2f}\", acierto(y_predLSTM64, testy1))\n",
    "print(\"Tasa de aciertos balanceada regresión logística: {:.2f}\".format(balanced_accuracy_score(testy1, y_predLSTM64)))\n",
    "print(\"Matriz de confusión:\\n{}\".format(confusion1))\n",
    "print(classification_report(testy1, y_predLSTM64))"
   ]
  },
  {
   "cell_type": "markdown",
   "metadata": {},
   "source": [
    "Modelo 32 neuronas:"
   ]
  },
  {
   "cell_type": "code",
   "execution_count": null,
   "metadata": {},
   "outputs": [],
   "source": [
    "modelLSTM32 = build_model1(32,1,'relu','binary_crossentropy','adagrad')\n",
    "modelLSTM32.summary()\n",
    "modelLSTM32.fit(trainX1, trainy1, epochs=100)"
   ]
  },
  {
   "cell_type": "code",
   "execution_count": null,
   "metadata": {},
   "outputs": [],
   "source": [
    "y_predLSTM32 = modelLSTM32.predict(testX1)\n",
    "y_predLSTM32 =  y_predLSTM32.argmax(axis=-1)\n",
    "confusion1 = confusion_matrix(testy1, y_predLSTM32)\n",
    "print(\"Tasa de acierto en regresión logística: {:.2f}\", acierto(y_predLSTM32, testy1))\n",
    "print(\"Tasa de aciertos balanceada regresión logística: {:.2f}\".format(balanced_accuracy_score(testy1, y_predLSTM32)))\n",
    "print(\"Matriz de confusión:\\n{}\".format(confusion1))\n",
    "print(classification_report(testy1, y_predLSTM32))"
   ]
  },
  {
   "cell_type": "markdown",
   "metadata": {},
   "source": [
    "  "
   ]
  },
  {
   "cell_type": "markdown",
   "metadata": {},
   "source": [
    "#### EXPERIMENTO 2:  Modelo con 5 capas, mismas neuronas cada 2 capas"
   ]
  },
  {
   "cell_type": "code",
   "execution_count": null,
   "metadata": {
    "scrolled": true
   },
   "outputs": [],
   "source": [
    "modelLSTM100 = build_model2(100,1,'relu','binary_crossentropy','adagrad')\n",
    "modelLSTM100.summary()\n",
    "modelLSTM100.fit(trainX1, trainy1, epochs=100)"
   ]
  },
  {
   "cell_type": "code",
   "execution_count": null,
   "metadata": {},
   "outputs": [],
   "source": [
    "y_predLSTM100 = modelLSTM100.predict(testX1)\n",
    "y_predLSTM100 =  y_predLSTM100.argmax(axis=-1)\n",
    "confusion1 = confusion_matrix(testy1, y_predLSTM100)\n",
    "print(\"Tasa de acierto en regresión logística: {:.2f}\", acierto(y_predLSTM100, testy1))\n",
    "print(\"Tasa de aciertos balanceada regresión logística: {:.2f}\".format(balanced_accuracy_score(testy1, y_predLSTM100)))\n",
    "print(\"Matriz de confusión:\\n{}\".format(confusion1))\n",
    "print(classification_report(testy1, y_predLSTM100))"
   ]
  },
  {
   "cell_type": "markdown",
   "metadata": {},
   "source": [
    "Modelo 64 neuronas"
   ]
  },
  {
   "cell_type": "code",
   "execution_count": null,
   "metadata": {},
   "outputs": [],
   "source": [
    "modelLSTM64 = build_model2(64,1,'relu','binary_crossentropy','adagrad')\n",
    "modelLSTM64.summary()\n",
    "modelLSTM64.fit(trainX1, trainy1, epochs=100)"
   ]
  },
  {
   "cell_type": "code",
   "execution_count": null,
   "metadata": {},
   "outputs": [],
   "source": [
    "y_predLSTM64 = modelLSTM64.predict(testX1)\n",
    "y_predLSTM64 =  y_predLSTM64.argmax(axis=-1)\n",
    "confusion1 = confusion_matrix(testy1, y_predLSTM64)\n",
    "print(\"Tasa de acierto en regresión logística: {:.2f}\", acierto(y_predLSTM64, testy1))\n",
    "print(\"Tasa de aciertos balanceada regresión logística: {:.2f}\".format(balanced_accuracy_score(testy1, y_predLSTM64)))\n",
    "print(\"Matriz de confusión:\\n{}\".format(confusion1))\n",
    "print(classification_report(testy1, y_predLSTM64))"
   ]
  },
  {
   "cell_type": "markdown",
   "metadata": {},
   "source": [
    "Modelo 32 neuronas:"
   ]
  },
  {
   "cell_type": "code",
   "execution_count": null,
   "metadata": {},
   "outputs": [],
   "source": [
    "modelLSTM32 = build_model2(32,1,'relu','binary_crossentropy','adagrad')\n",
    "modelLSTM32.summary()\n",
    "modelLSTM32.fit(trainX1, trainy1, epochs=100)"
   ]
  },
  {
   "cell_type": "code",
   "execution_count": null,
   "metadata": {},
   "outputs": [],
   "source": [
    "y_predLSTM32 = modelLSTM32.predict(testX1)\n",
    "y_predLSTM32 =  y_predLSTM32.argmax(axis=-1)\n",
    "confusion1 = confusion_matrix(testy1, y_predLSTM32)\n",
    "print(\"Tasa de acierto en regresión logística: {:.2f}\", acierto(y_predLSTM32, testy1))\n",
    "print(\"Tasa de aciertos balanceada regresión logística: {:.2f}\".format(balanced_accuracy_score(testy1, y_predLSTM32)))\n",
    "print(\"Matriz de confusión:\\n{}\".format(confusion1))\n",
    "print(classification_report(testy1, y_predLSTM32))"
   ]
  },
  {
   "cell_type": "markdown",
   "metadata": {},
   "source": [
    "### EXPERIMENTO 3: Modelo 10 capas"
   ]
  },
  {
   "cell_type": "markdown",
   "metadata": {},
   "source": [
    "Modelo 100 neuronas:"
   ]
  },
  {
   "cell_type": "code",
   "execution_count": null,
   "metadata": {},
   "outputs": [],
   "source": [
    "modelLSTM100 = build_model3(100,1,'relu','binary_crossentropy','adagrad')\n",
    "modelLSTM100.summary()\n",
    "modelLSTM100.fit(trainX1, trainy1, epochs=100)"
   ]
  },
  {
   "cell_type": "code",
   "execution_count": null,
   "metadata": {},
   "outputs": [],
   "source": [
    "y_predLSTM100 = modelLSTM100.predict(testX1)\n",
    "y_predLSTM100 =  y_predLSTM100.argmax(axis=-1)\n",
    "confusion1 = confusion_matrix(testy1, y_predLSTM100)\n",
    "print(\"Tasa de acierto en regresión logística: {:.2f}\", acierto(y_predLSTM100, testy1))\n",
    "print(\"Tasa de aciertos balanceada regresión logística: {:.2f}\".format(balanced_accuracy_score(testy1, y_predLSTM100)))\n",
    "print(\"Matriz de confusión:\\n{}\".format(confusion1))\n",
    "print(classification_report(testy1, y_predLSTM100))"
   ]
  },
  {
   "cell_type": "markdown",
   "metadata": {},
   "source": [
    "Modelo 64 neuronas:"
   ]
  },
  {
   "cell_type": "code",
   "execution_count": null,
   "metadata": {},
   "outputs": [],
   "source": [
    "modelLSTM64 = build_model3(64,1,'relu','binary_crossentropy','adagrad')\n",
    "modelLSTM64.summary()\n",
    "modelLSTM64.fit(trainX1, trainy1, epochs=100)"
   ]
  },
  {
   "cell_type": "code",
   "execution_count": null,
   "metadata": {},
   "outputs": [],
   "source": [
    "y_predLSTM64 = modelLSTM64.predict(testX1)\n",
    "y_predLSTM64 =  y_predLSTM64.argmax(axis=-1)\n",
    "confusion1 = confusion_matrix(testy1, y_predLSTM64)\n",
    "print(\"Tasa de acierto en regresión logística: {:.2f}\", acierto(y_predLSTM64, testy1))\n",
    "print(\"Tasa de aciertos balanceada regresión logística: {:.2f}\".format(balanced_accuracy_score(testy1, y_predLSTM64)))\n",
    "print(\"Matriz de confusión:\\n{}\".format(confusion1))\n",
    "print(classification_report(testy1, y_predLSTM64))"
   ]
  },
  {
   "cell_type": "markdown",
   "metadata": {},
   "source": [
    "Modelo 32 neuronas:"
   ]
  },
  {
   "cell_type": "code",
   "execution_count": null,
   "metadata": {},
   "outputs": [],
   "source": [
    "modelLSTM32 = build_model3(32,1,'relu','binary_crossentropy','adagrad')\n",
    "modelLSTM32.summary()\n",
    "modelLSTM32.fit(trainX1, trainy1, epochs=100)"
   ]
  },
  {
   "cell_type": "code",
   "execution_count": null,
   "metadata": {},
   "outputs": [],
   "source": [
    "y_predLSTM32 = modelLSTM32.predict(testX1)\n",
    "y_predLSTM32 =  y_predLSTM32.argmax(axis=-1)\n",
    "confusion1 = confusion_matrix(testy1, y_predLSTM32)\n",
    "print(\"Tasa de acierto en regresión logística: {:.2f}\", acierto(y_predLSTM32, testy1))\n",
    "print(\"Tasa de aciertos balanceada regresión logística: {:.2f}\".format(balanced_accuracy_score(testy1, y_predLSTM32)))\n",
    "print(\"Matriz de confusión:\\n{}\".format(confusion1))\n",
    "print(classification_report(testy1, y_predLSTM32))"
   ]
  },
  {
   "cell_type": "markdown",
   "metadata": {},
   "source": [
    "# CONJUNTO DE DATOS 2"
   ]
  },
  {
   "cell_type": "code",
   "execution_count": null,
   "metadata": {},
   "outputs": [],
   "source": [
    "def build_model1(neurons, output_size, activation_fun,loss_fun,optimizer_fun):\n",
    "    model = Sequential()\n",
    "    model.add(LSTM(neurons, activation=activation_fun, return_sequences=True, input_shape=(21, 1)))\n",
    "    model.add(LSTM(int(round(neurons/2)), activation=activation_fun, return_sequences=True))\n",
    "    model.add(LSTM(int(round(neurons/3)), activation=activation_fun, return_sequences=True))\n",
    "    model.add(LSTM(int(round(neurons/4)), activation=activation_fun))\n",
    "    model.add(Dense(5))\n",
    "    model.compile(optimizer=optimizer_fun, loss=loss_fun, metrics=['accuracy'])\n",
    "    return model"
   ]
  },
  {
   "cell_type": "code",
   "execution_count": null,
   "metadata": {},
   "outputs": [],
   "source": [
    "def build_model2(neurons, output_size, activation_fun,loss_fun,optimizer_fun):\n",
    "    model = Sequential()\n",
    "    model.add(LSTM(neurons, activation=activation_fun, return_sequences=True, input_shape=(21, 1)))\n",
    "    model.add(LSTM(neurons, activation=activation_fun, return_sequences=True))\n",
    "    model.add(LSTM(int(round(neurons/2)), activation=activation_fun, return_sequences=True))\n",
    "    model.add(LSTM(int(round(neurons/2)), activation=activation_fun))\n",
    "    model.add(Dense(5, activation=activation_fun))\n",
    "    model.compile(loss=loss_fun, metrics=['accuracy'], optimizer=optimizer_fun)\n",
    "    return model"
   ]
  },
  {
   "cell_type": "code",
   "execution_count": null,
   "metadata": {},
   "outputs": [],
   "source": [
    "def build_model3(neurons, output_size, activation_fun,loss_fun,optimizer_fun):\n",
    "    model = Sequential()\n",
    "    model.add(LSTM(neurons, activation=activation_fun, return_sequences=True, input_shape=(21, 1)))\n",
    "    model.add(LSTM(int(round(neurons/2)), activation=activation_fun, return_sequences=True))\n",
    "    model.add(LSTM(int(round(neurons/3)), activation=activation_fun, return_sequences=True))\n",
    "    model.add(LSTM(int(round(neurons/4)), activation=activation_fun, return_sequences=True))\n",
    "    model.add(LSTM(int(round(neurons/5)), activation=activation_fun, return_sequences=True))\n",
    "    model.add(LSTM(int(round(neurons/6)), activation=activation_fun, return_sequences=True))\n",
    "    model.add(LSTM(int(round(neurons/7)), activation=activation_fun, return_sequences=True))\n",
    "    model.add(LSTM(int(round(neurons/8)), activation=activation_fun, return_sequences=True))\n",
    "    model.add(LSTM(int(round(neurons/9)), activation=activation_fun))\n",
    "    model.add(Dense(5, activation=activation_fun))\n",
    "    model.compile(loss=loss_fun, metrics=['accuracy'], optimizer=optimizer_fun)\n",
    "    return model"
   ]
  },
  {
   "cell_type": "markdown",
   "metadata": {},
   "source": [
    "### LSTM RELU+ADAM"
   ]
  },
  {
   "cell_type": "markdown",
   "metadata": {},
   "source": [
    "#### EXPERIMENTO 1: Modelo con 5 capas, dividiendo las neuronas."
   ]
  },
  {
   "cell_type": "markdown",
   "metadata": {},
   "source": [
    "Modelo 100 neuronas:"
   ]
  },
  {
   "cell_type": "code",
   "execution_count": null,
   "metadata": {
    "scrolled": true
   },
   "outputs": [],
   "source": [
    "modelLSTM100 = build_model1(100,1,'relu','binary_crossentropy','adam')\n",
    "modelLSTM100.summary()\n",
    "modelLSTM100.fit(trainX2, trainy2, epochs=100)"
   ]
  },
  {
   "cell_type": "code",
   "execution_count": null,
   "metadata": {},
   "outputs": [],
   "source": [
    "y_predLSTM100 = modelLSTM100.predict(testX2)\n",
    "y_predLSTM100 =  y_predLSTM100.argmax(axis=-1)\n",
    "confusion2 = confusion_matrix(testy2, y_predLSTM100)\n",
    "print(\"Tasa de acierto en regresión logística: {:.2f}\", acierto(y_predLSTM100, testy2))\n",
    "print(\"Tasa de aciertos balanceada regresión logística: {:.2f}\".format(balanced_accuracy_score(testy2, y_predLSTM100)))\n",
    "print(\"Matriz de confusión:\\n{}\".format(confusion2))\n",
    "print(classification_report(testy2, y_predLSTM100))"
   ]
  },
  {
   "cell_type": "markdown",
   "metadata": {},
   "source": [
    "Modelo 64 neuronas"
   ]
  },
  {
   "cell_type": "code",
   "execution_count": null,
   "metadata": {},
   "outputs": [],
   "source": [
    "modelLSTM64 = build_model1(64,1,'relu','binary_crossentropy','adam')\n",
    "modelLSTM64.summary()\n",
    "modelLSTM64.fit(trainX2, trainy2, epochs=100)"
   ]
  },
  {
   "cell_type": "code",
   "execution_count": null,
   "metadata": {},
   "outputs": [],
   "source": [
    "y_predLSTM64 = modelLSTM64.predict(testX2)\n",
    "y_predLSTM64 =  y_predLSTM64.argmax(axis=-1)\n",
    "confusion2 = confusion_matrix(testy2, y_predLSTM64)\n",
    "print(\"Tasa de acierto en regresión logística: {:.2f}\", acierto(y_predLSTM64, testy2))\n",
    "print(\"Tasa de aciertos balanceada regresión logística: {:.2f}\".format(balanced_accuracy_score(testy2, y_predLSTM64)))\n",
    "print(\"Matriz de confusión:\\n{}\".format(confusion2))\n",
    "print(classification_report(testy2, y_predLSTM64))"
   ]
  },
  {
   "cell_type": "markdown",
   "metadata": {},
   "source": [
    "Modelo 32 neuronas:"
   ]
  },
  {
   "cell_type": "code",
   "execution_count": null,
   "metadata": {},
   "outputs": [],
   "source": [
    "modelLSTM32 = build_model1(32,1,'relu','binary_crossentropy','adam')\n",
    "modelLSTM32.summary()\n",
    "modelLSTM32.fit(trainX2, trainy2, epochs=100)"
   ]
  },
  {
   "cell_type": "code",
   "execution_count": null,
   "metadata": {},
   "outputs": [],
   "source": [
    "y_predLSTM32 = modelLSTM32.predict(testX2)\n",
    "y_predLSTM32 =  y_predLSTM32.argmax(axis=-1)\n",
    "confusion2 = confusion_matrix(testy2, y_predLSTM100)\n",
    "print(\"Tasa de acierto en regresión logística: {:.2f}\", acierto(y_predLSTM32, testy2))\n",
    "print(\"Tasa de aciertos balanceada regresión logística: {:.2f}\".format(balanced_accuracy_score(testy2, y_predLSTM32)))\n",
    "print(\"Matriz de confusión:\\n{}\".format(confusion2))\n",
    "print(classification_report(testy2, y_predLSTM32))"
   ]
  },
  {
   "cell_type": "markdown",
   "metadata": {},
   "source": [
    "  "
   ]
  },
  {
   "cell_type": "markdown",
   "metadata": {},
   "source": [
    "#### EXPERIMENTO 2:  Modelo con 5 capas, mismas neuronas cada 2 capas"
   ]
  },
  {
   "cell_type": "markdown",
   "metadata": {},
   "source": [
    "Modelo 100 neuronas:"
   ]
  },
  {
   "cell_type": "code",
   "execution_count": null,
   "metadata": {
    "scrolled": true
   },
   "outputs": [],
   "source": [
    "modelLSTM100 = build_model2(100,1,'relu','binary_crossentropy','adam')\n",
    "modelLSTM100.summary()\n",
    "modelLSTM100.fit(trainX2, trainy2, epochs=100)"
   ]
  },
  {
   "cell_type": "code",
   "execution_count": null,
   "metadata": {},
   "outputs": [],
   "source": [
    "y_predLSTM100 = modelLSTM100.predict(testX2)\n",
    "y_predLSTM100 =  y_predLSTM100.argmax(axis=-1)\n",
    "confusion2 = confusion_matrix(testy2, y_predLSTM100)\n",
    "print(\"Tasa de acierto en regresión logística: {:.2f}\", acierto(y_predLSTM100, testy2))\n",
    "print(\"Tasa de aciertos balanceada regresión logística: {:.2f}\".format(balanced_accuracy_score(testy2, y_predLSTM100)))\n",
    "print(\"Matriz de confusión:\\n{}\".format(confusion2))\n",
    "print(classification_report(testy2, y_predLSTM100))"
   ]
  },
  {
   "cell_type": "markdown",
   "metadata": {},
   "source": [
    "Modelo 64 neuronas"
   ]
  },
  {
   "cell_type": "code",
   "execution_count": null,
   "metadata": {},
   "outputs": [],
   "source": [
    "modelLSTM64 = build_model2(64,1,'relu','binary_crossentropy','adam')\n",
    "modelLSTM64.summary()\n",
    "modelLSTM64.fit(trainX2, trainy2, epochs=100)"
   ]
  },
  {
   "cell_type": "code",
   "execution_count": null,
   "metadata": {},
   "outputs": [],
   "source": [
    "y_predLSTM64 = modelLSTM64.predict(testX2)\n",
    "y_predLSTM64 =  y_predLSTM64.argmax(axis=-1)\n",
    "confusion2 = confusion_matrix(testy2, y_predLSTM64)\n",
    "print(\"Tasa de acierto en regresión logística: {:.2f}\", acierto(y_predLSTM64, testy2))\n",
    "print(\"Tasa de aciertos balanceada regresión logística: {:.2f}\".format(balanced_accuracy_score(testy2, y_predLSTM64)))\n",
    "print(\"Matriz de confusión:\\n{}\".format(confusion2))\n",
    "print(classification_report(testy2, y_predLSTM64))"
   ]
  },
  {
   "cell_type": "markdown",
   "metadata": {},
   "source": [
    "Modelo 32 neuronas:"
   ]
  },
  {
   "cell_type": "code",
   "execution_count": null,
   "metadata": {},
   "outputs": [],
   "source": [
    "modelLSTM32 = build_model2(32,1,'relu','binary_crossentropy','adam')\n",
    "modelLSTM32.summary()\n",
    "modelLSTM32.fit(trainX2, trainy2, epochs=100)"
   ]
  },
  {
   "cell_type": "code",
   "execution_count": null,
   "metadata": {},
   "outputs": [],
   "source": [
    "y_predLSTM32 = modelLSTM32.predict(testX2)\n",
    "y_predLSTM32 =  y_predLSTM32.argmax(axis=-1)\n",
    "confusion2 = confusion_matrix(testy2, y_predLSTM100)\n",
    "print(\"Tasa de acierto en regresión logística: {:.2f}\", acierto(y_predLSTM32, testy2))\n",
    "print(\"Tasa de aciertos balanceada regresión logística: {:.2f}\".format(balanced_accuracy_score(testy2, y_predLSTM32)))\n",
    "print(\"Matriz de confusión:\\n{}\".format(confusion2))\n",
    "print(classification_report(testy2, y_predLSTM32))"
   ]
  },
  {
   "cell_type": "markdown",
   "metadata": {},
   "source": [
    "### EXPERIMENTO 3: Modelo 10 capas"
   ]
  },
  {
   "cell_type": "markdown",
   "metadata": {},
   "source": [
    "Modelo 100 neuronas:"
   ]
  },
  {
   "cell_type": "code",
   "execution_count": null,
   "metadata": {},
   "outputs": [],
   "source": [
    "modelLSTM100 = build_model3(100,1,'relu','binary_crossentropy','adam')\n",
    "modelLSTM100.summary()\n",
    "modelLSTM100.fit(trainX2, trainy2, epochs=100)"
   ]
  },
  {
   "cell_type": "code",
   "execution_count": null,
   "metadata": {},
   "outputs": [],
   "source": [
    "y_predLSTM100 = modelLSTM100.predict(testX2)\n",
    "y_predLSTM100 =  y_predLSTM100.argmax(axis=-1)\n",
    "confusion2 = confusion_matrix(testy2, y_predLSTM100)\n",
    "print(\"Tasa de acierto en regresión logística: {:.2f}\", acierto(y_predLSTM100, testy2))\n",
    "print(\"Tasa de aciertos balanceada regresión logística: {:.2f}\".format(balanced_accuracy_score(testy2, y_predLSTM100)))\n",
    "print(\"Matriz de confusión:\\n{}\".format(confusion2))\n",
    "print(classification_report(testy2, y_predLSTM100))"
   ]
  },
  {
   "cell_type": "markdown",
   "metadata": {},
   "source": [
    "Modelo 64 neuronas:"
   ]
  },
  {
   "cell_type": "code",
   "execution_count": null,
   "metadata": {},
   "outputs": [],
   "source": [
    "modelLSTM64 = build_model3(64,1,'relu','binary_crossentropy','adam')\n",
    "modelLSTM64.summary()\n",
    "modelLSTM64.fit(trainX2, trainy2, epochs=100)"
   ]
  },
  {
   "cell_type": "code",
   "execution_count": null,
   "metadata": {},
   "outputs": [],
   "source": [
    "y_predLSTM64 = modelLSTM64.predict(testX2)\n",
    "y_predLSTM64 =  y_predLSTM64.argmax(axis=-1)\n",
    "confusion2 = confusion_matrix(testy2, y_predLSTM64)\n",
    "print(\"Tasa de acierto en regresión logística: {:.2f}\", acierto(y_predLSTM64, testy2))\n",
    "print(\"Tasa de aciertos balanceada regresión logística: {:.2f}\".format(balanced_accuracy_score(testy2, y_predLSTM64)))\n",
    "print(\"Matriz de confusión:\\n{}\".format(confusion2))\n",
    "print(classification_report(testy2, y_predLSTM64))"
   ]
  },
  {
   "cell_type": "markdown",
   "metadata": {},
   "source": [
    "Modelo 32 neuronas:"
   ]
  },
  {
   "cell_type": "code",
   "execution_count": null,
   "metadata": {},
   "outputs": [],
   "source": [
    "modelLSTM32 = build_model3(32,1,'relu','binary_crossentropy','adam')\n",
    "modelLSTM32.summary()\n",
    "modelLSTM32.fit(trainX2, trainy2, epochs=100)"
   ]
  },
  {
   "cell_type": "code",
   "execution_count": null,
   "metadata": {},
   "outputs": [],
   "source": [
    "y_predLSTM32 = modelLSTM32.predict(testX2)\n",
    "y_predLSTM32 =  y_predLSTM32.argmax(axis=-1)\n",
    "confusion2 = confusion_matrix(testy2, y_predLSTM100)\n",
    "print(\"Tasa de acierto en regresión logística: {:.2f}\", acierto(y_predLSTM32, testy2))\n",
    "print(\"Tasa de aciertos balanceada regresión logística: {:.2f}\".format(balanced_accuracy_score(testy2, y_predLSTM32)))\n",
    "print(\"Matriz de confusión:\\n{}\".format(confusion2))\n",
    "print(classification_report(testy2, y_predLSTM32))"
   ]
  },
  {
   "cell_type": "markdown",
   "metadata": {},
   "source": [
    "### LSTM RELU+ADAGRAD"
   ]
  },
  {
   "cell_type": "markdown",
   "metadata": {},
   "source": [
    "#### EXPERIMENTO 1: Modelo con 5 capas, dividiendo las neuronas."
   ]
  },
  {
   "cell_type": "markdown",
   "metadata": {},
   "source": [
    "Modelo 100 neuronas:"
   ]
  },
  {
   "cell_type": "code",
   "execution_count": null,
   "metadata": {
    "scrolled": true
   },
   "outputs": [],
   "source": [
    "modelLSTM100 = build_model1(100,1,'relu','binary_crossentropy','adagrad')\n",
    "modelLSTM100.summary()\n",
    "modelLSTM100.fit(trainX2, trainy2, epochs=100)"
   ]
  },
  {
   "cell_type": "code",
   "execution_count": null,
   "metadata": {},
   "outputs": [],
   "source": [
    "y_predLSTM100 = modelLSTM100.predict(testX2)\n",
    "y_predLSTM100 =  y_predLSTM100.argmax(axis=-1)\n",
    "confusion2 = confusion_matrix(testy2, y_predLSTM100)\n",
    "print(\"Tasa de acierto en regresión logística: {:.2f}\", acierto(y_predLSTM100, testy2))\n",
    "print(\"Tasa de aciertos balanceada regresión logística: {:.2f}\".format(balanced_accuracy_score(testy2, y_predLSTM100)))\n",
    "print(\"Matriz de confusión:\\n{}\".format(confusion2))\n",
    "print(classification_report(testy2, y_predLSTM100))"
   ]
  },
  {
   "cell_type": "markdown",
   "metadata": {},
   "source": [
    "Modelo 64 neuronas"
   ]
  },
  {
   "cell_type": "code",
   "execution_count": null,
   "metadata": {},
   "outputs": [],
   "source": [
    "modelLSTM64 = build_model1(64,1,'relu','binary_crossentropy','adagrad')\n",
    "modelLSTM64.summary()\n",
    "modelLSTM64.fit(trainX2, trainy2, epochs=100)"
   ]
  },
  {
   "cell_type": "code",
   "execution_count": null,
   "metadata": {},
   "outputs": [],
   "source": [
    "y_predLSTM64 = modelLSTM64.predict(testX2)\n",
    "y_predLSTM64 =  y_predLSTM64.argmax(axis=-1)\n",
    "confusion2 = confusion_matrix(testy2, y_predLSTM64)\n",
    "print(\"Tasa de acierto en regresión logística: {:.2f}\", acierto(y_predLSTM64, testy2))\n",
    "print(\"Tasa de aciertos balanceada regresión logística: {:.2f}\".format(balanced_accuracy_score(testy2, y_predLSTM64)))\n",
    "print(\"Matriz de confusión:\\n{}\".format(confusion2))\n",
    "print(classification_report(testy2, y_predLSTM64))"
   ]
  },
  {
   "cell_type": "markdown",
   "metadata": {},
   "source": [
    "Modelo 32 neuronas:"
   ]
  },
  {
   "cell_type": "code",
   "execution_count": null,
   "metadata": {},
   "outputs": [],
   "source": [
    "modelLSTM32 = build_model1(32,1,'relu','binary_crossentropy','adagrad')\n",
    "modelLSTM32.summary()\n",
    "modelLSTM32.fit(trainX2, trainy2, epochs=100)"
   ]
  },
  {
   "cell_type": "code",
   "execution_count": null,
   "metadata": {},
   "outputs": [],
   "source": [
    "y_predLSTM32 = modelLSTM32.predict(testX2)\n",
    "y_predLSTM32 =  y_predLSTM32.argmax(axis=-1)\n",
    "confusion2 = confusion_matrix(testy2, y_predLSTM100)\n",
    "print(\"Tasa de acierto en regresión logística: {:.2f}\", acierto(y_predLSTM32, testy2))\n",
    "print(\"Tasa de aciertos balanceada regresión logística: {:.2f}\".format(balanced_accuracy_score(testy2, y_predLSTM32)))\n",
    "print(\"Matriz de confusión:\\n{}\".format(confusion2))\n",
    "print(classification_report(testy2, y_predLSTM32))"
   ]
  },
  {
   "cell_type": "markdown",
   "metadata": {},
   "source": [
    "  "
   ]
  },
  {
   "cell_type": "markdown",
   "metadata": {},
   "source": [
    "#### EXPERIMENTO 2:  Modelo con 5 capas, mismas neuronas cada 2 capas"
   ]
  },
  {
   "cell_type": "code",
   "execution_count": null,
   "metadata": {
    "scrolled": true
   },
   "outputs": [],
   "source": [
    "modelLSTM100 = build_model2(100,1,'relu','binary_crossentropy','adagrad')\n",
    "modelLSTM100.summary()\n",
    "modelLSTM100.fit(trainX2, trainy2, epochs=100)"
   ]
  },
  {
   "cell_type": "code",
   "execution_count": null,
   "metadata": {},
   "outputs": [],
   "source": [
    "y_predLSTM100 = modelLSTM100.predict(testX2)\n",
    "y_predLSTM100 =  y_predLSTM100.argmax(axis=-1)\n",
    "confusion2 = confusion_matrix(testy2, y_predLSTM100)\n",
    "print(\"Tasa de acierto en regresión logística: {:.2f}\", acierto(y_predLSTM100, testy2))\n",
    "print(\"Tasa de aciertos balanceada regresión logística: {:.2f}\".format(balanced_accuracy_score(testy2, y_predLSTM100)))\n",
    "print(\"Matriz de confusión:\\n{}\".format(confusion2))\n",
    "print(classification_report(testy2, y_predLSTM100))"
   ]
  },
  {
   "cell_type": "markdown",
   "metadata": {},
   "source": [
    "Modelo 64 neuronas"
   ]
  },
  {
   "cell_type": "code",
   "execution_count": null,
   "metadata": {
    "scrolled": true
   },
   "outputs": [],
   "source": [
    "modelLSTM64 = build_model2(64,1,'relu','binary_crossentropy','adagrad')\n",
    "modelLSTM64.summary()\n",
    "modelLSTM64.fit(trainX2, trainy2, epochs=100)"
   ]
  },
  {
   "cell_type": "code",
   "execution_count": null,
   "metadata": {},
   "outputs": [],
   "source": [
    "y_predLSTM64 = modelLSTM64.predict(testX2)\n",
    "y_predLSTM64 =  y_predLSTM64.argmax(axis=-1)\n",
    "confusion2 = confusion_matrix(testy2, y_predLSTM64)\n",
    "print(\"Tasa de acierto en regresión logística: {:.2f}\", acierto(y_predLSTM64, testy2))\n",
    "print(\"Tasa de aciertos balanceada regresión logística: {:.2f}\".format(balanced_accuracy_score(testy2, y_predLSTM64)))\n",
    "print(\"Matriz de confusión:\\n{}\".format(confusion2))\n",
    "print(classification_report(testy2, y_predLSTM64))"
   ]
  },
  {
   "cell_type": "markdown",
   "metadata": {},
   "source": [
    "Modelo 32 neuronas:"
   ]
  },
  {
   "cell_type": "code",
   "execution_count": null,
   "metadata": {},
   "outputs": [],
   "source": [
    "modelLSTM32 = build_model2(32,1,'relu','binary_crossentropy','adagrad')\n",
    "modelLSTM32.summary()\n",
    "modelLSTM32.fit(trainX2, trainy2, epochs=100)"
   ]
  },
  {
   "cell_type": "code",
   "execution_count": null,
   "metadata": {},
   "outputs": [],
   "source": [
    "y_predLSTM32 = modelLSTM32.predict(testX2)\n",
    "y_predLSTM32 =  y_predLSTM32.argmax(axis=-1)\n",
    "confusion2 = confusion_matrix(testy2, y_predLSTM100)\n",
    "print(\"Tasa de acierto en regresión logística: {:.2f}\", acierto(y_predLSTM32, testy2))\n",
    "print(\"Tasa de aciertos balanceada regresión logística: {:.2f}\".format(balanced_accuracy_score(testy2, y_predLSTM32)))\n",
    "print(\"Matriz de confusión:\\n{}\".format(confusion2))\n",
    "print(classification_report(testy2, y_predLSTM32))"
   ]
  },
  {
   "cell_type": "markdown",
   "metadata": {},
   "source": [
    "### EXPERIMENTO 3: Modelo 10 capas"
   ]
  },
  {
   "cell_type": "markdown",
   "metadata": {},
   "source": [
    "Modelo 100 neuronas:"
   ]
  },
  {
   "cell_type": "code",
   "execution_count": null,
   "metadata": {},
   "outputs": [],
   "source": [
    "modelLSTM100 = build_model3(100,1,'relu','binary_crossentropy','adagrad')\n",
    "modelLSTM100.summary()\n",
    "modelLSTM100.fit(trainX2, trainy2, epochs=100)"
   ]
  },
  {
   "cell_type": "code",
   "execution_count": null,
   "metadata": {},
   "outputs": [],
   "source": [
    "y_predLSTM100 = modelLSTM100.predict(testX2)\n",
    "y_predLSTM100 =  y_predLSTM100.argmax(axis=-1)\n",
    "confusion2 = confusion_matrix(testy2, y_predLSTM100)\n",
    "print(\"Tasa de acierto en regresión logística: {:.2f}\", acierto(y_predLSTM100, testy2))\n",
    "print(\"Tasa de aciertos balanceada regresión logística: {:.2f}\".format(balanced_accuracy_score(testy2, y_predLSTM100)))\n",
    "print(\"Matriz de confusión:\\n{}\".format(confusion2))\n",
    "print(classification_report(testy2, y_predLSTM100))"
   ]
  },
  {
   "cell_type": "markdown",
   "metadata": {},
   "source": [
    "Modelo 64 neuronas:"
   ]
  },
  {
   "cell_type": "code",
   "execution_count": null,
   "metadata": {},
   "outputs": [],
   "source": [
    "modelLSTM64 = build_model3(64,1,'relu','binary_crossentropy','adagrad')\n",
    "modelLSTM64.summary()\n",
    "modelLSTM64.fit(trainX2, trainy2, epochs=100)"
   ]
  },
  {
   "cell_type": "code",
   "execution_count": null,
   "metadata": {},
   "outputs": [],
   "source": [
    "y_predLSTM64 = modelLSTM64.predict(testX2)\n",
    "y_predLSTM64 =  y_predLSTM64.argmax(axis=-1)\n",
    "confusion2 = confusion_matrix(testy2, y_predLSTM64)\n",
    "print(\"Tasa de acierto en regresión logística: {:.2f}\", acierto(y_predLSTM64, testy2))\n",
    "print(\"Tasa de aciertos balanceada regresión logística: {:.2f}\".format(balanced_accuracy_score(testy2, y_predLSTM64)))\n",
    "print(\"Matriz de confusión:\\n{}\".format(confusion2))\n",
    "print(classification_report(testy2, y_predLSTM64))"
   ]
  },
  {
   "cell_type": "markdown",
   "metadata": {},
   "source": [
    "Modelo 32 neuronas:"
   ]
  },
  {
   "cell_type": "code",
   "execution_count": null,
   "metadata": {},
   "outputs": [],
   "source": [
    "modelLSTM32 = build_model3(32,1,'relu','binary_crossentropy','adagrad')\n",
    "modelLSTM32.summary()\n",
    "modelLSTM32.fit(trainX2, trainy2, epochs=100)"
   ]
  },
  {
   "cell_type": "code",
   "execution_count": null,
   "metadata": {},
   "outputs": [],
   "source": [
    "y_predLSTM32 = modelLSTM32.predict(testX2)\n",
    "y_predLSTM32 =  y_predLSTM32.argmax(axis=-1)\n",
    "confusion2 = confusion_matrix(testy2, y_predLSTM100)\n",
    "print(\"Tasa de acierto en regresión logística: {:.2f}\", acierto(y_predLSTM32, testy2))\n",
    "print(\"Tasa de aciertos balanceada regresión logística: {:.2f}\".format(balanced_accuracy_score(testy2, y_predLSTM32)))\n",
    "print(\"Matriz de confusión:\\n{}\".format(confusion2))\n",
    "print(classification_report(testy2, y_predLSTM32))"
   ]
  },
  {
   "cell_type": "markdown",
   "metadata": {},
   "source": [
    "# CONJUNTO DE DATOS 3"
   ]
  },
  {
   "cell_type": "code",
   "execution_count": null,
   "metadata": {},
   "outputs": [],
   "source": [
    "def build_model1(neurons, output_size, activation_fun,loss_fun,optimizer_fun):\n",
    "    model = Sequential()\n",
    "    model.add(LSTM(neurons, activation=activation_fun, return_sequences=True, input_shape=(35, 1)))\n",
    "    model.add(LSTM(int(round(neurons/2)), activation=activation_fun, return_sequences=True))\n",
    "    model.add(LSTM(int(round(neurons/3)), activation=activation_fun, return_sequences=True))\n",
    "    model.add(LSTM(int(round(neurons/4)), activation=activation_fun))\n",
    "    model.add(Dense(5))\n",
    "    model.compile(optimizer=optimizer_fun, loss=loss_fun, metrics=['accuracy'])\n",
    "    return model"
   ]
  },
  {
   "cell_type": "code",
   "execution_count": null,
   "metadata": {},
   "outputs": [],
   "source": [
    "def build_model2(neurons, output_size, activation_fun,loss_fun,optimizer_fun):\n",
    "    model = Sequential()\n",
    "    model.add(LSTM(neurons, activation=activation_fun, return_sequences=True, input_shape=(35, 1)))\n",
    "    model.add(LSTM(neurons, activation=activation_fun, return_sequences=True))\n",
    "    model.add(LSTM(int(round(neurons/2)), activation=activation_fun, return_sequences=True))\n",
    "    model.add(LSTM(int(round(neurons/2)), activation=activation_fun))\n",
    "    model.add(Dense(5, activation=activation_fun))\n",
    "    model.compile(loss=loss_fun, metrics=['accuracy'], optimizer=optimizer_fun)\n",
    "    return model"
   ]
  },
  {
   "cell_type": "code",
   "execution_count": null,
   "metadata": {},
   "outputs": [],
   "source": [
    "def build_model3(neurons, output_size, activation_fun,loss_fun,optimizer_fun):\n",
    "    model = Sequential()\n",
    "    model.add(LSTM(neurons, activation=activation_fun, return_sequences=True, input_shape=(35, 1)))\n",
    "    model.add(LSTM(int(round(neurons/2)), activation=activation_fun, return_sequences=True))\n",
    "    model.add(LSTM(int(round(neurons/3)), activation=activation_fun, return_sequences=True))\n",
    "    model.add(LSTM(int(round(neurons/4)), activation=activation_fun, return_sequences=True))\n",
    "    model.add(LSTM(int(round(neurons/5)), activation=activation_fun, return_sequences=True))\n",
    "    model.add(LSTM(int(round(neurons/6)), activation=activation_fun, return_sequences=True))\n",
    "    model.add(LSTM(int(round(neurons/7)), activation=activation_fun, return_sequences=True))\n",
    "    model.add(LSTM(int(round(neurons/8)), activation=activation_fun, return_sequences=True))\n",
    "    model.add(LSTM(int(round(neurons/9)), activation=activation_fun))\n",
    "    model.add(Dense(5, activation=activation_fun))\n",
    "    model.compile(loss=loss_fun, metrics=['accuracy'], optimizer=optimizer_fun)\n",
    "    return model"
   ]
  },
  {
   "cell_type": "markdown",
   "metadata": {},
   "source": [
    "### LSTM RELU+ADAM"
   ]
  },
  {
   "cell_type": "markdown",
   "metadata": {},
   "source": [
    "#### EXPERIMENTO 1: Modelo con 5 capas, dividiendo las neuronas."
   ]
  },
  {
   "cell_type": "markdown",
   "metadata": {},
   "source": [
    "Modelo 100 neuronas:"
   ]
  },
  {
   "cell_type": "code",
   "execution_count": null,
   "metadata": {
    "scrolled": true
   },
   "outputs": [],
   "source": [
    "modelLSTM100 = build_model1(100,1,'relu','binary_crossentropy','adam')\n",
    "modelLSTM100.summary()\n",
    "modelLSTM100.fit(trainX3, trainy3, epochs=100)"
   ]
  },
  {
   "cell_type": "code",
   "execution_count": null,
   "metadata": {},
   "outputs": [],
   "source": [
    "y_predLSTM100 = modelLSTM100.predict(testX3)\n",
    "y_predLSTM100 =  y_predLSTM100.argmax(axis=-1)\n",
    "confusion3 = confusion_matrix(testy3, y_predLSTM100)\n",
    "print(\"Tasa de acierto en regresión logística: {:.2f}\", acierto(y_predLSTM100, testy3))\n",
    "print(\"Tasa de aciertos balanceada regresión logística: {:.2f}\".format(balanced_accuracy_score(testy3, y_predLSTM100)))\n",
    "print(\"Matriz de confusión:\\n{}\".format(confusion3))\n",
    "print(classification_report(testy3, y_predLSTM100))"
   ]
  },
  {
   "cell_type": "markdown",
   "metadata": {},
   "source": [
    "Modelo 64 neuronas"
   ]
  },
  {
   "cell_type": "code",
   "execution_count": null,
   "metadata": {},
   "outputs": [],
   "source": [
    "modelLSTM64 = build_model1(64,1,'relu','binary_crossentropy','adam')\n",
    "modelLSTM64.summary()\n",
    "modelLSTM64.fit(trainX3, trainy3, epochs=100)"
   ]
  },
  {
   "cell_type": "code",
   "execution_count": null,
   "metadata": {},
   "outputs": [],
   "source": [
    "y_predLSTM64 = modelLSTM64.predict(testX3)\n",
    "y_predLSTM64 =  y_predLSTM64.argmax(axis=-1)\n",
    "confusion3 = confusion_matrix(testy3, y_predLSTM64)\n",
    "print(\"Tasa de acierto en regresión logística: {:.2f}\", acierto(y_predLSTM64, testy3))\n",
    "print(\"Tasa de aciertos balanceada regresión logística: {:.2f}\".format(balanced_accuracy_score(testy3, y_predLSTM64)))\n",
    "print(\"Matriz de confusión:\\n{}\".format(confusion3))\n",
    "print(classification_report(testy3, y_predLSTM64))"
   ]
  },
  {
   "cell_type": "markdown",
   "metadata": {},
   "source": [
    "Modelo 32 neuronas:"
   ]
  },
  {
   "cell_type": "code",
   "execution_count": null,
   "metadata": {},
   "outputs": [],
   "source": [
    "modelLSTM32 = build_model1(32,1,'relu','binary_crossentropy','adam')\n",
    "modelLSTM32.summary()\n",
    "modelLSTM32.fit(trainX3, trainy3, epochs=100)"
   ]
  },
  {
   "cell_type": "code",
   "execution_count": null,
   "metadata": {},
   "outputs": [],
   "source": [
    "y_predLSTM32 = modelLSTM32.predict(testX3)\n",
    "y_predLSTM32 =  y_predLSTM32.argmax(axis=-1)\n",
    "confusion3 = confusion_matrix(testy3, y_predLSTM100)\n",
    "print(\"Tasa de acierto en regresión logística: {:.2f}\", acierto(y_predLSTM32, testy3))\n",
    "print(\"Tasa de aciertos balanceada regresión logística: {:.2f}\".format(balanced_accuracy_score(testy3, y_predLSTM32)))\n",
    "print(\"Matriz de confusión:\\n{}\".format(confusion3))\n",
    "print(classification_report(testy3, y_predLSTM32))"
   ]
  },
  {
   "cell_type": "markdown",
   "metadata": {},
   "source": [
    "  "
   ]
  },
  {
   "cell_type": "markdown",
   "metadata": {},
   "source": [
    "#### EXPERIMENTO 2:  Modelo con 5 capas, mismas neuronas cada 2 capas"
   ]
  },
  {
   "cell_type": "markdown",
   "metadata": {},
   "source": [
    "Modelo 100 neuronas:"
   ]
  },
  {
   "cell_type": "code",
   "execution_count": null,
   "metadata": {
    "scrolled": true
   },
   "outputs": [],
   "source": [
    "modelLSTM100 = build_model2(100,1,'relu','binary_crossentropy','adam')\n",
    "modelLSTM100.summary()\n",
    "modelLSTM100.fit(trainX3, trainy3, epochs=100)"
   ]
  },
  {
   "cell_type": "code",
   "execution_count": null,
   "metadata": {},
   "outputs": [],
   "source": [
    "y_predLSTM100 = modelLSTM100.predict(testX3)\n",
    "y_predLSTM100 =  y_predLSTM100.argmax(axis=-1)\n",
    "confusion3 = confusion_matrix(testy3, y_predLSTM100)\n",
    "print(\"Tasa de acierto en regresión logística: {:.2f}\", acierto(y_predLSTM100, testy3))\n",
    "print(\"Tasa de aciertos balanceada regresión logística: {:.2f}\".format(balanced_accuracy_score(testy3, y_predLSTM100)))\n",
    "print(\"Matriz de confusión:\\n{}\".format(confusion3))\n",
    "print(classification_report(testy3, y_predLSTM100))"
   ]
  },
  {
   "cell_type": "markdown",
   "metadata": {},
   "source": [
    "Modelo 64 neuronas"
   ]
  },
  {
   "cell_type": "code",
   "execution_count": null,
   "metadata": {},
   "outputs": [],
   "source": [
    "modelLSTM64 = build_model2(64,1,'relu','binary_crossentropy','adam')\n",
    "modelLSTM64.summary()\n",
    "modelLSTM64.fit(trainX3, trainy3, epochs=100)"
   ]
  },
  {
   "cell_type": "code",
   "execution_count": null,
   "metadata": {},
   "outputs": [],
   "source": [
    "y_predLSTM64 = modelLSTM64.predict(testX3)\n",
    "y_predLSTM64 =  y_predLSTM64.argmax(axis=-1)\n",
    "confusion3 = confusion_matrix(testy3, y_predLSTM64)\n",
    "print(\"Tasa de acierto en regresión logística: {:.2f}\", acierto(y_predLSTM64, testy3))\n",
    "print(\"Tasa de aciertos balanceada regresión logística: {:.2f}\".format(balanced_accuracy_score(testy3, y_predLSTM64)))\n",
    "print(\"Matriz de confusión:\\n{}\".format(confusion3))\n",
    "print(classification_report(testy3, y_predLSTM64))"
   ]
  },
  {
   "cell_type": "markdown",
   "metadata": {},
   "source": [
    "Modelo 32 neuronas:"
   ]
  },
  {
   "cell_type": "code",
   "execution_count": null,
   "metadata": {},
   "outputs": [],
   "source": [
    "modelLSTM32 = build_model2(32,1,'relu','binary_crossentropy','adam')\n",
    "modelLSTM32.summary()\n",
    "modelLSTM32.fit(trainX3, trainy3, epochs=100)"
   ]
  },
  {
   "cell_type": "code",
   "execution_count": null,
   "metadata": {},
   "outputs": [],
   "source": [
    "y_predLSTM32 = modelLSTM32.predict(testX3)\n",
    "y_predLSTM32 =  y_predLSTM32.argmax(axis=-1)\n",
    "confusion3 = confusion_matrix(testy3, y_predLSTM100)\n",
    "print(\"Tasa de acierto en regresión logística: {:.2f}\", acierto(y_predLSTM32, testy3))\n",
    "print(\"Tasa de aciertos balanceada regresión logística: {:.2f}\".format(balanced_accuracy_score(testy3, y_predLSTM32)))\n",
    "print(\"Matriz de confusión:\\n{}\".format(confusion3))\n",
    "print(classification_report(testy3, y_predLSTM32))"
   ]
  },
  {
   "cell_type": "markdown",
   "metadata": {},
   "source": [
    "### EXPERIMENTO 3: Modelo 10 capas"
   ]
  },
  {
   "cell_type": "markdown",
   "metadata": {},
   "source": [
    "Modelo 100 neuronas:"
   ]
  },
  {
   "cell_type": "code",
   "execution_count": null,
   "metadata": {},
   "outputs": [],
   "source": [
    "modelLSTM100 = build_model3(100,1,'relu','binary_crossentropy','adam')\n",
    "modelLSTM100.summary()\n",
    "modelLSTM100.fit(trainX3, trainy3, epochs=100)"
   ]
  },
  {
   "cell_type": "code",
   "execution_count": null,
   "metadata": {},
   "outputs": [],
   "source": [
    "y_predLSTM100 = modelLSTM100.predict(testX3)\n",
    "y_predLSTM100 =  y_predLSTM100.argmax(axis=-1)\n",
    "confusion3 = confusion_matrix(testy3, y_predLSTM100)\n",
    "print(\"Tasa de acierto en regresión logística: {:.2f}\", acierto(y_predLSTM100, testy3))\n",
    "print(\"Tasa de aciertos balanceada regresión logística: {:.2f}\".format(balanced_accuracy_score(testy3, y_predLSTM100)))\n",
    "print(\"Matriz de confusión:\\n{}\".format(confusion3))\n",
    "print(classification_report(testy3, y_predLSTM100))"
   ]
  },
  {
   "cell_type": "markdown",
   "metadata": {},
   "source": [
    "Modelo 64 neuronas:"
   ]
  },
  {
   "cell_type": "code",
   "execution_count": null,
   "metadata": {},
   "outputs": [],
   "source": [
    "modelLSTM64 = build_model3(64,1,'relu','binary_crossentropy','adam')\n",
    "modelLSTM64.summary()\n",
    "modelLSTM64.fit(trainX3, trainy3, epochs=100)"
   ]
  },
  {
   "cell_type": "code",
   "execution_count": null,
   "metadata": {},
   "outputs": [],
   "source": [
    "y_predLSTM64 = modelLSTM64.predict(testX3)\n",
    "y_predLSTM64 =  y_predLSTM64.argmax(axis=-1)\n",
    "confusion3 = confusion_matrix(testy3, y_predLSTM64)\n",
    "print(\"Tasa de acierto en regresión logística: {:.2f}\", acierto(y_predLSTM64, testy3))\n",
    "print(\"Tasa de aciertos balanceada regresión logística: {:.2f}\".format(balanced_accuracy_score(testy3, y_predLSTM64)))\n",
    "print(\"Matriz de confusión:\\n{}\".format(confusion3))\n",
    "print(classification_report(testy3, y_predLSTM64))"
   ]
  },
  {
   "cell_type": "markdown",
   "metadata": {},
   "source": [
    "Modelo 32 neuronas:"
   ]
  },
  {
   "cell_type": "code",
   "execution_count": null,
   "metadata": {},
   "outputs": [],
   "source": [
    "modelLSTM32 = build_model3(32,1,'relu','binary_crossentropy','adam')\n",
    "modelLSTM32.summary()\n",
    "modelLSTM32.fit(trainX3, trainy3, epochs=100)"
   ]
  },
  {
   "cell_type": "code",
   "execution_count": null,
   "metadata": {},
   "outputs": [],
   "source": [
    "y_predLSTM32 = modelLSTM32.predict(testX3)\n",
    "y_predLSTM32 =  y_predLSTM32.argmax(axis=-1)\n",
    "confusion3 = confusion_matrix(testy3, y_predLSTM100)\n",
    "print(\"Tasa de acierto en regresión logística: {:.2f}\", acierto(y_predLSTM32, testy3))\n",
    "print(\"Tasa de aciertos balanceada regresión logística: {:.2f}\".format(balanced_accuracy_score(testy3, y_predLSTM32)))\n",
    "print(\"Matriz de confusión:\\n{}\".format(confusion3))\n",
    "print(classification_report(testy3, y_predLSTM32))"
   ]
  },
  {
   "cell_type": "markdown",
   "metadata": {},
   "source": [
    "### LSTM RELU+ADAGRAD"
   ]
  },
  {
   "cell_type": "markdown",
   "metadata": {},
   "source": [
    "#### EXPERIMENTO 1: Modelo con 5 capas, dividiendo las neuronas."
   ]
  },
  {
   "cell_type": "markdown",
   "metadata": {},
   "source": [
    "Modelo 100 neuronas:"
   ]
  },
  {
   "cell_type": "code",
   "execution_count": null,
   "metadata": {
    "scrolled": true
   },
   "outputs": [],
   "source": [
    "modelLSTM100 = build_model1(100,1,'relu','binary_crossentropy','adagrad')\n",
    "modelLSTM100.summary()\n",
    "modelLSTM100.fit(trainX3, trainy3, epochs=100)"
   ]
  },
  {
   "cell_type": "code",
   "execution_count": null,
   "metadata": {},
   "outputs": [],
   "source": [
    "y_predLSTM100 = modelLSTM100.predict(testX3)\n",
    "y_predLSTM100 =  y_predLSTM100.argmax(axis=-1)\n",
    "confusion3 = confusion_matrix(testy3, y_predLSTM100)\n",
    "print(\"Tasa de acierto en regresión logística: {:.2f}\", acierto(y_predLSTM100, testy3))\n",
    "print(\"Tasa de aciertos balanceada regresión logística: {:.2f}\".format(balanced_accuracy_score(testy3, y_predLSTM100)))\n",
    "print(\"Matriz de confusión:\\n{}\".format(confusion3))\n",
    "print(classification_report(testy3, y_predLSTM100))"
   ]
  },
  {
   "cell_type": "markdown",
   "metadata": {},
   "source": [
    "Modelo 64 neuronas"
   ]
  },
  {
   "cell_type": "code",
   "execution_count": null,
   "metadata": {},
   "outputs": [],
   "source": [
    "modelLSTM64 = build_model1(64,1,'relu','binary_crossentropy','adagrad')\n",
    "modelLSTM64.summary()\n",
    "modelLSTM64.fit(trainX3, trainy3, epochs=100)"
   ]
  },
  {
   "cell_type": "code",
   "execution_count": null,
   "metadata": {},
   "outputs": [],
   "source": [
    "y_predLSTM64 = modelLSTM64.predict(testX3)\n",
    "y_predLSTM64 =  y_predLSTM64.argmax(axis=-1)\n",
    "confusion3 = confusion_matrix(testy3, y_predLSTM64)\n",
    "print(\"Tasa de acierto en regresión logística: {:.2f}\", acierto(y_predLSTM64, testy3))\n",
    "print(\"Tasa de aciertos balanceada regresión logística: {:.2f}\".format(balanced_accuracy_score(testy3, y_predLSTM64)))\n",
    "print(\"Matriz de confusión:\\n{}\".format(confusion3))\n",
    "print(classification_report(testy3, y_predLSTM64))"
   ]
  },
  {
   "cell_type": "markdown",
   "metadata": {},
   "source": [
    "Modelo 32 neuronas:"
   ]
  },
  {
   "cell_type": "code",
   "execution_count": null,
   "metadata": {},
   "outputs": [],
   "source": [
    "modelLSTM32 = build_model1(32,1,'relu','binary_crossentropy','adagrad')\n",
    "modelLSTM32.summary()\n",
    "modelLSTM32.fit(trainX3, trainy3, epochs=100)"
   ]
  },
  {
   "cell_type": "code",
   "execution_count": null,
   "metadata": {},
   "outputs": [],
   "source": [
    "y_predLSTM32 = modelLSTM32.predict(testX3)\n",
    "y_predLSTM32 =  y_predLSTM32.argmax(axis=-1)\n",
    "confusion3 = confusion_matrix(testy3, y_predLSTM100)\n",
    "print(\"Tasa de acierto en regresión logística: {:.2f}\", acierto(y_predLSTM32, testy3))\n",
    "print(\"Tasa de aciertos balanceada regresión logística: {:.2f}\".format(balanced_accuracy_score(testy3, y_predLSTM32)))\n",
    "print(\"Matriz de confusión:\\n{}\".format(confusion3))\n",
    "print(classification_report(testy3, y_predLSTM32))"
   ]
  },
  {
   "cell_type": "markdown",
   "metadata": {},
   "source": [
    "  "
   ]
  },
  {
   "cell_type": "markdown",
   "metadata": {},
   "source": [
    "#### EXPERIMENTO 2:  Modelo con 5 capas, mismas neuronas cada 2 capas"
   ]
  },
  {
   "cell_type": "code",
   "execution_count": null,
   "metadata": {
    "scrolled": true
   },
   "outputs": [],
   "source": [
    "modelLSTM100 = build_model2(100,1,'relu','binary_crossentropy','adagrad')\n",
    "modelLSTM100.summary()\n",
    "modelLSTM100.fit(trainX3, trainy3, epochs=100)"
   ]
  },
  {
   "cell_type": "code",
   "execution_count": null,
   "metadata": {},
   "outputs": [],
   "source": [
    "y_predLSTM100 = modelLSTM100.predict(testX3)\n",
    "y_predLSTM100 =  y_predLSTM100.argmax(axis=-1)\n",
    "confusion3 = confusion_matrix(testy3, y_predLSTM100)\n",
    "print(\"Tasa de acierto en regresión logística: {:.2f}\", acierto(y_predLSTM100, testy3))\n",
    "print(\"Tasa de aciertos balanceada regresión logística: {:.2f}\".format(balanced_accuracy_score(testy3, y_predLSTM100)))\n",
    "print(\"Matriz de confusión:\\n{}\".format(confusion3))\n",
    "print(classification_report(testy3, y_predLSTM100))"
   ]
  },
  {
   "cell_type": "markdown",
   "metadata": {},
   "source": [
    "Modelo 64 neuronas"
   ]
  },
  {
   "cell_type": "code",
   "execution_count": null,
   "metadata": {},
   "outputs": [],
   "source": [
    "modelLSTM64 = build_model2(64,1,'relu','binary_crossentropy','adagrad')\n",
    "modelLSTM64.summary()\n",
    "modelLSTM64.fit(trainX3, trainy3, epochs=100)"
   ]
  },
  {
   "cell_type": "code",
   "execution_count": null,
   "metadata": {},
   "outputs": [],
   "source": [
    "y_predLSTM64 = modelLSTM64.predict(testX3)\n",
    "y_predLSTM64 =  y_predLSTM64.argmax(axis=-1)\n",
    "confusion3 = confusion_matrix(testy3, y_predLSTM64)\n",
    "print(\"Tasa de acierto en regresión logística: {:.2f}\", acierto(y_predLSTM64, testy3))\n",
    "print(\"Tasa de aciertos balanceada regresión logística: {:.2f}\".format(balanced_accuracy_score(testy3, y_predLSTM64)))\n",
    "print(\"Matriz de confusión:\\n{}\".format(confusion3))\n",
    "print(classification_report(testy3, y_predLSTM64))"
   ]
  },
  {
   "cell_type": "markdown",
   "metadata": {},
   "source": [
    "Modelo 32 neuronas:"
   ]
  },
  {
   "cell_type": "code",
   "execution_count": null,
   "metadata": {},
   "outputs": [],
   "source": [
    "modelLSTM32 = build_model2(32,1,'relu','binary_crossentropy','adagrad')\n",
    "modelLSTM32.summary()\n",
    "modelLSTM32.fit(trainX3, trainy3, epochs=100)"
   ]
  },
  {
   "cell_type": "code",
   "execution_count": null,
   "metadata": {},
   "outputs": [],
   "source": [
    "y_predLSTM32 = modelLSTM32.predict(testX3)\n",
    "y_predLSTM32 =  y_predLSTM32.argmax(axis=-1)\n",
    "confusion3 = confusion_matrix(testy3, y_predLSTM100)\n",
    "print(\"Tasa de acierto en regresión logística: {:.2f}\", acierto(y_predLSTM32, testy3))\n",
    "print(\"Tasa de aciertos balanceada regresión logística: {:.2f}\".format(balanced_accuracy_score(testy3, y_predLSTM32)))\n",
    "print(\"Matriz de confusión:\\n{}\".format(confusion3))\n",
    "print(classification_report(testy3, y_predLSTM32))"
   ]
  },
  {
   "cell_type": "markdown",
   "metadata": {},
   "source": [
    "### EXPERIMENTO 3: Modelo 10 capas"
   ]
  },
  {
   "cell_type": "markdown",
   "metadata": {},
   "source": [
    "Modelo 100 neuronas:"
   ]
  },
  {
   "cell_type": "code",
   "execution_count": null,
   "metadata": {},
   "outputs": [],
   "source": [
    "modelLSTM100 = build_model3(100,1,'relu','binary_crossentropy','adagrad')\n",
    "modelLSTM100.summary()\n",
    "modelLSTM100.fit(trainX3, trainy3, epochs=100)"
   ]
  },
  {
   "cell_type": "code",
   "execution_count": null,
   "metadata": {},
   "outputs": [],
   "source": [
    "y_predLSTM100 = modelLSTM100.predict(testX3)\n",
    "y_predLSTM100 =  y_predLSTM100.argmax(axis=-1)\n",
    "confusion3 = confusion_matrix(testy3, y_predLSTM100)\n",
    "print(\"Tasa de acierto en regresión logística: {:.2f}\", acierto(y_predLSTM100, testy3))\n",
    "print(\"Tasa de aciertos balanceada regresión logística: {:.2f}\".format(balanced_accuracy_score(testy3, y_predLSTM100)))\n",
    "print(\"Matriz de confusión:\\n{}\".format(confusion3))\n",
    "print(classification_report(testy3, y_predLSTM100))"
   ]
  },
  {
   "cell_type": "markdown",
   "metadata": {},
   "source": [
    "Modelo 64 neuronas:"
   ]
  },
  {
   "cell_type": "code",
   "execution_count": null,
   "metadata": {},
   "outputs": [],
   "source": [
    "modelLSTM64 = build_model3(64,1,'relu','binary_crossentropy','adagrad')\n",
    "modelLSTM64.summary()\n",
    "modelLSTM64.fit(trainX3, trainy3, epochs=100)"
   ]
  },
  {
   "cell_type": "code",
   "execution_count": null,
   "metadata": {},
   "outputs": [],
   "source": [
    "y_predLSTM64 = modelLSTM64.predict(testX3)\n",
    "y_predLSTM64 =  y_predLSTM64.argmax(axis=-1)\n",
    "confusion3 = confusion_matrix(testy3, y_predLSTM64)\n",
    "print(\"Tasa de acierto en regresión logística: {:.2f}\", acierto(y_predLSTM64, testy3))\n",
    "print(\"Tasa de aciertos balanceada regresión logística: {:.2f}\".format(balanced_accuracy_score(testy3, y_predLSTM64)))\n",
    "print(\"Matriz de confusión:\\n{}\".format(confusion3))\n",
    "print(classification_report(testy3, y_predLSTM64))"
   ]
  },
  {
   "cell_type": "markdown",
   "metadata": {},
   "source": [
    "Modelo 32 neuronas:"
   ]
  },
  {
   "cell_type": "code",
   "execution_count": null,
   "metadata": {},
   "outputs": [],
   "source": [
    "modelLSTM32 = build_model3(32,1,'relu','binary_crossentropy','adagrad')\n",
    "modelLSTM32.summary()\n",
    "modelLSTM32.fit(trainX3, trainy3, epochs=100)"
   ]
  },
  {
   "cell_type": "code",
   "execution_count": null,
   "metadata": {},
   "outputs": [],
   "source": [
    "y_predLSTM32 = modelLSTM32.predict(testX3)\n",
    "y_predLSTM32 =  y_predLSTM32.argmax(axis=-1)\n",
    "confusion3 = confusion_matrix(testy3, y_predLSTM100)\n",
    "print(\"Tasa de acierto en regresión logística: {:.2f}\", acierto(y_predLSTM32, testy3))\n",
    "print(\"Tasa de aciertos balanceada regresión logística: {:.2f}\".format(balanced_accuracy_score(testy3, y_predLSTM32)))\n",
    "print(\"Matriz de confusión:\\n{}\".format(confusion3))\n",
    "print(classification_report(testy3, y_predLSTM32))"
   ]
  }
 ],
 "metadata": {
  "kernelspec": {
   "display_name": "Python 3",
   "language": "python",
   "name": "python3"
  },
  "language_info": {
   "codemirror_mode": {
    "name": "ipython",
    "version": 3
   },
   "file_extension": ".py",
   "mimetype": "text/x-python",
   "name": "python",
   "nbconvert_exporter": "python",
   "pygments_lexer": "ipython3",
   "version": "3.7.6"
  }
 },
 "nbformat": 4,
 "nbformat_minor": 4
}
