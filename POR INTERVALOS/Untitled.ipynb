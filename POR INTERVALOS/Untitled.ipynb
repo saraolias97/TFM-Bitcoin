{
 "cells": [
  {
   "cell_type": "markdown",
   "metadata": {},
   "source": [
    "# Conjunto de datos 3"
   ]
  },
  {
   "cell_type": "markdown",
   "metadata": {},
   "source": [
    "### Dense RELU+ADAM"
   ]
  },
  {
   "cell_type": "markdown",
   "metadata": {},
   "source": [
    "#### EXPERIMENTO 1: Modelo con 5 capas, dividiendo las neuronas."
   ]
  },
  {
   "cell_type": "code",
   "execution_count": null,
   "metadata": {},
   "outputs": [],
   "source": [
    "def build_model1(neurons, output_size, activation_fun,loss_fun,optimizer_fun):\n",
    "    model = Sequential()\n",
    "    model.add(Dense(neurons, input_dim = 35, activation=activation_fun))\n",
    "    model.add(Dense(round(neurons/2), activation=activation_fun))\n",
    "    model.add(Dense(round(neurons/3), activation=activation_fun))\n",
    "    model.add(Dense(round(neurons/4), activation=activation_fun))\n",
    "    model.add(Dense(7, activation='softmax'))\n",
    "    model.compile(loss=loss_fun, optimizer=optimizer_fun, metrics=['accuracy'])\n",
    "    return model"
   ]
  },
  {
   "cell_type": "markdown",
   "metadata": {},
   "source": [
    "Modelo 100 neuronas:"
   ]
  },
  {
   "cell_type": "code",
   "execution_count": null,
   "metadata": {
    "scrolled": true
   },
   "outputs": [],
   "source": [
    "modeldense100 = build_model1(100,1,'relu','sparse_categorical_crossentropy','adam')\n",
    "modeldense100.summary()\n",
    "modeldense100.fit(trainX3, trainy3, epochs=1000)"
   ]
  },
  {
   "cell_type": "code",
   "execution_count": null,
   "metadata": {},
   "outputs": [],
   "source": [
    "y_preddense100 = modeldense100.predict(testX3)\n",
    "y_preddense100 =  y_preddense100.argmax(axis=-1)\n",
    "confusion3 = confusion_matrix(testy3, y_preddense100)\n",
    "print(\"Tasa de acierto en regresión logística: {:.2f}\", acierto(y_preddense100, testy3))\n",
    "print(\"Tasa de aciertos balanceada regresión logística: {:.2f}\".format(balanced_accuracy_score(testy3, y_preddense100)))\n",
    "print(\"Matriz de confusión:\\n{}\".format(confusion3))\n",
    "print(classification_report(testy3, y_preddense100))"
   ]
  },
  {
   "cell_type": "markdown",
   "metadata": {},
   "source": [
    "Modelo 64 neuronas"
   ]
  },
  {
   "cell_type": "code",
   "execution_count": null,
   "metadata": {},
   "outputs": [],
   "source": [
    "modeldense64 = build_model1(64,1,'relu','sparse_categorical_crossentropy','adam')\n",
    "modeldense64.summary()\n",
    "modeldense64.fit(trainX3, trainy3, epochs=100)"
   ]
  },
  {
   "cell_type": "code",
   "execution_count": null,
   "metadata": {},
   "outputs": [],
   "source": [
    "y_preddense64 = modeldense64.predict(testX3)\n",
    "y_preddense64 =  y_preddense64.argmax(axis=-1)\n",
    "confusion3 = confusion_matrix(testy3, y_preddense64)\n",
    "print(\"Tasa de acierto en regresión logística: {:.2f}\", acierto(y_preddense64, testy3))\n",
    "print(\"Tasa de aciertos balanceada regresión logística: {:.2f}\".format(balanced_accuracy_score(testy3, y_preddense64)))\n",
    "print(\"Matriz de confusión:\\n{}\".format(confusion3))\n",
    "print(classification_report(testy3, y_preddense64))"
   ]
  },
  {
   "cell_type": "markdown",
   "metadata": {},
   "source": [
    "Modelo 32 neuronas:"
   ]
  },
  {
   "cell_type": "code",
   "execution_count": null,
   "metadata": {},
   "outputs": [],
   "source": [
    "modeldense32 = build_model1(32,1,'relu','sparse_categorical_crossentropy','adam')\n",
    "modeldense32.summary()\n",
    "modeldense32.fit(trainX3, trainy3, epochs=1000)"
   ]
  },
  {
   "cell_type": "code",
   "execution_count": null,
   "metadata": {},
   "outputs": [],
   "source": [
    "y_preddense32 = modeldense32.predict(testX3)\n",
    "y_preddense32 =  y_preddense32.argmax(axis=-1)\n",
    "confusion3 = confusion_matrix(testy3, y_preddense100)\n",
    "print(\"Tasa de acierto en regresión logística: {:.2f}\", acierto(y_preddense32, testy3))\n",
    "print(\"Tasa de aciertos balanceada regresión logística: {:.2f}\".format(balanced_accuracy_score(testy3, y_preddense32)))\n",
    "print(\"Matriz de confusión:\\n{}\".format(confusion3))\n",
    "print(classification_report(testy3, y_preddense32))"
   ]
  },
  {
   "cell_type": "markdown",
   "metadata": {},
   "source": [
    "  "
   ]
  },
  {
   "cell_type": "markdown",
   "metadata": {},
   "source": [
    "#### EXPERIMENTO 2:  Modelo con 5 capas, mismas neuronas cada 2 capas"
   ]
  },
  {
   "cell_type": "code",
   "execution_count": null,
   "metadata": {},
   "outputs": [],
   "source": [
    "def build_model2(neurons, output_size, activation_fun,loss_fun,optimizer_fun):\n",
    "    model = Sequential()\n",
    "    model.add(Dense(neurons, input_dim = 35, activation=activation_fun))\n",
    "    model.add(Dense(round(neurons), activation=activation_fun))\n",
    "    model.add(Dense(round(neurons/2), activation=activation_fun))\n",
    "    model.add(Dense(round(neurons/2), activation=activation_fun))\n",
    "    model.add(Dense(1, activation=activation_fun))\n",
    "    model.compile(loss=loss_fun, optimizer=optimizer_fun, metrics=['accuracy'])\n",
    "    return model"
   ]
  },
  {
   "cell_type": "code",
   "execution_count": null,
   "metadata": {
    "scrolled": true
   },
   "outputs": [],
   "source": [
    "modeldense100 = build_model2(100,1,'relu','sparse_categorical_crossentropy','adam')\n",
    "modeldense100.summary()\n",
    "modeldense100.fit(trainX3, trainy3, epochs=1000)"
   ]
  },
  {
   "cell_type": "code",
   "execution_count": null,
   "metadata": {},
   "outputs": [],
   "source": [
    "y_preddense100 = modeldense100.predict(testX3)\n",
    "y_preddense100 =  y_preddense100.argmax(axis=-1)\n",
    "confusion3 = confusion_matrix(testy3, y_preddense100)\n",
    "print(\"Tasa de acierto en regresión logística: {:.2f}\", acierto(y_preddense100, testy3))\n",
    "print(\"Tasa de aciertos balanceada regresión logística: {:.2f}\".format(balanced_accuracy_score(testy3, y_preddense100)))\n",
    "print(\"Matriz de confusión:\\n{}\".format(confusion3))\n",
    "print(classification_report(testy3, y_preddense100))"
   ]
  },
  {
   "cell_type": "markdown",
   "metadata": {},
   "source": [
    "Modelo 64 neuronas"
   ]
  },
  {
   "cell_type": "code",
   "execution_count": null,
   "metadata": {},
   "outputs": [],
   "source": [
    "modeldense64 = build_model2(64,1,'relu','sparse_categorical_crossentropy','adam')\n",
    "modeldense64.summary()\n",
    "modeldense64.fit(trainX3, trainy3, epochs=1000)"
   ]
  },
  {
   "cell_type": "code",
   "execution_count": null,
   "metadata": {},
   "outputs": [],
   "source": [
    "y_preddense64 = modeldense64.predict(testX3)\n",
    "y_preddense64 =  y_preddense64.argmax(axis=-1)\n",
    "confusion3 = confusion_matrix(testy3, y_preddense64)\n",
    "print(\"Tasa de acierto en regresión logística: {:.2f}\", acierto(y_preddense64, testy3))\n",
    "print(\"Tasa de aciertos balanceada regresión logística: {:.2f}\".format(balanced_accuracy_score(testy3, y_preddense64)))\n",
    "print(\"Matriz de confusión:\\n{}\".format(confusion3))\n",
    "print(classification_report(testy3, y_preddense64))"
   ]
  },
  {
   "cell_type": "markdown",
   "metadata": {},
   "source": [
    "Modelo 32 neuronas:"
   ]
  },
  {
   "cell_type": "code",
   "execution_count": null,
   "metadata": {},
   "outputs": [],
   "source": [
    "modeldense32 = build_model2(32,1,'relu','sparse_categorical_crossentropy','adam')\n",
    "modeldense32.summary()\n",
    "modeldense32.fit(trainX3, trainy3, epochs=1000)"
   ]
  },
  {
   "cell_type": "code",
   "execution_count": null,
   "metadata": {},
   "outputs": [],
   "source": [
    "y_preddense32 = modeldense32.predict(testX3)\n",
    "y_preddense32 =  y_preddense32.argmax(axis=-1)\n",
    "confusion3 = confusion_matrix(testy3, y_preddense100)\n",
    "print(\"Tasa de acierto en regresión logística: {:.2f}\", acierto(y_preddense32, testy3))\n",
    "print(\"Tasa de aciertos balanceada regresión logística: {:.2f}\".format(balanced_accuracy_score(testy3, y_preddense32)))\n",
    "print(\"Matriz de confusión:\\n{}\".format(confusion3))\n",
    "print(classification_report(testy3, y_preddense32))"
   ]
  },
  {
   "cell_type": "markdown",
   "metadata": {},
   "source": [
    "### EXPERIMENTO 3: Modelo 10 capas"
   ]
  },
  {
   "cell_type": "code",
   "execution_count": null,
   "metadata": {},
   "outputs": [],
   "source": [
    "def build_model3(neurons, output_size, activation_fun,loss_fun,optimizer_fun):\n",
    "    model = Sequential()\n",
    "    model.add(Dense(neurons, input_dim = 35, activation=activation_fun))\n",
    "    model.add(Dense(round(neurons/2), activation=activation_fun))\n",
    "    model.add(Dense(round(neurons/3), activation=activation_fun))\n",
    "    model.add(Dense(round(neurons/4), activation=activation_fun))\n",
    "    model.add(Dense(round(neurons/5), activation=activation_fun))\n",
    "    model.add(Dense(round(neurons/6), activation=activation_fun))\n",
    "    model.add(Dense(round(neurons/7), activation=activation_fun))\n",
    "    model.add(Dense(round(neurons/8), activation=activation_fun))\n",
    "    model.add(Dense(round(neurons/9), activation=activation_fun))\n",
    "    model.add(Dense(1, activation=activation_fun))\n",
    "    model.compile(loss=loss_fun, optimizer=optimizer_fun, metrics=['accuracy'])\n",
    "    return model\n"
   ]
  },
  {
   "cell_type": "markdown",
   "metadata": {},
   "source": [
    "Modelo 100 neuronas:"
   ]
  },
  {
   "cell_type": "code",
   "execution_count": null,
   "metadata": {},
   "outputs": [],
   "source": [
    "modeldense100 = build_model3(100,1,'relu','sparse_categorical_crossentropy','adam')\n",
    "modeldense100.summary()\n",
    "modeldense100.fit(trainX3, trainy3, epochs=100)"
   ]
  },
  {
   "cell_type": "code",
   "execution_count": null,
   "metadata": {},
   "outputs": [],
   "source": [
    "y_preddense100 = modeldense100.predict(testX3)\n",
    "y_preddense100 =  y_preddense100.argmax(axis=-1)\n",
    "confusion3 = confusion_matrix(testy3, y_preddense100)\n",
    "print(\"Tasa de acierto en regresión logística: {:.2f}\", acierto(y_preddense100, testy3))\n",
    "print(\"Tasa de aciertos balanceada regresión logística: {:.2f}\".format(balanced_accuracy_score(testy3, y_preddense100)))\n",
    "print(\"Matriz de confusión:\\n{}\".format(confusion3))\n",
    "print(classification_report(testy3, y_preddense100))"
   ]
  },
  {
   "cell_type": "markdown",
   "metadata": {},
   "source": [
    "Modelo 64 neuronas:"
   ]
  },
  {
   "cell_type": "code",
   "execution_count": null,
   "metadata": {},
   "outputs": [],
   "source": [
    "modeldense64 = build_model3(64,1,'relu','sparse_categorical_crossentropy','adam')\n",
    "modeldense64.summary()\n",
    "modeldense64.fit(trainX3, trainy3, epochs=1000)"
   ]
  },
  {
   "cell_type": "code",
   "execution_count": null,
   "metadata": {},
   "outputs": [],
   "source": [
    "y_preddense64 = modeldense64.predict(testX3)\n",
    "y_preddense64 =  y_preddense64.argmax(axis=-1)\n",
    "confusion3 = confusion_matrix(testy3, y_preddense64)\n",
    "print(\"Tasa de acierto en regresión logística: {:.2f}\", acierto(y_preddense64, testy3))\n",
    "print(\"Tasa de aciertos balanceada regresión logística: {:.2f}\".format(balanced_accuracy_score(testy3, y_preddense64)))\n",
    "print(\"Matriz de confusión:\\n{}\".format(confusion3))\n",
    "print(classification_report(testy3, y_preddense64))"
   ]
  },
  {
   "cell_type": "markdown",
   "metadata": {},
   "source": [
    "Modelo 32 neuronas:"
   ]
  },
  {
   "cell_type": "code",
   "execution_count": null,
   "metadata": {},
   "outputs": [],
   "source": [
    "modeldense32 = build_model3(32,1,'relu','sparse_categorical_crossentropy','adam')\n",
    "modeldense32.summary()\n",
    "modeldense32.fit(trainX3, trainy3, epochs=1000)"
   ]
  },
  {
   "cell_type": "code",
   "execution_count": null,
   "metadata": {},
   "outputs": [],
   "source": [
    "y_preddense32 = modeldense32.predict(testX3)\n",
    "y_preddense32 =  y_preddense32.argmax(axis=-1)\n",
    "confusion3 = confusion_matrix(testy3, y_preddense100)\n",
    "print(\"Tasa de acierto en regresión logística: {:.2f}\", acierto(y_preddense32, testy3))\n",
    "print(\"Tasa de aciertos balanceada regresión logística: {:.2f}\".format(balanced_accuracy_score(testy3, y_preddense32)))\n",
    "print(\"Matriz de confusión:\\n{}\".format(confusion3))\n",
    "print(classification_report(testy3, y_preddense32))"
   ]
  },
  {
   "cell_type": "markdown",
   "metadata": {},
   "source": [
    "### Dense RELU+ADAGRAD"
   ]
  },
  {
   "cell_type": "markdown",
   "metadata": {},
   "source": [
    "#### EXPERIMENTO 1: Modelo con 5 capas, dividiendo las neuronas."
   ]
  },
  {
   "cell_type": "markdown",
   "metadata": {},
   "source": [
    "Modelo 100 neuronas:"
   ]
  },
  {
   "cell_type": "code",
   "execution_count": null,
   "metadata": {
    "scrolled": true
   },
   "outputs": [],
   "source": [
    "modeldense100 = build_model1(100,1,'relu','sparse_categorical_crossentropy','adagrad')\n",
    "modeldense100.summary()\n",
    "modeldense100.fit(trainX3, trainy3, epochs=1000)"
   ]
  },
  {
   "cell_type": "code",
   "execution_count": null,
   "metadata": {},
   "outputs": [],
   "source": [
    "y_preddense100 = modeldense100.predict(testX3)\n",
    "y_preddense100 =  y_preddense100.argmax(axis=-1)\n",
    "confusion3 = confusion_matrix(testy3, y_preddense100)\n",
    "print(\"Tasa de acierto en regresión logística: {:.2f}\", acierto(y_preddense100, testy3))\n",
    "print(\"Tasa de aciertos balanceada regresión logística: {:.2f}\".format(balanced_accuracy_score(testy3, y_preddense100)))\n",
    "print(\"Matriz de confusión:\\n{}\".format(confusion3))\n",
    "print(classification_report(testy3, y_preddense100))"
   ]
  },
  {
   "cell_type": "markdown",
   "metadata": {},
   "source": [
    "Modelo 64 neuronas"
   ]
  },
  {
   "cell_type": "code",
   "execution_count": null,
   "metadata": {},
   "outputs": [],
   "source": [
    "modeldense64 = build_model1(64,1,'relu','sparse_categorical_crossentropy','adagrad')\n",
    "modeldense64.summary()\n",
    "modeldense64.fit(trainX3, trainy3, epochs=1000)"
   ]
  },
  {
   "cell_type": "code",
   "execution_count": null,
   "metadata": {},
   "outputs": [],
   "source": [
    "y_preddense64 = modeldense64.predict(testX3)\n",
    "y_preddense64 =  y_preddense64.argmax(axis=-1)\n",
    "confusion3 = confusion_matrix(testy3, y_preddense64)\n",
    "print(\"Tasa de acierto en regresión logística: {:.2f}\", acierto(y_preddense64, testy3))\n",
    "print(\"Tasa de aciertos balanceada regresión logística: {:.2f}\".format(balanced_accuracy_score(testy3, y_preddense64)))\n",
    "print(\"Matriz de confusión:\\n{}\".format(confusion3))\n",
    "print(classification_report(testy3, y_preddense64))"
   ]
  },
  {
   "cell_type": "markdown",
   "metadata": {},
   "source": [
    "Modelo 32 neuronas:"
   ]
  },
  {
   "cell_type": "code",
   "execution_count": null,
   "metadata": {},
   "outputs": [],
   "source": [
    "modeldense32 = build_model1(32,1,'relu','sparse_categorical_crossentropy','adagrad')\n",
    "modeldense32.summary()\n",
    "modeldense32.fit(trainX3, trainy3, epochs=1000)"
   ]
  },
  {
   "cell_type": "code",
   "execution_count": null,
   "metadata": {},
   "outputs": [],
   "source": [
    "y_preddense32 = modeldense32.predict(testX3)\n",
    "y_preddense32 =  y_preddense32.argmax(axis=-1)\n",
    "confusion3 = confusion_matrix(testy3, y_preddense100)\n",
    "print(\"Tasa de acierto en regresión logística: {:.2f}\", acierto(y_preddense32, testy3))\n",
    "print(\"Tasa de aciertos balanceada regresión logística: {:.2f}\".format(balanced_accuracy_score(testy3, y_preddense32)))\n",
    "print(\"Matriz de confusión:\\n{}\".format(confusion3))\n",
    "print(classification_report(testy3, y_preddense32))"
   ]
  },
  {
   "cell_type": "markdown",
   "metadata": {},
   "source": [
    "  "
   ]
  },
  {
   "cell_type": "markdown",
   "metadata": {},
   "source": [
    "#### EXPERIMENTO 2:  Modelo con 5 capas, mismas neuronas cada 2 capas"
   ]
  },
  {
   "cell_type": "code",
   "execution_count": null,
   "metadata": {
    "scrolled": true
   },
   "outputs": [],
   "source": [
    "modeldense100 = build_model2(100,1,'relu','sparse_categorical_crossentropy','adagrad')\n",
    "modeldense100.summary()\n",
    "modeldense100.fit(trainX3, trainy3, epochs=1000)"
   ]
  },
  {
   "cell_type": "code",
   "execution_count": null,
   "metadata": {},
   "outputs": [],
   "source": [
    "y_preddense100 = modeldense100.predict(testX3)\n",
    "y_preddense100 =  y_preddense100.argmax(axis=-1)\n",
    "confusion3 = confusion_matrix(testy3, y_preddense100)\n",
    "print(\"Tasa de acierto en regresión logística: {:.2f}\", acierto(y_preddense100, testy3))\n",
    "print(\"Tasa de aciertos balanceada regresión logística: {:.2f}\".format(balanced_accuracy_score(testy3, y_preddense100)))\n",
    "print(\"Matriz de confusión:\\n{}\".format(confusion3))\n",
    "print(classification_report(testy3, y_preddense100))"
   ]
  },
  {
   "cell_type": "markdown",
   "metadata": {},
   "source": [
    "Modelo 64 neuronas"
   ]
  },
  {
   "cell_type": "code",
   "execution_count": null,
   "metadata": {},
   "outputs": [],
   "source": [
    "modeldense64 = build_model2(64,1,'relu','sparse_categorical_crossentropy','adagrad')\n",
    "modeldense64.summary()\n",
    "modeldense64.fit(trainX3, trainy3, epochs=1000)"
   ]
  },
  {
   "cell_type": "code",
   "execution_count": null,
   "metadata": {},
   "outputs": [],
   "source": [
    "y_preddense64 = modeldense64.predict(testX3)\n",
    "y_preddense64 =  y_preddense64.argmax(axis=-1)\n",
    "confusion3 = confusion_matrix(testy3, y_preddense64)\n",
    "print(\"Tasa de acierto en regresión logística: {:.2f}\", acierto(y_preddense64, testy3))\n",
    "print(\"Tasa de aciertos balanceada regresión logística: {:.2f}\".format(balanced_accuracy_score(testy3, y_preddense64)))\n",
    "print(\"Matriz de confusión:\\n{}\".format(confusion3))\n",
    "print(classification_report(testy3, y_preddense64))"
   ]
  },
  {
   "cell_type": "markdown",
   "metadata": {},
   "source": [
    "Modelo 32 neuronas:"
   ]
  },
  {
   "cell_type": "code",
   "execution_count": null,
   "metadata": {},
   "outputs": [],
   "source": [
    "modeldense32 = build_model2(32,1,'relu','sparse_categorical_crossentropy','adagrad')\n",
    "modeldense32.summary()\n",
    "modeldense32.fit(trainX3, trainy3, epochs=1000)"
   ]
  },
  {
   "cell_type": "code",
   "execution_count": null,
   "metadata": {},
   "outputs": [],
   "source": [
    "y_preddense32 = modeldense32.predict(testX3)\n",
    "y_preddense32 =  y_preddense32.argmax(axis=-1)\n",
    "confusion3 = confusion_matrix(testy3, y_preddense100)\n",
    "print(\"Tasa de acierto en regresión logística: {:.2f}\", acierto(y_preddense32, testy3))\n",
    "print(\"Tasa de aciertos balanceada regresión logística: {:.2f}\".format(balanced_accuracy_score(testy3, y_preddense32)))\n",
    "print(\"Matriz de confusión:\\n{}\".format(confusion3))\n",
    "print(classification_report(testy3, y_preddense32))"
   ]
  },
  {
   "cell_type": "markdown",
   "metadata": {},
   "source": [
    "### EXPERIMENTO 3: Modelo 10 capas"
   ]
  },
  {
   "cell_type": "markdown",
   "metadata": {},
   "source": [
    "Modelo 100 neuronas:"
   ]
  },
  {
   "cell_type": "code",
   "execution_count": null,
   "metadata": {},
   "outputs": [],
   "source": [
    "modeldense100 = build_model3(100,1,'relu','sparse_categorical_crossentropy','adagrad')\n",
    "modeldense100.summary()\n",
    "modeldense100.fit(trainX3, trainy3, epochs=100)"
   ]
  },
  {
   "cell_type": "code",
   "execution_count": null,
   "metadata": {},
   "outputs": [],
   "source": [
    "y_preddense100 = modeldense100.predict(testX3)\n",
    "y_preddense100 =  y_preddense100.argmax(axis=-1)\n",
    "confusion3 = confusion_matrix(testy3, y_preddense100)\n",
    "print(\"Tasa de acierto en regresión logística: {:.2f}\", acierto(y_preddense100, testy3))\n",
    "print(\"Tasa de aciertos balanceada regresión logística: {:.2f}\".format(balanced_accuracy_score(testy3, y_preddense100)))\n",
    "print(\"Matriz de confusión:\\n{}\".format(confusion3))\n",
    "print(classification_report(testy3, y_preddense100))"
   ]
  },
  {
   "cell_type": "markdown",
   "metadata": {},
   "source": [
    "Modelo 64 neuronas:"
   ]
  },
  {
   "cell_type": "code",
   "execution_count": null,
   "metadata": {},
   "outputs": [],
   "source": [
    "modeldense64 = build_model3(64,1,'relu','sparse_categorical_crossentropy','adagrad')\n",
    "modeldense64.summary()\n",
    "modeldense64.fit(trainX3, trainy3, epochs=1000)"
   ]
  },
  {
   "cell_type": "code",
   "execution_count": null,
   "metadata": {},
   "outputs": [],
   "source": [
    "y_preddense64 = modeldense64.predict(testX3)\n",
    "y_preddense64 =  y_preddense64.argmax(axis=-1)\n",
    "confusion3 = confusion_matrix(testy3, y_preddense64)\n",
    "print(\"Tasa de acierto en regresión logística: {:.2f}\", acierto(y_preddense64, testy3))\n",
    "print(\"Tasa de aciertos balanceada regresión logística: {:.2f}\".format(balanced_accuracy_score(testy3, y_preddense64)))\n",
    "print(\"Matriz de confusión:\\n{}\".format(confusion3))\n",
    "print(classification_report(testy3, y_preddense64))"
   ]
  },
  {
   "cell_type": "markdown",
   "metadata": {},
   "source": [
    "Modelo 32 neuronas:"
   ]
  },
  {
   "cell_type": "code",
   "execution_count": null,
   "metadata": {},
   "outputs": [],
   "source": [
    "modeldense32 = build_model3(32,1,'relu','sparse_categorical_crossentropy','adagrad')\n",
    "modeldense32.summary()\n",
    "modeldense32.fit(trainX3, trainy3, epochs=1000)"
   ]
  },
  {
   "cell_type": "code",
   "execution_count": null,
   "metadata": {},
   "outputs": [],
   "source": [
    "y_preddense32 = modeldense32.predict(testX3)\n",
    "y_preddense32 =  y_preddense32.argmax(axis=-1)\n",
    "confusion3 = confusion_matrix(testy3, y_preddense100)\n",
    "print(\"Tasa de acierto en regresión logística: {:.2f}\", acierto(y_preddense32, testy3))\n",
    "print(\"Tasa de aciertos balanceada regresión logística: {:.2f}\".format(balanced_accuracy_score(testy3, y_preddense32)))\n",
    "print(\"Matriz de confusión:\\n{}\".format(confusion3))\n",
    "print(classification_report(testy3, y_preddense32))"
   ]
  }
 ],
 "metadata": {
  "kernelspec": {
   "display_name": "Python 3",
   "language": "python",
   "name": "python3"
  },
  "language_info": {
   "codemirror_mode": {
    "name": "ipython",
    "version": 3
   },
   "file_extension": ".py",
   "mimetype": "text/x-python",
   "name": "python",
   "nbconvert_exporter": "python",
   "pygments_lexer": "ipython3",
   "version": "3.7.6"
  }
 },
 "nbformat": 4,
 "nbformat_minor": 4
}
