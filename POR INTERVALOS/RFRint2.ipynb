{
 "cells": [
  {
   "cell_type": "markdown",
   "metadata": {},
   "source": [
    "# Random forest regresor"
   ]
  },
  {
   "cell_type": "code",
   "execution_count": 7,
   "metadata": {},
   "outputs": [],
   "source": [
    "from sklearn.metrics import accuracy_score\n",
    "from sklearn.ensemble import RandomForestClassifier\n",
    "from sklearn.metrics import confusion_matrix,balanced_accuracy_score,classification_report\n",
    "from hyperopt import hp, fmin, tpe, Trials, STATUS_OK\n",
    "from hyperopt.pyll import scope"
   ]
  },
  {
   "cell_type": "markdown",
   "metadata": {},
   "source": [
    "# DIARIO"
   ]
  },
  {
   "cell_type": "code",
   "execution_count": 8,
   "metadata": {},
   "outputs": [
    {
     "data": {
      "image/png": "[encoded data removed]",
      "text/plain": [
       "<Figure size 432x288 with 1 Axes>"
      ]
     },
     "metadata": {
      "needs_background": "light"
     },
     "output_type": "display_data"
    }
   ],
   "source": [
    "run 1dia-porintervalos2.ipynb"
   ]
  },
  {
   "cell_type": "markdown",
   "metadata": {},
   "source": [
    "### EXPERIMENTO 1: MODELO BASE"
   ]
  },
  {
   "cell_type": "code",
   "execution_count": 4,
   "metadata": {
    "scrolled": true
   },
   "outputs": [
    {
     "name": "stdout",
     "output_type": "stream",
     "text": [
      "Tasa de acierto en rf: 0.27\n",
      "Tasa de aciertos balanceada regresión logística: 0.19\n",
      "Matriz de confusión:\n",
      "[[ 0  0  0  3  0]\n",
      " [ 0 43 15 34  0]\n",
      " [ 0 88 30 60  0]\n",
      " [ 0 54 17 31  0]\n",
      " [ 0  2  1  1  0]]\n",
      "              precision    recall  f1-score   support\n",
      "\n",
      "         1.0       0.00      0.00      0.00         3\n",
      "         2.0       0.23      0.47      0.31        92\n",
      "         3.0       0.48      0.17      0.25       178\n",
      "         4.0       0.24      0.30      0.27       102\n",
      "         5.0       0.00      0.00      0.00         4\n",
      "\n",
      "    accuracy                           0.27       379\n",
      "   macro avg       0.19      0.19      0.17       379\n",
      "weighted avg       0.34      0.27      0.26       379\n",
      "\n"
     ]
    },
    {
     "name": "stderr",
     "output_type": "stream",
     "text": [
      "C:\\Users\\SARA\\anaconda3\\lib\\site-packages\\sklearn\\metrics\\_classification.py:1245: UndefinedMetricWarning: Precision and F-score are ill-defined and being set to 0.0 in labels with no predicted samples. Use `zero_division` parameter to control this behavior.\n",
      "  _warn_prf(average, modifier, msg_start, len(result))\n",
      "C:\\Users\\SARA\\anaconda3\\lib\\site-packages\\sklearn\\metrics\\_classification.py:1245: UndefinedMetricWarning: Precision and F-score are ill-defined and being set to 0.0 in labels with no predicted samples. Use `zero_division` parameter to control this behavior.\n",
      "  _warn_prf(average, modifier, msg_start, len(result))\n",
      "C:\\Users\\SARA\\anaconda3\\lib\\site-packages\\sklearn\\metrics\\_classification.py:1245: UndefinedMetricWarning: Precision and F-score are ill-defined and being set to 0.0 in labels with no predicted samples. Use `zero_division` parameter to control this behavior.\n",
      "  _warn_prf(average, modifier, msg_start, len(result))\n"
     ]
    }
   ],
   "source": [
    "# MODELO CON EL CONJUNTO DE DATOS 1\n",
    "# -------------------------------------------------------------------\n",
    "rf1 = RandomForestClassifier().fit(trainX1, trainy1)\n",
    "y_pred1 = rf1.predict(testX1)\n",
    "confusion1 = confusion_matrix(testy1, y_pred1)\n",
    "print(\"Tasa de acierto en rf: {:.2f}\".format(rf1.score(testX1, testy1)))\n",
    "print(\"Tasa de aciertos balanceada regresión logística: {:.2f}\".format(balanced_accuracy_score(testy1, y_pred1)))\n",
    "print(\"Matriz de confusión:\\n{}\".format(confusion1))\n",
    "print(classification_report(testy1, y_pred1))"
   ]
  },
  {
   "cell_type": "code",
   "execution_count": 5,
   "metadata": {},
   "outputs": [
    {
     "name": "stdout",
     "output_type": "stream",
     "text": [
      "Tasa de acierto en regresión logística: 0.28\n",
      "Tasa de aciertos balanceada regresión logística: 0.21\n",
      "Matriz de confusión:\n",
      "[[  0   2   0   1   0]\n",
      " [  0  51   8  28   0]\n",
      " [  0 110  14  50   0]\n",
      " [  0  58   5  37   0]\n",
      " [  0   4   0   0   0]]\n",
      "              precision    recall  f1-score   support\n",
      "\n",
      "         1.0       0.00      0.00      0.00         3\n",
      "         2.0       0.23      0.59      0.33        87\n",
      "         3.0       0.52      0.08      0.14       174\n",
      "         4.0       0.32      0.37      0.34       100\n",
      "         5.0       0.00      0.00      0.00         4\n",
      "\n",
      "    accuracy                           0.28       368\n",
      "   macro avg       0.21      0.21      0.16       368\n",
      "weighted avg       0.39      0.28      0.24       368\n",
      "\n"
     ]
    },
    {
     "name": "stderr",
     "output_type": "stream",
     "text": [
      "C:\\Users\\SARA\\anaconda3\\lib\\site-packages\\sklearn\\metrics\\_classification.py:1245: UndefinedMetricWarning: Precision and F-score are ill-defined and being set to 0.0 in labels with no predicted samples. Use `zero_division` parameter to control this behavior.\n",
      "  _warn_prf(average, modifier, msg_start, len(result))\n",
      "C:\\Users\\SARA\\anaconda3\\lib\\site-packages\\sklearn\\metrics\\_classification.py:1245: UndefinedMetricWarning: Precision and F-score are ill-defined and being set to 0.0 in labels with no predicted samples. Use `zero_division` parameter to control this behavior.\n",
      "  _warn_prf(average, modifier, msg_start, len(result))\n",
      "C:\\Users\\SARA\\anaconda3\\lib\\site-packages\\sklearn\\metrics\\_classification.py:1245: UndefinedMetricWarning: Precision and F-score are ill-defined and being set to 0.0 in labels with no predicted samples. Use `zero_division` parameter to control this behavior.\n",
      "  _warn_prf(average, modifier, msg_start, len(result))\n"
     ]
    }
   ],
   "source": [
    "# MODELO CON EL CONJUNTO DE DATOS 2\n",
    "# -------------------------------------------------------------------\n",
    "rf2 = RandomForestClassifier().fit(trainX2, trainy2)\n",
    "y_pred2 = rf2.predict(testX2)\n",
    "confusion2 = confusion_matrix(testy2, y_pred2)\n",
    "print(\"Tasa de acierto en regresión logística: {:.2f}\".format(rf2.score(testX2, testy2)))\n",
    "print(\"Tasa de aciertos balanceada regresión logística: {:.2f}\".format(balanced_accuracy_score(testy2, y_pred2)))\n",
    "print(\"Matriz de confusión:\\n{}\".format(confusion2))\n",
    "print(classification_report(testy2, y_pred2))"
   ]
  },
  {
   "cell_type": "code",
   "execution_count": 6,
   "metadata": {},
   "outputs": [
    {
     "name": "stdout",
     "output_type": "stream",
     "text": [
      "Tasa de acierto en regresión logística: 0.26\n",
      "Tasa de aciertos balanceada regresión logística: 0.20\n",
      "Matriz de confusión:\n",
      "[[  0   3   0   0   0]\n",
      " [  0  57   7  23   0]\n",
      " [  0 120  10  41   0]\n",
      " [  0  70   3  26   0]\n",
      " [  0   3   0   1   0]]\n",
      "              precision    recall  f1-score   support\n",
      "\n",
      "         1.0       0.00      0.00      0.00         3\n",
      "         2.0       0.23      0.66      0.34        87\n",
      "         3.0       0.50      0.06      0.10       171\n",
      "         4.0       0.29      0.26      0.27        99\n",
      "         5.0       0.00      0.00      0.00         4\n",
      "\n",
      "    accuracy                           0.26       364\n",
      "   macro avg       0.20      0.20      0.14       364\n",
      "weighted avg       0.37      0.26      0.20       364\n",
      "\n"
     ]
    },
    {
     "name": "stderr",
     "output_type": "stream",
     "text": [
      "C:\\Users\\SARA\\anaconda3\\lib\\site-packages\\sklearn\\metrics\\_classification.py:1245: UndefinedMetricWarning: Precision and F-score are ill-defined and being set to 0.0 in labels with no predicted samples. Use `zero_division` parameter to control this behavior.\n",
      "  _warn_prf(average, modifier, msg_start, len(result))\n",
      "C:\\Users\\SARA\\anaconda3\\lib\\site-packages\\sklearn\\metrics\\_classification.py:1245: UndefinedMetricWarning: Precision and F-score are ill-defined and being set to 0.0 in labels with no predicted samples. Use `zero_division` parameter to control this behavior.\n",
      "  _warn_prf(average, modifier, msg_start, len(result))\n",
      "C:\\Users\\SARA\\anaconda3\\lib\\site-packages\\sklearn\\metrics\\_classification.py:1245: UndefinedMetricWarning: Precision and F-score are ill-defined and being set to 0.0 in labels with no predicted samples. Use `zero_division` parameter to control this behavior.\n",
      "  _warn_prf(average, modifier, msg_start, len(result))\n"
     ]
    }
   ],
   "source": [
    "# MODELO CON EL CONJUNTO DE DATOS 3\n",
    "# -------------------------------------------------------------------\n",
    "rf3 = RandomForestClassifier().fit(trainX3, trainy3)\n",
    "y_pred3 = rf3.predict(testX3)\n",
    "confusion3 = confusion_matrix(testy3, y_pred3)\n",
    "print(\"Tasa de acierto en regresión logística: {:.2f}\".format(rf3.score(testX3, testy3)))\n",
    "print(\"Tasa de aciertos balanceada regresión logística: {:.2f}\".format(balanced_accuracy_score(testy3, y_pred3)))\n",
    "print(\"Matriz de confusión:\\n{}\".format(confusion3))\n",
    "print(classification_report(testy3, y_pred3))"
   ]
  },
  {
   "cell_type": "markdown",
   "metadata": {},
   "source": [
    "### Experimento2: optimización bayesiana\n"
   ]
  },
  {
   "cell_type": "code",
   "execution_count": 5,
   "metadata": {},
   "outputs": [
    {
     "data": {
      "text/plain": [
       "{'criterion': 0,\n",
       " 'max_depth': 820.0,\n",
       " 'max_features': 3,\n",
       " 'min_samples_leaf': 0.32572001257202166,\n",
       " 'min_samples_split': 0.10224979782462018,\n",
       " 'n_estimators': 1}"
      ]
     },
     "execution_count": 5,
     "metadata": {},
     "output_type": "execute_result"
    }
   ],
   "source": [
    "# MODELO CON EL CONJUNTO DE DATOS 1\n",
    "# -------------------------------------------------------------------\n",
    "def objective1(params):\n",
    "   \n",
    "    random_forest = RandomForestClassifier(**params,n_jobs=-1).fit(trainX1, trainy1)\n",
    "    y_pred = random_forest.predict(testX1)\n",
    "    accuracy = random_forest.score(testX1, y_pred)\n",
    "    return {\"loss\": accuracy, \"status\": STATUS_OK}\n",
    "\n",
    "# Definimos los parámetros:\n",
    "param_space = {'criterion': hp.choice('criterion', ['entropy', 'gini']),\n",
    "        'max_depth': hp.quniform('max_depth', 10, 1200, 10),\n",
    "        'max_features': hp.choice('max_features', ['auto', 'sqrt','log2', None]),\n",
    "        'min_samples_leaf': hp.uniform('min_samples_leaf', 0, 0.5),\n",
    "        'min_samples_split' : hp.uniform ('min_samples_split', 0, 1),\n",
    "        'n_estimators' : hp.choice('n_estimators', [10, 50, 300, 750, 1200,1300,1500]) }\n",
    "\n",
    "tpe_algo = tpe.suggest\n",
    "trials = Trials()\n",
    "results = fmin(objective1,space=param_space,algo=tpe_algo,trials=trials,max_evals=100)\n",
    "results"
   ]
  },
  {
   "cell_type": "code",
   "execution_count": 9,
   "metadata": {},
   "outputs": [
    {
     "name": "stdout",
     "output_type": "stream",
     "text": [
      "Tasa de acierto en regresión logística: 0.47\n",
      "Tasa de aciertos balanceada regresión logística: 0.20\n",
      "Matriz de confusión:\n",
      "[[  0   0   3   0   0]\n",
      " [  0   0  93   0   0]\n",
      " [  0   0 178   0   0]\n",
      " [  0   0 101   0   0]\n",
      " [  0   0   4   0   0]]\n",
      "              precision    recall  f1-score   support\n",
      "\n",
      "         1.0       0.00      0.00      0.00         3\n",
      "         2.0       0.00      0.00      0.00        93\n",
      "         3.0       0.47      1.00      0.64       178\n",
      "         4.0       0.00      0.00      0.00       101\n",
      "         5.0       0.00      0.00      0.00         4\n",
      "\n",
      "    accuracy                           0.47       379\n",
      "   macro avg       0.09      0.20      0.13       379\n",
      "weighted avg       0.22      0.47      0.30       379\n",
      "\n"
     ]
    },
    {
     "name": "stderr",
     "output_type": "stream",
     "text": [
      "C:\\Users\\SARA\\anaconda3\\lib\\site-packages\\sklearn\\metrics\\_classification.py:1245: UndefinedMetricWarning: Precision and F-score are ill-defined and being set to 0.0 in labels with no predicted samples. Use `zero_division` parameter to control this behavior.\n",
      "  _warn_prf(average, modifier, msg_start, len(result))\n",
      "C:\\Users\\SARA\\anaconda3\\lib\\site-packages\\sklearn\\metrics\\_classification.py:1245: UndefinedMetricWarning: Precision and F-score are ill-defined and being set to 0.0 in labels with no predicted samples. Use `zero_division` parameter to control this behavior.\n",
      "  _warn_prf(average, modifier, msg_start, len(result))\n",
      "C:\\Users\\SARA\\anaconda3\\lib\\site-packages\\sklearn\\metrics\\_classification.py:1245: UndefinedMetricWarning: Precision and F-score are ill-defined and being set to 0.0 in labels with no predicted samples. Use `zero_division` parameter to control this behavior.\n",
      "  _warn_prf(average, modifier, msg_start, len(result))\n"
     ]
    }
   ],
   "source": [
    "rfob1 = RandomForestClassifier(criterion='entropy', max_depth=820, max_features = None,min_samples_leaf = 0.32572001257202166,\n",
    "                               min_samples_split = 0.10224979782462018,n_estimators = 10).fit(trainX1,trainy1)\n",
    "y_pred1 = rfob1.predict(testX1)\n",
    "confusion1 = confusion_matrix(testy1, y_pred1)\n",
    "print(\"Tasa de acierto en regresión logística: {:.2f}\".format(rfob1.score(testX1, testy1)))\n",
    "print(\"Tasa de aciertos balanceada regresión logística: {:.2f}\".format(balanced_accuracy_score(testy1, y_pred1)))\n",
    "print(\"Matriz de confusión:\\n{}\".format(confusion1))\n",
    "print(classification_report(testy1, y_pred1))"
   ]
  },
  {
   "cell_type": "code",
   "execution_count": 9,
   "metadata": {
    "scrolled": true
   },
   "outputs": [
    {
     "data": {
      "text/plain": [
       "{'criterion': 1,\n",
       " 'max_depth': 400.0,\n",
       " 'max_features': 2,\n",
       " 'min_samples_leaf': 0.4904971518194073,\n",
       " 'min_samples_split': 0.5518233266450528,\n",
       " 'n_estimators': 0}"
      ]
     },
     "execution_count": 9,
     "metadata": {},
     "output_type": "execute_result"
    }
   ],
   "source": [
    "# MODELO CON EL CONJUNTO DE DATOS 2\n",
    "# -------------------------------------------------------------------\n",
    "def objective1(params):\n",
    "   \n",
    "    random_forest = RandomForestClassifier(**params,n_jobs=-1).fit(trainX2, trainy2)\n",
    "    y_pred = random_forest.predict(testX2)\n",
    "    accuracy = random_forest.score(testX2, y_pred)\n",
    "    return {\"loss\": accuracy, \"status\": STATUS_OK}\n",
    "\n",
    "# Definimos los parámetros:\n",
    "param_space = {'criterion': hp.choice('criterion', ['entropy', 'gini']),\n",
    "        'max_depth': hp.quniform('max_depth', 10, 1200, 10),\n",
    "        'max_features': hp.choice('max_features', ['auto', 'sqrt','log2', None]),\n",
    "        'min_samples_leaf': hp.uniform('min_samples_leaf', 0, 0.5),\n",
    "        'min_samples_split' : hp.uniform ('min_samples_split', 0, 1),\n",
    "        'n_estimators' : hp.choice('n_estimators', [10, 50, 300, 750, 1200,1300,1500]) }\n",
    "\n",
    "tpe_algo = tpe.suggest\n",
    "trials = Trials()\n",
    "results = fmin(objective1,space=param_space,algo=tpe_algo,trials=trials,max_evals=100)\n",
    "results"
   ]
  },
  {
   "cell_type": "code",
   "execution_count": 10,
   "metadata": {},
   "outputs": [
    {
     "name": "stdout",
     "output_type": "stream",
     "text": [
      "Tasa de acierto en regresión logística: 0.47\n",
      "Tasa de aciertos balanceada regresión logística: 0.20\n",
      "Matriz de confusión:\n",
      "[[  0   0   3   0   0]\n",
      " [  0   0  88   0   0]\n",
      " [  0   0 174   0   0]\n",
      " [  0   0  99   0   0]\n",
      " [  0   0   4   0   0]]\n",
      "              precision    recall  f1-score   support\n",
      "\n",
      "         1.0       0.00      0.00      0.00         3\n",
      "         2.0       0.00      0.00      0.00        88\n",
      "         3.0       0.47      1.00      0.64       174\n",
      "         4.0       0.00      0.00      0.00        99\n",
      "         5.0       0.00      0.00      0.00         4\n",
      "\n",
      "    accuracy                           0.47       368\n",
      "   macro avg       0.09      0.20      0.13       368\n",
      "weighted avg       0.22      0.47      0.30       368\n",
      "\n"
     ]
    },
    {
     "name": "stderr",
     "output_type": "stream",
     "text": [
      "C:\\Users\\SARA\\anaconda3\\lib\\site-packages\\sklearn\\metrics\\_classification.py:1245: UndefinedMetricWarning: Precision and F-score are ill-defined and being set to 0.0 in labels with no predicted samples. Use `zero_division` parameter to control this behavior.\n",
      "  _warn_prf(average, modifier, msg_start, len(result))\n",
      "C:\\Users\\SARA\\anaconda3\\lib\\site-packages\\sklearn\\metrics\\_classification.py:1245: UndefinedMetricWarning: Precision and F-score are ill-defined and being set to 0.0 in labels with no predicted samples. Use `zero_division` parameter to control this behavior.\n",
      "  _warn_prf(average, modifier, msg_start, len(result))\n",
      "C:\\Users\\SARA\\anaconda3\\lib\\site-packages\\sklearn\\metrics\\_classification.py:1245: UndefinedMetricWarning: Precision and F-score are ill-defined and being set to 0.0 in labels with no predicted samples. Use `zero_division` parameter to control this behavior.\n",
      "  _warn_prf(average, modifier, msg_start, len(result))\n"
     ]
    }
   ],
   "source": [
    "rfob2 = RandomForestClassifier(criterion='gini', max_depth=400, max_features = 'log2',min_samples_leaf = 0.4904971518194073,\n",
    "                               min_samples_split = 0.5518233266450528,n_estimators = 10).fit(trainX2,trainy2)\n",
    "y_pred2 = rfob2.predict(testX2)\n",
    "confusion2 = confusion_matrix(testy2, y_pred2)\n",
    "print(\"Tasa de acierto en regresión logística: {:.2f}\".format(rfob2.score(testX2, testy2)))\n",
    "print(\"Tasa de aciertos balanceada regresión logística: {:.2f}\".format(balanced_accuracy_score(testy2, y_pred2)))\n",
    "print(\"Matriz de confusión:\\n{}\".format(confusion2))\n",
    "print(classification_report(testy2, y_pred2))"
   ]
  },
  {
   "cell_type": "code",
   "execution_count": 11,
   "metadata": {},
   "outputs": [
    {
     "data": {
      "text/plain": [
       "{'criterion': 0,\n",
       " 'max_depth': 300.0,\n",
       " 'max_features': 1,\n",
       " 'min_samples_leaf': 0.21448268431719725,\n",
       " 'min_samples_split': 0.9089920189887221,\n",
       " 'n_estimators': 4}"
      ]
     },
     "execution_count": 11,
     "metadata": {},
     "output_type": "execute_result"
    }
   ],
   "source": [
    "# MODELO CON EL CONJUNTO DE DATOS 3\n",
    "# -------------------------------------------------------------------\n",
    "def objective1(params):\n",
    "   \n",
    "    random_forest = RandomForestClassifier(**params,n_jobs=-1).fit(trainX3, trainy3)\n",
    "    y_pred = random_forest.predict(testX3)\n",
    "    accuracy = random_forest.score(testX3, y_pred)\n",
    "    return {\"loss\": accuracy, \"status\": STATUS_OK}\n",
    "\n",
    "# Definimos los parámetros:\n",
    "param_space = {'criterion': hp.choice('criterion', ['entropy', 'gini']),\n",
    "        'max_depth': hp.quniform('max_depth', 10, 1200, 10),\n",
    "        'max_features': hp.choice('max_features', ['auto', 'sqrt','log2', None]),\n",
    "        'min_samples_leaf': hp.uniform('min_samples_leaf', 0, 0.5),\n",
    "        'min_samples_split' : hp.uniform ('min_samples_split', 0, 1),\n",
    "        'n_estimators' : hp.choice('n_estimators', [10, 50, 300, 750, 1200,1300,1500]) }\n",
    "\n",
    "tpe_algo = tpe.suggest\n",
    "trials = Trials()\n",
    "results = fmin(objective1,space=param_space,algo=tpe_algo,trials=trials,max_evals=100)\n",
    "results"
   ]
  },
  {
   "cell_type": "code",
   "execution_count": 11,
   "metadata": {},
   "outputs": [
    {
     "name": "stdout",
     "output_type": "stream",
     "text": [
      "Tasa de acierto en regresión logística: 0.47\n",
      "Tasa de aciertos balanceada regresión logística: 0.20\n",
      "Matriz de confusión:\n",
      "[[  0   0   3   0   0]\n",
      " [  0   0  86   0   0]\n",
      " [  0   0 172   0   0]\n",
      " [  0   0  99   0   0]\n",
      " [  0   0   4   0   0]]\n",
      "              precision    recall  f1-score   support\n",
      "\n",
      "         1.0       0.00      0.00      0.00         3\n",
      "         2.0       0.00      0.00      0.00        86\n",
      "         3.0       0.47      1.00      0.64       172\n",
      "         4.0       0.00      0.00      0.00        99\n",
      "         5.0       0.00      0.00      0.00         4\n",
      "\n",
      "    accuracy                           0.47       364\n",
      "   macro avg       0.09      0.20      0.13       364\n",
      "weighted avg       0.22      0.47      0.30       364\n",
      "\n"
     ]
    },
    {
     "name": "stderr",
     "output_type": "stream",
     "text": [
      "C:\\Users\\SARA\\anaconda3\\lib\\site-packages\\sklearn\\metrics\\_classification.py:1245: UndefinedMetricWarning: Precision and F-score are ill-defined and being set to 0.0 in labels with no predicted samples. Use `zero_division` parameter to control this behavior.\n",
      "  _warn_prf(average, modifier, msg_start, len(result))\n",
      "C:\\Users\\SARA\\anaconda3\\lib\\site-packages\\sklearn\\metrics\\_classification.py:1245: UndefinedMetricWarning: Precision and F-score are ill-defined and being set to 0.0 in labels with no predicted samples. Use `zero_division` parameter to control this behavior.\n",
      "  _warn_prf(average, modifier, msg_start, len(result))\n",
      "C:\\Users\\SARA\\anaconda3\\lib\\site-packages\\sklearn\\metrics\\_classification.py:1245: UndefinedMetricWarning: Precision and F-score are ill-defined and being set to 0.0 in labels with no predicted samples. Use `zero_division` parameter to control this behavior.\n",
      "  _warn_prf(average, modifier, msg_start, len(result))\n"
     ]
    }
   ],
   "source": [
    "rfob3 = RandomForestClassifier(criterion='entropy', max_depth=300, max_features = 'sqrt',min_samples_leaf = 0.21448268431719725,\n",
    "                               min_samples_split =0.9089920189887221,n_estimators = 1200).fit(trainX3,trainy3)\n",
    "y_pred3 = rfob3.predict(testX3)\n",
    "confusion3 = confusion_matrix(testy3, y_pred3)\n",
    "print(\"Tasa de acierto en regresión logística: {:.2f}\".format(rfob3.score(testX3, testy3)))\n",
    "print(\"Tasa de aciertos balanceada regresión logística: {:.2f}\".format(balanced_accuracy_score(testy3, y_pred3)))\n",
    "print(\"Matriz de confusión:\\n{}\".format(confusion3))\n",
    "print(classification_report(testy3, y_pred3))"
   ]
  },
  {
   "cell_type": "markdown",
   "metadata": {},
   "source": [
    " "
   ]
  },
  {
   "cell_type": "markdown",
   "metadata": {},
   "source": [
    " "
   ]
  },
  {
   "cell_type": "markdown",
   "metadata": {},
   "source": [
    "# HORARIO"
   ]
  },
  {
   "cell_type": "code",
   "execution_count": 18,
   "metadata": {},
   "outputs": [
    {
     "data": {
      "image/png": "[encoded data removed]",
      "text/plain": [
       "<Figure size 432x288 with 1 Axes>"
      ]
     },
     "metadata": {
      "needs_background": "light"
     },
     "output_type": "display_data"
    }
   ],
   "source": [
    "run 1hora-porintervalos2.ipynb"
   ]
  },
  {
   "cell_type": "markdown",
   "metadata": {},
   "source": [
    "### EXPERIMENTO 1: MODELO BASE"
   ]
  },
  {
   "cell_type": "code",
   "execution_count": 14,
   "metadata": {
    "scrolled": true
   },
   "outputs": [
    {
     "name": "stdout",
     "output_type": "stream",
     "text": [
      "Tasa de acierto en rf: 0.95\n",
      "Tasa de aciertos balanceada regresión logística: 0.34\n",
      "Matriz de confusión:\n",
      "[[   5  205    0]\n",
      " [  28 8623    0]\n",
      " [   2  210    1]]\n",
      "              precision    recall  f1-score   support\n",
      "\n",
      "         2.0       0.14      0.02      0.04       210\n",
      "         3.0       0.95      1.00      0.97      8651\n",
      "         4.0       1.00      0.00      0.01       213\n",
      "\n",
      "    accuracy                           0.95      9074\n",
      "   macro avg       0.70      0.34      0.34      9074\n",
      "weighted avg       0.94      0.95      0.93      9074\n",
      "\n"
     ]
    }
   ],
   "source": [
    "# MODELO CON EL CONJUNTO DE DATOS 1\n",
    "# -------------------------------------------------------------------\n",
    "rf1 = RandomForestClassifier().fit(trainX1, trainy1)\n",
    "y_pred1 = rf1.predict(testX1)\n",
    "confusion1 = confusion_matrix(testy1, y_pred1)\n",
    "print(\"Tasa de acierto en rf: {:.2f}\".format(rf1.score(testX1, testy1)))\n",
    "print(\"Tasa de aciertos balanceada regresión logística: {:.2f}\".format(balanced_accuracy_score(testy1, y_pred1)))\n",
    "print(\"Matriz de confusión:\\n{}\".format(confusion1))\n",
    "print(classification_report(testy1, y_pred1))"
   ]
  },
  {
   "cell_type": "code",
   "execution_count": 15,
   "metadata": {},
   "outputs": [
    {
     "name": "stdout",
     "output_type": "stream",
     "text": [
      "Tasa de acierto en regresión logística: 0.95\n",
      "Tasa de aciertos balanceada regresión logística: 0.34\n",
      "Matriz de confusión:\n",
      "[[   7  202    1]\n",
      " [  42 8591    8]\n",
      " [   2  209    1]]\n",
      "              precision    recall  f1-score   support\n",
      "\n",
      "         2.0       0.14      0.03      0.05       210\n",
      "         3.0       0.95      0.99      0.97      8641\n",
      "         4.0       0.10      0.00      0.01       212\n",
      "\n",
      "    accuracy                           0.95      9063\n",
      "   macro avg       0.40      0.34      0.35      9063\n",
      "weighted avg       0.92      0.95      0.93      9063\n",
      "\n"
     ]
    }
   ],
   "source": [
    "# MODELO CON EL CONJUNTO DE DATOS 2\n",
    "# -------------------------------------------------------------------\n",
    "rf2 = RandomForestClassifier().fit(trainX2, trainy2)\n",
    "y_pred2 = rf2.predict(testX2)\n",
    "confusion2 = confusion_matrix(testy2, y_pred2)\n",
    "print(\"Tasa de acierto en regresión logística: {:.2f}\".format(rf2.score(testX2, testy2)))\n",
    "print(\"Tasa de aciertos balanceada regresión logística: {:.2f}\".format(balanced_accuracy_score(testy2, y_pred2)))\n",
    "print(\"Matriz de confusión:\\n{}\".format(confusion2))\n",
    "print(classification_report(testy2, y_pred2))"
   ]
  },
  {
   "cell_type": "code",
   "execution_count": 16,
   "metadata": {},
   "outputs": [
    {
     "name": "stdout",
     "output_type": "stream",
     "text": [
      "Tasa de acierto en regresión logística: 0.95\n",
      "Tasa de aciertos balanceada regresión logística: 0.35\n",
      "Matriz de confusión:\n",
      "[[   9  200    1]\n",
      " [  16 8617    4]\n",
      " [   6  206    0]]\n",
      "              precision    recall  f1-score   support\n",
      "\n",
      "         2.0       0.29      0.04      0.07       210\n",
      "         3.0       0.96      1.00      0.98      8637\n",
      "         4.0       0.00      0.00      0.00       212\n",
      "\n",
      "    accuracy                           0.95      9059\n",
      "   macro avg       0.42      0.35      0.35      9059\n",
      "weighted avg       0.92      0.95      0.93      9059\n",
      "\n"
     ]
    }
   ],
   "source": [
    "# MODELO CON EL CONJUNTO DE DATOS 3\n",
    "# -------------------------------------------------------------------\n",
    "rf3 = RandomForestClassifier().fit(trainX3, trainy3)\n",
    "y_pred3 = rf3.predict(testX3)\n",
    "confusion3 = confusion_matrix(testy3, y_pred3)\n",
    "print(\"Tasa de acierto en regresión logística: {:.2f}\".format(rf3.score(testX3, testy3)))\n",
    "print(\"Tasa de aciertos balanceada regresión logística: {:.2f}\".format(balanced_accuracy_score(testy3, y_pred3)))\n",
    "print(\"Matriz de confusión:\\n{}\".format(confusion3))\n",
    "print(classification_report(testy3, y_pred3))"
   ]
  },
  {
   "cell_type": "markdown",
   "metadata": {},
   "source": [
    "### Experimento2: optimización bayesiana\n"
   ]
  },
  {
   "cell_type": "code",
   "execution_count": 17,
   "metadata": {},
   "outputs": [
    {
     "data": {
      "text/plain": [
       "{'criterion': 1,\n",
       " 'max_depth': 360.0,\n",
       " 'max_features': 2,\n",
       " 'min_samples_leaf': 0.11337380133900593,\n",
       " 'min_samples_split': 0.8112309798731149,\n",
       " 'n_estimators': 2}"
      ]
     },
     "execution_count": 17,
     "metadata": {},
     "output_type": "execute_result"
    }
   ],
   "source": [
    "# MODELO CON EL CONJUNTO DE DATOS 1\n",
    "# -------------------------------------------------------------------\n",
    "def objective1(params):\n",
    "   \n",
    "    random_forest = RandomForestClassifier(**params,n_jobs=-1).fit(trainX1, trainy1)\n",
    "    y_pred = random_forest.predict(testX1)\n",
    "    accuracy = random_forest.score(testX1, y_pred)\n",
    "    return {\"loss\": accuracy, \"status\": STATUS_OK}\n",
    "\n",
    "# Definimos los parámetros:\n",
    "param_space = {'criterion': hp.choice('criterion', ['entropy', 'gini']),\n",
    "        'max_depth': hp.quniform('max_depth', 10, 1200, 10),\n",
    "        'max_features': hp.choice('max_features', ['auto', 'sqrt','log2', None]),\n",
    "        'min_samples_leaf': hp.uniform('min_samples_leaf', 0, 0.5),\n",
    "        'min_samples_split' : hp.uniform ('min_samples_split', 0, 1),\n",
    "        'n_estimators' : hp.choice('n_estimators', [10, 50, 300, 750, 1200,1300,1500]) }\n",
    "\n",
    "tpe_algo = tpe.suggest\n",
    "trials = Trials()\n",
    "results = fmin(objective1,space=param_space,algo=tpe_algo,trials=trials,max_evals=100)\n",
    "results"
   ]
  },
  {
   "cell_type": "code",
   "execution_count": 19,
   "metadata": {},
   "outputs": [
    {
     "name": "stdout",
     "output_type": "stream",
     "text": [
      "Tasa de acierto en regresión logística: 0.95\n",
      "Tasa de aciertos balanceada regresión logística: 0.33\n",
      "Matriz de confusión:\n",
      "[[   0  210    0]\n",
      " [   0 8657    0]\n",
      " [   0  212    0]]\n",
      "              precision    recall  f1-score   support\n",
      "\n",
      "         2.0       0.00      0.00      0.00       210\n",
      "         3.0       0.95      1.00      0.98      8657\n",
      "         4.0       0.00      0.00      0.00       212\n",
      "\n",
      "    accuracy                           0.95      9079\n",
      "   macro avg       0.32      0.33      0.33      9079\n",
      "weighted avg       0.91      0.95      0.93      9079\n",
      "\n"
     ]
    },
    {
     "name": "stderr",
     "output_type": "stream",
     "text": [
      "C:\\Users\\SARA\\anaconda3\\lib\\site-packages\\sklearn\\metrics\\_classification.py:1245: UndefinedMetricWarning: Precision and F-score are ill-defined and being set to 0.0 in labels with no predicted samples. Use `zero_division` parameter to control this behavior.\n",
      "  _warn_prf(average, modifier, msg_start, len(result))\n",
      "C:\\Users\\SARA\\anaconda3\\lib\\site-packages\\sklearn\\metrics\\_classification.py:1245: UndefinedMetricWarning: Precision and F-score are ill-defined and being set to 0.0 in labels with no predicted samples. Use `zero_division` parameter to control this behavior.\n",
      "  _warn_prf(average, modifier, msg_start, len(result))\n",
      "C:\\Users\\SARA\\anaconda3\\lib\\site-packages\\sklearn\\metrics\\_classification.py:1245: UndefinedMetricWarning: Precision and F-score are ill-defined and being set to 0.0 in labels with no predicted samples. Use `zero_division` parameter to control this behavior.\n",
      "  _warn_prf(average, modifier, msg_start, len(result))\n"
     ]
    }
   ],
   "source": [
    "rfob1 = RandomForestClassifier(criterion='gini', max_depth=360, max_features = 'log2',min_samples_leaf =0.11337380133900593,\n",
    "                               min_samples_split =0.8112309798731149,n_estimators = 300).fit(trainX1,trainy1)\n",
    "y_pred1 = rfob1.predict(testX1)\n",
    "confusion1 = confusion_matrix(testy1, y_pred1)\n",
    "print(\"Tasa de acierto en regresión logística: {:.2f}\".format(rfob1.score(testX1, testy1)))\n",
    "print(\"Tasa de aciertos balanceada regresión logística: {:.2f}\".format(balanced_accuracy_score(testy1, y_pred1)))\n",
    "print(\"Matriz de confusión:\\n{}\".format(confusion1))\n",
    "print(classification_report(testy1, y_pred1))"
   ]
  },
  {
   "cell_type": "code",
   "execution_count": 19,
   "metadata": {
    "scrolled": true
   },
   "outputs": [
    {
     "data": {
      "text/plain": [
       "{'criterion': 1,\n",
       " 'max_depth': 40.0,\n",
       " 'max_features': 3,\n",
       " 'min_samples_leaf': 0.3286876772165932,\n",
       " 'min_samples_split': 0.8727618747025834,\n",
       " 'n_estimators': 5}"
      ]
     },
     "execution_count": 19,
     "metadata": {},
     "output_type": "execute_result"
    }
   ],
   "source": [
    "# MODELO CON EL CONJUNTO DE DATOS 2\n",
    "# -------------------------------------------------------------------\n",
    "def objective1(params):\n",
    "   \n",
    "    random_forest = RandomForestClassifier(**params,n_jobs=-1).fit(trainX2, trainy2)\n",
    "    y_pred = random_forest.predict(testX2)\n",
    "    accuracy = random_forest.score(testX2, y_pred)\n",
    "    return {\"loss\": accuracy, \"status\": STATUS_OK}\n",
    "\n",
    "# Definimos los parámetros:\n",
    "param_space = {'criterion': hp.choice('criterion', ['entropy', 'gini']),\n",
    "        'max_depth': hp.quniform('max_depth', 10, 1200, 10),\n",
    "        'max_features': hp.choice('max_features', ['auto', 'sqrt','log2', None]),\n",
    "        'min_samples_leaf': hp.uniform('min_samples_leaf', 0, 0.5),\n",
    "        'min_samples_split' : hp.uniform ('min_samples_split', 0, 1),\n",
    "        'n_estimators' : hp.choice('n_estimators', [10, 50, 300, 750, 1200,1300,1500]) }\n",
    "\n",
    "tpe_algo = tpe.suggest\n",
    "trials = Trials()\n",
    "results = fmin(objective1,space=param_space,algo=tpe_algo,trials=trials,max_evals=100)\n",
    "results"
   ]
  },
  {
   "cell_type": "code",
   "execution_count": 21,
   "metadata": {},
   "outputs": [
    {
     "name": "stdout",
     "output_type": "stream",
     "text": [
      "Tasa de acierto en regresión logística: 0.95\n",
      "Tasa de aciertos balanceada regresión logística: 0.33\n",
      "Matriz de confusión:\n",
      "[[   0  210    0]\n",
      " [   0 8646    0]\n",
      " [   0  212    0]]\n",
      "              precision    recall  f1-score   support\n",
      "\n",
      "         2.0       0.00      0.00      0.00       210\n",
      "         3.0       0.95      1.00      0.98      8646\n",
      "         4.0       0.00      0.00      0.00       212\n",
      "\n",
      "    accuracy                           0.95      9068\n",
      "   macro avg       0.32      0.33      0.33      9068\n",
      "weighted avg       0.91      0.95      0.93      9068\n",
      "\n"
     ]
    },
    {
     "name": "stderr",
     "output_type": "stream",
     "text": [
      "C:\\Users\\SARA\\anaconda3\\lib\\site-packages\\sklearn\\metrics\\_classification.py:1245: UndefinedMetricWarning: Precision and F-score are ill-defined and being set to 0.0 in labels with no predicted samples. Use `zero_division` parameter to control this behavior.\n",
      "  _warn_prf(average, modifier, msg_start, len(result))\n",
      "C:\\Users\\SARA\\anaconda3\\lib\\site-packages\\sklearn\\metrics\\_classification.py:1245: UndefinedMetricWarning: Precision and F-score are ill-defined and being set to 0.0 in labels with no predicted samples. Use `zero_division` parameter to control this behavior.\n",
      "  _warn_prf(average, modifier, msg_start, len(result))\n",
      "C:\\Users\\SARA\\anaconda3\\lib\\site-packages\\sklearn\\metrics\\_classification.py:1245: UndefinedMetricWarning: Precision and F-score are ill-defined and being set to 0.0 in labels with no predicted samples. Use `zero_division` parameter to control this behavior.\n",
      "  _warn_prf(average, modifier, msg_start, len(result))\n"
     ]
    }
   ],
   "source": [
    "rfob2 = RandomForestClassifier(criterion='gini', max_depth=40, max_features = None,min_samples_leaf = 0.3286876772165932,\n",
    "                               min_samples_split = 0.8727618747025834,n_estimators = 1300).fit(trainX2,trainy2)\n",
    "y_pred2 = rfob2.predict(testX2)\n",
    "confusion2 = confusion_matrix(testy2, y_pred2)\n",
    "print(\"Tasa de acierto en regresión logística: {:.2f}\".format(rfob2.score(testX2, testy2)))\n",
    "print(\"Tasa de aciertos balanceada regresión logística: {:.2f}\".format(balanced_accuracy_score(testy2, y_pred2)))\n",
    "print(\"Matriz de confusión:\\n{}\".format(confusion2))\n",
    "print(classification_report(testy2, y_pred2))"
   ]
  },
  {
   "cell_type": "code",
   "execution_count": 21,
   "metadata": {},
   "outputs": [
    {
     "data": {
      "text/plain": [
       "{'criterion': 1,\n",
       " 'max_depth': 1090.0,\n",
       " 'max_features': 1,\n",
       " 'min_samples_leaf': 0.16646180161308682,\n",
       " 'min_samples_split': 0.4132313262705457,\n",
       " 'n_estimators': 0}"
      ]
     },
     "execution_count": 21,
     "metadata": {},
     "output_type": "execute_result"
    }
   ],
   "source": [
    "# MODELO CON EL CONJUNTO DE DATOS 3\n",
    "# -------------------------------------------------------------------\n",
    "def objective1(params):\n",
    "   \n",
    "    random_forest = RandomForestClassifier(**params,n_jobs=-1).fit(trainX3, trainy3)\n",
    "    y_pred = random_forest.predict(testX3)\n",
    "    accuracy = random_forest.score(testX3, y_pred)\n",
    "    return {\"loss\": accuracy, \"status\": STATUS_OK}\n",
    "\n",
    "# Definimos los parámetros:\n",
    "param_space = {'criterion': hp.choice('criterion', ['entropy', 'gini']),\n",
    "        'max_depth': hp.quniform('max_depth', 10, 1200, 10),\n",
    "        'max_features': hp.choice('max_features', ['auto', 'sqrt','log2', None]),\n",
    "        'min_samples_leaf': hp.uniform('min_samples_leaf', 0, 0.5),\n",
    "        'min_samples_split' : hp.uniform ('min_samples_split', 0, 1),\n",
    "        'n_estimators' : hp.choice('n_estimators', [10, 50, 300, 750, 1200,1300,1500]) }\n",
    "\n",
    "tpe_algo = tpe.suggest\n",
    "trials = Trials()\n",
    "results = fmin(objective1,space=param_space,algo=tpe_algo,trials=trials,max_evals=100)\n",
    "results"
   ]
  },
  {
   "cell_type": "code",
   "execution_count": 22,
   "metadata": {},
   "outputs": [
    {
     "name": "stdout",
     "output_type": "stream",
     "text": [
      "Tasa de acierto en regresión logística: 0.95\n",
      "Tasa de aciertos balanceada regresión logística: 0.33\n",
      "Matriz de confusión:\n",
      "[[   0  210    0]\n",
      " [   0 8642    0]\n",
      " [   0  212    0]]\n",
      "              precision    recall  f1-score   support\n",
      "\n",
      "         2.0       0.00      0.00      0.00       210\n",
      "         3.0       0.95      1.00      0.98      8642\n",
      "         4.0       0.00      0.00      0.00       212\n",
      "\n",
      "    accuracy                           0.95      9064\n",
      "   macro avg       0.32      0.33      0.33      9064\n",
      "weighted avg       0.91      0.95      0.93      9064\n",
      "\n"
     ]
    },
    {
     "name": "stderr",
     "output_type": "stream",
     "text": [
      "C:\\Users\\SARA\\anaconda3\\lib\\site-packages\\sklearn\\metrics\\_classification.py:1245: UndefinedMetricWarning: Precision and F-score are ill-defined and being set to 0.0 in labels with no predicted samples. Use `zero_division` parameter to control this behavior.\n",
      "  _warn_prf(average, modifier, msg_start, len(result))\n",
      "C:\\Users\\SARA\\anaconda3\\lib\\site-packages\\sklearn\\metrics\\_classification.py:1245: UndefinedMetricWarning: Precision and F-score are ill-defined and being set to 0.0 in labels with no predicted samples. Use `zero_division` parameter to control this behavior.\n",
      "  _warn_prf(average, modifier, msg_start, len(result))\n",
      "C:\\Users\\SARA\\anaconda3\\lib\\site-packages\\sklearn\\metrics\\_classification.py:1245: UndefinedMetricWarning: Precision and F-score are ill-defined and being set to 0.0 in labels with no predicted samples. Use `zero_division` parameter to control this behavior.\n",
      "  _warn_prf(average, modifier, msg_start, len(result))\n"
     ]
    }
   ],
   "source": [
    "rfob3 = RandomForestClassifier(criterion='gini', max_depth=1090, max_features = 'sqrt',min_samples_leaf = 0.16646180161308682,\n",
    "                               min_samples_split = 0.4132313262705457,n_estimators = 10).fit(trainX3,trainy3)\n",
    "y_pred3 = rfob3.predict(testX3)\n",
    "confusion3 = confusion_matrix(testy3, y_pred3)\n",
    "print(\"Tasa de acierto en regresión logística: {:.2f}\".format(rfob3.score(testX3, testy3)))\n",
    "print(\"Tasa de aciertos balanceada regresión logística: {:.2f}\".format(balanced_accuracy_score(testy3, y_pred3)))\n",
    "print(\"Matriz de confusión:\\n{}\".format(confusion3))\n",
    "print(classification_report(testy3, y_pred3))"
   ]
  },
  {
   "cell_type": "markdown",
   "metadata": {},
   "source": [
    " "
   ]
  },
  {
   "cell_type": "markdown",
   "metadata": {},
   "source": [
    "# 5 dias"
   ]
  },
  {
   "cell_type": "code",
   "execution_count": 24,
   "metadata": {},
   "outputs": [],
   "source": [
    "run 5dias-porintervalos2.ipynb"
   ]
  },
  {
   "cell_type": "markdown",
   "metadata": {},
   "source": [
    "### EXPERIMENTO 1: MODELO BASE"
   ]
  },
  {
   "cell_type": "code",
   "execution_count": 24,
   "metadata": {
    "scrolled": true
   },
   "outputs": [
    {
     "name": "stdout",
     "output_type": "stream",
     "text": [
      "Tasa de acierto en rf: 0.43\n",
      "Tasa de aciertos balanceada regresión logística: 0.37\n",
      "Matriz de confusión:\n",
      "[[ 8 17  0  6  1]\n",
      " [16 75 12 20  4]\n",
      " [ 5 22 10 39  4]\n",
      " [ 0  6 12 60 28]\n",
      " [ 4  3  1 14 11]]\n",
      "              precision    recall  f1-score   support\n",
      "\n",
      "         1.0       0.24      0.25      0.25        32\n",
      "         2.0       0.61      0.59      0.60       127\n",
      "         3.0       0.29      0.12      0.17        80\n",
      "         4.0       0.43      0.57      0.49       106\n",
      "         5.0       0.23      0.33      0.27        33\n",
      "\n",
      "    accuracy                           0.43       378\n",
      "   macro avg       0.36      0.37      0.36       378\n",
      "weighted avg       0.43      0.43      0.42       378\n",
      "\n"
     ]
    }
   ],
   "source": [
    "# MODELO CON EL CONJUNTO DE DATOS 1\n",
    "# -------------------------------------------------------------------\n",
    "rf1 = RandomForestClassifier().fit(trainX1, trainy1)\n",
    "y_pred1 = rf1.predict(testX1)\n",
    "confusion1 = confusion_matrix(testy1, y_pred1)\n",
    "print(\"Tasa de acierto en rf: {:.2f}\".format(rf1.score(testX1, testy1)))\n",
    "print(\"Tasa de aciertos balanceada regresión logística: {:.2f}\".format(balanced_accuracy_score(testy1, y_pred1)))\n",
    "print(\"Matriz de confusión:\\n{}\".format(confusion1))\n",
    "print(classification_report(testy1, y_pred1))"
   ]
  },
  {
   "cell_type": "code",
   "execution_count": 25,
   "metadata": {},
   "outputs": [
    {
     "name": "stdout",
     "output_type": "stream",
     "text": [
      "Tasa de acierto en regresión logística: 0.34\n",
      "Tasa de aciertos balanceada regresión logística: 0.33\n",
      "Matriz de confusión:\n",
      "[[ 7 16  0  6  3]\n",
      " [26 56 11 21 13]\n",
      " [12 13  1 42 11]\n",
      " [ 6  5  5 46 36]\n",
      " [ 4  2  1  9 15]]\n",
      "              precision    recall  f1-score   support\n",
      "\n",
      "         1.0       0.13      0.22      0.16        32\n",
      "         2.0       0.61      0.44      0.51       127\n",
      "         3.0       0.06      0.01      0.02        79\n",
      "         4.0       0.37      0.47      0.41        98\n",
      "         5.0       0.19      0.48      0.28        31\n",
      "\n",
      "    accuracy                           0.34       367\n",
      "   macro avg       0.27      0.33      0.28       367\n",
      "weighted avg       0.35      0.34      0.33       367\n",
      "\n"
     ]
    }
   ],
   "source": [
    "# MODELO CON EL CONJUNTO DE DATOS 2\n",
    "# -------------------------------------------------------------------\n",
    "rf2 = RandomForestClassifier().fit(trainX2, trainy2)\n",
    "y_pred2 = rf2.predict(testX2)\n",
    "confusion2 = confusion_matrix(testy2, y_pred2)\n",
    "print(\"Tasa de acierto en regresión logística: {:.2f}\".format(rf2.score(testX2, testy2)))\n",
    "print(\"Tasa de aciertos balanceada regresión logística: {:.2f}\".format(balanced_accuracy_score(testy2, y_pred2)))\n",
    "print(\"Matriz de confusión:\\n{}\".format(confusion2))\n",
    "print(classification_report(testy2, y_pred2))"
   ]
  },
  {
   "cell_type": "code",
   "execution_count": 26,
   "metadata": {},
   "outputs": [
    {
     "name": "stdout",
     "output_type": "stream",
     "text": [
      "Tasa de acierto en regresión logística: 0.37\n",
      "Tasa de aciertos balanceada regresión logística: 0.36\n",
      "Matriz de confusión:\n",
      "[[ 9 17  0  6  0]\n",
      " [30 59  3 27  8]\n",
      " [10 24  5 28 10]\n",
      " [ 7  8  1 46 35]\n",
      " [ 4  0  1 10 15]]\n",
      "              precision    recall  f1-score   support\n",
      "\n",
      "         1.0       0.15      0.28      0.20        32\n",
      "         2.0       0.55      0.46      0.50       127\n",
      "         3.0       0.50      0.06      0.11        77\n",
      "         4.0       0.39      0.47      0.43        97\n",
      "         5.0       0.22      0.50      0.31        30\n",
      "\n",
      "    accuracy                           0.37       363\n",
      "   macro avg       0.36      0.36      0.31       363\n",
      "weighted avg       0.43      0.37      0.36       363\n",
      "\n"
     ]
    }
   ],
   "source": [
    "# MODELO CON EL CONJUNTO DE DATOS 3\n",
    "# -------------------------------------------------------------------\n",
    "rf3 = RandomForestClassifier().fit(trainX3, trainy3)\n",
    "y_pred3 = rf3.predict(testX3)\n",
    "confusion3 = confusion_matrix(testy3, y_pred3)\n",
    "print(\"Tasa de acierto en regresión logística: {:.2f}\".format(rf3.score(testX3, testy3)))\n",
    "print(\"Tasa de aciertos balanceada regresión logística: {:.2f}\".format(balanced_accuracy_score(testy3, y_pred3)))\n",
    "print(\"Matriz de confusión:\\n{}\".format(confusion3))\n",
    "print(classification_report(testy3, y_pred3))"
   ]
  },
  {
   "cell_type": "markdown",
   "metadata": {},
   "source": [
    "### Experimento2: optimización bayesiana\n"
   ]
  },
  {
   "cell_type": "code",
   "execution_count": 27,
   "metadata": {},
   "outputs": [
    {
     "data": {
      "text/plain": [
       "{'criterion': 1,\n",
       " 'max_depth': 630.0,\n",
       " 'max_features': 3,\n",
       " 'min_samples_leaf': 0.242059357837964,\n",
       " 'min_samples_split': 0.18123867401652227,\n",
       " 'n_estimators': 2}"
      ]
     },
     "execution_count": 27,
     "metadata": {},
     "output_type": "execute_result"
    }
   ],
   "source": [
    "# MODELO CON EL CONJUNTO DE DATOS 1\n",
    "# -------------------------------------------------------------------\n",
    "def objective1(params):\n",
    "   \n",
    "    random_forest = RandomForestClassifier(**params,n_jobs=-1).fit(trainX1, trainy1)\n",
    "    y_pred = random_forest.predict(testX1)\n",
    "    accuracy = random_forest.score(testX1, y_pred)\n",
    "    return {\"loss\": accuracy, \"status\": STATUS_OK}\n",
    "\n",
    "# Definimos los parámetros:\n",
    "param_space = {'criterion': hp.choice('criterion', ['entropy', 'gini']),\n",
    "        'max_depth': hp.quniform('max_depth', 10, 1200, 10),\n",
    "        'max_features': hp.choice('max_features', ['auto', 'sqrt','log2', None]),\n",
    "        'min_samples_leaf': hp.uniform('min_samples_leaf', 0, 0.5),\n",
    "        'min_samples_split' : hp.uniform ('min_samples_split', 0, 1),\n",
    "        'n_estimators' : hp.choice('n_estimators', [10, 50, 300, 750, 1200,1300,1500]) }\n",
    "\n",
    "tpe_algo = tpe.suggest\n",
    "trials = Trials()\n",
    "results = fmin(objective1,space=param_space,algo=tpe_algo,trials=trials,max_evals=100)\n",
    "results"
   ]
  },
  {
   "cell_type": "code",
   "execution_count": 25,
   "metadata": {},
   "outputs": [
    {
     "name": "stdout",
     "output_type": "stream",
     "text": [
      "Tasa de acierto en regresión logística: 0.50\n",
      "Tasa de aciertos balanceada regresión logística: 0.32\n",
      "Matriz de confusión:\n",
      "[[  0  32   0   0   0]\n",
      " [  0 102   0  25   0]\n",
      " [  0  51   0  30   0]\n",
      " [  0  19   0  86   0]\n",
      " [  0   8   0  25   0]]\n",
      "              precision    recall  f1-score   support\n",
      "\n",
      "         1.0       0.00      0.00      0.00        32\n",
      "         2.0       0.48      0.80      0.60       127\n",
      "         3.0       0.00      0.00      0.00        81\n",
      "         4.0       0.52      0.82      0.63       105\n",
      "         5.0       0.00      0.00      0.00        33\n",
      "\n",
      "    accuracy                           0.50       378\n",
      "   macro avg       0.20      0.32      0.25       378\n",
      "weighted avg       0.31      0.50      0.38       378\n",
      "\n"
     ]
    },
    {
     "name": "stderr",
     "output_type": "stream",
     "text": [
      "C:\\Users\\SARA\\anaconda3\\lib\\site-packages\\sklearn\\metrics\\_classification.py:1245: UndefinedMetricWarning: Precision and F-score are ill-defined and being set to 0.0 in labels with no predicted samples. Use `zero_division` parameter to control this behavior.\n",
      "  _warn_prf(average, modifier, msg_start, len(result))\n",
      "C:\\Users\\SARA\\anaconda3\\lib\\site-packages\\sklearn\\metrics\\_classification.py:1245: UndefinedMetricWarning: Precision and F-score are ill-defined and being set to 0.0 in labels with no predicted samples. Use `zero_division` parameter to control this behavior.\n",
      "  _warn_prf(average, modifier, msg_start, len(result))\n",
      "C:\\Users\\SARA\\anaconda3\\lib\\site-packages\\sklearn\\metrics\\_classification.py:1245: UndefinedMetricWarning: Precision and F-score are ill-defined and being set to 0.0 in labels with no predicted samples. Use `zero_division` parameter to control this behavior.\n",
      "  _warn_prf(average, modifier, msg_start, len(result))\n"
     ]
    }
   ],
   "source": [
    "rfob1 = RandomForestClassifier(criterion='gini', max_depth=630, max_features = None,min_samples_leaf = 0.242059357837964,\n",
    "                               min_samples_split = 0.18123867401652227,n_estimators = 300).fit(trainX1,trainy1)\n",
    "y_pred1 = rfob1.predict(testX1)\n",
    "confusion1 = confusion_matrix(testy1, y_pred1)\n",
    "print(\"Tasa de acierto en regresión logística: {:.2f}\".format(rfob1.score(testX1, testy1)))\n",
    "print(\"Tasa de aciertos balanceada regresión logística: {:.2f}\".format(balanced_accuracy_score(testy1, y_pred1)))\n",
    "print(\"Matriz de confusión:\\n{}\".format(confusion1))\n",
    "print(classification_report(testy1, y_pred1))"
   ]
  },
  {
   "cell_type": "code",
   "execution_count": 29,
   "metadata": {
    "scrolled": true
   },
   "outputs": [
    {
     "data": {
      "text/plain": [
       "{'criterion': 0,\n",
       " 'max_depth': 940.0,\n",
       " 'max_features': 0,\n",
       " 'min_samples_leaf': 0.04465224698537851,\n",
       " 'min_samples_split': 0.08760920085836077,\n",
       " 'n_estimators': 5}"
      ]
     },
     "execution_count": 29,
     "metadata": {},
     "output_type": "execute_result"
    }
   ],
   "source": [
    "# MODELO CON EL CONJUNTO DE DATOS 2\n",
    "# -------------------------------------------------------------------\n",
    "def objective1(params):\n",
    "   \n",
    "    random_forest = RandomForestClassifier(**params,n_jobs=-1).fit(trainX2, trainy2)\n",
    "    y_pred = random_forest.predict(testX2)\n",
    "    accuracy = random_forest.score(testX2, y_pred)\n",
    "    return {\"loss\": accuracy, \"status\": STATUS_OK}\n",
    "\n",
    "# Definimos los parámetros:\n",
    "param_space = {'criterion': hp.choice('criterion', ['entropy', 'gini']),\n",
    "        'max_depth': hp.quniform('max_depth', 10, 1200, 10),\n",
    "        'max_features': hp.choice('max_features', ['auto', 'sqrt','log2', None]),\n",
    "        'min_samples_leaf': hp.uniform('min_samples_leaf', 0, 0.5),\n",
    "        'min_samples_split' : hp.uniform ('min_samples_split', 0, 1),\n",
    "        'n_estimators' : hp.choice('n_estimators', [10, 50, 300, 750, 1200,1300,1500]) }\n",
    "\n",
    "tpe_algo = tpe.suggest\n",
    "trials = Trials()\n",
    "results = fmin(objective1,space=param_space,algo=tpe_algo,trials=trials,max_evals=100)\n",
    "results"
   ]
  },
  {
   "cell_type": "code",
   "execution_count": 26,
   "metadata": {},
   "outputs": [
    {
     "name": "stdout",
     "output_type": "stream",
     "text": [
      "Tasa de acierto en regresión logística: 0.40\n",
      "Tasa de aciertos balanceada regresión logística: 0.34\n",
      "Matriz de confusión:\n",
      "[[ 4 24  0  4  0]\n",
      " [10 75  0 32 10]\n",
      " [ 5 32  0 35  8]\n",
      " [ 0 13  0 56 28]\n",
      " [ 0  4  0 15 12]]\n",
      "              precision    recall  f1-score   support\n",
      "\n",
      "         1.0       0.21      0.12      0.16        32\n",
      "         2.0       0.51      0.59      0.55       127\n",
      "         3.0       0.00      0.00      0.00        80\n",
      "         4.0       0.39      0.58      0.47        97\n",
      "         5.0       0.21      0.39      0.27        31\n",
      "\n",
      "    accuracy                           0.40       367\n",
      "   macro avg       0.26      0.34      0.29       367\n",
      "weighted avg       0.32      0.40      0.35       367\n",
      "\n"
     ]
    },
    {
     "name": "stderr",
     "output_type": "stream",
     "text": [
      "C:\\Users\\SARA\\anaconda3\\lib\\site-packages\\sklearn\\metrics\\_classification.py:1245: UndefinedMetricWarning: Precision and F-score are ill-defined and being set to 0.0 in labels with no predicted samples. Use `zero_division` parameter to control this behavior.\n",
      "  _warn_prf(average, modifier, msg_start, len(result))\n",
      "C:\\Users\\SARA\\anaconda3\\lib\\site-packages\\sklearn\\metrics\\_classification.py:1245: UndefinedMetricWarning: Precision and F-score are ill-defined and being set to 0.0 in labels with no predicted samples. Use `zero_division` parameter to control this behavior.\n",
      "  _warn_prf(average, modifier, msg_start, len(result))\n",
      "C:\\Users\\SARA\\anaconda3\\lib\\site-packages\\sklearn\\metrics\\_classification.py:1245: UndefinedMetricWarning: Precision and F-score are ill-defined and being set to 0.0 in labels with no predicted samples. Use `zero_division` parameter to control this behavior.\n",
      "  _warn_prf(average, modifier, msg_start, len(result))\n"
     ]
    }
   ],
   "source": [
    "rfob2 = RandomForestClassifier(criterion='entropy', max_depth=940, max_features = 'auto',min_samples_leaf = 0.04465224698537851,\n",
    "                               min_samples_split =0.08760920085836077,n_estimators = 1300).fit(trainX2,trainy2)\n",
    "y_pred2 = rfob2.predict(testX2)\n",
    "confusion2 = confusion_matrix(testy2, y_pred2)\n",
    "print(\"Tasa de acierto en regresión logística: {:.2f}\".format(rfob2.score(testX2, testy2)))\n",
    "print(\"Tasa de aciertos balanceada regresión logística: {:.2f}\".format(balanced_accuracy_score(testy2, y_pred2)))\n",
    "print(\"Matriz de confusión:\\n{}\".format(confusion2))\n",
    "print(classification_report(testy2, y_pred2))"
   ]
  },
  {
   "cell_type": "code",
   "execution_count": 31,
   "metadata": {},
   "outputs": [
    {
     "data": {
      "text/plain": [
       "{'criterion': 0,\n",
       " 'max_depth': 930.0,\n",
       " 'max_features': 1,\n",
       " 'min_samples_leaf': 0.20016706685532965,\n",
       " 'min_samples_split': 0.9791952799129228,\n",
       " 'n_estimators': 3}"
      ]
     },
     "execution_count": 31,
     "metadata": {},
     "output_type": "execute_result"
    }
   ],
   "source": [
    "# MODELO CON EL CONJUNTO DE DATOS 3\n",
    "# -------------------------------------------------------------------\n",
    "def objective1(params):\n",
    "   \n",
    "    random_forest = RandomForestClassifier(**params,n_jobs=-1).fit(trainX3, trainy3)\n",
    "    y_pred = random_forest.predict(testX3)\n",
    "    accuracy = random_forest.score(testX3, y_pred)\n",
    "    return {\"loss\": accuracy, \"status\": STATUS_OK}\n",
    "\n",
    "# Definimos los parámetros:\n",
    "param_space = {'criterion': hp.choice('criterion', ['entropy', 'gini']),\n",
    "        'max_depth': hp.quniform('max_depth', 10, 1200, 10),\n",
    "        'max_features': hp.choice('max_features', ['auto', 'sqrt','log2', None]),\n",
    "        'min_samples_leaf': hp.uniform('min_samples_leaf', 0, 0.5),\n",
    "        'min_samples_split' : hp.uniform ('min_samples_split', 0, 1),\n",
    "        'n_estimators' : hp.choice('n_estimators', [10, 50, 300, 750, 1200,1300,1500]) }\n",
    "\n",
    "tpe_algo = tpe.suggest\n",
    "trials = Trials()\n",
    "results = fmin(objective1,space=param_space,algo=tpe_algo,trials=trials,max_evals=100)\n",
    "results"
   ]
  },
  {
   "cell_type": "code",
   "execution_count": 27,
   "metadata": {},
   "outputs": [
    {
     "name": "stdout",
     "output_type": "stream",
     "text": [
      "Tasa de acierto en regresión logística: 0.27\n",
      "Tasa de aciertos balanceada regresión logística: 0.20\n",
      "Matriz de confusión:\n",
      "[[  0   0   0  32   0]\n",
      " [  0   0   0 126   0]\n",
      " [  0   0   0  77   0]\n",
      " [  0   0   0  97   0]\n",
      " [  0   0   0  31   0]]\n",
      "              precision    recall  f1-score   support\n",
      "\n",
      "         1.0       0.00      0.00      0.00        32\n",
      "         2.0       0.00      0.00      0.00       126\n",
      "         3.0       0.00      0.00      0.00        77\n",
      "         4.0       0.27      1.00      0.42        97\n",
      "         5.0       0.00      0.00      0.00        31\n",
      "\n",
      "    accuracy                           0.27       363\n",
      "   macro avg       0.05      0.20      0.08       363\n",
      "weighted avg       0.07      0.27      0.11       363\n",
      "\n"
     ]
    },
    {
     "name": "stderr",
     "output_type": "stream",
     "text": [
      "C:\\Users\\SARA\\anaconda3\\lib\\site-packages\\sklearn\\metrics\\_classification.py:1245: UndefinedMetricWarning: Precision and F-score are ill-defined and being set to 0.0 in labels with no predicted samples. Use `zero_division` parameter to control this behavior.\n",
      "  _warn_prf(average, modifier, msg_start, len(result))\n",
      "C:\\Users\\SARA\\anaconda3\\lib\\site-packages\\sklearn\\metrics\\_classification.py:1245: UndefinedMetricWarning: Precision and F-score are ill-defined and being set to 0.0 in labels with no predicted samples. Use `zero_division` parameter to control this behavior.\n",
      "  _warn_prf(average, modifier, msg_start, len(result))\n",
      "C:\\Users\\SARA\\anaconda3\\lib\\site-packages\\sklearn\\metrics\\_classification.py:1245: UndefinedMetricWarning: Precision and F-score are ill-defined and being set to 0.0 in labels with no predicted samples. Use `zero_division` parameter to control this behavior.\n",
      "  _warn_prf(average, modifier, msg_start, len(result))\n"
     ]
    }
   ],
   "source": [
    "rfob3 = RandomForestClassifier(criterion='entropy', max_depth=930, max_features = 'sqrt',min_samples_leaf = 0.20016706685532965,\n",
    "                               min_samples_split =0.9791952799129228,n_estimators = 750).fit(trainX3,trainy3)\n",
    "y_pred3 = rfob3.predict(testX3)\n",
    "confusion3 = confusion_matrix(testy3, y_pred3)\n",
    "print(\"Tasa de acierto en regresión logística: {:.2f}\".format(rfob3.score(testX3, testy3)))\n",
    "print(\"Tasa de aciertos balanceada regresión logística: {:.2f}\".format(balanced_accuracy_score(testy3, y_pred3)))\n",
    "print(\"Matriz de confusión:\\n{}\".format(confusion3))\n",
    "print(classification_report(testy3, y_pred3))"
   ]
  },
  {
   "cell_type": "code",
   "execution_count": null,
   "metadata": {},
   "outputs": [],
   "source": []
  },
  {
   "cell_type": "markdown",
   "metadata": {},
   "source": [
    "# 10 dias"
   ]
  },
  {
   "cell_type": "code",
   "execution_count": 28,
   "metadata": {},
   "outputs": [],
   "source": [
    "run 10dias-porintervalos2.ipynb"
   ]
  },
  {
   "cell_type": "markdown",
   "metadata": {},
   "source": [
    "### EXPERIMENTO 1: MODELO BASE"
   ]
  },
  {
   "cell_type": "code",
   "execution_count": 34,
   "metadata": {
    "scrolled": true
   },
   "outputs": [
    {
     "name": "stdout",
     "output_type": "stream",
     "text": [
      "Tasa de acierto en rf: 0.42\n",
      "Tasa de aciertos balanceada regresión logística: 0.41\n",
      "Matriz de confusión:\n",
      "[[38 38  0  1  0]\n",
      " [26 58  7  5  4]\n",
      " [ 4 21  4 14 16]\n",
      " [ 0  8  1 22 56]\n",
      " [ 1  5  2 10 36]]\n",
      "              precision    recall  f1-score   support\n",
      "\n",
      "         1.0       0.55      0.49      0.52        77\n",
      "         2.0       0.45      0.58      0.50       100\n",
      "         3.0       0.29      0.07      0.11        59\n",
      "         4.0       0.42      0.25      0.32        87\n",
      "         5.0       0.32      0.67      0.43        54\n",
      "\n",
      "    accuracy                           0.42       377\n",
      "   macro avg       0.41      0.41      0.38       377\n",
      "weighted avg       0.42      0.42      0.39       377\n",
      "\n"
     ]
    }
   ],
   "source": [
    "# MODELO CON EL CONJUNTO DE DATOS 1\n",
    "# -------------------------------------------------------------------\n",
    "rf1 = RandomForestClassifier().fit(trainX1, trainy1)\n",
    "y_pred1 = rf1.predict(testX1)\n",
    "confusion1 = confusion_matrix(testy1, y_pred1)\n",
    "print(\"Tasa de acierto en rf: {:.2f}\".format(rf1.score(testX1, testy1)))\n",
    "print(\"Tasa de aciertos balanceada regresión logística: {:.2f}\".format(balanced_accuracy_score(testy1, y_pred1)))\n",
    "print(\"Matriz de confusión:\\n{}\".format(confusion1))\n",
    "print(classification_report(testy1, y_pred1))"
   ]
  },
  {
   "cell_type": "code",
   "execution_count": 35,
   "metadata": {},
   "outputs": [
    {
     "name": "stdout",
     "output_type": "stream",
     "text": [
      "Tasa de acierto en regresión logística: 0.40\n",
      "Tasa de aciertos balanceada regresión logística: 0.40\n",
      "Matriz de confusión:\n",
      "[[30 39  0  1  7]\n",
      " [18 57  1  8 16]\n",
      " [ 7 17  0  8 26]\n",
      " [ 2  7  0 24 53]\n",
      " [ 3  3  0  4 35]]\n",
      "              precision    recall  f1-score   support\n",
      "\n",
      "         1.0       0.50      0.39      0.44        77\n",
      "         2.0       0.46      0.57      0.51       100\n",
      "         3.0       0.00      0.00      0.00        58\n",
      "         4.0       0.53      0.28      0.37        86\n",
      "         5.0       0.26      0.78      0.38        45\n",
      "\n",
      "    accuracy                           0.40       366\n",
      "   macro avg       0.35      0.40      0.34       366\n",
      "weighted avg       0.39      0.40      0.37       366\n",
      "\n"
     ]
    }
   ],
   "source": [
    "# MODELO CON EL CONJUNTO DE DATOS 2\n",
    "# -------------------------------------------------------------------\n",
    "rf2 = RandomForestClassifier().fit(trainX2, trainy2)\n",
    "y_pred2 = rf2.predict(testX2)\n",
    "confusion2 = confusion_matrix(testy2, y_pred2)\n",
    "print(\"Tasa de acierto en regresión logística: {:.2f}\".format(rf2.score(testX2, testy2)))\n",
    "print(\"Tasa de aciertos balanceada regresión logística: {:.2f}\".format(balanced_accuracy_score(testy2, y_pred2)))\n",
    "print(\"Matriz de confusión:\\n{}\".format(confusion2))\n",
    "print(classification_report(testy2, y_pred2))"
   ]
  },
  {
   "cell_type": "code",
   "execution_count": 36,
   "metadata": {},
   "outputs": [
    {
     "name": "stdout",
     "output_type": "stream",
     "text": [
      "Tasa de acierto en regresión logística: 0.37\n",
      "Tasa de aciertos balanceada regresión logística: 0.39\n",
      "Matriz de confusión:\n",
      "[[29 45  2  1  0]\n",
      " [22 48  1  6 23]\n",
      " [ 5 15  1  7 29]\n",
      " [ 1  5  1 16 60]\n",
      " [ 3  1  0  2 39]]\n",
      "              precision    recall  f1-score   support\n",
      "\n",
      "         1.0       0.48      0.38      0.42        77\n",
      "         2.0       0.42      0.48      0.45       100\n",
      "         3.0       0.20      0.02      0.03        57\n",
      "         4.0       0.50      0.19      0.28        83\n",
      "         5.0       0.26      0.87      0.40        45\n",
      "\n",
      "    accuracy                           0.37       362\n",
      "   macro avg       0.37      0.39      0.32       362\n",
      "weighted avg       0.40      0.37      0.33       362\n",
      "\n"
     ]
    }
   ],
   "source": [
    "# MODELO CON EL CONJUNTO DE DATOS 3\n",
    "# -------------------------------------------------------------------\n",
    "rf3 = RandomForestClassifier().fit(trainX3, trainy3)\n",
    "y_pred3 = rf3.predict(testX3)\n",
    "confusion3 = confusion_matrix(testy3, y_pred3)\n",
    "print(\"Tasa de acierto en regresión logística: {:.2f}\".format(rf3.score(testX3, testy3)))\n",
    "print(\"Tasa de aciertos balanceada regresión logística: {:.2f}\".format(balanced_accuracy_score(testy3, y_pred3)))\n",
    "print(\"Matriz de confusión:\\n{}\".format(confusion3))\n",
    "print(classification_report(testy3, y_pred3))"
   ]
  },
  {
   "cell_type": "markdown",
   "metadata": {},
   "source": [
    "### Experimento2: optimización bayesiana\n"
   ]
  },
  {
   "cell_type": "code",
   "execution_count": 37,
   "metadata": {},
   "outputs": [
    {
     "data": {
      "text/plain": [
       "{'criterion': 1,\n",
       " 'max_depth': 910.0,\n",
       " 'max_features': 0,\n",
       " 'min_samples_leaf': 0.06019692716010733,\n",
       " 'min_samples_split': 0.1761967016448679,\n",
       " 'n_estimators': 0}"
      ]
     },
     "execution_count": 37,
     "metadata": {},
     "output_type": "execute_result"
    }
   ],
   "source": [
    "# MODELO CON EL CONJUNTO DE DATOS 1\n",
    "# -------------------------------------------------------------------\n",
    "def objective1(params):\n",
    "   \n",
    "    random_forest = RandomForestClassifier(**params,n_jobs=-1).fit(trainX1, trainy1)\n",
    "    y_pred = random_forest.predict(testX1)\n",
    "    accuracy = random_forest.score(testX1, y_pred)\n",
    "    return {\"loss\": accuracy, \"status\": STATUS_OK}\n",
    "\n",
    "# Definimos los parámetros:\n",
    "param_space = {'criterion': hp.choice('criterion', ['entropy', 'gini']),\n",
    "        'max_depth': hp.quniform('max_depth', 10, 1200, 10),\n",
    "        'max_features': hp.choice('max_features', ['auto', 'sqrt','log2', None]),\n",
    "        'min_samples_leaf': hp.uniform('min_samples_leaf', 0, 0.5),\n",
    "        'min_samples_split' : hp.uniform ('min_samples_split', 0, 1),\n",
    "        'n_estimators' : hp.choice('n_estimators', [10, 50, 300, 750, 1200,1300,1500]) }\n",
    "\n",
    "tpe_algo = tpe.suggest\n",
    "trials = Trials()\n",
    "results = fmin(objective1,space=param_space,algo=tpe_algo,trials=trials,max_evals=100)\n",
    "results"
   ]
  },
  {
   "cell_type": "code",
   "execution_count": 29,
   "metadata": {},
   "outputs": [
    {
     "name": "stdout",
     "output_type": "stream",
     "text": [
      "Tasa de acierto en regresión logística: 0.37\n",
      "Tasa de aciertos balanceada regresión logística: 0.41\n",
      "Matriz de confusión:\n",
      "[[77  0  0  0  0]\n",
      " [67 15  0  9  9]\n",
      " [20 11  0  4 25]\n",
      " [ 8  5  0  2 72]\n",
      " [ 4  3  0  0 46]]\n",
      "              precision    recall  f1-score   support\n",
      "\n",
      "         1.0       0.44      1.00      0.61        77\n",
      "         2.0       0.44      0.15      0.22       100\n",
      "         3.0       0.00      0.00      0.00        60\n",
      "         4.0       0.13      0.02      0.04        87\n",
      "         5.0       0.30      0.87      0.45        53\n",
      "\n",
      "    accuracy                           0.37       377\n",
      "   macro avg       0.26      0.41      0.26       377\n",
      "weighted avg       0.28      0.37      0.26       377\n",
      "\n"
     ]
    },
    {
     "name": "stderr",
     "output_type": "stream",
     "text": [
      "C:\\Users\\SARA\\anaconda3\\lib\\site-packages\\sklearn\\metrics\\_classification.py:1245: UndefinedMetricWarning: Precision and F-score are ill-defined and being set to 0.0 in labels with no predicted samples. Use `zero_division` parameter to control this behavior.\n",
      "  _warn_prf(average, modifier, msg_start, len(result))\n",
      "C:\\Users\\SARA\\anaconda3\\lib\\site-packages\\sklearn\\metrics\\_classification.py:1245: UndefinedMetricWarning: Precision and F-score are ill-defined and being set to 0.0 in labels with no predicted samples. Use `zero_division` parameter to control this behavior.\n",
      "  _warn_prf(average, modifier, msg_start, len(result))\n",
      "C:\\Users\\SARA\\anaconda3\\lib\\site-packages\\sklearn\\metrics\\_classification.py:1245: UndefinedMetricWarning: Precision and F-score are ill-defined and being set to 0.0 in labels with no predicted samples. Use `zero_division` parameter to control this behavior.\n",
      "  _warn_prf(average, modifier, msg_start, len(result))\n"
     ]
    }
   ],
   "source": [
    "rfob1 = RandomForestClassifier(criterion='gini', max_depth=910, max_features = 'auto',min_samples_leaf = 0.06019692716010733,\n",
    "                               min_samples_split =0.1761967016448679,n_estimators = 10).fit(trainX1,trainy1)\n",
    "y_pred1 = rfob1.predict(testX1)\n",
    "confusion1 = confusion_matrix(testy1, y_pred1)\n",
    "print(\"Tasa de acierto en regresión logística: {:.2f}\".format(rfob1.score(testX1, testy1)))\n",
    "print(\"Tasa de aciertos balanceada regresión logística: {:.2f}\".format(balanced_accuracy_score(testy1, y_pred1)))\n",
    "print(\"Matriz de confusión:\\n{}\".format(confusion1))\n",
    "print(classification_report(testy1, y_pred1))"
   ]
  },
  {
   "cell_type": "code",
   "execution_count": 39,
   "metadata": {
    "scrolled": true
   },
   "outputs": [
    {
     "data": {
      "text/plain": [
       "{'criterion': 0,\n",
       " 'max_depth': 560.0,\n",
       " 'max_features': 0,\n",
       " 'min_samples_leaf': 0.3949975370449203,\n",
       " 'min_samples_split': 0.3351288360120782,\n",
       " 'n_estimators': 2}"
      ]
     },
     "execution_count": 39,
     "metadata": {},
     "output_type": "execute_result"
    }
   ],
   "source": [
    "# MODELO CON EL CONJUNTO DE DATOS 2\n",
    "# -------------------------------------------------------------------\n",
    "def objective1(params):\n",
    "   \n",
    "    random_forest = RandomForestClassifier(**params,n_jobs=-1).fit(trainX2, trainy2)\n",
    "    y_pred = random_forest.predict(testX2)\n",
    "    accuracy = random_forest.score(testX2, y_pred)\n",
    "    return {\"loss\": accuracy, \"status\": STATUS_OK}\n",
    "\n",
    "# Definimos los parámetros:\n",
    "param_space = {'criterion': hp.choice('criterion', ['entropy', 'gini']),\n",
    "        'max_depth': hp.quniform('max_depth', 10, 1200, 10),\n",
    "        'max_features': hp.choice('max_features', ['auto', 'sqrt','log2', None]),\n",
    "        'min_samples_leaf': hp.uniform('min_samples_leaf', 0, 0.5),\n",
    "        'min_samples_split' : hp.uniform ('min_samples_split', 0, 1),\n",
    "        'n_estimators' : hp.choice('n_estimators', [10, 50, 300, 750, 1200,1300,1500]) }\n",
    "\n",
    "tpe_algo = tpe.suggest\n",
    "trials = Trials()\n",
    "results = fmin(objective1,space=param_space,algo=tpe_algo,trials=trials,max_evals=100)\n",
    "results"
   ]
  },
  {
   "cell_type": "code",
   "execution_count": 30,
   "metadata": {},
   "outputs": [
    {
     "name": "stdout",
     "output_type": "stream",
     "text": [
      "Tasa de acierto en regresión logística: 0.12\n",
      "Tasa de aciertos balanceada regresión logística: 0.20\n",
      "Matriz de confusión:\n",
      "[[  0   0   0   0  77]\n",
      " [  0   0   0   0 100]\n",
      " [  0   0   0   0  59]\n",
      " [  0   0   0   0  85]\n",
      " [  0   0   0   0  45]]\n",
      "              precision    recall  f1-score   support\n",
      "\n",
      "         1.0       0.00      0.00      0.00        77\n",
      "         2.0       0.00      0.00      0.00       100\n",
      "         3.0       0.00      0.00      0.00        59\n",
      "         4.0       0.00      0.00      0.00        85\n",
      "         5.0       0.12      1.00      0.22        45\n",
      "\n",
      "    accuracy                           0.12       366\n",
      "   macro avg       0.02      0.20      0.04       366\n",
      "weighted avg       0.02      0.12      0.03       366\n",
      "\n"
     ]
    },
    {
     "name": "stderr",
     "output_type": "stream",
     "text": [
      "C:\\Users\\SARA\\anaconda3\\lib\\site-packages\\sklearn\\metrics\\_classification.py:1245: UndefinedMetricWarning: Precision and F-score are ill-defined and being set to 0.0 in labels with no predicted samples. Use `zero_division` parameter to control this behavior.\n",
      "  _warn_prf(average, modifier, msg_start, len(result))\n",
      "C:\\Users\\SARA\\anaconda3\\lib\\site-packages\\sklearn\\metrics\\_classification.py:1245: UndefinedMetricWarning: Precision and F-score are ill-defined and being set to 0.0 in labels with no predicted samples. Use `zero_division` parameter to control this behavior.\n",
      "  _warn_prf(average, modifier, msg_start, len(result))\n",
      "C:\\Users\\SARA\\anaconda3\\lib\\site-packages\\sklearn\\metrics\\_classification.py:1245: UndefinedMetricWarning: Precision and F-score are ill-defined and being set to 0.0 in labels with no predicted samples. Use `zero_division` parameter to control this behavior.\n",
      "  _warn_prf(average, modifier, msg_start, len(result))\n"
     ]
    }
   ],
   "source": [
    "rfob2 = RandomForestClassifier(criterion='entropy', max_depth=560, max_features = 'auto',min_samples_leaf = 0.3949975370449203,\n",
    "                               min_samples_split = 0.3351288360120782,n_estimators = 300).fit(trainX2,trainy2)\n",
    "y_pred2 = rfob2.predict(testX2)\n",
    "confusion2 = confusion_matrix(testy2, y_pred2)\n",
    "print(\"Tasa de acierto en regresión logística: {:.2f}\".format(rfob2.score(testX2, testy2)))\n",
    "print(\"Tasa de aciertos balanceada regresión logística: {:.2f}\".format(balanced_accuracy_score(testy2, y_pred2)))\n",
    "print(\"Matriz de confusión:\\n{}\".format(confusion2))\n",
    "print(classification_report(testy2, y_pred2))"
   ]
  },
  {
   "cell_type": "code",
   "execution_count": 41,
   "metadata": {},
   "outputs": [
    {
     "data": {
      "text/plain": [
       "{'criterion': 0,\n",
       " 'max_depth': 540.0,\n",
       " 'max_features': 0,\n",
       " 'min_samples_leaf': 0.291303020450212,\n",
       " 'min_samples_split': 0.5077813137607377,\n",
       " 'n_estimators': 5}"
      ]
     },
     "execution_count": 41,
     "metadata": {},
     "output_type": "execute_result"
    }
   ],
   "source": [
    "# MODELO CON EL CONJUNTO DE DATOS 3\n",
    "# -------------------------------------------------------------------\n",
    "def objective1(params):\n",
    "   \n",
    "    random_forest = RandomForestClassifier(**params,n_jobs=-1).fit(trainX3, trainy3)\n",
    "    y_pred = random_forest.predict(testX3)\n",
    "    accuracy = random_forest.score(testX3, y_pred)\n",
    "    return {\"loss\": accuracy, \"status\": STATUS_OK}\n",
    "\n",
    "# Definimos los parámetros:\n",
    "param_space = {'criterion': hp.choice('criterion', ['entropy', 'gini']),\n",
    "        'max_depth': hp.quniform('max_depth', 10, 1200, 10),\n",
    "        'max_features': hp.choice('max_features', ['auto', 'sqrt','log2', None]),\n",
    "        'min_samples_leaf': hp.uniform('min_samples_leaf', 0, 0.5),\n",
    "        'min_samples_split' : hp.uniform ('min_samples_split', 0, 1),\n",
    "        'n_estimators' : hp.choice('n_estimators', [10, 50, 300, 750, 1200,1300,1500]) }\n",
    "\n",
    "tpe_algo = tpe.suggest\n",
    "trials = Trials()\n",
    "results = fmin(objective1,space=param_space,algo=tpe_algo,trials=trials,max_evals=100)\n",
    "results"
   ]
  },
  {
   "cell_type": "code",
   "execution_count": 31,
   "metadata": {},
   "outputs": [
    {
     "name": "stdout",
     "output_type": "stream",
     "text": [
      "Tasa de acierto en regresión logística: 0.12\n",
      "Tasa de aciertos balanceada regresión logística: 0.20\n",
      "Matriz de confusión:\n",
      "[[  0   0   0   0  77]\n",
      " [  0   0   0   0 100]\n",
      " [  0   0   0   0  58]\n",
      " [  0   0   0   0  82]\n",
      " [  0   0   0   0  45]]\n",
      "              precision    recall  f1-score   support\n",
      "\n",
      "         1.0       0.00      0.00      0.00        77\n",
      "         2.0       0.00      0.00      0.00       100\n",
      "         3.0       0.00      0.00      0.00        58\n",
      "         4.0       0.00      0.00      0.00        82\n",
      "         5.0       0.12      1.00      0.22        45\n",
      "\n",
      "    accuracy                           0.12       362\n",
      "   macro avg       0.02      0.20      0.04       362\n",
      "weighted avg       0.02      0.12      0.03       362\n",
      "\n"
     ]
    },
    {
     "name": "stderr",
     "output_type": "stream",
     "text": [
      "C:\\Users\\SARA\\anaconda3\\lib\\site-packages\\sklearn\\metrics\\_classification.py:1245: UndefinedMetricWarning: Precision and F-score are ill-defined and being set to 0.0 in labels with no predicted samples. Use `zero_division` parameter to control this behavior.\n",
      "  _warn_prf(average, modifier, msg_start, len(result))\n",
      "C:\\Users\\SARA\\anaconda3\\lib\\site-packages\\sklearn\\metrics\\_classification.py:1245: UndefinedMetricWarning: Precision and F-score are ill-defined and being set to 0.0 in labels with no predicted samples. Use `zero_division` parameter to control this behavior.\n",
      "  _warn_prf(average, modifier, msg_start, len(result))\n",
      "C:\\Users\\SARA\\anaconda3\\lib\\site-packages\\sklearn\\metrics\\_classification.py:1245: UndefinedMetricWarning: Precision and F-score are ill-defined and being set to 0.0 in labels with no predicted samples. Use `zero_division` parameter to control this behavior.\n",
      "  _warn_prf(average, modifier, msg_start, len(result))\n"
     ]
    }
   ],
   "source": [
    "rfob3 = RandomForestClassifier(criterion='entropy', max_depth=540, max_features = 'auto',min_samples_leaf = 0.3351288360120782,\n",
    "                               min_samples_split =0.5077813137607377,n_estimators = 1300).fit(trainX3,trainy3)\n",
    "y_pred3 = rfob3.predict(testX3)\n",
    "confusion3 = confusion_matrix(testy3, y_pred3)\n",
    "print(\"Tasa de acierto en regresión logística: {:.2f}\".format(rfob3.score(testX3, testy3)))\n",
    "print(\"Tasa de aciertos balanceada regresión logística: {:.2f}\".format(balanced_accuracy_score(testy3, y_pred3)))\n",
    "print(\"Matriz de confusión:\\n{}\".format(confusion3))\n",
    "print(classification_report(testy3, y_pred3))"
   ]
  },
  {
   "cell_type": "code",
   "execution_count": null,
   "metadata": {},
   "outputs": [],
   "source": []
  },
  {
   "cell_type": "markdown",
   "metadata": {},
   "source": [
    "# 20 dias"
   ]
  },
  {
   "cell_type": "code",
   "execution_count": 32,
   "metadata": {},
   "outputs": [],
   "source": [
    "run 20dias-porintervalos2.ipynb"
   ]
  },
  {
   "cell_type": "markdown",
   "metadata": {},
   "source": [
    "### EXPERIMENTO 1: MODELO BASE"
   ]
  },
  {
   "cell_type": "code",
   "execution_count": 44,
   "metadata": {
    "scrolled": true
   },
   "outputs": [
    {
     "name": "stdout",
     "output_type": "stream",
     "text": [
      "Tasa de acierto en rf: 0.55\n",
      "Tasa de aciertos balanceada regresión logística: 0.50\n",
      "Matriz de confusión:\n",
      "[[86 40  0  1  0]\n",
      " [18 43  3 16  1]\n",
      " [ 0 14  3 30  2]\n",
      " [ 1 15  2 25 17]\n",
      " [ 0  1  0  9 48]]\n",
      "              precision    recall  f1-score   support\n",
      "\n",
      "         1.0       0.82      0.68      0.74       127\n",
      "         2.0       0.38      0.53      0.44        81\n",
      "         3.0       0.38      0.06      0.11        49\n",
      "         4.0       0.31      0.42      0.35        60\n",
      "         5.0       0.71      0.83      0.76        58\n",
      "\n",
      "    accuracy                           0.55       375\n",
      "   macro avg       0.52      0.50      0.48       375\n",
      "weighted avg       0.57      0.55      0.54       375\n",
      "\n"
     ]
    }
   ],
   "source": [
    "# MODELO CON EL CONJUNTO DE DATOS 1\n",
    "# -------------------------------------------------------------------\n",
    "rf1 = RandomForestClassifier().fit(trainX1, trainy1)\n",
    "y_pred1 = rf1.predict(testX1)\n",
    "confusion1 = confusion_matrix(testy1, y_pred1)\n",
    "print(\"Tasa de acierto en rf: {:.2f}\".format(rf1.score(testX1, testy1)))\n",
    "print(\"Tasa de aciertos balanceada regresión logística: {:.2f}\".format(balanced_accuracy_score(testy1, y_pred1)))\n",
    "print(\"Matriz de confusión:\\n{}\".format(confusion1))\n",
    "print(classification_report(testy1, y_pred1))"
   ]
  },
  {
   "cell_type": "code",
   "execution_count": 45,
   "metadata": {},
   "outputs": [
    {
     "name": "stdout",
     "output_type": "stream",
     "text": [
      "Tasa de acierto en regresión logística: 0.53\n",
      "Tasa de aciertos balanceada regresión logística: 0.48\n",
      "Matriz de confusión:\n",
      "[[92 34  1  0  0]\n",
      " [26 41  2  9  3]\n",
      " [ 5 14  2 22  5]\n",
      " [ 3 15  2 19 21]\n",
      " [ 0  1  0  9 38]]\n",
      "              precision    recall  f1-score   support\n",
      "\n",
      "         1.0       0.73      0.72      0.73       127\n",
      "         2.0       0.39      0.51      0.44        81\n",
      "         3.0       0.29      0.04      0.07        48\n",
      "         4.0       0.32      0.32      0.32        60\n",
      "         5.0       0.57      0.79      0.66        48\n",
      "\n",
      "    accuracy                           0.53       364\n",
      "   macro avg       0.46      0.48      0.44       364\n",
      "weighted avg       0.51      0.53      0.50       364\n",
      "\n"
     ]
    }
   ],
   "source": [
    "# MODELO CON EL CONJUNTO DE DATOS 2\n",
    "# -------------------------------------------------------------------\n",
    "rf2 = RandomForestClassifier().fit(trainX2, trainy2)\n",
    "y_pred2 = rf2.predict(testX2)\n",
    "confusion2 = confusion_matrix(testy2, y_pred2)\n",
    "print(\"Tasa de acierto en regresión logística: {:.2f}\".format(rf2.score(testX2, testy2)))\n",
    "print(\"Tasa de aciertos balanceada regresión logística: {:.2f}\".format(balanced_accuracy_score(testy2, y_pred2)))\n",
    "print(\"Matriz de confusión:\\n{}\".format(confusion2))\n",
    "print(classification_report(testy2, y_pred2))"
   ]
  },
  {
   "cell_type": "code",
   "execution_count": 46,
   "metadata": {},
   "outputs": [
    {
     "name": "stdout",
     "output_type": "stream",
     "text": [
      "Tasa de acierto en regresión logística: 0.45\n",
      "Tasa de aciertos balanceada regresión logística: 0.41\n",
      "Matriz de confusión:\n",
      "[[80 46  0  0  1]\n",
      " [36 33  0  6  6]\n",
      " [ 5 21  0  6 15]\n",
      " [ 4 16  0  9 30]\n",
      " [ 0  2  0  5 39]]\n",
      "              precision    recall  f1-score   support\n",
      "\n",
      "         1.0       0.64      0.63      0.63       127\n",
      "         2.0       0.28      0.41      0.33        81\n",
      "         3.0       0.00      0.00      0.00        47\n",
      "         4.0       0.35      0.15      0.21        59\n",
      "         5.0       0.43      0.85      0.57        46\n",
      "\n",
      "    accuracy                           0.45       360\n",
      "   macro avg       0.34      0.41      0.35       360\n",
      "weighted avg       0.40      0.45      0.41       360\n",
      "\n"
     ]
    },
    {
     "name": "stderr",
     "output_type": "stream",
     "text": [
      "C:\\Users\\SARA\\anaconda3\\lib\\site-packages\\sklearn\\metrics\\_classification.py:1245: UndefinedMetricWarning: Precision and F-score are ill-defined and being set to 0.0 in labels with no predicted samples. Use `zero_division` parameter to control this behavior.\n",
      "  _warn_prf(average, modifier, msg_start, len(result))\n",
      "C:\\Users\\SARA\\anaconda3\\lib\\site-packages\\sklearn\\metrics\\_classification.py:1245: UndefinedMetricWarning: Precision and F-score are ill-defined and being set to 0.0 in labels with no predicted samples. Use `zero_division` parameter to control this behavior.\n",
      "  _warn_prf(average, modifier, msg_start, len(result))\n",
      "C:\\Users\\SARA\\anaconda3\\lib\\site-packages\\sklearn\\metrics\\_classification.py:1245: UndefinedMetricWarning: Precision and F-score are ill-defined and being set to 0.0 in labels with no predicted samples. Use `zero_division` parameter to control this behavior.\n",
      "  _warn_prf(average, modifier, msg_start, len(result))\n"
     ]
    }
   ],
   "source": [
    "# MODELO CON EL CONJUNTO DE DATOS 3\n",
    "# -------------------------------------------------------------------\n",
    "rf3 = RandomForestClassifier().fit(trainX3, trainy3)\n",
    "y_pred3 = rf3.predict(testX3)\n",
    "confusion3 = confusion_matrix(testy3, y_pred3)\n",
    "print(\"Tasa de acierto en regresión logística: {:.2f}\".format(rf3.score(testX3, testy3)))\n",
    "print(\"Tasa de aciertos balanceada regresión logística: {:.2f}\".format(balanced_accuracy_score(testy3, y_pred3)))\n",
    "print(\"Matriz de confusión:\\n{}\".format(confusion3))\n",
    "print(classification_report(testy3, y_pred3))"
   ]
  },
  {
   "cell_type": "markdown",
   "metadata": {},
   "source": [
    "### Experimento2: optimización bayesiana\n"
   ]
  },
  {
   "cell_type": "code",
   "execution_count": 47,
   "metadata": {},
   "outputs": [
    {
     "data": {
      "text/plain": [
       "{'criterion': 0,\n",
       " 'max_depth': 250.0,\n",
       " 'max_features': 3,\n",
       " 'min_samples_leaf': 0.032259160738243864,\n",
       " 'min_samples_split': 0.603784992686113,\n",
       " 'n_estimators': 6}"
      ]
     },
     "execution_count": 47,
     "metadata": {},
     "output_type": "execute_result"
    }
   ],
   "source": [
    "# MODELO CON EL CONJUNTO DE DATOS 1\n",
    "# -------------------------------------------------------------------\n",
    "def objective1(params):\n",
    "   \n",
    "    random_forest = RandomForestClassifier(**params,n_jobs=-1).fit(trainX1, trainy1)\n",
    "    y_pred = random_forest.predict(testX1)\n",
    "    accuracy = random_forest.score(testX1, y_pred)\n",
    "    return {\"loss\": accuracy, \"status\": STATUS_OK}\n",
    "\n",
    "# Definimos los parámetros:\n",
    "param_space = {'criterion': hp.choice('criterion', ['entropy', 'gini']),\n",
    "        'max_depth': hp.quniform('max_depth', 10, 1200, 10),\n",
    "        'max_features': hp.choice('max_features', ['auto', 'sqrt','log2', None]),\n",
    "        'min_samples_leaf': hp.uniform('min_samples_leaf', 0, 0.5),\n",
    "        'min_samples_split' : hp.uniform ('min_samples_split', 0, 1),\n",
    "        'n_estimators' : hp.choice('n_estimators', [10, 50, 300, 750, 1200,1300,1500]) }\n",
    "\n",
    "tpe_algo = tpe.suggest\n",
    "trials = Trials()\n",
    "results = fmin(objective1,space=param_space,algo=tpe_algo,trials=trials,max_evals=100)\n",
    "results"
   ]
  },
  {
   "cell_type": "code",
   "execution_count": 33,
   "metadata": {},
   "outputs": [
    {
     "name": "stdout",
     "output_type": "stream",
     "text": [
      "Tasa de acierto en regresión logística: 0.49\n",
      "Tasa de aciertos balanceada regresión logística: 0.40\n",
      "Matriz de confusión:\n",
      "[[127   0   0   0   0]\n",
      " [ 70   0   0   0  12]\n",
      " [ 21   0   0   0  28]\n",
      " [  9   0   0   0  51]\n",
      " [  1   0   0   0  56]]\n",
      "              precision    recall  f1-score   support\n",
      "\n",
      "         1.0       0.56      1.00      0.72       127\n",
      "         2.0       0.00      0.00      0.00        82\n",
      "         3.0       0.00      0.00      0.00        49\n",
      "         4.0       0.00      0.00      0.00        60\n",
      "         5.0       0.38      0.98      0.55        57\n",
      "\n",
      "    accuracy                           0.49       375\n",
      "   macro avg       0.19      0.40      0.25       375\n",
      "weighted avg       0.25      0.49      0.33       375\n",
      "\n"
     ]
    },
    {
     "name": "stderr",
     "output_type": "stream",
     "text": [
      "C:\\Users\\SARA\\anaconda3\\lib\\site-packages\\sklearn\\metrics\\_classification.py:1245: UndefinedMetricWarning: Precision and F-score are ill-defined and being set to 0.0 in labels with no predicted samples. Use `zero_division` parameter to control this behavior.\n",
      "  _warn_prf(average, modifier, msg_start, len(result))\n",
      "C:\\Users\\SARA\\anaconda3\\lib\\site-packages\\sklearn\\metrics\\_classification.py:1245: UndefinedMetricWarning: Precision and F-score are ill-defined and being set to 0.0 in labels with no predicted samples. Use `zero_division` parameter to control this behavior.\n",
      "  _warn_prf(average, modifier, msg_start, len(result))\n",
      "C:\\Users\\SARA\\anaconda3\\lib\\site-packages\\sklearn\\metrics\\_classification.py:1245: UndefinedMetricWarning: Precision and F-score are ill-defined and being set to 0.0 in labels with no predicted samples. Use `zero_division` parameter to control this behavior.\n",
      "  _warn_prf(average, modifier, msg_start, len(result))\n"
     ]
    }
   ],
   "source": [
    "rfob1 = RandomForestClassifier(criterion='entropy', max_depth=250, max_features = None, min_samples_leaf =0.032259160738243864,\n",
    "                               min_samples_split = 0.603784992686113,n_estimators = 1500).fit(trainX1,trainy1)\n",
    "y_pred1 = rfob1.predict(testX1)\n",
    "confusion1 = confusion_matrix(testy1, y_pred1)\n",
    "print(\"Tasa de acierto en regresión logística: {:.2f}\".format(rfob1.score(testX1, testy1)))\n",
    "print(\"Tasa de aciertos balanceada regresión logística: {:.2f}\".format(balanced_accuracy_score(testy1, y_pred1)))\n",
    "print(\"Matriz de confusión:\\n{}\".format(confusion1))\n",
    "print(classification_report(testy1, y_pred1))"
   ]
  },
  {
   "cell_type": "code",
   "execution_count": 49,
   "metadata": {
    "scrolled": true
   },
   "outputs": [
    {
     "data": {
      "text/plain": [
       "{'criterion': 1,\n",
       " 'max_depth': 960.0,\n",
       " 'max_features': 3,\n",
       " 'min_samples_leaf': 0.3387775585045725,\n",
       " 'min_samples_split': 0.7384325171634468,\n",
       " 'n_estimators': 0}"
      ]
     },
     "execution_count": 49,
     "metadata": {},
     "output_type": "execute_result"
    }
   ],
   "source": [
    "# MODELO CON EL CONJUNTO DE DATOS 2\n",
    "# -------------------------------------------------------------------\n",
    "def objective1(params):\n",
    "   \n",
    "    random_forest = RandomForestClassifier(**params,n_jobs=-1).fit(trainX2, trainy2)\n",
    "    y_pred = random_forest.predict(testX2)\n",
    "    accuracy = random_forest.score(testX2, y_pred)\n",
    "    return {\"loss\": accuracy, \"status\": STATUS_OK}\n",
    "\n",
    "# Definimos los parámetros:\n",
    "param_space = {'criterion': hp.choice('criterion', ['entropy', 'gini']),\n",
    "        'max_depth': hp.quniform('max_depth', 10, 1200, 10),\n",
    "        'max_features': hp.choice('max_features', ['auto', 'sqrt','log2', None]),\n",
    "        'min_samples_leaf': hp.uniform('min_samples_leaf', 0, 0.5),\n",
    "        'min_samples_split' : hp.uniform ('min_samples_split', 0, 1),\n",
    "        'n_estimators' : hp.choice('n_estimators', [10, 50, 300, 750, 1200,1300,1500]) }\n",
    "\n",
    "tpe_algo = tpe.suggest\n",
    "trials = Trials()\n",
    "results = fmin(objective1,space=param_space,algo=tpe_algo,trials=trials,max_evals=100)\n",
    "results"
   ]
  },
  {
   "cell_type": "code",
   "execution_count": 37,
   "metadata": {},
   "outputs": [
    {
     "name": "stdout",
     "output_type": "stream",
     "text": [
      "Tasa de acierto en regresión logística: 0.13\n",
      "Tasa de aciertos balanceada regresión logística: 0.20\n",
      "Matriz de confusión:\n",
      "[[  0   0   0   0 127]\n",
      " [  0   0   0   0  81]\n",
      " [  0   0   0   0  49]\n",
      " [  0   0   0   0  60]\n",
      " [  0   0   0   0  47]]\n",
      "              precision    recall  f1-score   support\n",
      "\n",
      "         1.0       0.00      0.00      0.00       127\n",
      "         2.0       0.00      0.00      0.00        81\n",
      "         3.0       0.00      0.00      0.00        49\n",
      "         4.0       0.00      0.00      0.00        60\n",
      "         5.0       0.13      1.00      0.23        47\n",
      "\n",
      "    accuracy                           0.13       364\n",
      "   macro avg       0.03      0.20      0.05       364\n",
      "weighted avg       0.02      0.13      0.03       364\n",
      "\n"
     ]
    },
    {
     "name": "stderr",
     "output_type": "stream",
     "text": [
      "C:\\Users\\SARA\\anaconda3\\lib\\site-packages\\sklearn\\metrics\\_classification.py:1245: UndefinedMetricWarning: Precision and F-score are ill-defined and being set to 0.0 in labels with no predicted samples. Use `zero_division` parameter to control this behavior.\n",
      "  _warn_prf(average, modifier, msg_start, len(result))\n",
      "C:\\Users\\SARA\\anaconda3\\lib\\site-packages\\sklearn\\metrics\\_classification.py:1245: UndefinedMetricWarning: Precision and F-score are ill-defined and being set to 0.0 in labels with no predicted samples. Use `zero_division` parameter to control this behavior.\n",
      "  _warn_prf(average, modifier, msg_start, len(result))\n",
      "C:\\Users\\SARA\\anaconda3\\lib\\site-packages\\sklearn\\metrics\\_classification.py:1245: UndefinedMetricWarning: Precision and F-score are ill-defined and being set to 0.0 in labels with no predicted samples. Use `zero_division` parameter to control this behavior.\n",
      "  _warn_prf(average, modifier, msg_start, len(result))\n"
     ]
    }
   ],
   "source": [
    "rfob2 = RandomForestClassifier(criterion='gini', max_depth=960, max_features = None,min_samples_leaf = 0.3387775585045725,\n",
    "                               min_samples_split =0.7384325171634468,n_estimators = 10).fit(trainX2,trainy2)\n",
    "y_pred2 = rfob2.predict(testX2)\n",
    "confusion2 = confusion_matrix(testy2, y_pred2)\n",
    "print(\"Tasa de acierto en regresión logística: {:.2f}\".format(rfob2.score(testX2, testy2)))\n",
    "print(\"Tasa de aciertos balanceada regresión logística: {:.2f}\".format(balanced_accuracy_score(testy2, y_pred2)))\n",
    "print(\"Matriz de confusión:\\n{}\".format(confusion2))\n",
    "print(classification_report(testy2, y_pred2))"
   ]
  },
  {
   "cell_type": "code",
   "execution_count": 51,
   "metadata": {},
   "outputs": [
    {
     "data": {
      "text/plain": [
       "{'criterion': 0,\n",
       " 'max_depth': 1010.0,\n",
       " 'max_features': 3,\n",
       " 'min_samples_leaf': 0.49052180772503057,\n",
       " 'min_samples_split': 0.9310563151565979,\n",
       " 'n_estimators': 3}"
      ]
     },
     "execution_count": 51,
     "metadata": {},
     "output_type": "execute_result"
    }
   ],
   "source": [
    "# MODELO CON EL CONJUNTO DE DATOS 3\n",
    "# -------------------------------------------------------------------\n",
    "def objective1(params):\n",
    "   \n",
    "    random_forest = RandomForestClassifier(**params,n_jobs=-1).fit(trainX3, trainy3)\n",
    "    y_pred = random_forest.predict(testX3)\n",
    "    accuracy = random_forest.score(testX3, y_pred)\n",
    "    return {\"loss\": accuracy, \"status\": STATUS_OK}\n",
    "\n",
    "# Definimos los parámetros:\n",
    "param_space = {'criterion': hp.choice('criterion', ['entropy', 'gini']),\n",
    "        'max_depth': hp.quniform('max_depth', 10, 1200, 10),\n",
    "        'max_features': hp.choice('max_features', ['auto', 'sqrt','log2', None]),\n",
    "        'min_samples_leaf': hp.uniform('min_samples_leaf', 0, 0.5),\n",
    "        'min_samples_split' : hp.uniform ('min_samples_split', 0, 1),\n",
    "        'n_estimators' : hp.choice('n_estimators', [10, 50, 300, 750, 1200,1300,1500]) }\n",
    "\n",
    "tpe_algo = tpe.suggest\n",
    "trials = Trials()\n",
    "results = fmin(objective1,space=param_space,algo=tpe_algo,trials=trials,max_evals=100)\n",
    "results"
   ]
  },
  {
   "cell_type": "code",
   "execution_count": 39,
   "metadata": {},
   "outputs": [
    {
     "name": "stdout",
     "output_type": "stream",
     "text": [
      "Tasa de acierto en regresión logística: 0.13\n",
      "Tasa de aciertos balanceada regresión logística: 0.20\n",
      "Matriz de confusión:\n",
      "[[  0   0   0   0 127]\n",
      " [  0   0   0   0  81]\n",
      " [  0   0   0   0  48]\n",
      " [  0   0   0   0  58]\n",
      " [  0   0   0   0  46]]\n",
      "              precision    recall  f1-score   support\n",
      "\n",
      "         1.0       0.00      0.00      0.00       127\n",
      "         2.0       0.00      0.00      0.00        81\n",
      "         3.0       0.00      0.00      0.00        48\n",
      "         4.0       0.00      0.00      0.00        58\n",
      "         5.0       0.13      1.00      0.23        46\n",
      "\n",
      "    accuracy                           0.13       360\n",
      "   macro avg       0.03      0.20      0.05       360\n",
      "weighted avg       0.02      0.13      0.03       360\n",
      "\n"
     ]
    },
    {
     "name": "stderr",
     "output_type": "stream",
     "text": [
      "C:\\Users\\SARA\\anaconda3\\lib\\site-packages\\sklearn\\metrics\\_classification.py:1245: UndefinedMetricWarning: Precision and F-score are ill-defined and being set to 0.0 in labels with no predicted samples. Use `zero_division` parameter to control this behavior.\n",
      "  _warn_prf(average, modifier, msg_start, len(result))\n",
      "C:\\Users\\SARA\\anaconda3\\lib\\site-packages\\sklearn\\metrics\\_classification.py:1245: UndefinedMetricWarning: Precision and F-score are ill-defined and being set to 0.0 in labels with no predicted samples. Use `zero_division` parameter to control this behavior.\n",
      "  _warn_prf(average, modifier, msg_start, len(result))\n",
      "C:\\Users\\SARA\\anaconda3\\lib\\site-packages\\sklearn\\metrics\\_classification.py:1245: UndefinedMetricWarning: Precision and F-score are ill-defined and being set to 0.0 in labels with no predicted samples. Use `zero_division` parameter to control this behavior.\n",
      "  _warn_prf(average, modifier, msg_start, len(result))\n"
     ]
    }
   ],
   "source": [
    "rfob3 = RandomForestClassifier(criterion='entropy', max_depth=1010, max_features = None,min_samples_leaf = 0.49052180772503057,\n",
    "                               min_samples_split = 0.9310563151565979,n_estimators = 750).fit(trainX3,trainy3)\n",
    "y_pred3 = rfob3.predict(testX3)\n",
    "confusion3 = confusion_matrix(testy3, y_pred3)\n",
    "print(\"Tasa de acierto en regresión logística: {:.2f}\".format(rfob3.score(testX3, testy3)))\n",
    "print(\"Tasa de aciertos balanceada regresión logística: {:.2f}\".format(balanced_accuracy_score(testy3, y_pred3)))\n",
    "print(\"Matriz de confusión:\\n{}\".format(confusion3))\n",
    "print(classification_report(testy3, y_pred3))"
   ]
  },
  {
   "cell_type": "code",
   "execution_count": null,
   "metadata": {},
   "outputs": [],
   "source": []
  }
 ],
 "metadata": {
  "kernelspec": {
   "display_name": "Python 3",
   "language": "python",
   "name": "python3"
  },
  "language_info": {
   "codemirror_mode": {
    "name": "ipython",
    "version": 3
   },
   "file_extension": ".py",
   "mimetype": "text/x-python",
   "name": "python",
   "nbconvert_exporter": "python",
   "pygments_lexer": "ipython3",
   "version": "3.7.6"
  }
 },
 "nbformat": 4,
 "nbformat_minor": 4
}
