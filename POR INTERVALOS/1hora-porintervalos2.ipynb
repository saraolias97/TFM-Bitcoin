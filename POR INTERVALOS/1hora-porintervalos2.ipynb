{
 "cells": [
  {
   "cell_type": "markdown",
   "metadata": {},
   "source": [
    "# DATOS  POR INTERVALOS 2"
   ]
  },
  {
   "cell_type": "markdown",
   "metadata": {},
   "source": [
    "Aquí vamos a clasificar:\n",
    "\n",
    "- Mas de 10% - SUBE MUCHO\n",
    "- entre 10% y 1.5% - SUBE\n",
    "- entre 1.5% y -1.5% - DUDA\n",
    "- entre -1.5% y -10% - BAJA\n",
    "- menos de -10% - BAJA MUCHO"
   ]
  },
  {
   "cell_type": "code",
   "execution_count": 1,
   "metadata": {},
   "outputs": [],
   "source": [
    "import numpy as np\n",
    "import ccxt\n",
    "import pandas as pd\n",
    "from datetime import datetime \n",
    "import talib\n",
    "import matplotlib.pyplot as plt\n",
    "\n",
    "exchange = ccxt.binance({'enableRateLimit' : True})\n",
    "\n",
    "# poner la hora en milisegundos\n",
    "msec = 1000\n",
    "minute = 60*msec\n",
    "hour = 60*minute\n",
    "\n",
    "now = exchange.milliseconds()"
   ]
  },
  {
   "cell_type": "code",
   "execution_count": 2,
   "metadata": {},
   "outputs": [],
   "source": [
    "def get_candles(symbol, timeframe, limit, from_timestamp):\n",
    "    \n",
    "    try:\n",
    "        candles = exchange.fetch_ohlcv(symbol = symbol, \n",
    "                                       timeframe = timeframe, \n",
    "                                       limit = limit, \n",
    "                                       since = from_timestamp)\n",
    "        header = ['timestamp','Open','High','Low','Close','Volume']\n",
    "        \n",
    "        df = pd.DataFrame(candles, columns = header)\n",
    "        # Convertimos las fechas en fecha de dia/hora/año para no tener que tratar con timestamp\n",
    "        df['datetime'] = pd.to_datetime(df['timestamp'], unit='ms')\n",
    "        df.datetime = df.datetime.dt.tz_localize('UCT')\n",
    "        return df.sort_values(by='timestamp', ascending = False)\n",
    "    except:\n",
    "        print('No more data')\n",
    "        pass"
   ]
  },
  {
   "cell_type": "code",
   "execution_count": 3,
   "metadata": {},
   "outputs": [],
   "source": [
    "def save_candles(symbol, timeframe, limit, from_timestamp, to_timestamp):\n",
    "    df_list = []\n",
    "    while(from_timestamp < now):\n",
    "        candles = get_candles(symbol, timeframe, limit, from_timestamp)\n",
    "        df_list.append(candles)\n",
    "       # print(candles)\n",
    "        if (len(candles))>0:\n",
    "            from_timestamp = int(candles['timestamp'].iloc[0] + minute) # el minuto se agrega para que no haya duplicados\n",
    "        else:\n",
    "            from_timestamp += hour*24000 # porque es un dia 24.0000, 1 hora seria 1000\n",
    "            # lo que hacemos es, en el caso que este vacia, vamos a la vela del día siguiente para comprobar si también esta vacia o no\n",
    "    final_df = pd.concat(df_list, axis=0)\n",
    "    final_df.sort_values(by='timestamp', ascending = False)\n",
    "    final_df.to_csv('{}_{}_{}_{}'.format(symbol.replace('/', '-'), timeframe, from_timestamp, to_timestamp), index=False)\n",
    "    return final_df"
   ]
  },
  {
   "cell_type": "code",
   "execution_count": 1,
   "metadata": {},
   "outputs": [
    {
     "ename": "NameError",
     "evalue": "name 'save_candles' is not defined",
     "output_type": "error",
     "traceback": [
      "\u001b[1;31m---------------------------------------------------------------------------\u001b[0m",
      "\u001b[1;31mNameError\u001b[0m                                 Traceback (most recent call last)",
      "\u001b[1;32m<ipython-input-1-ca098edcdc21>\u001b[0m in \u001b[0;36m<module>\u001b[1;34m\u001b[0m\n\u001b[1;32m----> 1\u001b[1;33m final_df_1day = save_candles(\n\u001b[0m\u001b[0;32m      2\u001b[0m     \u001b[0msymbol\u001b[0m \u001b[1;33m=\u001b[0m \u001b[1;34m'BTC/USDT'\u001b[0m\u001b[1;33m,\u001b[0m\u001b[1;33m\u001b[0m\u001b[1;33m\u001b[0m\u001b[0m\n\u001b[0;32m      3\u001b[0m     \u001b[0mtimeframe\u001b[0m \u001b[1;33m=\u001b[0m \u001b[1;34m'1h'\u001b[0m\u001b[1;33m,\u001b[0m\u001b[1;33m\u001b[0m\u001b[1;33m\u001b[0m\u001b[0m\n\u001b[0;32m      4\u001b[0m     \u001b[0mlimit\u001b[0m \u001b[1;33m=\u001b[0m \u001b[1;36m1000\u001b[0m\u001b[1;33m,\u001b[0m\u001b[1;33m\u001b[0m\u001b[1;33m\u001b[0m\u001b[0m\n\u001b[0;32m      5\u001b[0m     \u001b[0mfrom_timestamp\u001b[0m \u001b[1;33m=\u001b[0m \u001b[0mexchange\u001b[0m\u001b[1;33m.\u001b[0m\u001b[0mparse8601\u001b[0m\u001b[1;33m(\u001b[0m\u001b[1;34m'2015-01-01 00:00:00'\u001b[0m\u001b[1;33m)\u001b[0m\u001b[1;33m,\u001b[0m\u001b[1;33m\u001b[0m\u001b[1;33m\u001b[0m\u001b[0m\n",
      "\u001b[1;31mNameError\u001b[0m: name 'save_candles' is not defined"
     ]
    }
   ],
   "source": [
    "final_df_1day = save_candles(\n",
    "    symbol = 'BTC/USDT',\n",
    "    timeframe = '1h',\n",
    "    limit = 1000,\n",
    "    from_timestamp = exchange.parse8601('2015-01-01 00:00:00'),\n",
    "    to_timestamp = exchange.milliseconds()\n",
    ")"
   ]
  },
  {
   "cell_type": "code",
   "execution_count": 5,
   "metadata": {},
   "outputs": [],
   "source": [
    "final_df_1day['datetime'] =pd.to_datetime(final_df_1day['datetime'])\n",
    "final_df_1day = final_df_1day.sort_values(by='datetime', ascending = True)"
   ]
  },
  {
   "cell_type": "code",
   "execution_count": 6,
   "metadata": {
    "scrolled": true
   },
   "outputs": [],
   "source": [
    "X_t = final_df_1day.drop(['timestamp'],axis = 1)\n",
    "X_t.set_index('datetime',inplace=True)"
   ]
  },
  {
   "cell_type": "markdown",
   "metadata": {},
   "source": [
    "# DATOS EXPERIMENTACION"
   ]
  },
  {
   "cell_type": "markdown",
   "metadata": {},
   "source": [
    "**EXPERIMENTO 1: Añadimos Anterior, Diferencia, Anterior-1,Diferencia-1, Subida, Subida -1**"
   ]
  },
  {
   "cell_type": "code",
   "execution_count": 7,
   "metadata": {},
   "outputs": [],
   "source": [
    "def formabinaria(list):\n",
    "    y_tbinario = []\n",
    "    for i in range (0,len(list)):\n",
    "        if list[i] >= 0:\n",
    "            y_tbinario.append(1)\n",
    "        else:\n",
    "            y_tbinario.append(0)\n",
    "    return y_tbinario"
   ]
  },
  {
   "cell_type": "code",
   "execution_count": 8,
   "metadata": {
    "scrolled": false
   },
   "outputs": [],
   "source": [
    "X_t1 = X_t.copy()\n",
    "X_t1.loc[:,'Anterior'] = X_t1.loc[:,'Close'].shift()\n",
    "X_t1.loc[:,'Diferencia'] = X_t1.loc[:,'Close'].diff()\n",
    "X_t1.loc[:,'Anterior-1'] = X_t1.loc[:,'Anterior'].shift()\n",
    "X_t1.loc[:,'Diferencia-1'] = X_t1.loc[:,'Anterior'].diff()\n",
    "X_t1 = X_t1.dropna()\n",
    "X_t1['Subida'] = formabinaria(X_t1['Diferencia'])\n",
    "X_t1['Subida-1'] = formabinaria(X_t1['Diferencia-1'])\n",
    "X_t1 = X_t1.dropna()\n"
   ]
  },
  {
   "cell_type": "markdown",
   "metadata": {},
   "source": [
    "Vamos a separar por intervalos:"
   ]
  },
  {
   "cell_type": "code",
   "execution_count": 9,
   "metadata": {
    "scrolled": false
   },
   "outputs": [
    {
     "data": {
      "text/plain": [
       "[<matplotlib.lines.Line2D at 0x26cb2d7f1c8>]"
      ]
     },
     "execution_count": 9,
     "metadata": {},
     "output_type": "execute_result"
    },
    {
     "data": {
      "image/png": "[encoded data removed]",
      "text/plain": [
       "<Figure size 432x288 with 1 Axes>"
      ]
     },
     "metadata": {
      "needs_background": "light"
     },
     "output_type": "display_data"
    }
   ],
   "source": [
    "plt.plot((X_t1['Diferencia']*100)/X_t1['Anterior'])"
   ]
  },
  {
   "cell_type": "code",
   "execution_count": 10,
   "metadata": {},
   "outputs": [],
   "source": [
    "def porintervalos (X):\n",
    "\n",
    "    intervalos = (X['Diferencia']*100)/X['Anterior']\n",
    "    for i in range(0,len(X)):\n",
    "        int = intervalos[i]\n",
    "        if (10 < int ):\n",
    "            intervalos[i] = 1         \n",
    "            \n",
    "        elif (10>int>1.5):\n",
    "            intervalos[i]=2           \n",
    "\n",
    "        elif (1.5>int>-1.5):\n",
    "            intervalos[i]=3               \n",
    "            \n",
    "        elif (-1.5>int>-10):\n",
    "            intervalos[i]=4                                      \n",
    "            \n",
    "        else:\n",
    "            intervalos[i] = 5\n",
    "    return intervalos"
   ]
  },
  {
   "cell_type": "code",
   "execution_count": 11,
   "metadata": {},
   "outputs": [
    {
     "data": {
      "text/plain": [
       "3.0    822\n",
       "2.0    518\n",
       "4.0    476\n",
       "1.0     39\n",
       "5.0     28\n",
       "dtype: int64"
      ]
     },
     "execution_count": 11,
     "metadata": {},
     "output_type": "execute_result"
    }
   ],
   "source": [
    "y_intervalos1 = porintervalos(X_t1)\n",
    "y_intervalos1.value_counts()"
   ]
  },
  {
   "cell_type": "code",
   "execution_count": 12,
   "metadata": {},
   "outputs": [],
   "source": [
    "y_t1 = y_intervalos1.shift(-1).dropna()\n",
    "X_t1 = X_t1[:-1]"
   ]
  },
  {
   "cell_type": "code",
   "execution_count": 13,
   "metadata": {},
   "outputs": [],
   "source": [
    "p_train = 0.80 # Porcentaje de train.\n",
    "\n",
    "trainX1 = X_t1[:int((len(X_t1))*p_train)] \n",
    "testX1 = X_t1[int((len(X_t1))*p_train):]\n",
    "\n",
    "trainy1 = y_t1[:int((len(y_t1))*p_train)] \n",
    "testy1 = y_t1[int((len(y_t1))*p_train):]"
   ]
  },
  {
   "cell_type": "markdown",
   "metadata": {},
   "source": [
    "**EXPERIMENTO 2: Añadimos VWAP, SMA10, SMA20, SMA55, EMA10, EMA20, EMA55, VMA10, VMA20, VMA55**"
   ]
  },
  {
   "cell_type": "markdown",
   "metadata": {},
   "source": [
    "Vamos a añadir nuevas columnas y aplicar de nuevo el modelo.\n",
    "\n",
    "Añadimos una columna para el VWAP: \"precio medio ponderado por volumen\". Este indicador nos muestra la relacion que hay entre el precio del BTC y el volumen de las operaciones diarias."
   ]
  },
  {
   "cell_type": "code",
   "execution_count": 14,
   "metadata": {},
   "outputs": [],
   "source": [
    "def vwap(df):\n",
    "    q = df.Volume.values\n",
    "    p = df.Close.values\n",
    "    return df.assign(vwap=(p * q).cumsum() / q.cumsum())\n",
    "\n",
    "X_t2 = X_t1.copy()\n",
    "X_t2 = X_t2.groupby(X_t2.index.date, group_keys=False).apply(vwap)\n"
   ]
  },
  {
   "cell_type": "markdown",
   "metadata": {},
   "source": [
    "**Medias moviles**. Las MM hacen la media segun el numero de pasos anteriores que se indiquen. Las mejores de corto plazo son las medias exponenciales 10,20 y 50.  En nuestro caso vamos a añadir:\n",
    "\n",
    "- Media SMA con 10 horas anteriores\n",
    "- Media SMA con 20 horas anteriores\n",
    "- Media SMA con 55 horas anteriores\n",
    "- Media EMA con 20 horas anteriores\n",
    "- Media EMA con 55 horas anteriores\n",
    "- Media VMA con 20 horas anteriores\n",
    "- Media VMA con 55 horas anteriores\n",
    "\n",
    "SMA: Una media móvil simple (o aritmética) es una media móvil aritmética calculada sumando los elementos de una serie temporal y dividiendo este total por el número de períodos de tiempo.\n",
    "\n",
    "VMA: sirven para frenar el promedio cuando los precios están en el período de consolidación para evitar señales malas y acelerar el promedio cuando el mercado está en tendencia para aprovechar al máximo los precios en tendencia.\n",
    "\n",
    "EMA: las medias móviles exponenciales dan más peso a los períodos más recientes. Esto los hace más seguras  que la SMA y por lo tanto pueden ser usadas para crear una mejor estrategia de trading con medias móviles.\n",
    "\n",
    "Articulo explicando diferencias (para el desarrollo) : https://traderprofesional.com/bolsa/guias/analisis-tecnico/indicadores/medias-moviles/#:~:text=Media%20m%C3%B3vil%20variable%20(VMA),-La%20media%20m%C3%B3vil&text=La%20volatilidad%20es%20la%20medida,para%20los%20pr%C3%B3ximos%2030%20d%C3%ADas."
   ]
  },
  {
   "cell_type": "code",
   "execution_count": 15,
   "metadata": {},
   "outputs": [],
   "source": [
    "X_t2['SMA10'] = talib.MA(X_t2['Close'],timeperiod=10,matype=0) #SMA\n",
    "X_t2['SMA20'] = talib.MA(X_t2['Close'],timeperiod=20,matype=0) #SMA\n",
    "X_t2['SMA55'] = talib.MA(X_t2['Close'],timeperiod=55,matype=0) #SMA\n",
    "X_t2['EMA10'] = talib.MA(X_t2['Close'],timeperiod=10,matype=1) #EMA\n",
    "X_t2['EMA20'] = talib.MA(X_t2['Close'],timeperiod=20,matype=1) #EMA\n",
    "X_t2['EMA55'] = talib.MA(X_t2['Close'],timeperiod=55,matype=1) #EMA\n",
    "X_t2['VMA10'] = talib.MA(X_t2['Close'],timeperiod=10,matype=2) #EMA\n",
    "X_t2['VMA20'] = talib.MA(X_t2['Close'],timeperiod=20,matype=2) #VMA\n",
    "X_t2['VMA55'] = talib.MA(X_t2['Close'],timeperiod=55,matype=2) #VMA\n",
    "X_t2 = X_t2.dropna()\n"
   ]
  },
  {
   "cell_type": "code",
   "execution_count": 16,
   "metadata": {},
   "outputs": [
    {
     "data": {
      "text/plain": [
       "3.0    799\n",
       "2.0    499\n",
       "4.0    465\n",
       "1.0     38\n",
       "5.0     27\n",
       "dtype: int64"
      ]
     },
     "execution_count": 16,
     "metadata": {},
     "output_type": "execute_result"
    }
   ],
   "source": [
    "y_intervalos2 = porintervalos(X_t2)\n",
    "y_intervalos2.value_counts()"
   ]
  },
  {
   "cell_type": "code",
   "execution_count": 17,
   "metadata": {},
   "outputs": [],
   "source": [
    "y_t2 = y_intervalos2.shift(-1).dropna()\n",
    "X_t2 = X_t2[:-1]"
   ]
  },
  {
   "cell_type": "code",
   "execution_count": 18,
   "metadata": {},
   "outputs": [],
   "source": [
    "p_train = 0.80 # Porcentaje de train.\n",
    "\n",
    "trainX2 = X_t2[:int((len(X_t2))*p_train)] \n",
    "testX2 = X_t2[int((len(X_t2))*p_train):]\n",
    "\n",
    "trainy2 = y_t2[:int((len(y_t2))*p_train)] \n",
    "testy2 = y_t2[int((len(y_t2))*p_train):]"
   ]
  },
  {
   "cell_type": "markdown",
   "metadata": {},
   "source": [
    "**EXPERIMENTO 3: Añadimos el indicador MACD, el indicador KDJ, Bandas de Bollinger,RSI, Estocastico,Indicador ATR**"
   ]
  },
  {
   "cell_type": "markdown",
   "metadata": {},
   "source": [
    "**Indicador MACD (Moving Average Convergene Divergence)** :  mide la convergencia y divergencia en el tiempo de dos medias móviles del precio de un activo. En otras palabras el MACD señala, en cada momento, la separación entre el valor de dos medias móviles con diferente período de cálculo.\n",
    "Para el cálculo del MACD se emplea una media móvil exponencial con un período corto de cálculo y otra media móvil exponencial con un período de tiempo medio. Normalmente, para la media corta se emplean 12 períodos y, para la otra media, 26 períodos. (MACD = EMA (12) – EMA (26))\n",
    "\n",
    "Después de obtener el MACD, se calcula, a su vez, su media móvil exponencial. Para realizar este cálculo se suele emplear una media de 9 períodos. Esta media móvil se denomina Señal.\n",
    "\n",
    "Fuente: https://www.avatrade.es/educacion/professional-trading-strategies/macd-trading-strategies"
   ]
  },
  {
   "cell_type": "code",
   "execution_count": 19,
   "metadata": {},
   "outputs": [],
   "source": [
    "X_t3 = X_t2.copy()\n",
    "dif, dea, bar = talib.MACD(X_t3['Close'].values, fastperiod=12, slowperiod=26, signalperiod=9)\n",
    "# calculamos EMA1= media movil de precio de cierre el dia 12, EMA2 = media movil del precio de cierre dia 26, DEA = 9\n",
    "dif[np.isnan(dif)],dea[np.isnan(dea)],bar[np.isnan(bar)]=0,0,0 #para eliminar valores nulos\n",
    "X_t3['MACD-dif'] = dif\n",
    "X_t3['MACD-dea'] = dea\n",
    "X_t3['MACD-bar'] = bar"
   ]
  },
  {
   "cell_type": "markdown",
   "metadata": {},
   "source": [
    "**Indicador KDJ**: las líneas K y D del oscilador estocástico (señalar una inversión de tendencia inminente cuando ocurren divergencias alcistas y bajistas.) y la J muestra la divergencia del valor D de la K."
   ]
  },
  {
   "cell_type": "code",
   "execution_count": 20,
   "metadata": {},
   "outputs": [],
   "source": [
    "X_t3['K'], X_t3['D'] = talib.STOCH(X_t3['High'].values, X_t3['Low'].values, X_t3['Close'].values, \n",
    "                                    fastk_period=9, slowk_period=3,slowk_matype=0, slowd_period=3, slowd_matype=0)\n",
    "X_t3['K'].fillna(0,inplace=True)\n",
    "X_t3['D'].fillna(0,inplace=True)\n",
    "X_t3['J']=3*X_t3['K']-2*X_t3['D']"
   ]
  },
  {
   "cell_type": "markdown",
   "metadata": {},
   "source": [
    "**Bandas de Bollinger**: El indiador bandas de Bollinger utiliza una medida estadística conocida como la desviación estándar para determinar dónde podría tener lugar un posible nivel de soporte o resistencia.\n",
    "\n",
    "Fuente: https://admiralmarkets.com/es/education/articles/forex-strategy/bandas-de-bollinger?utm_source=google&utm_medium=cpc&utm_campaign=ES_ES_performance_max_new&utm_term=&gclid=EAIaIQobChMI3PbX97-y9wIVR4xoCR3BlwjTEAAYAiAAEgK2dvD_BwE"
   ]
  },
  {
   "cell_type": "code",
   "execution_count": 21,
   "metadata": {},
   "outputs": [],
   "source": [
    "X_t3['Banda_superior'], X_t3['Banda_media'], X_t3['Banda_inferior'] = talib.BBANDS(X_t3['Close'], timeperiod=20)"
   ]
  },
  {
   "cell_type": "markdown",
   "metadata": {},
   "source": [
    "**RSI(Relative Strength Index)**: es un indicador de tipo oscilador que refleja la fuerza relativa de los movimientos alcistas, en comparación con los movimientos bajistas. Es utilizado por los traders para medir la fuerza de una tendencia e identificar señales de fin de tendencia."
   ]
  },
  {
   "cell_type": "code",
   "execution_count": 22,
   "metadata": {},
   "outputs": [],
   "source": [
    "X_t3['RSI'] = talib.RSI(X_t3['Close'],14)"
   ]
  },
  {
   "cell_type": "markdown",
   "metadata": {},
   "source": [
    "**Estocastico** :  significa la comparación realizada por el indicador estocástico MT4 entre el precio de cierre actual y sus precios de cierre anteriores durante un período elegido. El Oscilador Estocástico se mide usando las líneas K y D.\n",
    "\n",
    "K = 100 [(C – Ln) / (Hn – Ln)] -> C es el precio de cierre actual;\n",
    "Ln es el precio más bajo durante las últimas \"n\" sesiones de trading;\n",
    "Hn es el precio más alto durante las últimas \"n\" sesiones de trading.\n",
    "\n",
    "D = es la media móvil de %K durante N períodos\n",
    "\n",
    "➡ Si el precio de cierre actual es cercano al precio más alto (Hn) del período en cuestión, el estocástico estará cerca del 100 %\n",
    "\n",
    "➡ Si el precio de cierre actual está cerca del precio más bajo (Bn) del período relevante, el estocástico estará cerca del 0 %\n",
    "\n",
    "Fuente: https://admiralmarkets.com/es/education/articles/forex-indicators/indicador-estocastico?utm_source=google&utm_medium=cpc&utm_campaign=ES_ES_performance_max_new&utm_term=&gclid=EAIaIQobChMIm-bP_sKy9wIV1vZRCh0T1gvKEAAYAiAAEgIzZfD_BwE"
   ]
  },
  {
   "cell_type": "code",
   "execution_count": 23,
   "metadata": {},
   "outputs": [],
   "source": [
    "X_t3['slowk'], X_t3['slowd'] = talib.STOCH(X_t3['High'], X_t3['Low'], X_t3['Close'], \n",
    "                                       fastk_period=14, slowk_period=3, slowk_matype=0, slowd_period= 3,slowd_matype=0)"
   ]
  },
  {
   "cell_type": "markdown",
   "metadata": {},
   "source": [
    "**Indicador ATR (Average True Range):** Lo que nos viene a calcular este indicador, es la volatilidad existente en el periodo actual, para que podamos actuar en consecuencia. Si vemos que la volatilidad aumenta o disminuye, podremos tomar decisiones de compra o de venta.\n",
    "\n",
    "La fórmula es muy sencilla, y es que para el cálculo toma el valor más alto de estos tres:\n",
    "\n",
    "El máximo de la última vela, menos el mínimo de la última vela. El máximo de la última vela, menos el cierre de la vela anterior (valor absoluto). El mínimo de la última vela, menos el cierre de la vela anterior (valor absoluto).\n",
    "\n",
    "Fuente: https://www.novatostradingclub.com/indicadores/atr-indicador/"
   ]
  },
  {
   "cell_type": "code",
   "execution_count": 24,
   "metadata": {
    "scrolled": true
   },
   "outputs": [],
   "source": [
    "X_t3['ATR'] = talib.ATR(X_t3['High'], X_t3['Low'], X_t3['Close'], timeperiod = 14)"
   ]
  },
  {
   "cell_type": "markdown",
   "metadata": {},
   "source": [
    "**Funciones de Reconocimiento de patrones (BELTHOLD)**: al ingresar los datos de apertura, máximo, mínimo y cierre de la acción en estudio la función seleccionada retornara uno de tres posibles valores enteros, 0 cuando no reconoce patrón, 100 cuando reconoce un patrón alcista y -100 cuando reconoce un patrón bajista.\n",
    "\n",
    "Fuente: https://www.investopedia.com/terms/b/bearishbelthold.asp"
   ]
  },
  {
   "cell_type": "code",
   "execution_count": 25,
   "metadata": {},
   "outputs": [],
   "source": [
    "X_t3 = X_t3.copy()\n",
    "X_t3['BELTHOLD'] = talib.CDLBELTHOLD(X_t3['Open'],X_t3['High'],X_t3['Low'],X_t3['Close'])\n",
    "X_t3 = X_t3.dropna()"
   ]
  },
  {
   "cell_type": "markdown",
   "metadata": {},
   "source": [
    " "
   ]
  },
  {
   "cell_type": "markdown",
   "metadata": {},
   "source": [
    "Preparamos los datos:"
   ]
  },
  {
   "cell_type": "code",
   "execution_count": 26,
   "metadata": {
    "scrolled": true
   },
   "outputs": [
    {
     "data": {
      "text/plain": [
       "3.0    798\n",
       "2.0    499\n",
       "4.0    465\n",
       "1.0     38\n",
       "5.0     27\n",
       "dtype: int64"
      ]
     },
     "execution_count": 26,
     "metadata": {},
     "output_type": "execute_result"
    }
   ],
   "source": [
    "y_intervalos3 = porintervalos(X_t3)\n",
    "y_intervalos3.value_counts()"
   ]
  },
  {
   "cell_type": "code",
   "execution_count": 27,
   "metadata": {},
   "outputs": [],
   "source": [
    "y_t3 = y_intervalos3.shift(-1).dropna()\n",
    "X_t3 = X_t3[:-1]"
   ]
  },
  {
   "cell_type": "code",
   "execution_count": 28,
   "metadata": {},
   "outputs": [],
   "source": [
    "p_train = 0.80 # Porcentaje de train.\n",
    "\n",
    "trainX3 = X_t3[:int((len(X_t3))*p_train)] \n",
    "testX3 = X_t3[int((len(X_t3))*p_train):]\n",
    "\n",
    "trainy3 = y_t3[:int((len(y_t3))*p_train)] \n",
    "testy3 = y_t3[int((len(y_t3))*p_train):]"
   ]
  },
  {
   "cell_type": "code",
   "execution_count": null,
   "metadata": {},
   "outputs": [],
   "source": []
  },
  {
   "cell_type": "code",
   "execution_count": null,
   "metadata": {},
   "outputs": [],
   "source": []
  },
  {
   "cell_type": "code",
   "execution_count": null,
   "metadata": {},
   "outputs": [],
   "source": []
  }
 ],
 "metadata": {
  "kernelspec": {
   "display_name": "Python 3",
   "language": "python",
   "name": "python3"
  },
  "language_info": {
   "codemirror_mode": {
    "name": "ipython",
    "version": 3
   },
   "file_extension": ".py",
   "mimetype": "text/x-python",
   "name": "python",
   "nbconvert_exporter": "python",
   "pygments_lexer": "ipython3",
   "version": "3.7.6"
  }
 },
 "nbformat": 4,
 "nbformat_minor": 4
}
